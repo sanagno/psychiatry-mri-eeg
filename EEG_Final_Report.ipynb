{
  "nbformat": 4,
  "nbformat_minor": 0,
  "metadata": {
    "colab": {
      "name": "DataScienceLab.ipynb",
      "provenance": [],
      "collapsed_sections": [],
      "include_colab_link": true
    },
    "kernelspec": {
      "name": "python3",
      "display_name": "Python 3"
    }
  },
  "cells": [
    {
      "cell_type": "markdown",
      "metadata": {
        "id": "view-in-github",
        "colab_type": "text"
      },
      "source": [
        "<a href=\"https://colab.research.google.com/github/sanagno/psychiatry-mri/blob/eeg/EEG_Final_Report.ipynb\" target=\"_parent\"><img src=\"https://colab.research.google.com/assets/colab-badge.svg\" alt=\"Open In Colab\"/></a>"
      ]
    },
    {
      "cell_type": "code",
      "metadata": {
        "id": "7YxOz-zNNlyy",
        "colab_type": "code",
        "colab": {}
      },
      "source": [
        "import pandas as pd\n",
        "import numpy as np\n",
        "from sklearn.ensemble import RandomForestClassifier as rf\n",
        "from sklearn.svm import SVC as svm\n",
        "from sklearn.linear_model import LogisticRegression as lg\n",
        "from sklearn.model_selection import train_test_split\n",
        "from sklearn.metrics import confusion_matrix,accuracy_score,balanced_accuracy_score,f1_score\n",
        "from sklearn.decomposition import PCA\n",
        "import matplotlib.pyplot as plt\n",
        "from sklearn.model_selection import StratifiedKFold\n",
        "from sklearn.exceptions import ConvergenceWarning\n",
        "from warnings import simplefilter,filterwarnings\n",
        "import os\n",
        "# ignore all future warnings\n",
        "simplefilter(action='ignore', category=FutureWarning)\n"
      ],
      "execution_count": 0,
      "outputs": []
    },
    {
      "cell_type": "markdown",
      "metadata": {
        "id": "-YjKzrOY5dKO",
        "colab_type": "text"
      },
      "source": [
        "## Clean Data\n"
      ]
    },
    {
      "cell_type": "code",
      "metadata": {
        "id": "bFK75cJgWc2G",
        "colab_type": "code",
        "outputId": "c35c8bfc-2242-43be-aada-379d1ccb4c7e",
        "colab": {
          "base_uri": "https://localhost:8080/",
          "height": 51
        }
      },
      "source": [
        "base_dir = './'\n",
        "\n",
        "behaviour_data = pd.read_csv(os.path.join(base_dir, 'HBNFinalSummaries.csv'), low_memory=False)\n",
        "\n",
        "initial_size = behaviour_data.shape[0]\n",
        "behaviour_data = behaviour_data[behaviour_data['NoDX'].isin(['Yes', 'No'])]\n",
        "new_size = behaviour_data.shape[0]\n",
        "print('Removing', initial_size - new_size,\n",
        "      'patients as their evaluation was incomplete.')\n",
        "\n",
        "most_common_disorders = ['Attention-Deficit/Hyperactivity Disorder', 'Anxiety Disorders', 'Specific Learning Disorder',\n",
        "                         'Autism Spectrum Disorder', 'Disruptive', 'No Diagnosis Given', 'Communication Disorder',\n",
        "                         'Depressive Disorders']\n",
        "\n",
        "category_columns = ['DX_' + str(i).zfill(2) + '_Cat' for i in range(1, 11)] +\\\n",
        "                   ['DX_' + str(i).zfill(2) + '_Sub' for i in range(1, 11)]\n",
        "\n",
        "# find users that have no diagnosis within these top diseases\n",
        "# filtering should cahnge anything as this should also happen at a later stage\n",
        "mask = None\n",
        "for col in category_columns:\n",
        "    mask_col = behaviour_data[col].isin(most_common_disorders)\n",
        "    if mask is None:\n",
        "        mask = mask_col\n",
        "    else:\n",
        "        mask = mask | mask_col\n",
        "\n",
        "initial_size = behaviour_data.shape[0]\n",
        "behaviour_data = behaviour_data[mask]\n",
        "behaviour_data = behaviour_data.reset_index(drop=True)\n",
        "new_size = behaviour_data.shape[0]\n",
        "print('Removing', initial_size - new_size,\n",
        "      'patients as their diagnoses were very uncommon.')"
      ],
      "execution_count": 13,
      "outputs": [
        {
          "output_type": "stream",
          "text": [
            "Removing 282 patients as their evaluation was incomplete.\n",
            "Removing 73 patients as their diagnoses were very uncommon.\n"
          ],
          "name": "stdout"
        }
      ]
    },
    {
      "cell_type": "code",
      "metadata": {
        "id": "gPJKjCNhXbsz",
        "colab_type": "code",
        "colab": {}
      },
      "source": [
        "no_diagnosis_given = 'No Diagnosis Given'\n",
        "\n",
        "if no_diagnosis_given in most_common_disorders:\n",
        "    no_diag_index = most_common_disorders.index(no_diagnosis_given)\n",
        "    most_common_disorders = most_common_disorders[:no_diag_index] + \\\n",
        "        most_common_disorders[no_diag_index + 1:]"
      ],
      "execution_count": 0,
      "outputs": []
    },
    {
      "cell_type": "code",
      "metadata": {
        "id": "L1T5zt6UXefa",
        "colab_type": "code",
        "colab": {}
      },
      "source": [
        "diagnoses_to_ids = {disorder: i for i, disorder in enumerate(most_common_disorders)}"
      ],
      "execution_count": 0,
      "outputs": []
    },
    {
      "cell_type": "code",
      "metadata": {
        "id": "Rw7ila_vXfVj",
        "colab_type": "code",
        "colab": {}
      },
      "source": [
        "def get_disorder(data, row, index):\n",
        "    disorder = data.iloc[row][category_columns[index]]\n",
        "\n",
        "    if disorder == 'Neurodevelopmental Disorders':\n",
        "        disorder = data.iloc[row][category_columns[index + 10]]\n",
        "\n",
        "    return disorder\n",
        "\n",
        "order_of_disorders = []\n",
        "for k in range(behaviour_data.shape[0]):\n",
        "    i = 0\n",
        "    disorder = get_disorder(behaviour_data, k, i)\n",
        "    disorders_patient = []\n",
        "    while disorder != no_diagnosis_given and not pd.isnull(disorder):\n",
        "        if disorder in diagnoses_to_ids:\n",
        "            if diagnoses_to_ids[disorder] not in disorders_patient:\n",
        "                disorders_patient.append(diagnoses_to_ids[disorder])\n",
        "        i += 1\n",
        "        if i == len(category_columns):\n",
        "            break\n",
        "        disorder = get_disorder(behaviour_data, k, i)\n",
        "\n",
        "    order_of_disorders.append(disorders_patient)"
      ],
      "execution_count": 0,
      "outputs": []
    },
    {
      "cell_type": "code",
      "metadata": {
        "id": "v0QmC0oKXr3e",
        "colab_type": "code",
        "colab": {}
      },
      "source": [
        "max_len_order = np.max([len(x) for x in order_of_disorders])\n",
        "\n",
        "# pad with a new token denoting the pad token\n",
        "pad_token = len(most_common_disorders)\n",
        "bod_token = len(most_common_disorders) + 1\n",
        "eod_token = len(most_common_disorders) + 2\n",
        "\n",
        "order_of_disorders = [[bod_token] + x + [eod_token] + [pad_token] * (max_len_order - len(x)) for x in order_of_disorders]\n",
        "\n",
        "order_of_disorders = np.array(order_of_disorders)"
      ],
      "execution_count": 0,
      "outputs": []
    },
    {
      "cell_type": "code",
      "metadata": {
        "id": "N3UPZCUKXvS8",
        "colab_type": "code",
        "colab": {}
      },
      "source": [
        "classes = np.zeros((len(most_common_disorders),\n",
        "                    behaviour_data.shape[0]), dtype=np.int32)\n",
        "\n",
        "df_disorders = behaviour_data[category_columns]\n",
        "\n",
        "for i, disorder in enumerate(most_common_disorders):\n",
        "    mask = df_disorders.select_dtypes(include=[object]). \\\n",
        "        applymap(lambda x: disorder in x if pd.notnull(x) else False)\n",
        "\n",
        "    disorder_df = df_disorders[mask.any(axis=1)]\n",
        "\n",
        "    np.add.at(classes[i], disorder_df.index.values, 1)"
      ],
      "execution_count": 0,
      "outputs": []
    },
    {
      "cell_type": "code",
      "metadata": {
        "id": "qZp0xLeJX0gt",
        "colab_type": "code",
        "colab": {}
      },
      "source": [
        "behaviour_data_columns = behaviour_data.columns.values.astype(np.str)\n",
        "\n",
        "columns_to_drop = behaviour_data_columns[\n",
        "    np.flatnonzero(np.core.defchararray.find(behaviour_data_columns, 'DX') != -1)]\n",
        "\n",
        "behaviour_data = behaviour_data.drop(columns=columns_to_drop)"
      ],
      "execution_count": 0,
      "outputs": []
    },
    {
      "cell_type": "code",
      "metadata": {
        "id": "PFcPGkb1X21f",
        "colab_type": "code",
        "colab": {}
      },
      "source": [
        "for disorder, classification in zip(most_common_disorders, classes):\n",
        "    behaviour_data[disorder] = classification\n",
        "\n",
        "behaviour_data['order_diagnoses'] = list(order_of_disorders)"
      ],
      "execution_count": 0,
      "outputs": []
    },
    {
      "cell_type": "code",
      "metadata": {
        "id": "uRAFeRyM9yHF",
        "colab_type": "code",
        "colab": {}
      },
      "source": [
        "behaviour_data_id=behaviour_data.EID.values"
      ],
      "execution_count": 0,
      "outputs": []
    },
    {
      "cell_type": "code",
      "metadata": {
        "id": "ATAs-7WaGD_1",
        "colab_type": "code",
        "outputId": "7c684a0e-b910-4bad-f188-1eadaf27fc5a",
        "colab": {
          "base_uri": "https://localhost:8080/",
          "height": 34
        }
      },
      "source": [
        "behaviour_data.shape"
      ],
      "execution_count": 22,
      "outputs": [
        {
          "output_type": "execute_result",
          "data": {
            "text/plain": [
              "(1741, 314)"
            ]
          },
          "metadata": {
            "tags": []
          },
          "execution_count": 22
        }
      ]
    },
    {
      "cell_type": "code",
      "metadata": {
        "id": "x3ojwtsR-eEi",
        "colab_type": "code",
        "colab": {}
      },
      "source": [
        "labels=behaviour_data[[\"EID\",\"Sex\",\"Age\"]+list(most_common_disorders)]"
      ],
      "execution_count": 0,
      "outputs": []
    },
    {
      "cell_type": "code",
      "metadata": {
        "id": "j3N5U3zhz1f1",
        "colab_type": "code",
        "outputId": "6805e86f-f346-4c72-ac87-b18c0934fb82",
        "colab": {
          "base_uri": "https://localhost:8080/",
          "height": 238
        }
      },
      "source": [
        "labels.head()"
      ],
      "execution_count": 24,
      "outputs": [
        {
          "output_type": "execute_result",
          "data": {
            "text/html": [
              "<div>\n",
              "<style scoped>\n",
              "    .dataframe tbody tr th:only-of-type {\n",
              "        vertical-align: middle;\n",
              "    }\n",
              "\n",
              "    .dataframe tbody tr th {\n",
              "        vertical-align: top;\n",
              "    }\n",
              "\n",
              "    .dataframe thead th {\n",
              "        text-align: right;\n",
              "    }\n",
              "</style>\n",
              "<table border=\"1\" class=\"dataframe\">\n",
              "  <thead>\n",
              "    <tr style=\"text-align: right;\">\n",
              "      <th></th>\n",
              "      <th>EID</th>\n",
              "      <th>Sex</th>\n",
              "      <th>Age</th>\n",
              "      <th>Attention-Deficit/Hyperactivity Disorder</th>\n",
              "      <th>Anxiety Disorders</th>\n",
              "      <th>Specific Learning Disorder</th>\n",
              "      <th>Autism Spectrum Disorder</th>\n",
              "      <th>Disruptive</th>\n",
              "      <th>Communication Disorder</th>\n",
              "      <th>Depressive Disorders</th>\n",
              "    </tr>\n",
              "  </thead>\n",
              "  <tbody>\n",
              "    <tr>\n",
              "      <th>0</th>\n",
              "      <td>NDARYM832PX3</td>\n",
              "      <td>1</td>\n",
              "      <td>7.048254</td>\n",
              "      <td>0</td>\n",
              "      <td>1</td>\n",
              "      <td>1</td>\n",
              "      <td>0</td>\n",
              "      <td>0</td>\n",
              "      <td>0</td>\n",
              "      <td>0</td>\n",
              "    </tr>\n",
              "    <tr>\n",
              "      <th>1</th>\n",
              "      <td>NDARNJ687DMC</td>\n",
              "      <td>1</td>\n",
              "      <td>6.348163</td>\n",
              "      <td>0</td>\n",
              "      <td>0</td>\n",
              "      <td>0</td>\n",
              "      <td>0</td>\n",
              "      <td>0</td>\n",
              "      <td>0</td>\n",
              "      <td>1</td>\n",
              "    </tr>\n",
              "    <tr>\n",
              "      <th>2</th>\n",
              "      <td>NDARRM363BXZ</td>\n",
              "      <td>0</td>\n",
              "      <td>10.052589</td>\n",
              "      <td>1</td>\n",
              "      <td>0</td>\n",
              "      <td>0</td>\n",
              "      <td>0</td>\n",
              "      <td>0</td>\n",
              "      <td>0</td>\n",
              "      <td>0</td>\n",
              "    </tr>\n",
              "    <tr>\n",
              "      <th>3</th>\n",
              "      <td>NDARUW586LLL</td>\n",
              "      <td>1</td>\n",
              "      <td>12.319415</td>\n",
              "      <td>0</td>\n",
              "      <td>0</td>\n",
              "      <td>0</td>\n",
              "      <td>0</td>\n",
              "      <td>0</td>\n",
              "      <td>0</td>\n",
              "      <td>1</td>\n",
              "    </tr>\n",
              "    <tr>\n",
              "      <th>4</th>\n",
              "      <td>NDARDC298NW4</td>\n",
              "      <td>0</td>\n",
              "      <td>13.901437</td>\n",
              "      <td>1</td>\n",
              "      <td>0</td>\n",
              "      <td>0</td>\n",
              "      <td>0</td>\n",
              "      <td>0</td>\n",
              "      <td>0</td>\n",
              "      <td>0</td>\n",
              "    </tr>\n",
              "  </tbody>\n",
              "</table>\n",
              "</div>"
            ],
            "text/plain": [
              "            EID  Sex  ...  Communication Disorder  Depressive Disorders\n",
              "0  NDARYM832PX3    1  ...                       0                     0\n",
              "1  NDARNJ687DMC    1  ...                       0                     1\n",
              "2  NDARRM363BXZ    0  ...                       0                     0\n",
              "3  NDARUW586LLL    1  ...                       0                     1\n",
              "4  NDARDC298NW4    0  ...                       0                     0\n",
              "\n",
              "[5 rows x 10 columns]"
            ]
          },
          "metadata": {
            "tags": []
          },
          "execution_count": 24
        }
      ]
    },
    {
      "cell_type": "markdown",
      "metadata": {
        "id": "QUkqL0Vn_679",
        "colab_type": "text"
      },
      "source": [
        "## EEG Data\n"
      ]
    },
    {
      "cell_type": "markdown",
      "metadata": {
        "id": "D6ZA8qD60z0m",
        "colab_type": "text"
      },
      "source": [
        "Electroencephalography (EEG) is an electrophysiological monitoring method to record electrical activity of the brain."
      ]
    },
    {
      "cell_type": "code",
      "metadata": {
        "id": "KurT-5un_4NR",
        "colab_type": "code",
        "colab": {}
      },
      "source": [
        "#labels[no_diagnosis_given]=labels[no_diagnosis_given].apply(lambda x:0 if x==1 else 1)"
      ],
      "execution_count": 0,
      "outputs": []
    },
    {
      "cell_type": "code",
      "metadata": {
        "id": "NMWfLWP01w39",
        "colab_type": "code",
        "colab": {}
      },
      "source": [
        "#most_common_disorders=[disorder for disorder in most_common_disorders if disorder!=no_diagnosis_given]"
      ],
      "execution_count": 0,
      "outputs": []
    },
    {
      "cell_type": "code",
      "metadata": {
        "id": "XWWFzOb417eN",
        "colab_type": "code",
        "outputId": "d0e5040e-d7be-47af-95be-69ef38706aea",
        "colab": {
          "base_uri": "https://localhost:8080/",
          "height": 136
        }
      },
      "source": [
        "most_common_disorders"
      ],
      "execution_count": 25,
      "outputs": [
        {
          "output_type": "execute_result",
          "data": {
            "text/plain": [
              "['Attention-Deficit/Hyperactivity Disorder',\n",
              " 'Anxiety Disorders',\n",
              " 'Specific Learning Disorder',\n",
              " 'Autism Spectrum Disorder',\n",
              " 'Disruptive',\n",
              " 'Communication Disorder',\n",
              " 'Depressive Disorders']"
            ]
          },
          "metadata": {
            "tags": []
          },
          "execution_count": 25
        }
      ]
    },
    {
      "cell_type": "code",
      "metadata": {
        "id": "IlQ9KTLl_4YE",
        "colab_type": "code",
        "outputId": "8d2de2ba-71f7-4e2a-9875-aa392732b190",
        "colab": {
          "base_uri": "https://localhost:8080/",
          "height": 34
        }
      },
      "source": [
        "eeg_mic=pd.read_csv(\"RestingEEG_Microstates.csv\")\n",
        "eeg_psd=pd.read_csv(\"RestingEEG_PSD_Average.csv\")\n",
        "eeg_spectro=pd.read_csv(\"RestingEEG_Spectro_Average.csv\")\n",
        "\n",
        "len(eeg_mic),len(eeg_psd),len(eeg_spectro)\n"
      ],
      "execution_count": 26,
      "outputs": [
        {
          "output_type": "execute_result",
          "data": {
            "text/plain": [
              "(1108, 1485, 1485)"
            ]
          },
          "metadata": {
            "tags": []
          },
          "execution_count": 26
        }
      ]
    },
    {
      "cell_type": "code",
      "metadata": {
        "id": "t7ZfJwqRAlBv",
        "colab_type": "code",
        "colab": {}
      },
      "source": [
        "eeg_mic_labels=pd.merge(eeg_mic,labels,left_on='id',right_on='EID')\n",
        "eeg_psd_labels=pd.merge(eeg_psd,labels,left_on='id',right_on='EID')\n",
        "eeg_spectro_labels=pd.merge(eeg_spectro,labels,left_on='id',right_on='EID')\n",
        "\n",
        "eeg_mic_labels.drop(columns=[\"EID\"],inplace=True)\n",
        "eeg_psd_labels.drop(columns=[\"EID\"],inplace=True)\n",
        "eeg_spectro_labels.drop(columns=[\"EID\"],inplace=True)"
      ],
      "execution_count": 0,
      "outputs": []
    },
    {
      "cell_type": "code",
      "metadata": {
        "id": "SolHMhAICZ8Y",
        "colab_type": "code",
        "outputId": "68b5c2b5-64be-434e-9624-5a7e35d341b4",
        "colab": {
          "base_uri": "https://localhost:8080/",
          "height": 153
        }
      },
      "source": [
        "labels_id=labels.EID.values\n",
        "beh_full_id=behaviour_data_id.copy()\n",
        "\n",
        "eeg_mic_id=eeg_mic.id.values\n",
        "\n",
        "eeg_psd_id=eeg_psd.id.values\n",
        "\n",
        "eeg_spectro_id=eeg_spectro.id.values\n",
        "\n",
        "sum_=0\n",
        "for id in eeg_mic_id:\n",
        "  if id not in beh_full_id :\n",
        "    sum_+=1\n",
        "print(\"There are \",sum_,\"mismatches between the Behavioral Data and the EEG_Mic Data. (Belong to EEG but not to Behavioral)\")\n",
        "    \n",
        "sum_=0\n",
        "for id in eeg_mic_id:\n",
        "  if id not in labels_id :\n",
        "    sum_+=1\n",
        "print(\"There are \",sum_,\"mismatches between the Labels and the EEG_Mic Data (Belong to EEG and  but not to Labels).\")\n",
        "print()\n",
        "\n",
        "sum_=0\n",
        "for id in eeg_psd_id:\n",
        "  if id not in beh_full_id :\n",
        "    sum_+=1\n",
        "print(\"There are \",sum_,\"mismatches between the Behavioral Data and the EEG_PSD Data (Belong to EEG but not to Behavioral).\")\n",
        "    \n",
        "sum_=0\n",
        "for id in eeg_psd_id:\n",
        "  if id not in labels_id :\n",
        "    sum_+=1\n",
        "print(\"There are \",sum_,\"mismatches between the Labels and the EEG_PSD Data (Belong to EEG but not to Labels).\")\n",
        "print()\n",
        "\n",
        "sum_=0\n",
        "for id in eeg_spectro_id:\n",
        "  if id not in beh_full_id :\n",
        "    sum_+=1\n",
        "print(\"There are \",sum_,\"mismatches between the Behavioral Data and the EEG_Spectro Data (Belong to EEG but not to Behavioral).\")\n",
        "    \n",
        "sum_=0\n",
        "for id in eeg_spectro_id:\n",
        "  if id not in labels_id :\n",
        "    sum_+=1\n",
        "print(\"There are \",sum_,\"mismatches between the Labels and the EEG_Spectro Data (Belong to EEG but not to Labels) .\")\n",
        "\n",
        "\n",
        "\n",
        "\n"
      ],
      "execution_count": 28,
      "outputs": [
        {
          "output_type": "stream",
          "text": [
            "There are  180 mismatches between the Behavioral Data and the EEG_Mic Data. (Belong to EEG but not to Behavioral)\n",
            "There are  180 mismatches between the Labels and the EEG_Mic Data (Belong to EEG and  but not to Labels).\n",
            "\n",
            "There are  231 mismatches between the Behavioral Data and the EEG_PSD Data (Belong to EEG but not to Behavioral).\n",
            "There are  231 mismatches between the Labels and the EEG_PSD Data (Belong to EEG but not to Labels).\n",
            "\n",
            "There are  231 mismatches between the Behavioral Data and the EEG_Spectro Data (Belong to EEG but not to Behavioral).\n",
            "There are  231 mismatches between the Labels and the EEG_Spectro Data (Belong to EEG but not to Labels) .\n"
          ],
          "name": "stdout"
        }
      ]
    },
    {
      "cell_type": "code",
      "metadata": {
        "id": "OJcEWzMvCIgL",
        "colab_type": "code",
        "outputId": "ec331df1-8997-4c61-ba7b-f28ae0b9fd80",
        "colab": {
          "base_uri": "https://localhost:8080/",
          "height": 68
        }
      },
      "source": [
        "print(\"Microstate: {:5d} Subjects\\nPSD: {:12d} Subjects\\nSpectro: {:8d} Subjects\".\\\n",
        "      format(len(eeg_mic_labels),len(eeg_psd_labels),len(eeg_spectro_labels)))\n",
        "\n"
      ],
      "execution_count": 29,
      "outputs": [
        {
          "output_type": "stream",
          "text": [
            "Microstate:   928 Subjects\n",
            "PSD:         1254 Subjects\n",
            "Spectro:     1254 Subjects\n"
          ],
          "name": "stdout"
        }
      ]
    },
    {
      "cell_type": "code",
      "metadata": {
        "id": "XaYlxbP_GUGa",
        "colab_type": "code",
        "outputId": "93d71ff7-d783-4a7e-c01c-66c9933d5851",
        "colab": {
          "base_uri": "https://localhost:8080/",
          "height": 34
        }
      },
      "source": [
        "#Sanity check for set of EEG Feautures\n",
        "if(len(set(eeg_mic_id).intersection(set(eeg_psd_id),set(eeg_spectro_id)))==len(eeg_mic_id) and \\\n",
        "   len(set(eeg_psd_id).intersection(set(eeg_spectro_id)))==len(eeg_psd_id)):\n",
        "  print(\"Microstate, PSD and Spectro features contain the same subjects.\")\n"
      ],
      "execution_count": 30,
      "outputs": [
        {
          "output_type": "stream",
          "text": [
            "Microstate, PSD and Spectro features contain the same subjects.\n"
          ],
          "name": "stdout"
        }
      ]
    },
    {
      "cell_type": "markdown",
      "metadata": {
        "id": "9a-qGAOONie1",
        "colab_type": "text"
      },
      "source": [
        "## Classification\n"
      ]
    },
    {
      "cell_type": "code",
      "metadata": {
        "id": "4hFWxyelOfg7",
        "colab_type": "code",
        "colab": {}
      },
      "source": [
        "def binary_classifier(x,y,conf_matrix=True,classifiers=['lgr','rf','svm'],n_splits=5,C=20,\\\n",
        "                      return_result=True,verbose=False):\n",
        "\n",
        "  \n",
        "  skf=StratifiedKFold(n_splits=n_splits,shuffle=True)\n",
        "  \n",
        "  logistic='lgr' in classifiers\n",
        "  ranfor='rf' in classifiers\n",
        "  suve='svm' in classifiers\n",
        "  results={}\n",
        "\n",
        "  \n",
        "  \n",
        "  if logistic:\n",
        "    lgc=lg(C=C,class_weight='balanced',max_iter=2000,solver='liblinear')\n",
        "    y_pred_lgc=np.zeros(y.shape[0])\n",
        "  if ranfor:\n",
        "    rfc=rf(n_estimators=100,max_depth=5,class_weight='balanced')\n",
        "    y_pred_rfc=np.zeros(y.shape[0])\n",
        "  \n",
        "  if suve:\n",
        "    \n",
        "    svmc=svm(C=C,class_weight='balanced')\n",
        "    y_pred_svmc=np.zeros(y.shape[0])\n",
        "  \n",
        "  \n",
        "  for train_index, test_index in skf.split(x, y):\n",
        "        x_train, x_test = x[train_index], x[test_index]\n",
        "        y_train, y_test = y[train_index], y[test_index]\n",
        "\n",
        "        #fill missing values with mean\n",
        "        col_mean = np.nanmean(x_train, axis=0)\n",
        "        inds_train_nan = np.where(np.isnan(x_train))\n",
        "        inds_test_nan= np.where(np.isnan(x_test))\n",
        "        x_train[inds_train_nan] = np.take(col_mean, inds_train_nan[1])\n",
        "        x_test[inds_test_nan]= np.take(col_mean, inds_test_nan[1])\n",
        "        \n",
        "        if logistic:\n",
        "          lgc.fit(x_train, y_train)\n",
        "          y_pred_lgc[test_index] = lgc.predict(x_test)\n",
        "        if ranfor:\n",
        "          rfc.fit(x_train, y_train)\n",
        "          y_pred_rfc[test_index] = rfc.predict(x_test)\n",
        "        if suve:\n",
        "          svmc.fit(x_train, y_train)\n",
        "          y_pred_svmc[test_index] = svmc.predict(x_test)\n",
        "\n",
        "  \n",
        "  if logistic:\n",
        "    acc=accuracy_score(y,y_pred_lgc)\n",
        "    bacc=balanced_accuracy_score(y,y_pred_lgc)\n",
        "    mr=f1_score(y,y_pred_lgc)\n",
        "    cof_m=confusion_matrix(y,y_pred_lgc)\n",
        "    if verbose:\n",
        "      print(\"Logistic Regression\")\n",
        "      print(\"-------------------\")\n",
        "      print(\"Accuracy :\",accuracy_score(y,y_pred_lgc))\n",
        "      print(\"Balanced Accuracy :\",balanced_accuracy_score(y,y_pred_lgc))\n",
        "      print(\"f1-score :\",f1_score(y,y_pred_lgc))\n",
        "      if conf_matrix:\n",
        "        print(confusion_matrix(y,y_pred_lgc))\n",
        "      print()\n",
        "    results['lgr']=[acc,bacc,mr,cof_m]\n",
        "  if ranfor:\n",
        "    acc=accuracy_score(y,y_pred_rfc)\n",
        "    bacc=balanced_accuracy_score(y,y_pred_rfc)\n",
        "    mr=f1_score(y,y_pred_rfc)\n",
        "    cof_m=confusion_matrix(y,y_pred_rfc)\n",
        "    if verbose:\n",
        "      print(\"Random Forest\")\n",
        "      print(\"-----------------\")\n",
        "      print(\"Accuracy :\",accuracy_score(y,y_pred_rfc))\n",
        "      print(\"Balanced Accuracy :\",balanced_accuracy_score(y,y_pred_rfc))\n",
        "      print(\"f1-score :\",f1_score(y,y_pred_rfc))\n",
        "      if conf_matrix:\n",
        "        print(confusion_matrix(y,y_pred_rfc))\n",
        "      print()\n",
        "    results['rf']=[acc,bacc,mr,cof_m]\n",
        "\n",
        "  if suve:\n",
        "    acc=accuracy_score(y,y_pred_svmc)\n",
        "    bacc=balanced_accuracy_score(y,y_pred_svmc)\n",
        "    mr=f1_score(y,y_pred_svmc)\n",
        "    cof_m=confusion_matrix(y,y_pred_svmc)\n",
        "    if verbose:\n",
        "      print(\"SVM\")\n",
        "      print(\"----------------\")\n",
        "      print(\"Accuracy :\",accuracy_score(y,y_pred_svmc))\n",
        "      print(\"Balanced Accuracy :\",balanced_accuracy_score(y,y_pred_svmc))\n",
        "      print(\"f1-score :\",f1_score(y,y_pred_svmc))\n",
        "      if conf_matrix:\n",
        "        print(confusion_matrix(y,y_pred_svmc))\n",
        "    results['svm']=[acc,bacc,mr,cof_m]  \n",
        "  \n",
        "  if return_result:\n",
        "    return results    \n",
        "\n",
        " "
      ],
      "execution_count": 0,
      "outputs": []
    },
    {
      "cell_type": "code",
      "metadata": {
        "id": "j7cllppB1Tvu",
        "colab_type": "code",
        "colab": {}
      },
      "source": [
        "def best_classifier(results):\n",
        "  best={}\n",
        "  for key_,value in results.items():\n",
        "    best[key_]=sorted(value,key=lambda x:-x[1])[0]\n",
        "  return best\n",
        "\n",
        "def overall_best_result(results):\n",
        "    best_per_disorder=best_classifier(results)\n",
        "    results=[]\n",
        "    for _,value in best_per_disorder.items():\n",
        "      results.append(value[-1])\n",
        "\n",
        "    return np.mean(results)\n",
        "\n"
      ],
      "execution_count": 0,
      "outputs": []
    },
    {
      "cell_type": "markdown",
      "metadata": {
        "id": "WbP2Fvx-OgQ9",
        "colab_type": "text"
      },
      "source": [
        "### EEG Microstates\n",
        "\n"
      ]
    },
    {
      "cell_type": "markdown",
      "metadata": {
        "id": "VyGhRzOe1XHv",
        "colab_type": "text"
      },
      "source": [
        "EEG microstates are transient, patterned, quasi-stable states or patterns of an electroencephalogram. These tend to last anywhere from milliseconds to seconds and are hypothesized to be the most basic instantiations of human neurological tasks, and are thus nicknamed \"the atoms of thought\"."
      ]
    },
    {
      "cell_type": "code",
      "metadata": {
        "id": "eKjl5xQHtrKA",
        "colab_type": "code",
        "colab": {}
      },
      "source": [
        "#y_none=eeg_mic_labels[no_diagnosis_given].values==0\n",
        "y=eeg_mic_labels[most_common_disorders]"
      ],
      "execution_count": 0,
      "outputs": []
    },
    {
      "cell_type": "code",
      "metadata": {
        "id": "aOfcOKHeODc1",
        "colab_type": "code",
        "colab": {}
      },
      "source": [
        "#x=eeg_mic_labels.drop(columns=[\"id\"]+list(most_common_disorders)+[no_diagnosis_given])\n",
        "x=eeg_mic_labels.drop(columns=[\"id\"]+list(most_common_disorders))\n",
        "\n"
      ],
      "execution_count": 0,
      "outputs": []
    },
    {
      "cell_type": "code",
      "metadata": {
        "id": "q9SjHiFCHier",
        "colab_type": "code",
        "outputId": "7a3278d5-77fc-4d29-b43d-48253213e5b9",
        "colab": {
          "base_uri": "https://localhost:8080/",
          "height": 224
        }
      },
      "source": [
        "x.head()"
      ],
      "execution_count": 36,
      "outputs": [
        {
          "output_type": "execute_result",
          "data": {
            "text/html": [
              "<div>\n",
              "<style scoped>\n",
              "    .dataframe tbody tr th:only-of-type {\n",
              "        vertical-align: middle;\n",
              "    }\n",
              "\n",
              "    .dataframe tbody tr th {\n",
              "        vertical-align: top;\n",
              "    }\n",
              "\n",
              "    .dataframe thead th {\n",
              "        text-align: right;\n",
              "    }\n",
              "</style>\n",
              "<table border=\"1\" class=\"dataframe\">\n",
              "  <thead>\n",
              "    <tr style=\"text-align: right;\">\n",
              "      <th></th>\n",
              "      <th>eyesclosed_microstates_gevtotal</th>\n",
              "      <th>eyesclosed_microstates_gfp_prototype1</th>\n",
              "      <th>eyesclosed_microstates_gfp_prototype2</th>\n",
              "      <th>eyesclosed_microstates_gfp_prototype3</th>\n",
              "      <th>eyesclosed_microstates_gfp_prototype4</th>\n",
              "      <th>eyesclosed_microstates_occurence_prototype1</th>\n",
              "      <th>eyesclosed_microstates_occurence_prototype2</th>\n",
              "      <th>eyesclosed_microstates_occurence_prototype3</th>\n",
              "      <th>eyesclosed_microstates_occurence_prototype4</th>\n",
              "      <th>eyesclosed_microstates_duration_prototype1</th>\n",
              "      <th>eyesclosed_microstates_duration_prototype2</th>\n",
              "      <th>eyesclosed_microstates_duration_prototype3</th>\n",
              "      <th>eyesclosed_microstates_duration_prototype4</th>\n",
              "      <th>eyesclosed_microstates_coverage_prototype1</th>\n",
              "      <th>eyesclosed_microstates_coverage_prototype2</th>\n",
              "      <th>eyesclosed_microstates_coverage_prototype3</th>\n",
              "      <th>eyesclosed_microstates_coverage_prototype4</th>\n",
              "      <th>eyesclosed_microstates_gev_prototype1</th>\n",
              "      <th>eyesclosed_microstates_gev_prototype2</th>\n",
              "      <th>eyesclosed_microstates_gev_prototype3</th>\n",
              "      <th>eyesclosed_microstates_gev_prototype4</th>\n",
              "      <th>eyesclosed_microstates_mspatcorr_prototype1</th>\n",
              "      <th>eyesclosed_microstates_mspatcorr_prototype2</th>\n",
              "      <th>eyesclosed_microstates_mspatcorr_prototype3</th>\n",
              "      <th>eyesclosed_microstates_mspatcorr_prototype4</th>\n",
              "      <th>Sex</th>\n",
              "      <th>Age</th>\n",
              "    </tr>\n",
              "  </thead>\n",
              "  <tbody>\n",
              "    <tr>\n",
              "      <th>0</th>\n",
              "      <td>0.815053</td>\n",
              "      <td>8.594640</td>\n",
              "      <td>7.840168</td>\n",
              "      <td>6.751696</td>\n",
              "      <td>6.155346</td>\n",
              "      <td>4.531579</td>\n",
              "      <td>3.605263</td>\n",
              "      <td>2.042105</td>\n",
              "      <td>1.826316</td>\n",
              "      <td>109.572590</td>\n",
              "      <td>74.712409</td>\n",
              "      <td>59.371134</td>\n",
              "      <td>61.798271</td>\n",
              "      <td>0.496537</td>\n",
              "      <td>0.269358</td>\n",
              "      <td>0.121242</td>\n",
              "      <td>0.112863</td>\n",
              "      <td>0.425801</td>\n",
              "      <td>0.179269</td>\n",
              "      <td>0.050128</td>\n",
              "      <td>0.033547</td>\n",
              "      <td>0.736561</td>\n",
              "      <td>0.707855</td>\n",
              "      <td>0.650813</td>\n",
              "      <td>0.648384</td>\n",
              "      <td>1</td>\n",
              "      <td>6.728040</td>\n",
              "    </tr>\n",
              "    <tr>\n",
              "      <th>1</th>\n",
              "      <td>0.725810</td>\n",
              "      <td>7.300888</td>\n",
              "      <td>6.125996</td>\n",
              "      <td>5.441025</td>\n",
              "      <td>7.418961</td>\n",
              "      <td>3.929825</td>\n",
              "      <td>2.385965</td>\n",
              "      <td>0.745614</td>\n",
              "      <td>3.421053</td>\n",
              "      <td>118.696429</td>\n",
              "      <td>69.272059</td>\n",
              "      <td>58.470588</td>\n",
              "      <td>94.902564</td>\n",
              "      <td>0.466456</td>\n",
              "      <td>0.165281</td>\n",
              "      <td>0.043596</td>\n",
              "      <td>0.324667</td>\n",
              "      <td>0.305721</td>\n",
              "      <td>0.058535</td>\n",
              "      <td>0.007259</td>\n",
              "      <td>0.176843</td>\n",
              "      <td>0.702696</td>\n",
              "      <td>0.634576</td>\n",
              "      <td>0.491432</td>\n",
              "      <td>0.630921</td>\n",
              "      <td>0</td>\n",
              "      <td>5.545744</td>\n",
              "    </tr>\n",
              "    <tr>\n",
              "      <th>2</th>\n",
              "      <td>0.727351</td>\n",
              "      <td>11.019322</td>\n",
              "      <td>10.683680</td>\n",
              "      <td>10.461474</td>\n",
              "      <td>10.210294</td>\n",
              "      <td>3.989474</td>\n",
              "      <td>3.515789</td>\n",
              "      <td>3.478947</td>\n",
              "      <td>2.773684</td>\n",
              "      <td>78.812665</td>\n",
              "      <td>71.227545</td>\n",
              "      <td>71.779123</td>\n",
              "      <td>66.857685</td>\n",
              "      <td>0.314421</td>\n",
              "      <td>0.250421</td>\n",
              "      <td>0.249716</td>\n",
              "      <td>0.185442</td>\n",
              "      <td>0.206668</td>\n",
              "      <td>0.148275</td>\n",
              "      <td>0.126315</td>\n",
              "      <td>0.082509</td>\n",
              "      <td>0.680067</td>\n",
              "      <td>0.669293</td>\n",
              "      <td>0.641487</td>\n",
              "      <td>0.608844</td>\n",
              "      <td>0</td>\n",
              "      <td>7.475929</td>\n",
              "    </tr>\n",
              "    <tr>\n",
              "      <th>3</th>\n",
              "      <td>0.800499</td>\n",
              "      <td>6.234832</td>\n",
              "      <td>6.023094</td>\n",
              "      <td>4.939876</td>\n",
              "      <td>6.024174</td>\n",
              "      <td>3.563158</td>\n",
              "      <td>3.378947</td>\n",
              "      <td>1.710526</td>\n",
              "      <td>4.084211</td>\n",
              "      <td>74.824225</td>\n",
              "      <td>73.489097</td>\n",
              "      <td>66.381538</td>\n",
              "      <td>90.966495</td>\n",
              "      <td>0.266611</td>\n",
              "      <td>0.248316</td>\n",
              "      <td>0.113547</td>\n",
              "      <td>0.371526</td>\n",
              "      <td>0.196817</td>\n",
              "      <td>0.170259</td>\n",
              "      <td>0.045047</td>\n",
              "      <td>0.252637</td>\n",
              "      <td>0.730940</td>\n",
              "      <td>0.722275</td>\n",
              "      <td>0.659675</td>\n",
              "      <td>0.710730</td>\n",
              "      <td>1</td>\n",
              "      <td>7.982660</td>\n",
              "    </tr>\n",
              "    <tr>\n",
              "      <th>4</th>\n",
              "      <td>0.764762</td>\n",
              "      <td>6.290508</td>\n",
              "      <td>6.239210</td>\n",
              "      <td>5.502705</td>\n",
              "      <td>5.995388</td>\n",
              "      <td>3.463158</td>\n",
              "      <td>3.484211</td>\n",
              "      <td>2.347368</td>\n",
              "      <td>3.189474</td>\n",
              "      <td>85.142857</td>\n",
              "      <td>83.519637</td>\n",
              "      <td>72.278027</td>\n",
              "      <td>76.650165</td>\n",
              "      <td>0.294863</td>\n",
              "      <td>0.291000</td>\n",
              "      <td>0.169663</td>\n",
              "      <td>0.244474</td>\n",
              "      <td>0.203649</td>\n",
              "      <td>0.203309</td>\n",
              "      <td>0.068493</td>\n",
              "      <td>0.139418</td>\n",
              "      <td>0.726088</td>\n",
              "      <td>0.715230</td>\n",
              "      <td>0.654135</td>\n",
              "      <td>0.690053</td>\n",
              "      <td>0</td>\n",
              "      <td>8.211955</td>\n",
              "    </tr>\n",
              "  </tbody>\n",
              "</table>\n",
              "</div>"
            ],
            "text/plain": [
              "   eyesclosed_microstates_gevtotal  ...       Age\n",
              "0                         0.815053  ...  6.728040\n",
              "1                         0.725810  ...  5.545744\n",
              "2                         0.727351  ...  7.475929\n",
              "3                         0.800499  ...  7.982660\n",
              "4                         0.764762  ...  8.211955\n",
              "\n",
              "[5 rows x 27 columns]"
            ]
          },
          "metadata": {
            "tags": []
          },
          "execution_count": 36
        }
      ]
    },
    {
      "cell_type": "code",
      "metadata": {
        "id": "eTffdrRjrD1j",
        "colab_type": "code",
        "outputId": "979b341a-8c0f-42f9-cba8-500898a43f79",
        "colab": {
          "base_uri": "https://localhost:8080/",
          "height": 731
        }
      },
      "source": [
        "results_acc_1={}\n",
        "results_bacc_1={}\n",
        "results_f1_1={}\n",
        "\n",
        "\n",
        "\n",
        "\n",
        "for disorder in y.columns.values:\n",
        "  print(\"===============\",disorder,\"===================\")\n",
        "  #x_=np.concatenate((x[y[disorder]==1].values,x[y_none].values),axis=0)\n",
        "  x_=np.concatenate((x[y[disorder]==1].values,x[y[disorder]==0].values),axis=0)\n",
        "  #y_=np.concatenate((np.ones(sum(y[disorder].values==1)),np.zeros(sum(y_none))),axis=0)\n",
        "  y_=np.concatenate((np.ones(sum(y[disorder].values==1)),np.zeros(sum(y[disorder].values==0))),axis=0)\n",
        "  print(\"Number of Subjects: \",y_.shape[0])\n",
        "  print(\"Positive: \",sum(y_==1))\n",
        "  print(\"Negative: \",sum(y_==0))\n",
        "  print()\n",
        "  \n",
        "  result=binary_classifier(x_,y_)\n",
        "  \n",
        "  results_acc_1[disorder]=[]\n",
        "  results_bacc_1[disorder]=[]\n",
        "  results_f1_1[disorder]=[]\n",
        "  \n",
        "  for key,value in result.items():\n",
        "      results_acc_1[disorder].append((key,value[0]))\n",
        "      results_bacc_1[disorder].append((key,value[1]))\n",
        "      results_f1_1[disorder].append((key,value[2]))\n",
        "      \n",
        "      \n",
        "  print()\n"
      ],
      "execution_count": 49,
      "outputs": [
        {
          "output_type": "stream",
          "text": [
            "=============== Attention-Deficit/Hyperactivity Disorder ===================\n",
            "Number of Subjects:  928\n",
            "Positive:  559\n",
            "Negative:  369\n",
            "\n",
            "\n",
            "=============== Anxiety Disorders ===================\n",
            "Number of Subjects:  928\n",
            "Positive:  213\n",
            "Negative:  715\n",
            "\n",
            "\n",
            "=============== Specific Learning Disorder ===================\n",
            "Number of Subjects:  928\n",
            "Positive:  148\n",
            "Negative:  780\n",
            "\n",
            "\n",
            "=============== Autism Spectrum Disorder ===================\n",
            "Number of Subjects:  928\n",
            "Positive:  153\n",
            "Negative:  775\n",
            "\n",
            "\n",
            "=============== Disruptive ===================\n",
            "Number of Subjects:  928\n",
            "Positive:  152\n",
            "Negative:  776\n",
            "\n",
            "\n",
            "=============== Communication Disorder ===================\n",
            "Number of Subjects:  928\n",
            "Positive:  108\n",
            "Negative:  820\n",
            "\n",
            "\n",
            "=============== Depressive Disorders ===================\n",
            "Number of Subjects:  928\n",
            "Positive:  88\n",
            "Negative:  840\n",
            "\n",
            "\n"
          ],
          "name": "stdout"
        }
      ]
    },
    {
      "cell_type": "markdown",
      "metadata": {
        "id": "cIcXmc97hP5s",
        "colab_type": "text"
      },
      "source": [
        "### EEG PSD\n",
        "\n",
        "\n"
      ]
    },
    {
      "cell_type": "markdown",
      "metadata": {
        "id": "l_Z3VtJs2SsL",
        "colab_type": "text"
      },
      "source": [
        "Power Spectral Densities (PSD): Frequency-wise spectral power from 1-90 Hz."
      ]
    },
    {
      "cell_type": "code",
      "metadata": {
        "id": "KS8EbGsS4tIE",
        "colab_type": "code",
        "colab": {}
      },
      "source": [
        "#y_none=eeg_psd_labels[no_diagnosis_given].values==0\n",
        "y=eeg_psd_labels[most_common_disorders]\n",
        "\n"
      ],
      "execution_count": 0,
      "outputs": []
    },
    {
      "cell_type": "code",
      "metadata": {
        "id": "HXL6jZ9XhSJ8",
        "colab_type": "code",
        "colab": {}
      },
      "source": [
        "#x=eeg_psd_labels.drop(columns=[\"id\"]+list(most_common_disorders)+[no_diagnosis_given])\n",
        "x=eeg_psd_labels.drop(columns=[\"id\"]+list(most_common_disorders))\n",
        "\n"
      ],
      "execution_count": 0,
      "outputs": []
    },
    {
      "cell_type": "code",
      "metadata": {
        "id": "nQHvd3f8JHpK",
        "colab_type": "code",
        "outputId": "e5be8cbc-04c4-4bd9-f9aa-0773266ccdbe",
        "colab": {
          "base_uri": "https://localhost:8080/",
          "height": 253
        }
      },
      "source": [
        "x.head()"
      ],
      "execution_count": 52,
      "outputs": [
        {
          "output_type": "execute_result",
          "data": {
            "text/html": [
              "<div>\n",
              "<style scoped>\n",
              "    .dataframe tbody tr th:only-of-type {\n",
              "        vertical-align: middle;\n",
              "    }\n",
              "\n",
              "    .dataframe tbody tr th {\n",
              "        vertical-align: top;\n",
              "    }\n",
              "\n",
              "    .dataframe thead th {\n",
              "        text-align: right;\n",
              "    }\n",
              "</style>\n",
              "<table border=\"1\" class=\"dataframe\">\n",
              "  <thead>\n",
              "    <tr style=\"text-align: right;\">\n",
              "      <th></th>\n",
              "      <th>eyesclosed_psd_01dot00hz_average</th>\n",
              "      <th>eyesclosed_psd_01dot50hz_average</th>\n",
              "      <th>eyesclosed_psd_02dot00hz_average</th>\n",
              "      <th>eyesclosed_psd_02dot50hz_average</th>\n",
              "      <th>eyesclosed_psd_03dot00hz_average</th>\n",
              "      <th>eyesclosed_psd_03dot50hz_average</th>\n",
              "      <th>eyesclosed_psd_04dot00hz_average</th>\n",
              "      <th>eyesclosed_psd_04dot50hz_average</th>\n",
              "      <th>eyesclosed_psd_05dot00hz_average</th>\n",
              "      <th>eyesclosed_psd_05dot50hz_average</th>\n",
              "      <th>eyesclosed_psd_06dot00hz_average</th>\n",
              "      <th>eyesclosed_psd_06dot50hz_average</th>\n",
              "      <th>eyesclosed_psd_07dot00hz_average</th>\n",
              "      <th>eyesclosed_psd_07dot50hz_average</th>\n",
              "      <th>eyesclosed_psd_08dot00hz_average</th>\n",
              "      <th>eyesclosed_psd_08dot50hz_average</th>\n",
              "      <th>eyesclosed_psd_09dot00hz_average</th>\n",
              "      <th>eyesclosed_psd_09dot50hz_average</th>\n",
              "      <th>eyesclosed_psd_10dot00hz_average</th>\n",
              "      <th>eyesclosed_psd_10dot50hz_average</th>\n",
              "      <th>eyesclosed_psd_11dot00hz_average</th>\n",
              "      <th>eyesclosed_psd_11dot50hz_average</th>\n",
              "      <th>eyesclosed_psd_12dot00hz_average</th>\n",
              "      <th>eyesclosed_psd_12dot50hz_average</th>\n",
              "      <th>eyesclosed_psd_13dot00hz_average</th>\n",
              "      <th>eyesclosed_psd_13dot50hz_average</th>\n",
              "      <th>eyesclosed_psd_14dot00hz_average</th>\n",
              "      <th>eyesclosed_psd_14dot50hz_average</th>\n",
              "      <th>eyesclosed_psd_15dot00hz_average</th>\n",
              "      <th>eyesclosed_psd_15dot50hz_average</th>\n",
              "      <th>eyesclosed_psd_16dot00hz_average</th>\n",
              "      <th>eyesclosed_psd_16dot50hz_average</th>\n",
              "      <th>eyesclosed_psd_17dot00hz_average</th>\n",
              "      <th>eyesclosed_psd_17dot50hz_average</th>\n",
              "      <th>eyesclosed_psd_18dot00hz_average</th>\n",
              "      <th>eyesclosed_psd_18dot50hz_average</th>\n",
              "      <th>eyesclosed_psd_19dot00hz_average</th>\n",
              "      <th>eyesclosed_psd_19dot50hz_average</th>\n",
              "      <th>eyesclosed_psd_20dot00hz_average</th>\n",
              "      <th>eyesclosed_psd_20dot50hz_average</th>\n",
              "      <th>...</th>\n",
              "      <th>eyesopen_psd_71dot50hz_average</th>\n",
              "      <th>eyesopen_psd_72dot00hz_average</th>\n",
              "      <th>eyesopen_psd_72dot50hz_average</th>\n",
              "      <th>eyesopen_psd_73dot00hz_average</th>\n",
              "      <th>eyesopen_psd_73dot50hz_average</th>\n",
              "      <th>eyesopen_psd_74dot00hz_average</th>\n",
              "      <th>eyesopen_psd_74dot50hz_average</th>\n",
              "      <th>eyesopen_psd_75dot00hz_average</th>\n",
              "      <th>eyesopen_psd_75dot50hz_average</th>\n",
              "      <th>eyesopen_psd_76dot00hz_average</th>\n",
              "      <th>eyesopen_psd_76dot50hz_average</th>\n",
              "      <th>eyesopen_psd_77dot00hz_average</th>\n",
              "      <th>eyesopen_psd_77dot50hz_average</th>\n",
              "      <th>eyesopen_psd_78dot00hz_average</th>\n",
              "      <th>eyesopen_psd_78dot50hz_average</th>\n",
              "      <th>eyesopen_psd_79dot00hz_average</th>\n",
              "      <th>eyesopen_psd_79dot50hz_average</th>\n",
              "      <th>eyesopen_psd_80dot00hz_average</th>\n",
              "      <th>eyesopen_psd_80dot50hz_average</th>\n",
              "      <th>eyesopen_psd_81dot00hz_average</th>\n",
              "      <th>eyesopen_psd_81dot50hz_average</th>\n",
              "      <th>eyesopen_psd_82dot00hz_average</th>\n",
              "      <th>eyesopen_psd_82dot50hz_average</th>\n",
              "      <th>eyesopen_psd_83dot00hz_average</th>\n",
              "      <th>eyesopen_psd_83dot50hz_average</th>\n",
              "      <th>eyesopen_psd_84dot00hz_average</th>\n",
              "      <th>eyesopen_psd_84dot50hz_average</th>\n",
              "      <th>eyesopen_psd_85dot00hz_average</th>\n",
              "      <th>eyesopen_psd_85dot50hz_average</th>\n",
              "      <th>eyesopen_psd_86dot00hz_average</th>\n",
              "      <th>eyesopen_psd_86dot50hz_average</th>\n",
              "      <th>eyesopen_psd_87dot00hz_average</th>\n",
              "      <th>eyesopen_psd_87dot50hz_average</th>\n",
              "      <th>eyesopen_psd_88dot00hz_average</th>\n",
              "      <th>eyesopen_psd_88dot50hz_average</th>\n",
              "      <th>eyesopen_psd_89dot00hz_average</th>\n",
              "      <th>eyesopen_psd_89dot50hz_average</th>\n",
              "      <th>eyesopen_psd_90dot00hz_average</th>\n",
              "      <th>Sex</th>\n",
              "      <th>Age</th>\n",
              "    </tr>\n",
              "  </thead>\n",
              "  <tbody>\n",
              "    <tr>\n",
              "      <th>0</th>\n",
              "      <td>13.252075</td>\n",
              "      <td>13.171060</td>\n",
              "      <td>10.303562</td>\n",
              "      <td>7.247638</td>\n",
              "      <td>5.177531</td>\n",
              "      <td>4.012201</td>\n",
              "      <td>3.257799</td>\n",
              "      <td>2.716654</td>\n",
              "      <td>2.334777</td>\n",
              "      <td>2.064073</td>\n",
              "      <td>1.951010</td>\n",
              "      <td>2.106707</td>\n",
              "      <td>2.599794</td>\n",
              "      <td>3.398925</td>\n",
              "      <td>5.155590</td>\n",
              "      <td>8.938139</td>\n",
              "      <td>12.533943</td>\n",
              "      <td>11.535839</td>\n",
              "      <td>6.956389</td>\n",
              "      <td>3.230759</td>\n",
              "      <td>1.504203</td>\n",
              "      <td>0.841712</td>\n",
              "      <td>0.597280</td>\n",
              "      <td>0.486366</td>\n",
              "      <td>0.416022</td>\n",
              "      <td>0.391247</td>\n",
              "      <td>0.391266</td>\n",
              "      <td>0.386449</td>\n",
              "      <td>0.366163</td>\n",
              "      <td>0.334611</td>\n",
              "      <td>0.294511</td>\n",
              "      <td>0.267583</td>\n",
              "      <td>0.273096</td>\n",
              "      <td>0.293408</td>\n",
              "      <td>0.299024</td>\n",
              "      <td>0.292122</td>\n",
              "      <td>0.284493</td>\n",
              "      <td>0.257461</td>\n",
              "      <td>0.204511</td>\n",
              "      <td>0.160624</td>\n",
              "      <td>...</td>\n",
              "      <td>0.038385</td>\n",
              "      <td>0.034233</td>\n",
              "      <td>0.032711</td>\n",
              "      <td>0.033877</td>\n",
              "      <td>0.034532</td>\n",
              "      <td>0.033885</td>\n",
              "      <td>0.033288</td>\n",
              "      <td>0.033455</td>\n",
              "      <td>0.033305</td>\n",
              "      <td>0.032292</td>\n",
              "      <td>0.031645</td>\n",
              "      <td>0.033093</td>\n",
              "      <td>0.035101</td>\n",
              "      <td>0.034616</td>\n",
              "      <td>0.033599</td>\n",
              "      <td>0.034358</td>\n",
              "      <td>0.034409</td>\n",
              "      <td>0.032573</td>\n",
              "      <td>0.030488</td>\n",
              "      <td>0.029183</td>\n",
              "      <td>0.029474</td>\n",
              "      <td>0.031485</td>\n",
              "      <td>0.032308</td>\n",
              "      <td>0.030559</td>\n",
              "      <td>0.028891</td>\n",
              "      <td>0.028484</td>\n",
              "      <td>0.028546</td>\n",
              "      <td>0.028926</td>\n",
              "      <td>0.030418</td>\n",
              "      <td>0.032051</td>\n",
              "      <td>0.030983</td>\n",
              "      <td>0.028301</td>\n",
              "      <td>0.028747</td>\n",
              "      <td>0.031572</td>\n",
              "      <td>0.032276</td>\n",
              "      <td>0.031815</td>\n",
              "      <td>0.030898</td>\n",
              "      <td>0.024803</td>\n",
              "      <td>1</td>\n",
              "      <td>6.728040</td>\n",
              "    </tr>\n",
              "    <tr>\n",
              "      <th>1</th>\n",
              "      <td>18.933153</td>\n",
              "      <td>16.288860</td>\n",
              "      <td>10.595218</td>\n",
              "      <td>6.793446</td>\n",
              "      <td>5.170341</td>\n",
              "      <td>4.259245</td>\n",
              "      <td>3.492614</td>\n",
              "      <td>2.900088</td>\n",
              "      <td>2.419868</td>\n",
              "      <td>2.061413</td>\n",
              "      <td>1.849428</td>\n",
              "      <td>1.643705</td>\n",
              "      <td>1.433840</td>\n",
              "      <td>1.284499</td>\n",
              "      <td>1.148665</td>\n",
              "      <td>0.957932</td>\n",
              "      <td>0.774339</td>\n",
              "      <td>0.713294</td>\n",
              "      <td>0.722093</td>\n",
              "      <td>0.685296</td>\n",
              "      <td>0.611052</td>\n",
              "      <td>0.538792</td>\n",
              "      <td>0.473819</td>\n",
              "      <td>0.421145</td>\n",
              "      <td>0.378297</td>\n",
              "      <td>0.333074</td>\n",
              "      <td>0.284930</td>\n",
              "      <td>0.253142</td>\n",
              "      <td>0.256997</td>\n",
              "      <td>0.264753</td>\n",
              "      <td>0.252979</td>\n",
              "      <td>0.235653</td>\n",
              "      <td>0.220426</td>\n",
              "      <td>0.207347</td>\n",
              "      <td>0.197353</td>\n",
              "      <td>0.196580</td>\n",
              "      <td>0.201940</td>\n",
              "      <td>0.198415</td>\n",
              "      <td>0.186404</td>\n",
              "      <td>0.174339</td>\n",
              "      <td>...</td>\n",
              "      <td>0.018009</td>\n",
              "      <td>0.017191</td>\n",
              "      <td>0.016044</td>\n",
              "      <td>0.015546</td>\n",
              "      <td>0.015629</td>\n",
              "      <td>0.016328</td>\n",
              "      <td>0.017420</td>\n",
              "      <td>0.018440</td>\n",
              "      <td>0.019046</td>\n",
              "      <td>0.019026</td>\n",
              "      <td>0.018132</td>\n",
              "      <td>0.017376</td>\n",
              "      <td>0.016868</td>\n",
              "      <td>0.016151</td>\n",
              "      <td>0.016245</td>\n",
              "      <td>0.018334</td>\n",
              "      <td>0.020296</td>\n",
              "      <td>0.019596</td>\n",
              "      <td>0.017474</td>\n",
              "      <td>0.015387</td>\n",
              "      <td>0.014524</td>\n",
              "      <td>0.015458</td>\n",
              "      <td>0.017637</td>\n",
              "      <td>0.018725</td>\n",
              "      <td>0.017394</td>\n",
              "      <td>0.015399</td>\n",
              "      <td>0.013978</td>\n",
              "      <td>0.013282</td>\n",
              "      <td>0.013946</td>\n",
              "      <td>0.014787</td>\n",
              "      <td>0.014436</td>\n",
              "      <td>0.013733</td>\n",
              "      <td>0.013491</td>\n",
              "      <td>0.013280</td>\n",
              "      <td>0.012857</td>\n",
              "      <td>0.013204</td>\n",
              "      <td>0.013635</td>\n",
              "      <td>0.011250</td>\n",
              "      <td>0</td>\n",
              "      <td>5.545744</td>\n",
              "    </tr>\n",
              "    <tr>\n",
              "      <th>2</th>\n",
              "      <td>22.622696</td>\n",
              "      <td>21.394408</td>\n",
              "      <td>15.648336</td>\n",
              "      <td>10.689955</td>\n",
              "      <td>8.211262</td>\n",
              "      <td>7.578229</td>\n",
              "      <td>7.466200</td>\n",
              "      <td>7.003118</td>\n",
              "      <td>6.159468</td>\n",
              "      <td>5.335996</td>\n",
              "      <td>5.093545</td>\n",
              "      <td>5.538321</td>\n",
              "      <td>6.175145</td>\n",
              "      <td>6.734697</td>\n",
              "      <td>7.534442</td>\n",
              "      <td>9.503303</td>\n",
              "      <td>13.546476</td>\n",
              "      <td>17.441251</td>\n",
              "      <td>16.459230</td>\n",
              "      <td>10.850000</td>\n",
              "      <td>5.575627</td>\n",
              "      <td>2.764298</td>\n",
              "      <td>1.496170</td>\n",
              "      <td>0.969445</td>\n",
              "      <td>0.765090</td>\n",
              "      <td>0.666740</td>\n",
              "      <td>0.630320</td>\n",
              "      <td>0.606155</td>\n",
              "      <td>0.548354</td>\n",
              "      <td>0.478655</td>\n",
              "      <td>0.429026</td>\n",
              "      <td>0.403020</td>\n",
              "      <td>0.385353</td>\n",
              "      <td>0.365351</td>\n",
              "      <td>0.345919</td>\n",
              "      <td>0.327228</td>\n",
              "      <td>0.311196</td>\n",
              "      <td>0.298948</td>\n",
              "      <td>0.278150</td>\n",
              "      <td>0.248927</td>\n",
              "      <td>...</td>\n",
              "      <td>0.032566</td>\n",
              "      <td>0.031523</td>\n",
              "      <td>0.032054</td>\n",
              "      <td>0.034274</td>\n",
              "      <td>0.035031</td>\n",
              "      <td>0.033881</td>\n",
              "      <td>0.032438</td>\n",
              "      <td>0.030898</td>\n",
              "      <td>0.029622</td>\n",
              "      <td>0.029223</td>\n",
              "      <td>0.030502</td>\n",
              "      <td>0.032380</td>\n",
              "      <td>0.032818</td>\n",
              "      <td>0.031978</td>\n",
              "      <td>0.031986</td>\n",
              "      <td>0.032543</td>\n",
              "      <td>0.031722</td>\n",
              "      <td>0.030049</td>\n",
              "      <td>0.029465</td>\n",
              "      <td>0.030448</td>\n",
              "      <td>0.031399</td>\n",
              "      <td>0.031733</td>\n",
              "      <td>0.032177</td>\n",
              "      <td>0.031858</td>\n",
              "      <td>0.030657</td>\n",
              "      <td>0.030272</td>\n",
              "      <td>0.030468</td>\n",
              "      <td>0.030211</td>\n",
              "      <td>0.030175</td>\n",
              "      <td>0.029631</td>\n",
              "      <td>0.028393</td>\n",
              "      <td>0.027592</td>\n",
              "      <td>0.027952</td>\n",
              "      <td>0.028634</td>\n",
              "      <td>0.028677</td>\n",
              "      <td>0.028734</td>\n",
              "      <td>0.027461</td>\n",
              "      <td>0.021914</td>\n",
              "      <td>0</td>\n",
              "      <td>7.475929</td>\n",
              "    </tr>\n",
              "    <tr>\n",
              "      <th>3</th>\n",
              "      <td>7.616088</td>\n",
              "      <td>7.465304</td>\n",
              "      <td>5.674827</td>\n",
              "      <td>4.346300</td>\n",
              "      <td>4.118548</td>\n",
              "      <td>4.603765</td>\n",
              "      <td>4.924242</td>\n",
              "      <td>4.317279</td>\n",
              "      <td>3.072319</td>\n",
              "      <td>2.088074</td>\n",
              "      <td>1.693134</td>\n",
              "      <td>1.736706</td>\n",
              "      <td>2.225522</td>\n",
              "      <td>3.109757</td>\n",
              "      <td>3.669119</td>\n",
              "      <td>3.176001</td>\n",
              "      <td>2.150910</td>\n",
              "      <td>1.483975</td>\n",
              "      <td>1.148956</td>\n",
              "      <td>0.805825</td>\n",
              "      <td>0.505406</td>\n",
              "      <td>0.368324</td>\n",
              "      <td>0.326578</td>\n",
              "      <td>0.309621</td>\n",
              "      <td>0.302778</td>\n",
              "      <td>0.295409</td>\n",
              "      <td>0.280534</td>\n",
              "      <td>0.261327</td>\n",
              "      <td>0.246840</td>\n",
              "      <td>0.241667</td>\n",
              "      <td>0.236341</td>\n",
              "      <td>0.220557</td>\n",
              "      <td>0.199960</td>\n",
              "      <td>0.182535</td>\n",
              "      <td>0.170176</td>\n",
              "      <td>0.166696</td>\n",
              "      <td>0.170470</td>\n",
              "      <td>0.174641</td>\n",
              "      <td>0.167333</td>\n",
              "      <td>0.150467</td>\n",
              "      <td>...</td>\n",
              "      <td>0.024412</td>\n",
              "      <td>0.021701</td>\n",
              "      <td>0.020773</td>\n",
              "      <td>0.022615</td>\n",
              "      <td>0.023941</td>\n",
              "      <td>0.023632</td>\n",
              "      <td>0.023145</td>\n",
              "      <td>0.022699</td>\n",
              "      <td>0.021593</td>\n",
              "      <td>0.021579</td>\n",
              "      <td>0.024250</td>\n",
              "      <td>0.025981</td>\n",
              "      <td>0.024421</td>\n",
              "      <td>0.022734</td>\n",
              "      <td>0.022453</td>\n",
              "      <td>0.022062</td>\n",
              "      <td>0.021018</td>\n",
              "      <td>0.019736</td>\n",
              "      <td>0.019001</td>\n",
              "      <td>0.019659</td>\n",
              "      <td>0.021479</td>\n",
              "      <td>0.023029</td>\n",
              "      <td>0.022652</td>\n",
              "      <td>0.020846</td>\n",
              "      <td>0.020567</td>\n",
              "      <td>0.021772</td>\n",
              "      <td>0.022186</td>\n",
              "      <td>0.023255</td>\n",
              "      <td>0.024436</td>\n",
              "      <td>0.022657</td>\n",
              "      <td>0.020194</td>\n",
              "      <td>0.019508</td>\n",
              "      <td>0.018648</td>\n",
              "      <td>0.016907</td>\n",
              "      <td>0.016236</td>\n",
              "      <td>0.017126</td>\n",
              "      <td>0.017212</td>\n",
              "      <td>0.013901</td>\n",
              "      <td>1</td>\n",
              "      <td>7.982660</td>\n",
              "    </tr>\n",
              "    <tr>\n",
              "      <th>4</th>\n",
              "      <td>11.608390</td>\n",
              "      <td>10.456798</td>\n",
              "      <td>7.934045</td>\n",
              "      <td>5.786838</td>\n",
              "      <td>4.170480</td>\n",
              "      <td>3.224944</td>\n",
              "      <td>2.740215</td>\n",
              "      <td>2.349415</td>\n",
              "      <td>1.958827</td>\n",
              "      <td>1.607111</td>\n",
              "      <td>1.308273</td>\n",
              "      <td>1.094446</td>\n",
              "      <td>1.043282</td>\n",
              "      <td>1.209117</td>\n",
              "      <td>1.633459</td>\n",
              "      <td>2.360477</td>\n",
              "      <td>3.401965</td>\n",
              "      <td>4.608664</td>\n",
              "      <td>5.151809</td>\n",
              "      <td>4.256539</td>\n",
              "      <td>2.614861</td>\n",
              "      <td>1.457028</td>\n",
              "      <td>1.020486</td>\n",
              "      <td>0.910847</td>\n",
              "      <td>0.896932</td>\n",
              "      <td>0.884207</td>\n",
              "      <td>0.836849</td>\n",
              "      <td>0.775844</td>\n",
              "      <td>0.708736</td>\n",
              "      <td>0.648845</td>\n",
              "      <td>0.600528</td>\n",
              "      <td>0.542329</td>\n",
              "      <td>0.470181</td>\n",
              "      <td>0.423256</td>\n",
              "      <td>0.410798</td>\n",
              "      <td>0.413140</td>\n",
              "      <td>0.421245</td>\n",
              "      <td>0.418983</td>\n",
              "      <td>0.397065</td>\n",
              "      <td>0.360176</td>\n",
              "      <td>...</td>\n",
              "      <td>0.111252</td>\n",
              "      <td>0.109279</td>\n",
              "      <td>0.106344</td>\n",
              "      <td>0.105440</td>\n",
              "      <td>0.111025</td>\n",
              "      <td>0.113986</td>\n",
              "      <td>0.108479</td>\n",
              "      <td>0.103986</td>\n",
              "      <td>0.102399</td>\n",
              "      <td>0.093157</td>\n",
              "      <td>0.085754</td>\n",
              "      <td>0.094398</td>\n",
              "      <td>0.105060</td>\n",
              "      <td>0.101131</td>\n",
              "      <td>0.091100</td>\n",
              "      <td>0.090297</td>\n",
              "      <td>0.093152</td>\n",
              "      <td>0.092081</td>\n",
              "      <td>0.090758</td>\n",
              "      <td>0.091546</td>\n",
              "      <td>0.092549</td>\n",
              "      <td>0.090458</td>\n",
              "      <td>0.090128</td>\n",
              "      <td>0.093742</td>\n",
              "      <td>0.091682</td>\n",
              "      <td>0.088568</td>\n",
              "      <td>0.092612</td>\n",
              "      <td>0.098956</td>\n",
              "      <td>0.102336</td>\n",
              "      <td>0.097143</td>\n",
              "      <td>0.088040</td>\n",
              "      <td>0.084683</td>\n",
              "      <td>0.088784</td>\n",
              "      <td>0.095170</td>\n",
              "      <td>0.098684</td>\n",
              "      <td>0.094657</td>\n",
              "      <td>0.079672</td>\n",
              "      <td>0.056901</td>\n",
              "      <td>0</td>\n",
              "      <td>13.439082</td>\n",
              "    </tr>\n",
              "  </tbody>\n",
              "</table>\n",
              "<p>5 rows × 342 columns</p>\n",
              "</div>"
            ],
            "text/plain": [
              "   eyesclosed_psd_01dot00hz_average  ...        Age\n",
              "0                         13.252075  ...   6.728040\n",
              "1                         18.933153  ...   5.545744\n",
              "2                         22.622696  ...   7.475929\n",
              "3                          7.616088  ...   7.982660\n",
              "4                         11.608390  ...  13.439082\n",
              "\n",
              "[5 rows x 342 columns]"
            ]
          },
          "metadata": {
            "tags": []
          },
          "execution_count": 52
        }
      ]
    },
    {
      "cell_type": "code",
      "metadata": {
        "id": "Ao3whVMUod-a",
        "colab_type": "code",
        "outputId": "43eb5636-87fc-44f1-bef7-8bb19c021c83",
        "colab": {
          "base_uri": "https://localhost:8080/",
          "height": 731
        }
      },
      "source": [
        "results_acc_2={}\n",
        "results_bacc_2={}\n",
        "results_f1_2={}\n",
        "\n",
        "\n",
        "for disorder in y.columns.values:\n",
        "  print(\"===============\",disorder,\"===================\")\n",
        "  #x_=np.concatenate((x[y[disorder]==1].values,x[y_none].values),axis=0)\n",
        "  x_=np.concatenate((x[y[disorder]==1].values,x[y[disorder]==0].values),axis=0)\n",
        "  #y_=np.concatenate((np.ones(sum(y[disorder].values==1)),np.zeros(sum(y_none))),axis=0)\n",
        "  y_=np.concatenate((np.ones(sum(y[disorder].values==1)),np.zeros(sum(y[disorder].values==0))),axis=0)\n",
        "  print(\"Number of Subjects: \",y_.shape[0])\n",
        "  print(\"Positive: \",sum(y_==1))\n",
        "  print(\"Negative: \",sum(y_==0))\n",
        "  print()\n",
        "  \n",
        "  result=binary_classifier(x_,y_)\n",
        "  \n",
        "  results_acc_2[disorder]=[]\n",
        "  results_bacc_2[disorder]=[]\n",
        "  results_f1_2[disorder]=[]\n",
        "  for key,value in result.items():\n",
        "      results_acc_2[disorder].append((key,value[0]))\n",
        "      results_bacc_2[disorder].append((key,value[1]))\n",
        "      results_f1_2[disorder].append((key,value[2]))\n",
        "  print()\n",
        "\n",
        "  "
      ],
      "execution_count": 53,
      "outputs": [
        {
          "output_type": "stream",
          "text": [
            "=============== Attention-Deficit/Hyperactivity Disorder ===================\n",
            "Number of Subjects:  1254\n",
            "Positive:  738\n",
            "Negative:  516\n",
            "\n",
            "\n",
            "=============== Anxiety Disorders ===================\n",
            "Number of Subjects:  1254\n",
            "Positive:  301\n",
            "Negative:  953\n",
            "\n",
            "\n",
            "=============== Specific Learning Disorder ===================\n",
            "Number of Subjects:  1254\n",
            "Positive:  208\n",
            "Negative:  1046\n",
            "\n",
            "\n",
            "=============== Autism Spectrum Disorder ===================\n",
            "Number of Subjects:  1254\n",
            "Positive:  210\n",
            "Negative:  1044\n",
            "\n",
            "\n",
            "=============== Disruptive ===================\n",
            "Number of Subjects:  1254\n",
            "Positive:  203\n",
            "Negative:  1051\n",
            "\n",
            "\n",
            "=============== Communication Disorder ===================\n",
            "Number of Subjects:  1254\n",
            "Positive:  146\n",
            "Negative:  1108\n",
            "\n",
            "\n",
            "=============== Depressive Disorders ===================\n",
            "Number of Subjects:  1254\n",
            "Positive:  114\n",
            "Negative:  1140\n",
            "\n",
            "\n"
          ],
          "name": "stdout"
        }
      ]
    },
    {
      "cell_type": "markdown",
      "metadata": {
        "id": "e1dwXAMupiM6",
        "colab_type": "text"
      },
      "source": [
        "### EEG Spectro\n",
        "\n",
        "\n"
      ]
    },
    {
      "cell_type": "markdown",
      "metadata": {
        "id": "htWFWDjm2EvH",
        "colab_type": "text"
      },
      "source": [
        "Spectrogram-based features, such as frequency band, individual alpha power, and FOOOF parameters.\n",
        "\n"
      ]
    },
    {
      "cell_type": "code",
      "metadata": {
        "id": "Lej6cf646RWZ",
        "colab_type": "code",
        "colab": {}
      },
      "source": [
        "#y_none=eeg_spectro_labels[no_diagnosis_given].values==0\n",
        "y=eeg_spectro_labels[most_common_disorders]\n"
      ],
      "execution_count": 0,
      "outputs": []
    },
    {
      "cell_type": "code",
      "metadata": {
        "id": "oRSFx9d4ppOF",
        "colab_type": "code",
        "colab": {}
      },
      "source": [
        "#x=eeg_spectro_labels.drop(columns=[\"id\"]+list(most_common_disorders)+[no_diagnosis_given])\n",
        "x=eeg_spectro_labels.drop(columns=[\"id\"]+list(most_common_disorders))\n",
        "\n"
      ],
      "execution_count": 0,
      "outputs": []
    },
    {
      "cell_type": "code",
      "metadata": {
        "id": "LMLJ19feJ3pl",
        "colab_type": "code",
        "outputId": "e5d63c55-dff3-4769-852b-28821e22d732",
        "colab": {
          "base_uri": "https://localhost:8080/",
          "height": 34
        }
      },
      "source": [
        "x.shape"
      ],
      "execution_count": 56,
      "outputs": [
        {
          "output_type": "execute_result",
          "data": {
            "text/plain": [
              "(1254, 62)"
            ]
          },
          "metadata": {
            "tags": []
          },
          "execution_count": 56
        }
      ]
    },
    {
      "cell_type": "code",
      "metadata": {
        "id": "TGc1pbMSr9n8",
        "colab_type": "code",
        "outputId": "1e8d73f2-cf68-4fb0-b9f5-624bf8bd520e",
        "colab": {
          "base_uri": "https://localhost:8080/",
          "height": 221
        }
      },
      "source": [
        "# proportion of missing values per column with missing values\n",
        "missing=sum(x.isnull().values)/x.shape[0]\n",
        "for id,column in enumerate(x.columns.values):\n",
        "  if (missing[id]>0):\n",
        "    print(column,\": \",missing[id])\n",
        "\n",
        "x=x.drop(columns=x.columns[missing>0.2])"
      ],
      "execution_count": 57,
      "outputs": [
        {
          "output_type": "stream",
          "text": [
            "eyesclosed_alphapeak_max_freq :  0.1682615629984051\n",
            "eyesclosed_alphapeak_max_amplitude :  0.1682615629984051\n",
            "eyesclosed_alphapeak_derivative_freq :  0.15869218500797447\n",
            "eyesclosed_alphapeak_derivative_amplitude :  0.15869218500797447\n",
            "eyesclosed_fooof_peak_freq_average :  0.003189792663476874\n",
            "eyesclosed_fooof_peak_amplitude_average :  0.003189792663476874\n",
            "eyesopen_alphapeak_max_freq :  0.3277511961722488\n",
            "eyesopen_alphapeak_max_amplitude :  0.3277511961722488\n",
            "eyesopen_alphapeak_derivative_freq :  0.2703349282296651\n",
            "eyesopen_alphapeak_derivative_amplitude :  0.2703349282296651\n",
            "eyesopen_fooof_peak_freq_average :  0.004784688995215311\n",
            "eyesopen_fooof_peak_amplitude_average :  0.004784688995215311\n"
          ],
          "name": "stdout"
        }
      ]
    },
    {
      "cell_type": "code",
      "metadata": {
        "id": "YNvL5w8MrHZe",
        "colab_type": "code",
        "outputId": "3b842a97-ba97-4022-cfa4-61af596f8932",
        "colab": {
          "base_uri": "https://localhost:8080/",
          "height": 612
        }
      },
      "source": [
        "results_acc_3={}\n",
        "results_bacc_3={}\n",
        "results_f1_3={}\n",
        "\n",
        "\n",
        "for disorder in y.columns.values:\n",
        "  print(\"===============\",disorder,\"===================\")\n",
        "  #x_=np.concatenate((x[y[disorder]==1].values,x[y_none].values),axis=0)\n",
        "  x_=np.concatenate((x[y[disorder]==1].values,x[y[disorder]==0].values),axis=0)\n",
        "  #y_=np.concatenate((np.ones(sum(y[disorder].values==1)),np.zeros(sum(y_none))),axis=0)\n",
        "  y_=np.concatenate((np.ones(sum(y[disorder].values==1)),np.zeros(sum(y[disorder].values==0))),axis=0)\n",
        "  print(\"Number of Subjects: \",y_.shape[0])\n",
        "  print(\"Positive: \",sum(y_==1))\n",
        "  print(\"Negative: \",sum(y_==0))\n",
        "  print()\n",
        "  \n",
        "  result=binary_classifier(x_,y_)\n",
        "  \n",
        "  results_acc_3[disorder]=[]\n",
        "  results_bacc_3[disorder]=[]\n",
        "  results_f1_3[disorder]=[]\n",
        "  for key,value in result.items():\n",
        "      results_acc_3[disorder].append((key,value[0]))\n",
        "      results_bacc_3[disorder].append((key,value[1]))\n",
        "      results_f1_3[disorder].append((key,value[2]))\n",
        "  \n",
        " \n"
      ],
      "execution_count": 58,
      "outputs": [
        {
          "output_type": "stream",
          "text": [
            "=============== Attention-Deficit/Hyperactivity Disorder ===================\n",
            "Number of Subjects:  1254\n",
            "Positive:  738\n",
            "Negative:  516\n",
            "\n",
            "=============== Anxiety Disorders ===================\n",
            "Number of Subjects:  1254\n",
            "Positive:  301\n",
            "Negative:  953\n",
            "\n",
            "=============== Specific Learning Disorder ===================\n",
            "Number of Subjects:  1254\n",
            "Positive:  208\n",
            "Negative:  1046\n",
            "\n",
            "=============== Autism Spectrum Disorder ===================\n",
            "Number of Subjects:  1254\n",
            "Positive:  210\n",
            "Negative:  1044\n",
            "\n",
            "=============== Disruptive ===================\n",
            "Number of Subjects:  1254\n",
            "Positive:  203\n",
            "Negative:  1051\n",
            "\n",
            "=============== Communication Disorder ===================\n",
            "Number of Subjects:  1254\n",
            "Positive:  146\n",
            "Negative:  1108\n",
            "\n",
            "=============== Depressive Disorders ===================\n",
            "Number of Subjects:  1254\n",
            "Positive:  114\n",
            "Negative:  1140\n",
            "\n"
          ],
          "name": "stdout"
        }
      ]
    },
    {
      "cell_type": "markdown",
      "metadata": {
        "id": "bjade6dfBkyL",
        "colab_type": "text"
      },
      "source": [
        "### All together"
      ]
    },
    {
      "cell_type": "code",
      "metadata": {
        "id": "qvvew5DlBnI0",
        "colab_type": "code",
        "colab": {}
      },
      "source": [
        "all=eeg_mic.merge(eeg_psd,how='inner',on='id')\n",
        "all=all.merge(eeg_spectro,how='inner',on='id')\n",
        "all_labels=all.merge(labels,how='inner',left_on='id',right_on='EID')\n",
        "\n"
      ],
      "execution_count": 0,
      "outputs": []
    },
    {
      "cell_type": "code",
      "metadata": {
        "id": "ilYA_qNCCaP4",
        "colab_type": "code",
        "colab": {}
      },
      "source": [
        "#y_none=all_labels[no_diagnosis_given]==0\n",
        "y=all_labels[most_common_disorders]\n",
        "#x=all_labels.drop(columns=[\"id\"]+list(most_common_disorders)+[no_diagnosis_given])\n",
        "x=all_labels.drop(columns=[\"id\"]+list(most_common_disorders))\n",
        "x.drop(columns=[\"EID\"],inplace=True)\n",
        "\n"
      ],
      "execution_count": 0,
      "outputs": []
    },
    {
      "cell_type": "code",
      "metadata": {
        "id": "6-RSGkHSDptf",
        "colab_type": "code",
        "colab": {}
      },
      "source": [
        "missing=sum(x.isnull().values)/x.shape[0]\n",
        "x=x.drop(columns=x.columns[missing>0.2])\n"
      ],
      "execution_count": 0,
      "outputs": []
    },
    {
      "cell_type": "code",
      "metadata": {
        "id": "x3kFF5GOD5Wc",
        "colab_type": "code",
        "outputId": "9ffaf9de-6cf7-4757-f23a-158ca5ced19e",
        "colab": {
          "base_uri": "https://localhost:8080/",
          "height": 765
        }
      },
      "source": [
        "results_acc_all={}\n",
        "results_bacc_all={}\n",
        "results_f1_all={}\n",
        "\n",
        "\n",
        "for disorder in y.columns.values:\n",
        "  print(\"===============\",disorder,\"===================\")\n",
        "  #x_=np.concatenate((x[y[disorder]==1].values,x[y_none].values),axis=0)\n",
        "  x_=np.concatenate((x[y[disorder]==1].values,x[y[disorder]==0].values),axis=0)\n",
        "  #y_=np.concatenate((np.ones(sum(y[disorder].values==1)),np.zeros(sum(y_none))),axis=0)\n",
        "  y_=np.concatenate((np.ones(sum(y[disorder].values==1)),np.zeros(sum(y[disorder].values==0))),axis=0)\n",
        "  print(\"Number of Subjects: \",y_.shape[0])\n",
        "  print(\"Positive: \",sum(y_==1))\n",
        "  print(\"Negative: \",sum(y_==0))\n",
        "  print()\n",
        "\n",
        "  \n",
        "  result=binary_classifier(x_,y_)\n",
        "  \n",
        "  results_acc_all[disorder]=[]\n",
        "  results_bacc_all[disorder]=[]\n",
        "  results_f1_all[disorder]=[]\n",
        "  for key,value in result.items():\n",
        "      results_acc_all[disorder].append((key,value[0]))\n",
        "      results_bacc_all[disorder].append((key,value[1]))\n",
        "      results_f1_all[disorder].append((key,value[2]))\n",
        "  print()\n",
        "\n"
      ],
      "execution_count": 62,
      "outputs": [
        {
          "output_type": "stream",
          "text": [
            "=============== Attention-Deficit/Hyperactivity Disorder ===================\n",
            "Number of Subjects:  928\n",
            "Positive:  559\n",
            "Negative:  369\n",
            "\n",
            "\n",
            "=============== Anxiety Disorders ===================\n",
            "Number of Subjects:  928\n",
            "Positive:  213\n",
            "Negative:  715\n",
            "\n",
            "\n",
            "=============== Specific Learning Disorder ===================\n",
            "Number of Subjects:  928\n",
            "Positive:  148\n",
            "Negative:  780\n",
            "\n",
            "\n",
            "=============== Autism Spectrum Disorder ===================\n",
            "Number of Subjects:  928\n",
            "Positive:  153\n",
            "Negative:  775\n",
            "\n",
            "\n",
            "=============== Disruptive ===================\n",
            "Number of Subjects:  928\n",
            "Positive:  152\n",
            "Negative:  776\n",
            "\n",
            "\n",
            "=============== Communication Disorder ===================\n",
            "Number of Subjects:  928\n",
            "Positive:  108\n",
            "Negative:  820\n",
            "\n",
            "\n",
            "=============== Depressive Disorders ===================\n",
            "Number of Subjects:  928\n",
            "Positive:  88\n",
            "Negative:  840\n",
            "\n"
          ],
          "name": "stdout"
        },
        {
          "output_type": "stream",
          "text": [
            "/usr/local/lib/python3.6/dist-packages/sklearn/svm/base.py:929: ConvergenceWarning: Liblinear failed to converge, increase the number of iterations.\n",
            "  \"the number of iterations.\", ConvergenceWarning)\n"
          ],
          "name": "stderr"
        },
        {
          "output_type": "stream",
          "text": [
            "\n"
          ],
          "name": "stdout"
        }
      ]
    },
    {
      "cell_type": "markdown",
      "metadata": {
        "id": "2gYFhbSy4IQE",
        "colab_type": "text"
      },
      "source": [
        "## Results\n",
        "\n",
        "\n",
        "\n"
      ]
    },
    {
      "cell_type": "code",
      "metadata": {
        "id": "6Gqb9gmCqejy",
        "colab_type": "code",
        "colab": {}
      },
      "source": [
        "#Best scores per disorder \n",
        "#choose best classifier \n",
        "\n",
        "##Microstates\n",
        "#best raw \n",
        "best_f1_raw_microst=best_classifier(results_f1_1)\n",
        "\n",
        "\n",
        "\n",
        "##PSD\n",
        "#best raw \n",
        "best_f1_raw_psd=best_classifier(results_f1_2)\n",
        "\n",
        "\n",
        "\n",
        "##Spectro\n",
        "#best raw\n",
        "best_f1_raw_sp=best_classifier(results_f1_3)\n",
        "\n",
        "\n",
        "\n",
        "##All Together\n",
        "#best raw\n",
        "best_f1_raw_all=best_classifier(results_f1_all)\n",
        "\n"
      ],
      "execution_count": 0,
      "outputs": []
    },
    {
      "cell_type": "code",
      "metadata": {
        "id": "BIjst2ildndc",
        "colab_type": "code",
        "outputId": "52239fe5-4772-4d44-e732-5a239d832e77",
        "colab": {
          "base_uri": "https://localhost:8080/",
          "height": 369
        }
      },
      "source": [
        "best_micro_=best_f1_raw_microst\n",
        "best_psd_=best_f1_raw_psd\n",
        "best_spectro_=best_f1_raw_sp\n",
        "best_all_together_=best_f1_raw_all\n",
        "\n",
        "best_micro=[value[-1] for _,value in best_micro_.items()]\n",
        "best_micro_method=[value[0] for _,value in best_micro_.items()]\n",
        "best_psd=[value[-1] for _,value in best_psd_.items()]\n",
        "best_psd_method=[value[0] for _,value in best_psd_.items()]\n",
        "best_spectro=[value[-1] for _,value in best_spectro_.items()]\n",
        "best_spectro_method=[value[0] for _,value in best_spectro_.items()]\n",
        "best_all_together=[value[-1] for _,value in best_all_together_.items()]\n",
        "best_all_together_method=[value[0] for _,value in best_all_together_.items()]\n",
        "\n",
        "labels_=['Attention-Deficit/Hyperactivity\\nDisorder','Anxiety\\nDisorders','Specific Learning\\nDisorder','Autism Spectrum\\nDisorder',\\\n",
        "        'Disruptive','Communication\\nDisorder','Depressive\\nDisorders']\n",
        "\n",
        "x = np.arange(len(labels_))  # the label locations\n",
        "width = 1/(3.5+1)  # the width of the bars\n",
        "\n",
        "fig, ax = plt.subplots(figsize=(14, 5))\n",
        "rects1 = ax.bar(x , best_micro, width, label='EEG Microstate',color='b',)\n",
        "rects2 = ax.bar(x+ width , best_psd, width, label='EEG PSD',color='r')\n",
        "rects3 = ax.bar(x + 2*width, best_spectro, width, label='EEG Spectro',color='g')\n",
        "rects4= ax.bar(x + 3*width, best_all_together, width, label='All Together',color='black',alpha=0.6)\n",
        "\n",
        "# Add some text for labels, title and custom x-axis tick labels, etc.\n",
        "ax.set_ylabel('F1-Score')\n",
        "ax.set_title('Best Scores by Disorder and Features Type')\n",
        "ax.set_xticks(x+1.1*width)\n",
        "ax.set_xticklabels(labels_)\n",
        "ax.legend()\n",
        "\n",
        "\n",
        "def autolabel(rects,best):\n",
        "    \"\"\"Attach a text label above each bar in *rects*, displaying its height.\"\"\"\n",
        "    for i,rect in enumerate(rects):\n",
        "        height = rect.get_height()\n",
        "        ax.annotate('{:.3f}'.format(height),\n",
        "                    xy=(rect.get_x() + rect.get_width()/2 , height),\n",
        "                     xytext=(0, 5),  # 3 points vertical offset\n",
        "                     textcoords=\"offset points\",\n",
        "                     ha='center', va='bottom')\n",
        "        \n",
        "        ax.annotate('{:}'.format(best[i]),xy=(rect.get_x() + rect.get_width()/2-0.07 , 0.1))\n",
        "\n",
        "\n",
        "\n",
        "autolabel(rects1,best_micro_method)\n",
        "autolabel(rects2,best_psd_method)\n",
        "autolabel(rects3,best_spectro_method)\n",
        "autolabel(rects4,best_all_together_method)\n",
        "\n",
        "\n",
        "plt.ylim([0.02, 1])\n",
        "\n",
        "\n",
        "\n",
        "fig.tight_layout()\n",
        "\n",
        "\n",
        "plt.show()\n",
        "\n",
        "\n"
      ],
      "execution_count": 65,
      "outputs": [
        {
          "output_type": "display_data",
          "data": {
            "image/png": "[encoded data removed]",
            "text/plain": [
              "<Figure size 1008x360 with 1 Axes>"
            ]
          },
          "metadata": {
            "tags": []
          }
        }
      ]
    },
    {
      "cell_type": "markdown",
      "metadata": {
        "id": "HPjDxyg8P1p6",
        "colab_type": "text"
      },
      "source": [
        "### Repeated cross validation\n",
        "\n"
      ]
    },
    {
      "cell_type": "code",
      "metadata": {
        "id": "P6jVErAvbRJQ",
        "colab_type": "code",
        "colab": {}
      },
      "source": [
        "#best classifiers per problem\n",
        "micro_best=['rf','lgr','lgr','lgr','lgr','lgr','lgr']\n",
        "psd_best=['rf','lgr','lgr','lgr','lgr','lgr','lgr']\n",
        "spectro_best=['rf','lgr','lgr','lgr','lgr','lgr','lgr']\n",
        "all_best=['rf','lgr','lgr','lgr','lgr','lgr','lgr']\n",
        "\n",
        "\n"
      ],
      "execution_count": 0,
      "outputs": []
    },
    {
      "cell_type": "code",
      "metadata": {
        "id": "3VrrOK07ZlSj",
        "colab_type": "code",
        "colab": {}
      },
      "source": [
        "def classify(x,y,cv,classifiers=['lgr','rf','svm'],C=20,train_all_available=False):\n",
        "  \n",
        "  x_=x.drop(columns=[\"id\"])\n",
        "\n",
        "  logistic='lgr' in classifiers\n",
        "  ranfor='rf' in classifiers\n",
        "  suve='svm' in classifiers\n",
        "  results={}\n",
        "  \n",
        "\n",
        "  if logistic:\n",
        "    lgc=lg(C=C,class_weight='balanced',max_iter=2000,solver='liblinear')\n",
        "    y_pred_lgc=np.zeros(y.shape[0])\n",
        "  if ranfor:\n",
        "    rfc=rf(n_estimators=100,max_depth=5,class_weight='balanced')\n",
        "    y_pred_rfc=np.zeros(y.shape[0])\n",
        "  \n",
        "  if suve:    \n",
        "    svmc=svm(C=C,class_weight='balanced')\n",
        "    y_pred_svmc=np.zeros(y.shape[0])\n",
        "  \n",
        "  \n",
        "  for fold in cv:\n",
        "        \n",
        "    test_id=[id for id in fold]\n",
        "    test_index=[id in test_id for id in x['id'].values]\n",
        "    train_index=[not id for id in test_index]\n",
        "    \n",
        "    x_train, x_test = x_[train_index], x_[test_index]\n",
        "    y_train = y[train_index]\n",
        "\n",
        "    #fill missing values with mean\n",
        "    x_train=x_train.fillna(x_train.mean(axis=0))\n",
        "    x_test=x_test.fillna(x_train.mean(axis=0))\n",
        "    \n",
        "    if logistic:\n",
        "      lgc.fit(x_train, y_train)\n",
        "      y_pred_lgc[test_index] = lgc.predict(x_test)\n",
        "    if ranfor:\n",
        "      rfc.fit(x_train, y_train)\n",
        "      y_pred_rfc[test_index]= rfc.predict(x_test)\n",
        "    if suve:\n",
        "      svmc.fit(x_train, y_train)\n",
        "      y_pred_svmc[test_index]= svmc.predict(x_test)\n",
        "\n",
        "  if train_all_available:\n",
        "    cvs=[i for f in cv for i in f]\n",
        "    test_ids=[id in cvs for id in x['id'].values]\n",
        "    y=y[test_ids]\n",
        "    if logistic:\n",
        "      y_pred_lgc=y_pred_lgc[test_ids]\n",
        "    if ranfor:\n",
        "      y_pred_rfc=y_pred_rfc[test_ids]\n",
        "    if suve:\n",
        "      y_pred_svmc=y_pred_svmc[test_ids]\n",
        "    \n",
        "\n",
        "  if logistic:\n",
        "    acc=accuracy_score(y,y_pred_lgc)\n",
        "    bacc=balanced_accuracy_score(y,y_pred_lgc)\n",
        "    mr=f1_score(y,y_pred_lgc)\n",
        "    cof_m=confusion_matrix(y,y_pred_lgc)\n",
        "    results['lgr']=[acc,bacc,mr,cof_m]\n",
        "\n",
        "  if ranfor:\n",
        "    acc=accuracy_score(y,y_pred_rfc)\n",
        "    bacc=balanced_accuracy_score(y,y_pred_rfc)\n",
        "    mr=f1_score(y,y_pred_rfc)\n",
        "    cof_m=confusion_matrix(y,y_pred_rfc)\n",
        "    results['rf']=[acc,bacc,mr,cof_m]\n",
        "\n",
        "  if suve:\n",
        "    acc=accuracy_score(y,y_pred_svmc)\n",
        "    bacc=balanced_accuracy_score(y,y_pred_svmc)\n",
        "    mr=f1_score(y,y_pred_svmc)\n",
        "    cof_m=confusion_matrix(y,y_pred_svmc)\n",
        "    results['svm']=[acc,bacc,mr,cof_m]  \n",
        "\n",
        "  return results  \n",
        "\n",
        " "
      ],
      "execution_count": 0,
      "outputs": []
    },
    {
      "cell_type": "code",
      "metadata": {
        "id": "LCTpEr07_6df",
        "colab_type": "code",
        "colab": {}
      },
      "source": [
        "#fix cross validation 404 subjects\n",
        "import pickle\n",
        "\n",
        "# load it again\n",
        "with open('cross_validation_splits.pkl', 'rb') as fid:\n",
        "    cross_validation_splits = pickle.load(fid)"
      ],
      "execution_count": 0,
      "outputs": []
    },
    {
      "cell_type": "markdown",
      "metadata": {
        "id": "ZPswYU12SElz",
        "colab_type": "text"
      },
      "source": [
        "### Train and Test only on common subjects\n",
        "\n"
      ]
    },
    {
      "cell_type": "markdown",
      "metadata": {
        "id": "TuuxcsGAU69f",
        "colab_type": "text"
      },
      "source": [
        "We refer to common subjects as those patients which are present for Behavioral, EEG and MRI data.\n"
      ]
    },
    {
      "cell_type": "code",
      "metadata": {
        "id": "hhDj043yeRjm",
        "colab_type": "code",
        "colab": {}
      },
      "source": [
        "common_subjects=[sub for lst in cross_validation_splits[0] for sub in lst ]"
      ],
      "execution_count": 0,
      "outputs": []
    },
    {
      "cell_type": "code",
      "metadata": {
        "id": "v-3t8D_XgIsk",
        "colab_type": "code",
        "colab": {}
      },
      "source": [
        "#keep common subjects\n",
        "index_mic=[]\n",
        "for id in eeg_mic_labels['id']:\n",
        "  index_mic.append(id in common_subjects)\n",
        "\n",
        "index_psd=[]\n",
        "for id in eeg_psd_labels['id']:\n",
        "  index_psd.append(id in common_subjects)\n",
        "\n",
        "index_spectro=[]\n",
        "for id in eeg_spectro_labels['id']:\n",
        "  index_spectro.append(id in common_subjects)\n",
        "\n",
        "index_all=[]\n",
        "for id in all_labels['id']:\n",
        "  index_all.append(id in common_subjects)"
      ],
      "execution_count": 0,
      "outputs": []
    },
    {
      "cell_type": "code",
      "metadata": {
        "id": "6PH-shcVdjRC",
        "colab_type": "code",
        "colab": {}
      },
      "source": [
        "eeg_mic_common=eeg_mic_labels[index_mic]\n",
        "eeg_psd_common=eeg_psd_labels[index_psd]\n",
        "eeg_spectro_common=eeg_spectro_labels[index_spectro]\n",
        "eeg_all_common=all_labels[index_all]"
      ],
      "execution_count": 0,
      "outputs": []
    },
    {
      "cell_type": "code",
      "metadata": {
        "id": "wvELpmq5miEa",
        "colab_type": "code",
        "colab": {}
      },
      "source": [
        "#Microstate\n",
        "\n",
        "y=eeg_mic_common[most_common_disorders]\n",
        "x=eeg_mic_common.drop(columns=list(most_common_disorders))\n",
        "\n",
        "\n",
        "results_1={}\n",
        "\n",
        "\n",
        "for i,disorder in enumerate(y.columns.values):\n",
        "\n",
        "  y_=y[disorder].values\n",
        "  \n",
        "  clf=micro_best[i]\n",
        "\n",
        "  results_1[disorder]=[]\n",
        "  \n",
        "  for cv in cross_validation_splits:      \n",
        "        classifier=classify(x,y_,cv,clf)\n",
        "        results_1[disorder].append(classifier)\n",
        "\n"
      ],
      "execution_count": 0,
      "outputs": []
    },
    {
      "cell_type": "code",
      "metadata": {
        "id": "5iy3L-3D4CEI",
        "colab_type": "code",
        "colab": {}
      },
      "source": [
        "accuracy_1_rep={}\n",
        "bacc_1_rep={}\n",
        "f1_1_rep={}\n",
        "\n",
        "for dis in y.columns.values:\n",
        "  keep=results_1[dis]\n",
        "  accuracy_1_rep[dis]=[]\n",
        "  bacc_1_rep[dis]=[]\n",
        "  f1_1_rep[dis]=[]\n",
        "  for values in keep:\n",
        "    for _,val in values.items():\n",
        "      accuracy_1_rep[dis].append(val[0])\n",
        "      bacc_1_rep[dis].append(val[1])\n",
        "      f1_1_rep[dis].append(val[2])\n",
        "\n",
        "mean_f1_1_rep={}\n",
        "mean_bacc_1_rep={}\n",
        "mean_acc_1_rep={}\n",
        "\n",
        "for dis in y.columns.values:\n",
        "  keep_f1=f1_1_rep[dis]\n",
        "  keep_acc=accuracy_1_rep[dis]\n",
        "  keep_bacc=bacc_1_rep[dis]\n",
        "\n",
        "  mean_f1_1_rep[dis]=np.mean(keep_f1)\n",
        "  mean_bacc_1_rep[dis]=np.mean(keep_acc)\n",
        "  mean_acc_1_rep[dis]=np.mean(keep_bacc)\n",
        "\n"
      ],
      "execution_count": 0,
      "outputs": []
    },
    {
      "cell_type": "code",
      "metadata": {
        "id": "k-BguUWm8D8n",
        "colab_type": "code",
        "colab": {}
      },
      "source": [
        "#psd\n",
        "\n",
        "\n",
        "y=eeg_psd_common[most_common_disorders]\n",
        "x=eeg_psd_common.drop(columns=list(most_common_disorders))\n",
        "\n",
        "\n",
        "results_2={}\n",
        "\n",
        "\n",
        "for i,disorder in enumerate(y.columns.values):\n",
        "\n",
        "  y_=y[disorder].values\n",
        "  \n",
        "  clf=psd_best[i]\n",
        "\n",
        "  results_2[disorder]=[]\n",
        "  \n",
        "  for cv in cross_validation_splits:      \n",
        "        classifier=classify(x,y_,cv,clf)\n",
        "        results_2[disorder].append(classifier)\n",
        "\n",
        "\n",
        "\n"
      ],
      "execution_count": 0,
      "outputs": []
    },
    {
      "cell_type": "code",
      "metadata": {
        "id": "POlEolk-HLvp",
        "colab_type": "code",
        "colab": {}
      },
      "source": [
        "accuracy_2_rep={}\n",
        "bacc_2_rep={}\n",
        "f1_2_rep={}\n",
        "\n",
        "for dis in y.columns.values:\n",
        "  keep=results_2[dis]\n",
        "  accuracy_2_rep[dis]=[]\n",
        "  bacc_2_rep[dis]=[]\n",
        "  f1_2_rep[dis]=[]\n",
        "  for values in keep:\n",
        "    for _,val in values.items():\n",
        "      accuracy_2_rep[dis].append(val[0])\n",
        "      bacc_2_rep[dis].append(val[1])\n",
        "      f1_2_rep[dis].append(val[2])\n",
        "\n",
        "mean_f1_2_rep={}\n",
        "mean_bacc_2_rep={}\n",
        "mean_acc_2_rep={}\n",
        "\n",
        "for dis in y.columns.values:\n",
        "  keep_f1=f1_2_rep[dis]\n",
        "  keep_acc=accuracy_2_rep[dis]\n",
        "  keep_bacc=bacc_2_rep[dis]\n",
        "\n",
        "  mean_f1_2_rep[dis]=np.mean(keep_f1)\n",
        "  mean_bacc_2_rep[dis]=np.mean(keep_acc)\n",
        "  mean_acc_2_rep[dis]=np.mean(keep_bacc)\n",
        "\n"
      ],
      "execution_count": 0,
      "outputs": []
    },
    {
      "cell_type": "code",
      "metadata": {
        "id": "cRJEeK0SHqui",
        "colab_type": "code",
        "colab": {}
      },
      "source": [
        "x=eeg_spectro_common.drop(columns=list(most_common_disorders))\n"
      ],
      "execution_count": 0,
      "outputs": []
    },
    {
      "cell_type": "code",
      "metadata": {
        "id": "stMbudUNHdpv",
        "colab_type": "code",
        "outputId": "b956866f-c20e-4453-cf0e-cb767effbc7a",
        "colab": {
          "base_uri": "https://localhost:8080/",
          "height": 221
        }
      },
      "source": [
        "#spectro\n",
        "y=eeg_spectro_common[most_common_disorders]\n",
        "x=eeg_spectro_common.drop(columns=list(most_common_disorders))\n",
        "\n",
        "missing=sum(x.isnull().values)/x.shape[0]\n",
        "for id,column in enumerate(x.columns.values):\n",
        "  if (missing[id]>0):\n",
        "    print(column,\": \",missing[id])\n",
        "\n",
        "x=x.drop(columns=x.columns[missing>0.25])\n",
        "\n",
        "\n",
        "results_3={}\n",
        "\n",
        "\n",
        "for i,disorder in enumerate(y.columns.values):\n",
        "\n",
        "  y_=y[disorder].values\n",
        "  \n",
        "  clf=spectro_best[i]\n",
        "\n",
        "  results_3[disorder]=[]\n",
        "  \n",
        "  for cv in cross_validation_splits:      \n",
        "        classifier=classify(x,y_,cv,clf)\n",
        "        results_3[disorder].append(classifier)\n",
        "\n",
        "\n"
      ],
      "execution_count": 78,
      "outputs": [
        {
          "output_type": "stream",
          "text": [
            "eyesclosed_alphapeak_max_freq :  0.11138613861386139\n",
            "eyesclosed_alphapeak_max_amplitude :  0.11138613861386139\n",
            "eyesclosed_alphapeak_derivative_freq :  0.11386138613861387\n",
            "eyesclosed_alphapeak_derivative_amplitude :  0.11386138613861387\n",
            "eyesclosed_fooof_peak_freq_average :  0.0024752475247524753\n",
            "eyesclosed_fooof_peak_amplitude_average :  0.0024752475247524753\n",
            "eyesopen_alphapeak_max_freq :  0.2747524752475248\n",
            "eyesopen_alphapeak_max_amplitude :  0.2747524752475248\n",
            "eyesopen_alphapeak_derivative_freq :  0.2202970297029703\n",
            "eyesopen_alphapeak_derivative_amplitude :  0.2202970297029703\n",
            "eyesopen_fooof_peak_freq_average :  0.0049504950495049506\n",
            "eyesopen_fooof_peak_amplitude_average :  0.0049504950495049506\n"
          ],
          "name": "stdout"
        }
      ]
    },
    {
      "cell_type": "code",
      "metadata": {
        "id": "D3ySt30fJZ5G",
        "colab_type": "code",
        "colab": {}
      },
      "source": [
        "accuracy_3_rep={}\n",
        "bacc_3_rep={}\n",
        "f1_3_rep={}\n",
        "\n",
        "for dis in y.columns.values:\n",
        "  keep=results_3[dis]\n",
        "  accuracy_3_rep[dis]=[]\n",
        "  bacc_3_rep[dis]=[]\n",
        "  f1_3_rep[dis]=[]\n",
        "  for values in keep:\n",
        "    for _,val in values.items():\n",
        "      accuracy_3_rep[dis].append(val[0])\n",
        "      bacc_3_rep[dis].append(val[1])\n",
        "      f1_3_rep[dis].append(val[2])\n",
        "\n",
        "mean_f1_3_rep={}\n",
        "mean_bacc_3_rep={}\n",
        "mean_acc_3_rep={}\n",
        "\n",
        "for dis in y.columns.values:\n",
        "  keep_f1=f1_3_rep[dis]\n",
        "  keep_acc=accuracy_3_rep[dis]\n",
        "  keep_bacc=bacc_3_rep[dis]\n",
        "\n",
        "  mean_f1_3_rep[dis]=np.mean(keep_f1)\n",
        "  mean_bacc_3_rep[dis]=np.mean(keep_acc)\n",
        "  mean_acc_3_rep[dis]=np.mean(keep_bacc)\n",
        "\n"
      ],
      "execution_count": 0,
      "outputs": []
    },
    {
      "cell_type": "code",
      "metadata": {
        "id": "bygtxKJxJzom",
        "colab_type": "code",
        "outputId": "3f236937-a4c9-4cc7-a400-f0aaea330429",
        "colab": {
          "base_uri": "https://localhost:8080/",
          "height": 357
        }
      },
      "source": [
        "#all together\n",
        "\n",
        "\n",
        "y=eeg_all_common[most_common_disorders]\n",
        "x=eeg_all_common.drop(columns=list(most_common_disorders))\n",
        "x.drop(columns=[\"EID\"],inplace=True)\n",
        "\n",
        "missing=sum(x.isnull().values)/x.shape[0]\n",
        "for id,column in enumerate(x.columns.values):\n",
        "  if (missing[id]>0):\n",
        "    print(column,\": \",missing[id])\n",
        "\n",
        "x=x.drop(columns=x.columns[missing>0.25])\n",
        "\n",
        "results_all={}\n",
        "\n",
        "for i,disorder in enumerate(y.columns.values):\n",
        "\n",
        "  y_=y[disorder].values\n",
        "  \n",
        "  clf=all_best[i]\n",
        "\n",
        "  results_all[disorder]=[]\n",
        "  \n",
        "  for cv in cross_validation_splits:      \n",
        "        classifier=classify(x,y_,cv,clf)\n",
        "        results_all[disorder].append(classifier)\n",
        "\n",
        "\n"
      ],
      "execution_count": 80,
      "outputs": [
        {
          "output_type": "stream",
          "text": [
            "eyesclosed_microstates_gfp_prototype1 :  0.007425742574257425\n",
            "eyesclosed_microstates_gfp_prototype2 :  0.0024752475247524753\n",
            "eyesclosed_microstates_gfp_prototype3 :  0.0024752475247524753\n",
            "eyesclosed_microstates_gfp_prototype4 :  0.0049504950495049506\n",
            "eyesclosed_microstates_mspatcorr_prototype1 :  0.007425742574257425\n",
            "eyesclosed_microstates_mspatcorr_prototype2 :  0.0024752475247524753\n",
            "eyesclosed_microstates_mspatcorr_prototype3 :  0.0024752475247524753\n",
            "eyesclosed_microstates_mspatcorr_prototype4 :  0.0049504950495049506\n",
            "eyesclosed_alphapeak_max_freq :  0.11138613861386139\n",
            "eyesclosed_alphapeak_max_amplitude :  0.11138613861386139\n",
            "eyesclosed_alphapeak_derivative_freq :  0.11386138613861387\n",
            "eyesclosed_alphapeak_derivative_amplitude :  0.11386138613861387\n",
            "eyesclosed_fooof_peak_freq_average :  0.0024752475247524753\n",
            "eyesclosed_fooof_peak_amplitude_average :  0.0024752475247524753\n",
            "eyesopen_alphapeak_max_freq :  0.2747524752475248\n",
            "eyesopen_alphapeak_max_amplitude :  0.2747524752475248\n",
            "eyesopen_alphapeak_derivative_freq :  0.2202970297029703\n",
            "eyesopen_alphapeak_derivative_amplitude :  0.2202970297029703\n",
            "eyesopen_fooof_peak_freq_average :  0.0049504950495049506\n",
            "eyesopen_fooof_peak_amplitude_average :  0.0049504950495049506\n"
          ],
          "name": "stdout"
        }
      ]
    },
    {
      "cell_type": "code",
      "metadata": {
        "id": "C5EJDpyhMucv",
        "colab_type": "code",
        "colab": {}
      },
      "source": [
        "accuracy_all_rep={}\n",
        "bacc_all_rep={}\n",
        "f1_all_rep={}\n",
        "\n",
        "for dis in y.columns.values:\n",
        "  keep=results_all[dis]\n",
        "  accuracy_all_rep[dis]=[]\n",
        "  bacc_all_rep[dis]=[]\n",
        "  f1_all_rep[dis]=[]\n",
        "  for values in keep:\n",
        "    for _,val in values.items():\n",
        "      accuracy_all_rep[dis].append(val[0])\n",
        "      bacc_all_rep[dis].append(val[1])\n",
        "      f1_all_rep[dis].append(val[2])\n",
        "\n",
        "mean_f1_all_rep={}\n",
        "mean_bacc_all_rep={}\n",
        "mean_acc_all_rep={}\n",
        "\n",
        "for dis in y.columns.values:\n",
        "  keep_f1=f1_all_rep[dis]\n",
        "  keep_acc=accuracy_all_rep[dis]\n",
        "  keep_bacc=bacc_all_rep[dis]\n",
        "\n",
        "  mean_f1_all_rep[dis]=np.mean(keep_f1)\n",
        "  mean_bacc_all_rep[dis]=np.mean(keep_acc)\n",
        "  mean_acc_all_rep[dis]=np.mean(keep_bacc)\n",
        "\n"
      ],
      "execution_count": 0,
      "outputs": []
    },
    {
      "cell_type": "code",
      "metadata": {
        "id": "mDV9EKzAo3dt",
        "colab_type": "code",
        "colab": {}
      },
      "source": [
        "common_cv_rep={'acc1':accuracy_1_rep,'bacc1':bacc_1_rep,'f1_1':f1_1_rep,\n",
        "                 'acc2':accuracy_2_rep,'bacc2':bacc_2_rep,'f1_2':f1_2_rep,\\\n",
        "                 'acc3':accuracy_3_rep,'bacc3':bacc_3_rep,'f1_3':f1_3_rep,\\\n",
        "                 'acc_all':accuracy_all_rep,'bacc_all':bacc_all_rep,'f1_all':f1_all_rep}\n",
        "\n",
        "\n",
        "with open('common_rep_cv_results.pickle','wb') as file:\n",
        "  pickle.dump(common_cv_rep,file)"
      ],
      "execution_count": 0,
      "outputs": []
    },
    {
      "cell_type": "markdown",
      "metadata": {
        "id": "ehyohFjMO2Ow",
        "colab_type": "text"
      },
      "source": [
        "### Train on available subjects, Test on common subjects\n",
        "\n"
      ]
    },
    {
      "cell_type": "markdown",
      "metadata": {
        "id": "zuz-uRYoVNNm",
        "colab_type": "text"
      },
      "source": [
        "The available subjects are those patients who are present at the EEG data but not at Behabvioral and MRI data."
      ]
    },
    {
      "cell_type": "code",
      "metadata": {
        "id": "mjsSwgyoPAdv",
        "colab_type": "code",
        "colab": {}
      },
      "source": [
        "#Microstate\n",
        "\n",
        "y=eeg_mic_labels[most_common_disorders]\n",
        "x=eeg_mic_labels.drop(columns=list(most_common_disorders))\n",
        "\n",
        "\n",
        "results_1_avail={}\n",
        "\n",
        "\n",
        "for i,disorder in enumerate(y.columns.values):\n",
        "\n",
        "  y_=y[disorder].values\n",
        "  \n",
        "  clf=micro_best[i]\n",
        "\n",
        "  results_1_avail[disorder]=[]\n",
        "  \n",
        "  for cv in cross_validation_splits:      \n",
        "        classifier=classify(x,y_,cv,clf,train_all_available=True)\n",
        "        results_1_avail[disorder].append(classifier)\n",
        "\n"
      ],
      "execution_count": 0,
      "outputs": []
    },
    {
      "cell_type": "code",
      "metadata": {
        "id": "WubVjkGnPAi1",
        "colab_type": "code",
        "colab": {}
      },
      "source": [
        "accuracy_1_rep_avail={}\n",
        "bacc_1_rep_avail={}\n",
        "f1_1_rep_avail={}\n",
        "\n",
        "for dis in y.columns.values:\n",
        "  keep=results_1_avail[dis]\n",
        "  accuracy_1_rep_avail[dis]=[]\n",
        "  bacc_1_rep_avail[dis]=[]\n",
        "  f1_1_rep_avail[dis]=[]\n",
        "  for values in keep:\n",
        "    for _,val in values.items():\n",
        "      accuracy_1_rep_avail[dis].append(val[0])\n",
        "      bacc_1_rep_avail[dis].append(val[1])\n",
        "      f1_1_rep_avail[dis].append(val[2])\n",
        "\n",
        "mean_f1_1_rep_avail={}\n",
        "mean_bacc_1_rep_avail={}\n",
        "mean_acc_1_rep_avail={}\n",
        "\n",
        "for dis in y.columns.values:\n",
        "  keep_f1=f1_1_rep_avail[dis]\n",
        "  keep_acc=accuracy_1_rep_avail[dis]\n",
        "  keep_bacc=bacc_1_rep_avail[dis]\n",
        "\n",
        "  mean_f1_1_rep_avail[dis]=np.mean(keep_f1)\n",
        "  mean_bacc_1_rep_avail[dis]=np.mean(keep_acc)\n",
        "  mean_acc_1_rep_avail[dis]=np.mean(keep_bacc)\n",
        "\n"
      ],
      "execution_count": 0,
      "outputs": []
    },
    {
      "cell_type": "code",
      "metadata": {
        "id": "rPo9LHq0PAn7",
        "colab_type": "code",
        "colab": {}
      },
      "source": [
        "#PSD\n",
        "\n",
        "y=eeg_psd_labels[most_common_disorders]\n",
        "x=eeg_psd_labels.drop(columns=list(most_common_disorders))\n",
        "\n",
        "\n",
        "results_2_avail={}\n",
        "\n",
        "\n",
        "for i,disorder in enumerate(y.columns.values):\n",
        "\n",
        "  y_=y[disorder].values\n",
        "  \n",
        "  clf=psd_best[i]\n",
        "\n",
        "  results_2_avail[disorder]=[]\n",
        "  \n",
        "  for cv in cross_validation_splits:      \n",
        "        classifier=classify(x,y_,cv,clf,train_all_available=True)\n",
        "        results_2_avail[disorder].append(classifier)\n",
        "\n"
      ],
      "execution_count": 0,
      "outputs": []
    },
    {
      "cell_type": "code",
      "metadata": {
        "id": "0MLP1FVEPAtI",
        "colab_type": "code",
        "colab": {}
      },
      "source": [
        "accuracy_2_rep_avail={}\n",
        "bacc_2_rep_avail={}\n",
        "f1_2_rep_avail={}\n",
        "\n",
        "for dis in y.columns.values:\n",
        "  keep=results_2_avail[dis]\n",
        "  accuracy_2_rep_avail[dis]=[]\n",
        "  bacc_2_rep_avail[dis]=[]\n",
        "  f1_2_rep_avail[dis]=[]\n",
        "  for values in keep:\n",
        "    for _,val in values.items():\n",
        "      accuracy_2_rep_avail[dis].append(val[0])\n",
        "      bacc_2_rep_avail[dis].append(val[1])\n",
        "      f1_2_rep_avail[dis].append(val[2])\n",
        "\n",
        "mean_f1_2_rep_avail={}\n",
        "mean_bacc_2_rep_avail={}\n",
        "mean_acc_2_rep_avail={}\n",
        "\n",
        "for dis in y.columns.values:\n",
        "  keep_f1=f1_2_rep_avail[dis]\n",
        "  keep_acc=accuracy_2_rep_avail[dis]\n",
        "  keep_bacc=bacc_2_rep_avail[dis]\n",
        "\n",
        "  mean_f1_2_rep_avail[dis]=np.mean(keep_f1)\n",
        "  mean_bacc_2_rep_avail[dis]=np.mean(keep_acc)\n",
        "  mean_acc_2_rep_avail[dis]=np.mean(keep_bacc)\n",
        "\n"
      ],
      "execution_count": 0,
      "outputs": []
    },
    {
      "cell_type": "code",
      "metadata": {
        "id": "oP1yKbLLPAya",
        "colab_type": "code",
        "outputId": "b7b024fa-bc01-47cd-d1d0-9c66452e2f09",
        "colab": {
          "base_uri": "https://localhost:8080/",
          "height": 221
        }
      },
      "source": [
        "#Spectro\n",
        "\n",
        "y=eeg_spectro_labels[most_common_disorders]\n",
        "x=eeg_spectro_labels.drop(columns=list(most_common_disorders))\n",
        "\n",
        "missing=sum(x.isnull().values)/x.shape[0]\n",
        "for id,column in enumerate(x.columns.values):\n",
        "  if (missing[id]>0):\n",
        "    print(column,\": \",missing[id])\n",
        "\n",
        "x=x.drop(columns=x.columns[missing>0.25])\n",
        "\n",
        "results_3_avail={}\n",
        "\n",
        "\n",
        "for i,disorder in enumerate(y.columns.values):\n",
        "\n",
        "  y_=y[disorder].values\n",
        "  \n",
        "  clf=spectro_best[i]\n",
        "\n",
        "  results_3_avail[disorder]=[]\n",
        "  \n",
        "  for cv in cross_validation_splits:      \n",
        "        classifier=classify(x,y_,cv,clf,train_all_available=True)\n",
        "        results_3_avail[disorder].append(classifier)\n",
        "\n"
      ],
      "execution_count": 0,
      "outputs": [
        {
          "output_type": "stream",
          "text": [
            "eyesclosed_alphapeak_max_freq :  0.1682615629984051\n",
            "eyesclosed_alphapeak_max_amplitude :  0.1682615629984051\n",
            "eyesclosed_alphapeak_derivative_freq :  0.15869218500797447\n",
            "eyesclosed_alphapeak_derivative_amplitude :  0.15869218500797447\n",
            "eyesclosed_fooof_peak_freq_average :  0.003189792663476874\n",
            "eyesclosed_fooof_peak_amplitude_average :  0.003189792663476874\n",
            "eyesopen_alphapeak_max_freq :  0.3277511961722488\n",
            "eyesopen_alphapeak_max_amplitude :  0.3277511961722488\n",
            "eyesopen_alphapeak_derivative_freq :  0.2703349282296651\n",
            "eyesopen_alphapeak_derivative_amplitude :  0.2703349282296651\n",
            "eyesopen_fooof_peak_freq_average :  0.004784688995215311\n",
            "eyesopen_fooof_peak_amplitude_average :  0.004784688995215311\n"
          ],
          "name": "stdout"
        }
      ]
    },
    {
      "cell_type": "code",
      "metadata": {
        "id": "mliNf_7wPA3f",
        "colab_type": "code",
        "colab": {}
      },
      "source": [
        "accuracy_3_rep_avail={}\n",
        "bacc_3_rep_avail={}\n",
        "f1_3_rep_avail={}\n",
        "\n",
        "for dis in y.columns.values:\n",
        "  keep=results_3_avail[dis]\n",
        "  accuracy_3_rep_avail[dis]=[]\n",
        "  bacc_3_rep_avail[dis]=[]\n",
        "  f1_3_rep_avail[dis]=[]\n",
        "  for values in keep:\n",
        "    for _,val in values.items():\n",
        "      accuracy_3_rep_avail[dis].append(val[0])\n",
        "      bacc_3_rep_avail[dis].append(val[1])\n",
        "      f1_3_rep_avail[dis].append(val[2])\n",
        "\n",
        "mean_f1_3_rep_avail={}\n",
        "mean_bacc_3_rep_avail={}\n",
        "mean_acc_3_rep_avail={}\n",
        "\n",
        "for dis in y.columns.values:\n",
        "  keep_f1=f1_3_rep_avail[dis]\n",
        "  keep_acc=accuracy_3_rep_avail[dis]\n",
        "  keep_bacc=bacc_3_rep_avail[dis]\n",
        "\n",
        "  mean_f1_3_rep_avail[dis]=np.mean(keep_f1)\n",
        "  mean_bacc_3_rep_avail[dis]=np.mean(keep_acc)\n",
        "  mean_acc_3_rep_avail[dis]=np.mean(keep_bacc)\n",
        "\n"
      ],
      "execution_count": 0,
      "outputs": []
    },
    {
      "cell_type": "code",
      "metadata": {
        "id": "ZhMrHm9KRGrN",
        "colab_type": "code",
        "outputId": "d949f46d-91f3-45a0-cafd-351e9b0fe352",
        "colab": {
          "base_uri": "https://localhost:8080/",
          "height": 357
        }
      },
      "source": [
        "#All Together\n",
        "\n",
        "y=all_labels[most_common_disorders]\n",
        "x=all_labels.drop(columns=list(most_common_disorders))\n",
        "x.drop(columns=[\"EID\"],inplace=True)\n",
        "\n",
        "missing=sum(x.isnull().values)/x.shape[0]\n",
        "for id,column in enumerate(x.columns.values):\n",
        "  if (missing[id]>0):\n",
        "    print(column,\": \",missing[id])\n",
        "\n",
        "x=x.drop(columns=x.columns[missing>0.25])\n",
        "\n",
        "results_all_avail={}\n",
        "\n",
        "\n",
        "for i,disorder in enumerate(y.columns.values):\n",
        "\n",
        "  y_=y[disorder].values\n",
        "  \n",
        "  clf=all_best[i]\n",
        "\n",
        "  results_all_avail[disorder]=[]\n",
        "  \n",
        "  for cv in cross_validation_splits:      \n",
        "        classifier=classify(x,y_,cv,clf,train_all_available=True)\n",
        "        results_all_avail[disorder].append(classifier)\n",
        "\n"
      ],
      "execution_count": 0,
      "outputs": [
        {
          "output_type": "stream",
          "text": [
            "eyesclosed_microstates_gfp_prototype1 :  0.009698275862068966\n",
            "eyesclosed_microstates_gfp_prototype2 :  0.005387931034482759\n",
            "eyesclosed_microstates_gfp_prototype3 :  0.005387931034482759\n",
            "eyesclosed_microstates_gfp_prototype4 :  0.004310344827586207\n",
            "eyesclosed_microstates_mspatcorr_prototype1 :  0.009698275862068966\n",
            "eyesclosed_microstates_mspatcorr_prototype2 :  0.005387931034482759\n",
            "eyesclosed_microstates_mspatcorr_prototype3 :  0.005387931034482759\n",
            "eyesclosed_microstates_mspatcorr_prototype4 :  0.004310344827586207\n",
            "eyesclosed_alphapeak_max_freq :  0.15086206896551724\n",
            "eyesclosed_alphapeak_max_amplitude :  0.15086206896551724\n",
            "eyesclosed_alphapeak_derivative_freq :  0.1497844827586207\n",
            "eyesclosed_alphapeak_derivative_amplitude :  0.1497844827586207\n",
            "eyesclosed_fooof_peak_freq_average :  0.0021551724137931034\n",
            "eyesclosed_fooof_peak_amplitude_average :  0.0021551724137931034\n",
            "eyesopen_alphapeak_max_freq :  0.30495689655172414\n",
            "eyesopen_alphapeak_max_amplitude :  0.30495689655172414\n",
            "eyesopen_alphapeak_derivative_freq :  0.25323275862068967\n",
            "eyesopen_alphapeak_derivative_amplitude :  0.25323275862068967\n",
            "eyesopen_fooof_peak_freq_average :  0.005387931034482759\n",
            "eyesopen_fooof_peak_amplitude_average :  0.005387931034482759\n"
          ],
          "name": "stdout"
        }
      ]
    },
    {
      "cell_type": "code",
      "metadata": {
        "id": "2TbeweyMRG3H",
        "colab_type": "code",
        "colab": {}
      },
      "source": [
        "accuracy_all_rep_avail={}\n",
        "bacc_all_rep_avail={}\n",
        "f1_all_rep_avail={}\n",
        "\n",
        "for dis in y.columns.values:\n",
        "  keep=results_all_avail[dis]\n",
        "  accuracy_all_rep_avail[dis]=[]\n",
        "  bacc_all_rep_avail[dis]=[]\n",
        "  f1_all_rep_avail[dis]=[]\n",
        "  for values in keep:\n",
        "    for _,val in values.items():\n",
        "      accuracy_all_rep_avail[dis].append(val[0])\n",
        "      bacc_all_rep_avail[dis].append(val[1])\n",
        "      f1_all_rep_avail[dis].append(val[2])\n",
        "\n",
        "mean_f1_all_rep_avail={}\n",
        "mean_bacc_all_rep_avail={}\n",
        "mean_acc_all_rep_avail={}\n",
        "\n",
        "for dis in y.columns.values:\n",
        "  keep_f1=f1_all_rep_avail[dis]\n",
        "  keep_acc=accuracy_all_rep_avail[dis]\n",
        "  keep_bacc=bacc_all_rep_avail[dis]\n",
        "\n",
        "  mean_f1_all_rep_avail[dis]=np.mean(keep_f1)\n",
        "  mean_bacc_all_rep_avail[dis]=np.mean(keep_acc)\n",
        "  mean_acc_all_rep_avail[dis]=np.mean(keep_bacc)\n",
        "\n"
      ],
      "execution_count": 0,
      "outputs": []
    },
    {
      "cell_type": "code",
      "metadata": {
        "id": "mI2zPLalUmJj",
        "colab_type": "code",
        "colab": {}
      },
      "source": [
        "all_results_avail_rep={'acc1':accuracy_1_rep_avail,'bacc1':bacc_1_rep_avail,'f1_1':f1_1_rep_avail,\n",
        "                 'acc2':accuracy_2_rep_avail,'bacc2':bacc_2_rep_avail,'f1_2':f1_2_rep_avail,\\\n",
        "                 'acc3':accuracy_3_rep_avail,'bacc3':bacc_3_rep_avail,'f1_3':f1_3_rep_avail,\\\n",
        "                 'acc_all':accuracy_all_rep_avail,'bacc_all':bacc_all_rep_avail,'f1_all':f1_all_rep_avail}\n",
        "\n",
        "with open('avail_data_rep_cv_results.pickle', 'wb') as handle:\n",
        "    pickle.dump(all_results_avail_rep, handle, protocol=pickle.HIGHEST_PROTOCOL)"
      ],
      "execution_count": 0,
      "outputs": []
    },
    {
      "cell_type": "code",
      "metadata": {
        "id": "TNUuNI4veZbl",
        "colab_type": "code",
        "colab": {}
      },
      "source": [
        "with open('avail_data_rep_cv_results.pickle','rb') as file:\n",
        "   avail_cv_rep=pickle.load(file)\n",
        "with open('common_rep_cv_results.pickle','rb') as file:\n",
        "  common_cv_rep=pickle.load(file)"
      ],
      "execution_count": 0,
      "outputs": []
    },
    {
      "cell_type": "code",
      "metadata": {
        "id": "1sFDq5FTfvQ6",
        "colab_type": "code",
        "colab": {}
      },
      "source": [
        "#f1 for common test set\n",
        "avail_cv_rep_f1_1=avail_cv_rep['f1_1']\n",
        "avail_cv_rep_f1_2=avail_cv_rep['f1_2']\n",
        "avail_cv_rep_f1_3=avail_cv_rep['f1_3']\n",
        "avail_cv_rep_f1_all=avail_cv_rep['f1_all']\n",
        "\n",
        "#f1 for common train and test set\n",
        "common_cv_rep_f1_1=common_cv_rep['f1_1']\n",
        "common_cv_rep_f1_2=common_cv_rep['f1_2']\n",
        "common_cv_rep_f1_3=common_cv_rep['f1_3']\n",
        "common_cv_rep_f1_all=common_cv_rep['f1_all']\n",
        "\n"
      ],
      "execution_count": 0,
      "outputs": []
    },
    {
      "cell_type": "code",
      "metadata": {
        "id": "OhoeakUJzw0I",
        "colab_type": "code",
        "outputId": "c664ea2e-fb43-45f3-a9b8-f0e4e00d52d5",
        "colab": {
          "base_uri": "https://localhost:8080/",
          "height": 1000
        }
      },
      "source": [
        "import seaborn as sns\n",
        "\n",
        "plot_only_data_from_intersection = True #if true it produces the f1 scores for training and testing on the common subjects,\n",
        "                                        # otherwise training on the available subjects and testing on the common subjects\n",
        "\n",
        "micro_best=['RF','LGR','LGR','LGR','LGR','LGR','LGR']\n",
        "psd_best=['RF','LGR','LGR','LGR','LGR','LGR','LGR']\n",
        "spectro_best=['RF','LGR','LGR','LGR','LGR','LGR','LGR']\n",
        "all_best=['RF','LGR','LGR','LGR','LGR','LGR','LGR']\n",
        "bests={'EEG Microstate':micro_best, 'EEG PSD':psd_best,'EEG Spectro':spectro_best,'All':all_best}\n",
        "\n",
        "labels_=['Attention-Deficit/Hyperactivity\\nDisorder','Anxiety\\nDisorders','Specific Learning\\nDisorder','Autism Spectrum\\nDisorder',\\\n",
        "         'Disruptive','Communication\\nDisorder','Depressive\\nDisorders']\n",
        "data_configurations = ['EEG Microstate', 'EEG PSD', 'EEG Spectro', 'All']\n",
        "number_of_cross_val_runs = 10\n",
        "\n",
        "if plot_only_data_from_intersection:\n",
        "     f1_bests={'EEG Microstate':common_cv_rep_f1_1, 'EEG PSD':common_cv_rep_f1_2,'EEG Spectro':common_cv_rep_f1_3,'All':common_cv_rep_f1_all}\n",
        "else:\n",
        "     f1_bests={'EEG Microstate':f1_1_rep_avail, 'EEG PSD':f1_2_rep_avail,'EEG Spectro':f1_3_rep_avail,'All':f1_all_rep_avail}\n",
        "\n",
        "\n",
        "data_df = pd.DataFrame(columns=[\"f1_score\", \"disorder\", \"data_config\", \"classifier\"])\n",
        "\n",
        "best_classifiers = []\n",
        "for most_common_disorder_i, most_common_disorder in enumerate(most_common_disorders):\n",
        "    for data_configuration_i, data_configuration in enumerate(data_configurations):\n",
        "        \n",
        "        best_classifier = f1_bests[data_configuration][most_common_disorder]\n",
        "        best_classifier_name = bests[data_configuration][most_common_disorder_i]\n",
        "        best_classifiers.append(best_classifier_name)\n",
        "        print('For', data_configuration, most_common_disorder, 'best classifier is', best_classifier_name, 'with a score of', np.mean(best_classifier))\n",
        "\n",
        "        for i in range(number_of_cross_val_runs):\n",
        "            data_df = data_df.append({\"f1_score\": best_classifier[i],\n",
        "                                      \"disorder\": labels_[most_common_disorder_i],\n",
        "                                      \"data_config\":  data_configuration,\n",
        "                                      \"classifier\": best_classifier_name}, ignore_index=True)\n",
        "\n",
        "fig, axes = plt.subplots(1, figsize=(18, 9))\n",
        "\n",
        "sns.violinplot(x=\"disorder\", y=\"f1_score\", hue=\"data_config\", ax=axes, data=data_df, linewidth=2.5)\n",
        "\n",
        "max_deviation = 0.3\n",
        "\n",
        "pos = 0\n",
        "add_pos = - max_deviation\n",
        "total = 0\n",
        "\n",
        "text_position_=[np.min(value2) for _,value in f1_bests.items()  for _,value2 in value.items()]\n",
        "text_position=[]\n",
        "for ind in range(7):\n",
        "  for i in range(0,len(text_position_),7):\n",
        "    text_position.append(text_position_[ind+i])\n",
        "\n",
        "for i,clf in enumerate(best_classifiers):\n",
        "    # print('position', pos + add_pos)\n",
        "    axes.text(pos + add_pos - 0.03, text_position[i]-0.09, clf, horizontalalignment='left', color='black', weight='semibold',rotation=90)\n",
        "    # print(total, len(data_configurations), total % len(data_configurations))\n",
        "\n",
        "    if (total + 1) % len(data_configurations) == 0:\n",
        "        pos += 1\n",
        "        total = 0\n",
        "        add_pos = - max_deviation\n",
        "    else:\n",
        "        add_pos += 2 * max_deviation / (len(data_configurations) - 1)\n",
        "        total += 1\n",
        "\n",
        "axes.text(5.3,0.72,'RF: RANDOM FOREST CLASSIFIER',weight='semibold', fontsize=8)\n",
        "axes.text(5.3,0.7,'LGR: LOGISTIC REGRESSION',weight='semibold', fontsize=8)\n",
        "axes.set_ylim([-0.05, 0.9])\n",
        "axes.set_ylabel('f1 score')\n",
        "\n",
        "handles, labels = axes.get_legend_handles_labels()\n",
        "axes.legend(handles=handles, labels=labels)\n",
        "\n",
        "if plot_only_data_from_intersection:\n",
        "    axes.set_title('Use only intersection data')\n",
        "    plt.savefig('intersetion_only.png')\n",
        "else:\n",
        "    axes.set_title('Train on all available data')\n",
        "    plt.savefig('all_data.png')\n",
        "\n",
        "plt.show()"
      ],
      "execution_count": 87,
      "outputs": [
        {
          "output_type": "stream",
          "text": [
            "For EEG Microstate Attention-Deficit/Hyperactivity Disorder best classifier is RF with a score of 0.6391856944155154\n",
            "For EEG PSD Attention-Deficit/Hyperactivity Disorder best classifier is RF with a score of 0.6173329186787239\n",
            "For EEG Spectro Attention-Deficit/Hyperactivity Disorder best classifier is RF with a score of 0.6331183236681286\n",
            "For All Attention-Deficit/Hyperactivity Disorder best classifier is RF with a score of 0.6295596866413857\n",
            "For EEG Microstate Anxiety Disorders best classifier is LGR with a score of 0.3538916642640536\n",
            "For EEG PSD Anxiety Disorders best classifier is LGR with a score of 0.3712973976229632\n",
            "For EEG Spectro Anxiety Disorders best classifier is LGR with a score of 0.3662126981632992\n",
            "For All Anxiety Disorders best classifier is LGR with a score of 0.35194005892837416\n",
            "For EEG Microstate Specific Learning Disorder best classifier is LGR with a score of 0.2649349515303555\n",
            "For EEG PSD Specific Learning Disorder best classifier is LGR with a score of 0.26999096577347975\n",
            "For EEG Spectro Specific Learning Disorder best classifier is LGR with a score of 0.2534058657976463\n",
            "For All Specific Learning Disorder best classifier is LGR with a score of 0.2561455850501691\n",
            "For EEG Microstate Autism Spectrum Disorder best classifier is LGR with a score of 0.27577141486854695\n",
            "For EEG PSD Autism Spectrum Disorder best classifier is LGR with a score of 0.2502174519147357\n",
            "For EEG Spectro Autism Spectrum Disorder best classifier is LGR with a score of 0.2097835335242158\n",
            "For All Autism Spectrum Disorder best classifier is LGR with a score of 0.17929614815508227\n",
            "For EEG Microstate Disruptive best classifier is LGR with a score of 0.25992984205877717\n",
            "For EEG PSD Disruptive best classifier is LGR with a score of 0.2215976765105287\n",
            "For EEG Spectro Disruptive best classifier is LGR with a score of 0.23397916679590408\n",
            "For All Disruptive best classifier is LGR with a score of 0.22967762928821872\n",
            "For EEG Microstate Communication Disorder best classifier is LGR with a score of 0.19076262323387796\n",
            "For EEG PSD Communication Disorder best classifier is LGR with a score of 0.16175482122843618\n",
            "For EEG Spectro Communication Disorder best classifier is LGR with a score of 0.15264982971909705\n",
            "For All Communication Disorder best classifier is LGR with a score of 0.1369478772764098\n",
            "For EEG Microstate Depressive Disorders best classifier is LGR with a score of 0.3658173815524435\n",
            "For EEG PSD Depressive Disorders best classifier is LGR with a score of 0.37196883380762513\n",
            "For EEG Spectro Depressive Disorders best classifier is LGR with a score of 0.37250609957749287\n",
            "For All Depressive Disorders best classifier is LGR with a score of 0.3515124299709734\n"
          ],
          "name": "stdout"
        },
        {
          "output_type": "display_data",
          "data": {
            "image/png": "[encoded data removed]",
            "text/plain": [
              "<Figure size 1296x648 with 1 Axes>"
            ]
          },
          "metadata": {
            "tags": []
          }
        }
      ]
    },
    {
      "cell_type": "code",
      "metadata": {
        "id": "4JpzOQeeon70",
        "colab_type": "code",
        "colab": {}
      },
      "source": [
        ""
      ],
      "execution_count": 0,
      "outputs": []
    }
  ]
}