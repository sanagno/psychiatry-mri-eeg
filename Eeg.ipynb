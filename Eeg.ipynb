{
  "nbformat": 4,
  "nbformat_minor": 0,
  "metadata": {
    "colab": {
      "name": "DataScienceLab.ipynb",
      "provenance": [],
      "collapsed_sections": [],
      "include_colab_link": true
    },
    "kernelspec": {
      "name": "python3",
      "display_name": "Python 3"
    },
    "accelerator": "GPU"
  },
  "cells": [
    {
      "cell_type": "markdown",
      "metadata": {
        "id": "view-in-github",
        "colab_type": "text"
      },
      "source": [
        "<a href=\"https://colab.research.google.com/github/sanagno/psychiatry-mri/blob/eeg/Eeg.ipynb\" target=\"_parent\"><img src=\"https://colab.research.google.com/assets/colab-badge.svg\" alt=\"Open In Colab\"/></a>"
      ]
    },
    {
      "cell_type": "code",
      "metadata": {
        "id": "7YxOz-zNNlyy",
        "colab_type": "code",
        "colab": {}
      },
      "source": [
        "import pandas as pd\n",
        "import numpy as np\n",
        "from sklearn.ensemble import RandomForestClassifier as rf\n",
        "from sklearn.svm import SVC as svm\n",
        "from sklearn.linear_model import LogisticRegression as lg\n",
        "from sklearn.model_selection import train_test_split\n",
        "from sklearn.metrics import confusion_matrix,accuracy_score,balanced_accuracy_score,f1_score\n",
        "from sklearn.decomposition import PCA\n",
        "import matplotlib.pyplot as plt\n",
        "from sklearn.model_selection import StratifiedKFold\n",
        "from warnings import simplefilter\n",
        "import autoencoder as ae\n",
        "import importlib\n",
        "importlib.reload(ae)\n",
        "# ignore all future warnings\n",
        "simplefilter(action='ignore', category=FutureWarning)\n"
      ],
      "execution_count": 0,
      "outputs": []
    },
    {
      "cell_type": "code",
      "metadata": {
        "id": "4PV88novTmx_",
        "colab_type": "code",
        "colab": {}
      },
      "source": [
        "behaviour_data=pd.read_csv(\"HBNFinalSummaries.csv\",low_memory=False)"
      ],
      "execution_count": 0,
      "outputs": []
    },
    {
      "cell_type": "code",
      "metadata": {
        "id": "uRAFeRyM9yHF",
        "colab_type": "code",
        "colab": {}
      },
      "source": [
        "behaviour_data_id=behaviour_data.EID.values"
      ],
      "execution_count": 0,
      "outputs": []
    },
    {
      "cell_type": "code",
      "metadata": {
        "id": "ZNXqrMcP9H62",
        "colab_type": "code",
        "outputId": "6790e2a4-c000-41f3-ddbf-5159e9404cef",
        "colab": {
          "base_uri": "https://localhost:8080/",
          "height": 34
        }
      },
      "source": [
        "len(behaviour_data)"
      ],
      "execution_count": 0,
      "outputs": [
        {
          "output_type": "execute_result",
          "data": {
            "text/plain": [
              "2096"
            ]
          },
          "metadata": {
            "tags": []
          },
          "execution_count": 4
        }
      ]
    },
    {
      "cell_type": "code",
      "metadata": {
        "id": "Rtw6DVRlF0o8",
        "colab_type": "code",
        "outputId": "1c5a4438-3735-4b86-d941-f00924350a4c",
        "colab": {
          "base_uri": "https://localhost:8080/",
          "height": 51
        }
      },
      "source": [
        "initial_size = behaviour_data.shape[0]\n",
        "behaviour_data = behaviour_data[behaviour_data['NoDX'].isin(['Yes', 'No'])]\n",
        "new_size = behaviour_data.shape[0]\n",
        "print('Removing', initial_size - new_size, 'patients as their evaluation was incomplete.')\n",
        "\n",
        "keep_most_common_diseases = 5\n",
        "healthy_diagnosis = 'No Diagnosis Given'\n",
        "\n",
        "# these disorders should also include the no diagnosis given option\n",
        "keep_most_common_diseases += 1\n",
        "\n",
        "category_columns = ['DX_' + str(i).zfill(2) + '_Cat' for i in range(1, 11)]\n",
        "\n",
        "# count for each disorder number of occurences\n",
        "disorder_counts = {}\n",
        "for val in behaviour_data[category_columns].values.reshape(-1):\n",
        "    if not pd.isnull(val):\n",
        "        if val in disorder_counts:\n",
        "            disorder_counts[val] += 1\n",
        "        else:\n",
        "            disorder_counts[val] = 1\n",
        "            \n",
        "# sort in descending order\n",
        "disorder_counts = sorted(disorder_counts.items(), key=lambda kv: -kv[1])\n",
        "\n",
        "most_common_disorders = [x[0] for x in disorder_counts[:keep_most_common_diseases]]\n",
        "\n",
        "# find users that have no diagnosis within these top diseases \n",
        "# filtering should cahnge anything as this should also happen at a later stage\n",
        "mask = None\n",
        "for col in category_columns:\n",
        "    mask_col = behaviour_data[col].isin(most_common_disorders)\n",
        "    if mask is None:\n",
        "        mask = mask_col\n",
        "    else:\n",
        "        mask = mask | mask_col\n",
        "    \n",
        "initial_size = behaviour_data.shape[0]\n",
        "behaviour_data = behaviour_data[mask]\n",
        "behaviour_data = behaviour_data.reset_index(drop=True)\n",
        "new_size = behaviour_data.shape[0]\n",
        "print('Removing', initial_size - new_size, 'patients as their diagnoses were very uncommon.')"
      ],
      "execution_count": 0,
      "outputs": [
        {
          "output_type": "stream",
          "text": [
            "Removing 282 patients as their evaluation was incomplete.\n",
            "Removing 37 patients as their diagnoses were very uncommon.\n"
          ],
          "name": "stdout"
        }
      ]
    },
    {
      "cell_type": "code",
      "metadata": {
        "id": "ATAs-7WaGD_1",
        "colab_type": "code",
        "outputId": "6fb0e51c-e5b3-4111-fee9-48bdbc0a3370",
        "colab": {
          "base_uri": "https://localhost:8080/",
          "height": 34
        }
      },
      "source": [
        "behaviour_data.shape"
      ],
      "execution_count": 0,
      "outputs": [
        {
          "output_type": "execute_result",
          "data": {
            "text/plain": [
              "(1777, 447)"
            ]
          },
          "metadata": {
            "tags": []
          },
          "execution_count": 6
        }
      ]
    },
    {
      "cell_type": "code",
      "metadata": {
        "id": "0F04zNY74lzA",
        "colab_type": "code",
        "outputId": "d1001aec-a3fe-4bf5-f146-899fe02ac1b2",
        "colab": {
          "base_uri": "https://localhost:8080/",
          "height": 119
        }
      },
      "source": [
        "no_diagnosis_given = 'No Diagnosis Given'\n",
        "most_common_disorders"
      ],
      "execution_count": 0,
      "outputs": [
        {
          "output_type": "execute_result",
          "data": {
            "text/plain": [
              "['Neurodevelopmental Disorders',\n",
              " 'Anxiety Disorders',\n",
              " 'Disruptive',\n",
              " 'No Diagnosis Given',\n",
              " 'Depressive Disorders',\n",
              " 'Elimination Disorders']"
            ]
          },
          "metadata": {
            "tags": []
          },
          "execution_count": 7
        }
      ]
    },
    {
      "cell_type": "code",
      "metadata": {
        "id": "3O2E76TI43ur",
        "colab_type": "code",
        "colab": {}
      },
      "source": [
        "classes = np.zeros((len(most_common_disorders), behaviour_data.shape[0]), dtype=np.int32)\n",
        "\n",
        "category_columns = ['DX_' + str(i).zfill(2) + '_Cat' for i in range(1, 11)]\n",
        "df_disorders = behaviour_data[category_columns]\n",
        "\n",
        "for i, disorder in enumerate(most_common_disorders):\n",
        "    mask = df_disorders.select_dtypes(include=[object]). \\\n",
        "            applymap(lambda x: disorder in x if pd.notnull(x) else False)\n",
        "    \n",
        "    disorder_df = df_disorders[mask.any(axis=1)]\n",
        "    \n",
        "    np.add.at(classes[i], disorder_df.index.values, 1)"
      ],
      "execution_count": 0,
      "outputs": []
    },
    {
      "cell_type": "code",
      "metadata": {
        "id": "FEJux6RI7Y0L",
        "colab_type": "code",
        "colab": {}
      },
      "source": [
        "behaviour_data_columns = behaviour_data.columns.values.astype(np.str)\n",
        "\n",
        "columns_to_drop = behaviour_data_columns[\n",
        "    np.flatnonzero(np.core.defchararray.find(behaviour_data_columns, 'DX')!=-1)]\n",
        "\n",
        "behaviour_data = behaviour_data.drop(columns=columns_to_drop)"
      ],
      "execution_count": 0,
      "outputs": []
    },
    {
      "cell_type": "code",
      "metadata": {
        "id": "T-MQYFQM-L_k",
        "colab_type": "code",
        "colab": {}
      },
      "source": [
        "for disorder, classification in zip(most_common_disorders, classes):\n",
        "    behaviour_data[disorder] = classification"
      ],
      "execution_count": 0,
      "outputs": []
    },
    {
      "cell_type": "code",
      "metadata": {
        "id": "x3ojwtsR-eEi",
        "colab_type": "code",
        "colab": {}
      },
      "source": [
        "labels=behaviour_data[[\"EID\"]+list(most_common_disorders)]"
      ],
      "execution_count": 0,
      "outputs": []
    },
    {
      "cell_type": "code",
      "metadata": {
        "id": "j3N5U3zhz1f1",
        "colab_type": "code",
        "outputId": "e0b5ea03-9f1f-45d3-b747-33fecd2d16a7",
        "colab": {
          "base_uri": "https://localhost:8080/",
          "height": 419
        }
      },
      "source": [
        "labels"
      ],
      "execution_count": 0,
      "outputs": [
        {
          "output_type": "execute_result",
          "data": {
            "text/html": [
              "<div>\n",
              "<style scoped>\n",
              "    .dataframe tbody tr th:only-of-type {\n",
              "        vertical-align: middle;\n",
              "    }\n",
              "\n",
              "    .dataframe tbody tr th {\n",
              "        vertical-align: top;\n",
              "    }\n",
              "\n",
              "    .dataframe thead th {\n",
              "        text-align: right;\n",
              "    }\n",
              "</style>\n",
              "<table border=\"1\" class=\"dataframe\">\n",
              "  <thead>\n",
              "    <tr style=\"text-align: right;\">\n",
              "      <th></th>\n",
              "      <th>EID</th>\n",
              "      <th>Neurodevelopmental Disorders</th>\n",
              "      <th>Anxiety Disorders</th>\n",
              "      <th>Disruptive</th>\n",
              "      <th>No Diagnosis Given</th>\n",
              "      <th>Depressive Disorders</th>\n",
              "      <th>Elimination Disorders</th>\n",
              "    </tr>\n",
              "  </thead>\n",
              "  <tbody>\n",
              "    <tr>\n",
              "      <th>0</th>\n",
              "      <td>NDARYM832PX3</td>\n",
              "      <td>1</td>\n",
              "      <td>1</td>\n",
              "      <td>0</td>\n",
              "      <td>0</td>\n",
              "      <td>0</td>\n",
              "      <td>0</td>\n",
              "    </tr>\n",
              "    <tr>\n",
              "      <th>1</th>\n",
              "      <td>NDARNJ687DMC</td>\n",
              "      <td>0</td>\n",
              "      <td>0</td>\n",
              "      <td>0</td>\n",
              "      <td>0</td>\n",
              "      <td>1</td>\n",
              "      <td>0</td>\n",
              "    </tr>\n",
              "    <tr>\n",
              "      <th>2</th>\n",
              "      <td>NDARRM363BXZ</td>\n",
              "      <td>1</td>\n",
              "      <td>0</td>\n",
              "      <td>0</td>\n",
              "      <td>0</td>\n",
              "      <td>0</td>\n",
              "      <td>0</td>\n",
              "    </tr>\n",
              "    <tr>\n",
              "      <th>3</th>\n",
              "      <td>NDARUW586LLL</td>\n",
              "      <td>0</td>\n",
              "      <td>0</td>\n",
              "      <td>0</td>\n",
              "      <td>0</td>\n",
              "      <td>1</td>\n",
              "      <td>0</td>\n",
              "    </tr>\n",
              "    <tr>\n",
              "      <th>4</th>\n",
              "      <td>NDARDC298NW4</td>\n",
              "      <td>1</td>\n",
              "      <td>0</td>\n",
              "      <td>0</td>\n",
              "      <td>0</td>\n",
              "      <td>0</td>\n",
              "      <td>0</td>\n",
              "    </tr>\n",
              "    <tr>\n",
              "      <th>...</th>\n",
              "      <td>...</td>\n",
              "      <td>...</td>\n",
              "      <td>...</td>\n",
              "      <td>...</td>\n",
              "      <td>...</td>\n",
              "      <td>...</td>\n",
              "      <td>...</td>\n",
              "    </tr>\n",
              "    <tr>\n",
              "      <th>1772</th>\n",
              "      <td>NDARJX939UCQ</td>\n",
              "      <td>1</td>\n",
              "      <td>0</td>\n",
              "      <td>1</td>\n",
              "      <td>0</td>\n",
              "      <td>0</td>\n",
              "      <td>0</td>\n",
              "    </tr>\n",
              "    <tr>\n",
              "      <th>1773</th>\n",
              "      <td>NDARJJ817UP1</td>\n",
              "      <td>1</td>\n",
              "      <td>0</td>\n",
              "      <td>0</td>\n",
              "      <td>0</td>\n",
              "      <td>0</td>\n",
              "      <td>0</td>\n",
              "    </tr>\n",
              "    <tr>\n",
              "      <th>1774</th>\n",
              "      <td>NDARYZ986HEW</td>\n",
              "      <td>1</td>\n",
              "      <td>1</td>\n",
              "      <td>1</td>\n",
              "      <td>0</td>\n",
              "      <td>0</td>\n",
              "      <td>0</td>\n",
              "    </tr>\n",
              "    <tr>\n",
              "      <th>1775</th>\n",
              "      <td>NDARPM572ZZV</td>\n",
              "      <td>1</td>\n",
              "      <td>0</td>\n",
              "      <td>0</td>\n",
              "      <td>0</td>\n",
              "      <td>0</td>\n",
              "      <td>0</td>\n",
              "    </tr>\n",
              "    <tr>\n",
              "      <th>1776</th>\n",
              "      <td>NDARYA955CY1</td>\n",
              "      <td>1</td>\n",
              "      <td>0</td>\n",
              "      <td>0</td>\n",
              "      <td>0</td>\n",
              "      <td>0</td>\n",
              "      <td>0</td>\n",
              "    </tr>\n",
              "  </tbody>\n",
              "</table>\n",
              "<p>1777 rows × 7 columns</p>\n",
              "</div>"
            ],
            "text/plain": [
              "               EID  ...  Elimination Disorders\n",
              "0     NDARYM832PX3  ...                      0\n",
              "1     NDARNJ687DMC  ...                      0\n",
              "2     NDARRM363BXZ  ...                      0\n",
              "3     NDARUW586LLL  ...                      0\n",
              "4     NDARDC298NW4  ...                      0\n",
              "...            ...  ...                    ...\n",
              "1772  NDARJX939UCQ  ...                      0\n",
              "1773  NDARJJ817UP1  ...                      0\n",
              "1774  NDARYZ986HEW  ...                      0\n",
              "1775  NDARPM572ZZV  ...                      0\n",
              "1776  NDARYA955CY1  ...                      0\n",
              "\n",
              "[1777 rows x 7 columns]"
            ]
          },
          "metadata": {
            "tags": []
          },
          "execution_count": 12
        }
      ]
    },
    {
      "cell_type": "markdown",
      "metadata": {
        "id": "QUkqL0Vn_679",
        "colab_type": "text"
      },
      "source": [
        "## EEG"
      ]
    },
    {
      "cell_type": "code",
      "metadata": {
        "id": "KurT-5un_4NR",
        "colab_type": "code",
        "outputId": "082dbf11-2072-4f20-bcb3-72f1f89730e5",
        "colab": {
          "base_uri": "https://localhost:8080/",
          "height": 119
        }
      },
      "source": [
        "labels[no_diagnosis_given]=labels[no_diagnosis_given].apply(lambda x:0 if x==1 else 1)"
      ],
      "execution_count": 0,
      "outputs": [
        {
          "output_type": "stream",
          "text": [
            "/usr/local/lib/python3.6/dist-packages/ipykernel_launcher.py:1: SettingWithCopyWarning: \n",
            "A value is trying to be set on a copy of a slice from a DataFrame.\n",
            "Try using .loc[row_indexer,col_indexer] = value instead\n",
            "\n",
            "See the caveats in the documentation: http://pandas.pydata.org/pandas-docs/stable/user_guide/indexing.html#returning-a-view-versus-a-copy\n",
            "  \"\"\"Entry point for launching an IPython kernel.\n"
          ],
          "name": "stderr"
        }
      ]
    },
    {
      "cell_type": "code",
      "metadata": {
        "id": "NMWfLWP01w39",
        "colab_type": "code",
        "colab": {}
      },
      "source": [
        "most_common_disorders=[disorder for disorder in most_common_disorders if disorder!=no_diagnosis_given]"
      ],
      "execution_count": 0,
      "outputs": []
    },
    {
      "cell_type": "code",
      "metadata": {
        "id": "XWWFzOb417eN",
        "colab_type": "code",
        "outputId": "f7fb3e08-a7ec-4e91-e095-4fd93d716813",
        "colab": {
          "base_uri": "https://localhost:8080/",
          "height": 102
        }
      },
      "source": [
        "most_common_disorders"
      ],
      "execution_count": 0,
      "outputs": [
        {
          "output_type": "execute_result",
          "data": {
            "text/plain": [
              "['Neurodevelopmental Disorders',\n",
              " 'Anxiety Disorders',\n",
              " 'Disruptive',\n",
              " 'Depressive Disorders',\n",
              " 'Elimination Disorders']"
            ]
          },
          "metadata": {
            "tags": []
          },
          "execution_count": 15
        }
      ]
    },
    {
      "cell_type": "code",
      "metadata": {
        "id": "IlQ9KTLl_4YE",
        "colab_type": "code",
        "outputId": "d44a2746-e364-4774-f1ca-f2f63bc8875f",
        "colab": {
          "base_uri": "https://localhost:8080/",
          "height": 34
        }
      },
      "source": [
        "eeg_mic=pd.read_csv(\"RestingEEG_Microstates.csv\")\n",
        "eeg_psd=pd.read_csv(\"RestingEEG_PSD_Average.csv\")\n",
        "eeg_spectro=pd.read_csv(\"RestingEEG_Spectro_Average.csv\")\n",
        "\n",
        "len(eeg_mic),len(eeg_psd),len(eeg_spectro)\n"
      ],
      "execution_count": 0,
      "outputs": [
        {
          "output_type": "execute_result",
          "data": {
            "text/plain": [
              "(1108, 1485, 1485)"
            ]
          },
          "metadata": {
            "tags": []
          },
          "execution_count": 39
        }
      ]
    },
    {
      "cell_type": "code",
      "metadata": {
        "id": "t7ZfJwqRAlBv",
        "colab_type": "code",
        "colab": {}
      },
      "source": [
        "eeg_mic_labels=pd.merge(eeg_mic,labels,left_on='id',right_on='EID')\n",
        "eeg_psd_labels=pd.merge(eeg_psd,labels,left_on='id',right_on='EID')\n",
        "eeg_spectro_labels=pd.merge(eeg_spectro,labels,left_on='id',right_on='EID')\n",
        "\n",
        "eeg_mic_labels.drop(columns=[\"EID\"],inplace=True)\n",
        "eeg_psd_labels.drop(columns=[\"EID\"],inplace=True)\n",
        "eeg_spectro_labels.drop(columns=[\"EID\"],inplace=True)"
      ],
      "execution_count": 0,
      "outputs": []
    },
    {
      "cell_type": "code",
      "metadata": {
        "id": "SolHMhAICZ8Y",
        "colab_type": "code",
        "outputId": "a5a3ffe7-72ea-436a-8f46-c32b618be61d",
        "colab": {
          "base_uri": "https://localhost:8080/",
          "height": 153
        }
      },
      "source": [
        "labels_id=labels.EID.values\n",
        "beh_full_id=behaviour_data_id.copy()\n",
        "\n",
        "eeg_mic_id=eeg_mic.id.values\n",
        "\n",
        "eeg_psd_id=eeg_psd.id.values\n",
        "\n",
        "eeg_spectro_id=eeg_spectro.id.values\n",
        "\n",
        "sum_=0\n",
        "for id in eeg_mic_id:\n",
        "  if id not in beh_full_id :\n",
        "    sum_+=1\n",
        "print(\"There are \",sum_,\"mismatches between the Behavioral Data and the EEG_Mic Data. (Belong to EEG but not to Behavioral)\")\n",
        "    \n",
        "sum_=0\n",
        "for id in eeg_mic_id:\n",
        "  if id not in labels_id :\n",
        "    sum_+=1\n",
        "print(\"There are \",sum_,\"mismatches between the Labels and the EEG_Mic Data (Belong to EEG and  but not to Labels).\")\n",
        "print()\n",
        "\n",
        "sum_=0\n",
        "for id in eeg_psd_id:\n",
        "  if id not in beh_full_id :\n",
        "    sum_+=1\n",
        "print(\"There are \",sum_,\"mismatches between the Behavioral Data and the EEG_PSD Data (Belong to EEG but not to Behavioral).\")\n",
        "    \n",
        "sum_=0\n",
        "for id in eeg_psd_id:\n",
        "  if id not in labels_id :\n",
        "    sum_+=1\n",
        "print(\"There are \",sum_,\"mismatches between the Labels and the EEG_PSD Data (Belong to EEG but not to Labels).\")\n",
        "print()\n",
        "\n",
        "sum_=0\n",
        "for id in eeg_spectro_id:\n",
        "  if id not in beh_full_id :\n",
        "    sum_+=1\n",
        "print(\"There are \",sum_,\"mismatches between the Behavioral Data and the EEG_Spectro Data (Belong to EEG but not to Behavioral).\")\n",
        "    \n",
        "sum_=0\n",
        "for id in eeg_spectro_id:\n",
        "  if id not in labels_id :\n",
        "    sum_+=1\n",
        "print(\"There are \",sum_,\"mismatches between the Labels and the EEG_Spectro Data (Belong to EEG but not to Labels) .\")\n",
        "\n",
        "\n",
        "\n",
        "\n"
      ],
      "execution_count": 0,
      "outputs": [
        {
          "output_type": "stream",
          "text": [
            "There are  135 mismatches between the Behavioral Data and the EEG_Mic Data. (Belong to EEG but not to Behavioral)\n",
            "There are  158 mismatches between the Labels and the EEG_Mic Data (Belong to EEG and  but not to Labels).\n",
            "\n",
            "There are  180 mismatches between the Behavioral Data and the EEG_PSD Data (Belong to EEG but not to Behavioral).\n",
            "There are  208 mismatches between the Labels and the EEG_PSD Data (Belong to EEG but not to Labels).\n",
            "\n",
            "There are  180 mismatches between the Behavioral Data and the EEG_Spectro Data (Belong to EEG but not to Behavioral).\n",
            "There are  208 mismatches between the Labels and the EEG_Spectro Data (Belong to EEG but not to Labels) .\n"
          ],
          "name": "stdout"
        }
      ]
    },
    {
      "cell_type": "code",
      "metadata": {
        "id": "OJcEWzMvCIgL",
        "colab_type": "code",
        "outputId": "1116f9fd-e8de-4884-c10c-369cbe7fbb13",
        "colab": {
          "base_uri": "https://localhost:8080/",
          "height": 68
        }
      },
      "source": [
        "print(\"Microstate: {:5d} Subjects\\nPSD: {:12d} Subjects\\nSpectro: {:8d} Subjects\".\\\n",
        "      format(len(eeg_mic_labels),len(eeg_psd_labels),len(eeg_spectro_labels)))\n",
        "\n"
      ],
      "execution_count": 0,
      "outputs": [
        {
          "output_type": "stream",
          "text": [
            "Microstate:   950 Subjects\n",
            "PSD:         1277 Subjects\n",
            "Spectro:     1277 Subjects\n"
          ],
          "name": "stdout"
        }
      ]
    },
    {
      "cell_type": "code",
      "metadata": {
        "id": "XaYlxbP_GUGa",
        "colab_type": "code",
        "outputId": "14944e81-dae1-426a-87f5-e926fe51ff99",
        "colab": {
          "base_uri": "https://localhost:8080/",
          "height": 34
        }
      },
      "source": [
        "#Sanity check for set of EEG Feautures\n",
        "if(len(set(eeg_mic_id).intersection(set(eeg_psd_id),set(eeg_spectro_id)))==len(eeg_mic_id) and \\\n",
        "   len(set(eeg_psd_id).intersection(set(eeg_spectro_id)))==len(eeg_psd_id)):\n",
        "  print(\"Microstate, PSD and Spectro features contain the same subjects.\")\n"
      ],
      "execution_count": 0,
      "outputs": [
        {
          "output_type": "stream",
          "text": [
            "Microstate, PSD and Spectro features contain the same subjects.\n"
          ],
          "name": "stdout"
        }
      ]
    },
    {
      "cell_type": "markdown",
      "metadata": {
        "id": "9a-qGAOONie1",
        "colab_type": "text"
      },
      "source": [
        "## Classification\n"
      ]
    },
    {
      "cell_type": "code",
      "metadata": {
        "id": "4hFWxyelOfg7",
        "colab_type": "code",
        "colab": {}
      },
      "source": [
        "def binary_classifier(x,y,conf_matrix=True,classifiers=['Logistic','Random Forest','SVM'],n_splits=5,C=10):\n",
        "\n",
        "  \n",
        "  skf=StratifiedKFold(n_splits=n_splits,shuffle=True)\n",
        "  \n",
        "  logistic='Logistic' in classifiers\n",
        "  ranfor='Random Forest' in classifiers\n",
        "  suve='SVM' in classifiers\n",
        "\n",
        "  if logistic:\n",
        "    lgc=lg(C=C,class_weight='balanced')\n",
        "    y_pred_lgc=np.zeros(y.shape[0])\n",
        "  if ranfor:\n",
        "    rfc=rf(n_estimators=100,max_depth=5,class_weight='balanced')\n",
        "    y_pred_rfc=np.zeros(y.shape[0])\n",
        "  if suve:\n",
        "    svmc=svm(C=C,class_weight='balanced')\n",
        "    y_pred_svmc=np.zeros(y.shape[0])\n",
        "\n",
        "  for train_index, test_index in skf.split(x, y):\n",
        "        x_train, x_test = x[train_index], x[test_index]\n",
        "        y_train, y_test = y[train_index], y[test_index]\n",
        "\n",
        "        if logistic:\n",
        "          lgc.fit(x_train, y_train)\n",
        "          y_pred_lgc[test_index] = lgc.predict(x_test)\n",
        "        if ranfor:\n",
        "          rfc.fit(x_train, y_train)\n",
        "          y_pred_rfc[test_index] = rfc.predict(x_test)\n",
        "        if suve:\n",
        "          svmc.fit(x_train, y_train)\n",
        "          y_pred_svmc[test_index] = svmc.predict(x_test)\n",
        "\n",
        "  \n",
        "  if logistic:\n",
        "    print(\"Logistic Regression\")\n",
        "    print(\"-------------------\")\n",
        "    print(\"Accuracy :\",accuracy_score(y,y_pred_lgc))\n",
        "    print(\"Balanced Accuracy :\",balanced_accuracy_score(y,y_pred_lgc))\n",
        "    print(\"f1-score :\",f1_score(y,y_pred_lgc,average='macro'))\n",
        "    if conf_matrix:\n",
        "      print(confusion_matrix(y,y_pred_lgc))\n",
        "    print()\n",
        "  \n",
        "  if ranfor:\n",
        "    print(\"Random Forest\")\n",
        "    print(\"-----------------\")\n",
        "    print(\"Accuracy :\",accuracy_score(y,y_pred_rfc))\n",
        "    print(\"Balanced Accuracy :\",balanced_accuracy_score(y,y_pred_rfc))\n",
        "    print(\"f1-score :\",f1_score(y,y_pred_rfc,average='macro'))\n",
        "    if conf_matrix:\n",
        "      print(confusion_matrix(y,y_pred_rfc))\n",
        "    print()\n",
        "\n",
        "  if suve:\n",
        "    print(\"SVM\")\n",
        "    print(\"----------------\")\n",
        "    print(\"Accuracy :\",accuracy_score(y,y_pred_svmc))\n",
        "    print(\"Balanced Accuracy :\",balanced_accuracy_score(y,y_pred_svmc))\n",
        "    print(\"f1-score :\",f1_score(y,y_pred_svmc,average='macro'))\n",
        "    if conf_matrix:\n",
        "      print(confusion_matrix(y,y_pred_svmc))\n",
        "    \n",
        "\n",
        " "
      ],
      "execution_count": 0,
      "outputs": []
    },
    {
      "cell_type": "markdown",
      "metadata": {
        "id": "WbP2Fvx-OgQ9",
        "colab_type": "text"
      },
      "source": [
        "### EEG_Micro\n"
      ]
    },
    {
      "cell_type": "code",
      "metadata": {
        "id": "eKjl5xQHtrKA",
        "colab_type": "code",
        "colab": {}
      },
      "source": [
        "y_none=eeg_mic_labels[no_diagnosis_given].values==0\n",
        "y=eeg_mic_labels[most_common_disorders]"
      ],
      "execution_count": 0,
      "outputs": []
    },
    {
      "cell_type": "code",
      "metadata": {
        "id": "aOfcOKHeODc1",
        "colab_type": "code",
        "colab": {}
      },
      "source": [
        "x=eeg_mic_labels.drop(columns=[\"id\"]+list(most_common_disorders)+[no_diagnosis_given])\n",
        "x.fillna(x.mean(axis=0),inplace=True)\n"
      ],
      "execution_count": 0,
      "outputs": []
    },
    {
      "cell_type": "code",
      "metadata": {
        "id": "q9SjHiFCHier",
        "colab_type": "code",
        "outputId": "bf71ca3c-9ac9-4747-c58c-00cbbe62e68f",
        "colab": {
          "base_uri": "https://localhost:8080/",
          "height": 224
        }
      },
      "source": [
        "x.head()"
      ],
      "execution_count": 0,
      "outputs": [
        {
          "output_type": "execute_result",
          "data": {
            "text/html": [
              "<div>\n",
              "<style scoped>\n",
              "    .dataframe tbody tr th:only-of-type {\n",
              "        vertical-align: middle;\n",
              "    }\n",
              "\n",
              "    .dataframe tbody tr th {\n",
              "        vertical-align: top;\n",
              "    }\n",
              "\n",
              "    .dataframe thead th {\n",
              "        text-align: right;\n",
              "    }\n",
              "</style>\n",
              "<table border=\"1\" class=\"dataframe\">\n",
              "  <thead>\n",
              "    <tr style=\"text-align: right;\">\n",
              "      <th></th>\n",
              "      <th>eyesclosed_microstates_gevtotal</th>\n",
              "      <th>eyesclosed_microstates_gfp_prototype1</th>\n",
              "      <th>eyesclosed_microstates_gfp_prototype2</th>\n",
              "      <th>eyesclosed_microstates_gfp_prototype3</th>\n",
              "      <th>eyesclosed_microstates_gfp_prototype4</th>\n",
              "      <th>eyesclosed_microstates_occurence_prototype1</th>\n",
              "      <th>eyesclosed_microstates_occurence_prototype2</th>\n",
              "      <th>eyesclosed_microstates_occurence_prototype3</th>\n",
              "      <th>eyesclosed_microstates_occurence_prototype4</th>\n",
              "      <th>eyesclosed_microstates_duration_prototype1</th>\n",
              "      <th>eyesclosed_microstates_duration_prototype2</th>\n",
              "      <th>eyesclosed_microstates_duration_prototype3</th>\n",
              "      <th>eyesclosed_microstates_duration_prototype4</th>\n",
              "      <th>eyesclosed_microstates_coverage_prototype1</th>\n",
              "      <th>eyesclosed_microstates_coverage_prototype2</th>\n",
              "      <th>eyesclosed_microstates_coverage_prototype3</th>\n",
              "      <th>eyesclosed_microstates_coverage_prototype4</th>\n",
              "      <th>eyesclosed_microstates_gev_prototype1</th>\n",
              "      <th>eyesclosed_microstates_gev_prototype2</th>\n",
              "      <th>eyesclosed_microstates_gev_prototype3</th>\n",
              "      <th>eyesclosed_microstates_gev_prototype4</th>\n",
              "      <th>eyesclosed_microstates_mspatcorr_prototype1</th>\n",
              "      <th>eyesclosed_microstates_mspatcorr_prototype2</th>\n",
              "      <th>eyesclosed_microstates_mspatcorr_prototype3</th>\n",
              "      <th>eyesclosed_microstates_mspatcorr_prototype4</th>\n",
              "    </tr>\n",
              "  </thead>\n",
              "  <tbody>\n",
              "    <tr>\n",
              "      <th>0</th>\n",
              "      <td>0.815053</td>\n",
              "      <td>8.594640</td>\n",
              "      <td>7.840168</td>\n",
              "      <td>6.751696</td>\n",
              "      <td>6.155346</td>\n",
              "      <td>4.531579</td>\n",
              "      <td>3.605263</td>\n",
              "      <td>2.042105</td>\n",
              "      <td>1.826316</td>\n",
              "      <td>109.572590</td>\n",
              "      <td>74.712409</td>\n",
              "      <td>59.371134</td>\n",
              "      <td>61.798271</td>\n",
              "      <td>0.496537</td>\n",
              "      <td>0.269358</td>\n",
              "      <td>0.121242</td>\n",
              "      <td>0.112863</td>\n",
              "      <td>0.425801</td>\n",
              "      <td>0.179269</td>\n",
              "      <td>0.050128</td>\n",
              "      <td>0.033547</td>\n",
              "      <td>0.736561</td>\n",
              "      <td>0.707855</td>\n",
              "      <td>0.650813</td>\n",
              "      <td>0.648384</td>\n",
              "    </tr>\n",
              "    <tr>\n",
              "      <th>1</th>\n",
              "      <td>0.725810</td>\n",
              "      <td>7.300888</td>\n",
              "      <td>6.125996</td>\n",
              "      <td>5.441025</td>\n",
              "      <td>7.418961</td>\n",
              "      <td>3.929825</td>\n",
              "      <td>2.385965</td>\n",
              "      <td>0.745614</td>\n",
              "      <td>3.421053</td>\n",
              "      <td>118.696429</td>\n",
              "      <td>69.272059</td>\n",
              "      <td>58.470588</td>\n",
              "      <td>94.902564</td>\n",
              "      <td>0.466456</td>\n",
              "      <td>0.165281</td>\n",
              "      <td>0.043596</td>\n",
              "      <td>0.324667</td>\n",
              "      <td>0.305721</td>\n",
              "      <td>0.058535</td>\n",
              "      <td>0.007259</td>\n",
              "      <td>0.176843</td>\n",
              "      <td>0.702696</td>\n",
              "      <td>0.634576</td>\n",
              "      <td>0.491432</td>\n",
              "      <td>0.630921</td>\n",
              "    </tr>\n",
              "    <tr>\n",
              "      <th>2</th>\n",
              "      <td>0.727351</td>\n",
              "      <td>11.019322</td>\n",
              "      <td>10.683680</td>\n",
              "      <td>10.461474</td>\n",
              "      <td>10.210294</td>\n",
              "      <td>3.989474</td>\n",
              "      <td>3.515789</td>\n",
              "      <td>3.478947</td>\n",
              "      <td>2.773684</td>\n",
              "      <td>78.812665</td>\n",
              "      <td>71.227545</td>\n",
              "      <td>71.779123</td>\n",
              "      <td>66.857685</td>\n",
              "      <td>0.314421</td>\n",
              "      <td>0.250421</td>\n",
              "      <td>0.249716</td>\n",
              "      <td>0.185442</td>\n",
              "      <td>0.206668</td>\n",
              "      <td>0.148275</td>\n",
              "      <td>0.126315</td>\n",
              "      <td>0.082509</td>\n",
              "      <td>0.680067</td>\n",
              "      <td>0.669293</td>\n",
              "      <td>0.641487</td>\n",
              "      <td>0.608844</td>\n",
              "    </tr>\n",
              "    <tr>\n",
              "      <th>3</th>\n",
              "      <td>0.800499</td>\n",
              "      <td>6.234832</td>\n",
              "      <td>6.023094</td>\n",
              "      <td>4.939876</td>\n",
              "      <td>6.024174</td>\n",
              "      <td>3.563158</td>\n",
              "      <td>3.378947</td>\n",
              "      <td>1.710526</td>\n",
              "      <td>4.084211</td>\n",
              "      <td>74.824225</td>\n",
              "      <td>73.489097</td>\n",
              "      <td>66.381538</td>\n",
              "      <td>90.966495</td>\n",
              "      <td>0.266611</td>\n",
              "      <td>0.248316</td>\n",
              "      <td>0.113547</td>\n",
              "      <td>0.371526</td>\n",
              "      <td>0.196817</td>\n",
              "      <td>0.170259</td>\n",
              "      <td>0.045047</td>\n",
              "      <td>0.252637</td>\n",
              "      <td>0.730940</td>\n",
              "      <td>0.722275</td>\n",
              "      <td>0.659675</td>\n",
              "      <td>0.710730</td>\n",
              "    </tr>\n",
              "    <tr>\n",
              "      <th>4</th>\n",
              "      <td>0.770513</td>\n",
              "      <td>8.337967</td>\n",
              "      <td>7.112455</td>\n",
              "      <td>7.123003</td>\n",
              "      <td>6.603037</td>\n",
              "      <td>4.278947</td>\n",
              "      <td>2.389474</td>\n",
              "      <td>3.547368</td>\n",
              "      <td>2.057895</td>\n",
              "      <td>111.564576</td>\n",
              "      <td>62.334802</td>\n",
              "      <td>70.222552</td>\n",
              "      <td>60.531969</td>\n",
              "      <td>0.477379</td>\n",
              "      <td>0.148947</td>\n",
              "      <td>0.249105</td>\n",
              "      <td>0.124568</td>\n",
              "      <td>0.389897</td>\n",
              "      <td>0.074640</td>\n",
              "      <td>0.118653</td>\n",
              "      <td>0.044916</td>\n",
              "      <td>0.700755</td>\n",
              "      <td>0.657190</td>\n",
              "      <td>0.649427</td>\n",
              "      <td>0.616231</td>\n",
              "    </tr>\n",
              "  </tbody>\n",
              "</table>\n",
              "</div>"
            ],
            "text/plain": [
              "   eyesclosed_microstates_gevtotal  ...  eyesclosed_microstates_mspatcorr_prototype4\n",
              "0                         0.815053  ...                                     0.648384\n",
              "1                         0.725810  ...                                     0.630921\n",
              "2                         0.727351  ...                                     0.608844\n",
              "3                         0.800499  ...                                     0.710730\n",
              "4                         0.770513  ...                                     0.616231\n",
              "\n",
              "[5 rows x 25 columns]"
            ]
          },
          "metadata": {
            "tags": []
          },
          "execution_count": 83
        }
      ]
    },
    {
      "cell_type": "code",
      "metadata": {
        "id": "eTffdrRjrD1j",
        "colab_type": "code",
        "outputId": "6ab1778f-ebf2-4ff8-9b43-de91c3116a97",
        "colab": {
          "base_uri": "https://localhost:8080/",
          "height": 1000
        }
      },
      "source": [
        "\n",
        "for disorder in y.columns.values:\n",
        "  print(\"===============\",disorder,\"===================\")\n",
        "  x_=np.concatenate((x[y[disorder]==1].values,x[y_none].values),axis=0)\n",
        "  y_=np.concatenate((np.ones(sum(y[disorder].values==1)),np.zeros(sum(y_none))),axis=0)\n",
        "  print(\"Number of Subjects: \",y_.shape[0])\n",
        "  print(\"Positive: \",sum(y_==1))\n",
        "  print(\"Negative: \",sum(y_==0))\n",
        "  print()\n",
        "  binary_classifier(x_,y_,classifiers='Random Forest')\n",
        "  print()"
      ],
      "execution_count": 0,
      "outputs": [
        {
          "output_type": "stream",
          "text": [
            "=============== Neurodevelopmental Disorders ===================\n",
            "Number of Subjects:  829\n",
            "Positive:  704\n",
            "Negative:  125\n",
            "\n",
            "Random Forest\n",
            "-----------------\n",
            "Accuracy : 0.8262967430639324\n",
            "Balanced Accuracy : 0.5490113636363636\n",
            "f1-score : 0.5556151165907263\n",
            "[[ 19 106]\n",
            " [ 38 666]]\n",
            "\n",
            "\n",
            "=============== Anxiety Disorders ===================\n",
            "Number of Subjects:  338\n",
            "Positive:  213\n",
            "Negative:  125\n",
            "\n",
            "Random Forest\n",
            "-----------------\n",
            "Accuracy : 0.5680473372781065\n",
            "Balanced Accuracy : 0.5168075117370892\n",
            "f1-score : 0.5147689282202557\n",
            "[[ 40  85]\n",
            " [ 61 152]]\n",
            "\n",
            "\n",
            "=============== Disruptive ===================\n",
            "Number of Subjects:  277\n",
            "Positive:  152\n",
            "Negative:  125\n",
            "\n",
            "Random Forest\n",
            "-----------------\n",
            "Accuracy : 0.5126353790613718\n",
            "Balanced Accuracy : 0.5076052631578948\n",
            "f1-score : 0.5076041872407663\n",
            "[[57 68]\n",
            " [67 85]]\n",
            "\n",
            "\n",
            "=============== Depressive Disorders ===================\n",
            "Number of Subjects:  213\n",
            "Positive:  88\n",
            "Negative:  125\n",
            "\n",
            "Random Forest\n",
            "-----------------\n",
            "Accuracy : 0.6009389671361502\n",
            "Balanced Accuracy : 0.5792727272727273\n",
            "f1-score : 0.5795889933820968\n",
            "[[88 37]\n",
            " [48 40]]\n",
            "\n",
            "\n",
            "=============== Elimination Disorders ===================\n",
            "Number of Subjects:  166\n",
            "Positive:  41\n",
            "Negative:  125\n",
            "\n",
            "Random Forest\n",
            "-----------------\n",
            "Accuracy : 0.7530120481927711\n",
            "Balanced Accuracy : 0.6229268292682927\n",
            "f1-score : 0.6327235443311208\n",
            "[[110  15]\n",
            " [ 26  15]]\n",
            "\n",
            "\n"
          ],
          "name": "stdout"
        }
      ]
    },
    {
      "cell_type": "markdown",
      "metadata": {
        "id": "NPQ9TQPKIxNv",
        "colab_type": "text"
      },
      "source": [
        "#### PCA\n",
        "\n"
      ]
    },
    {
      "cell_type": "code",
      "metadata": {
        "id": "VnoyvYSX3SMp",
        "colab_type": "code",
        "colab": {}
      },
      "source": [
        "x=(x-x.mean())/x.std()\n",
        "pca=PCA().fit(x)"
      ],
      "execution_count": 0,
      "outputs": []
    },
    {
      "cell_type": "code",
      "metadata": {
        "id": "4BdX2EA23hN5",
        "colab_type": "code",
        "outputId": "3f7e3d63-a9f0-4348-895f-9dd518e165de",
        "colab": {
          "base_uri": "https://localhost:8080/",
          "height": 285
        }
      },
      "source": [
        "plt.plot(pca.singular_values_)"
      ],
      "execution_count": 0,
      "outputs": [
        {
          "output_type": "execute_result",
          "data": {
            "text/plain": [
              "[<matplotlib.lines.Line2D at 0x7fccc56cadd8>]"
            ]
          },
          "metadata": {
            "tags": []
          },
          "execution_count": 86
        },
        {
          "output_type": "display_data",
          "data": {
            "image/png": "[encoded data removed]",
            "text/plain": [
              "<Figure size 432x288 with 1 Axes>"
            ]
          },
          "metadata": {
            "tags": []
          }
        }
      ]
    },
    {
      "cell_type": "code",
      "metadata": {
        "id": "x42hMnnJ4Ctz",
        "colab_type": "code",
        "colab": {}
      },
      "source": [
        "pca_x=pca.transform(x)[:,:12]"
      ],
      "execution_count": 0,
      "outputs": []
    },
    {
      "cell_type": "code",
      "metadata": {
        "id": "xk89VGLN3GUr",
        "colab_type": "code",
        "outputId": "86feb0d0-f891-4dd4-dc48-0d6b38258396",
        "colab": {
          "base_uri": "https://localhost:8080/",
          "height": 1000
        }
      },
      "source": [
        "for disorder in y.columns.values:\n",
        "  print(\"===============\",disorder,\"===================\")\n",
        "  x_=np.concatenate((pca_x[y[disorder]==1],pca_x[y_none]),axis=0)\n",
        "  y_=np.concatenate((np.ones(sum(y[disorder].values==1)),np.zeros(sum(y_none))),axis=0)\n",
        "  print(\"Number of Subjects: \",y_.shape[0])\n",
        "  print(\"Positive: \",sum(y_==1))\n",
        "  print(\"Negative: \",sum(y_==0))\n",
        "  print()\n",
        "  binary_classifier(x_,y_,classifiers=['SVM','Logistic'])\n",
        "  print()"
      ],
      "execution_count": 0,
      "outputs": [
        {
          "output_type": "stream",
          "text": [
            "=============== Neurodevelopmental Disorders ===================\n",
            "Number of Subjects:  829\n",
            "Positive:  704\n",
            "Negative:  125\n",
            "\n",
            "Logistic Regression\n",
            "-------------------\n",
            "Accuracy : 0.48612786489746684\n",
            "Balanced Accuracy : 0.4770284090909091\n",
            "f1-score : 0.41615085505693766\n",
            "[[ 58  67]\n",
            " [359 345]]\n",
            "\n",
            "SVM\n",
            "----------------\n",
            "Accuracy : 0.646562123039807\n",
            "Balanced Accuracy : 0.5122727272727273\n",
            "f1-score : 0.49323082379695604\n",
            "[[ 40  85]\n",
            " [208 496]]\n",
            "\n",
            "=============== Anxiety Disorders ===================\n",
            "Number of Subjects:  338\n",
            "Positive:  213\n",
            "Negative:  125\n",
            "\n",
            "Logistic Regression\n",
            "-------------------\n",
            "Accuracy : 0.5059171597633136\n",
            "Balanced Accuracy : 0.5253521126760563\n",
            "f1-score : 0.5040025306889977\n",
            "[[ 75  50]\n",
            " [117  96]]\n",
            "\n",
            "SVM\n",
            "----------------\n",
            "Accuracy : 0.591715976331361\n",
            "Balanced Accuracy : 0.5752488262910798\n",
            "f1-score : 0.5723088208325693\n",
            "[[ 64  61]\n",
            " [ 77 136]]\n",
            "\n",
            "=============== Disruptive ===================\n",
            "Number of Subjects:  277\n",
            "Positive:  152\n",
            "Negative:  125\n",
            "\n",
            "Logistic Regression\n",
            "-------------------\n",
            "Accuracy : 0.5054151624548736\n",
            "Balanced Accuracy : 0.507421052631579\n",
            "f1-score : 0.5050022826583187\n",
            "[[66 59]\n",
            " [78 74]]\n",
            "\n",
            "SVM\n",
            "----------------\n",
            "Accuracy : 0.5234657039711191\n",
            "Balanced Accuracy : 0.5174736842105263\n",
            "f1-score : 0.5174216027874565\n",
            "[[57 68]\n",
            " [64 88]]\n",
            "\n",
            "=============== Depressive Disorders ===================\n",
            "Number of Subjects:  213\n",
            "Positive:  88\n",
            "Negative:  125\n",
            "\n",
            "Logistic Regression\n",
            "-------------------\n",
            "Accuracy : 0.6244131455399061\n",
            "Balanced Accuracy : 0.6177727272727274\n",
            "f1-score : 0.6162853539902721\n",
            "[[82 43]\n",
            " [37 51]]\n",
            "\n",
            "SVM\n",
            "----------------\n",
            "Accuracy : 0.5821596244131455\n",
            "Balanced Accuracy : 0.5666363636363636\n",
            "f1-score : 0.5668852384107472\n",
            "[[82 43]\n",
            " [46 42]]\n",
            "\n",
            "=============== Elimination Disorders ===================\n",
            "Number of Subjects:  166\n",
            "Positive:  41\n",
            "Negative:  125\n",
            "\n",
            "Logistic Regression\n",
            "-------------------\n",
            "Accuracy : 0.6506024096385542\n",
            "Balanced Accuracy : 0.6532682926829269\n",
            "f1-score : 0.6092532467532468\n",
            "[[81 44]\n",
            " [14 27]]\n",
            "\n",
            "SVM\n",
            "----------------\n",
            "Accuracy : 0.7168674698795181\n",
            "Balanced Accuracy : 0.6235121951219512\n",
            "f1-score : 0.6224899598393574\n",
            "[[101  24]\n",
            " [ 23  18]]\n",
            "\n"
          ],
          "name": "stdout"
        }
      ]
    },
    {
      "cell_type": "markdown",
      "metadata": {
        "id": "cIcXmc97hP5s",
        "colab_type": "text"
      },
      "source": [
        "### EEG PSD\n"
      ]
    },
    {
      "cell_type": "code",
      "metadata": {
        "id": "KS8EbGsS4tIE",
        "colab_type": "code",
        "colab": {}
      },
      "source": [
        "y_none=eeg_psd_labels[no_diagnosis_given].values==0\n",
        "y=eeg_psd_labels[most_common_disorders]"
      ],
      "execution_count": 0,
      "outputs": []
    },
    {
      "cell_type": "code",
      "metadata": {
        "id": "HXL6jZ9XhSJ8",
        "colab_type": "code",
        "colab": {}
      },
      "source": [
        "x=eeg_psd_labels.drop(columns=[\"id\"]+list(most_common_disorders)+[no_diagnosis_given])\n",
        "\n",
        "#x.fillna(x.mean(axis=0),inplace=True) No missing values\n"
      ],
      "execution_count": 0,
      "outputs": []
    },
    {
      "cell_type": "code",
      "metadata": {
        "id": "nQHvd3f8JHpK",
        "colab_type": "code",
        "outputId": "3b7205d2-e8f4-4001-9466-8ee5e9ea7899",
        "colab": {
          "base_uri": "https://localhost:8080/",
          "height": 253
        }
      },
      "source": [
        "x.head()"
      ],
      "execution_count": 0,
      "outputs": [
        {
          "output_type": "execute_result",
          "data": {
            "text/html": [
              "<div>\n",
              "<style scoped>\n",
              "    .dataframe tbody tr th:only-of-type {\n",
              "        vertical-align: middle;\n",
              "    }\n",
              "\n",
              "    .dataframe tbody tr th {\n",
              "        vertical-align: top;\n",
              "    }\n",
              "\n",
              "    .dataframe thead th {\n",
              "        text-align: right;\n",
              "    }\n",
              "</style>\n",
              "<table border=\"1\" class=\"dataframe\">\n",
              "  <thead>\n",
              "    <tr style=\"text-align: right;\">\n",
              "      <th></th>\n",
              "      <th>eyesclosed_psd_01dot00hz_average</th>\n",
              "      <th>eyesclosed_psd_01dot50hz_average</th>\n",
              "      <th>eyesclosed_psd_02dot00hz_average</th>\n",
              "      <th>eyesclosed_psd_02dot50hz_average</th>\n",
              "      <th>eyesclosed_psd_03dot00hz_average</th>\n",
              "      <th>eyesclosed_psd_03dot50hz_average</th>\n",
              "      <th>eyesclosed_psd_04dot00hz_average</th>\n",
              "      <th>eyesclosed_psd_04dot50hz_average</th>\n",
              "      <th>eyesclosed_psd_05dot00hz_average</th>\n",
              "      <th>eyesclosed_psd_05dot50hz_average</th>\n",
              "      <th>eyesclosed_psd_06dot00hz_average</th>\n",
              "      <th>eyesclosed_psd_06dot50hz_average</th>\n",
              "      <th>eyesclosed_psd_07dot00hz_average</th>\n",
              "      <th>eyesclosed_psd_07dot50hz_average</th>\n",
              "      <th>eyesclosed_psd_08dot00hz_average</th>\n",
              "      <th>eyesclosed_psd_08dot50hz_average</th>\n",
              "      <th>eyesclosed_psd_09dot00hz_average</th>\n",
              "      <th>eyesclosed_psd_09dot50hz_average</th>\n",
              "      <th>eyesclosed_psd_10dot00hz_average</th>\n",
              "      <th>eyesclosed_psd_10dot50hz_average</th>\n",
              "      <th>eyesclosed_psd_11dot00hz_average</th>\n",
              "      <th>eyesclosed_psd_11dot50hz_average</th>\n",
              "      <th>eyesclosed_psd_12dot00hz_average</th>\n",
              "      <th>eyesclosed_psd_12dot50hz_average</th>\n",
              "      <th>eyesclosed_psd_13dot00hz_average</th>\n",
              "      <th>eyesclosed_psd_13dot50hz_average</th>\n",
              "      <th>eyesclosed_psd_14dot00hz_average</th>\n",
              "      <th>eyesclosed_psd_14dot50hz_average</th>\n",
              "      <th>eyesclosed_psd_15dot00hz_average</th>\n",
              "      <th>eyesclosed_psd_15dot50hz_average</th>\n",
              "      <th>eyesclosed_psd_16dot00hz_average</th>\n",
              "      <th>eyesclosed_psd_16dot50hz_average</th>\n",
              "      <th>eyesclosed_psd_17dot00hz_average</th>\n",
              "      <th>eyesclosed_psd_17dot50hz_average</th>\n",
              "      <th>eyesclosed_psd_18dot00hz_average</th>\n",
              "      <th>eyesclosed_psd_18dot50hz_average</th>\n",
              "      <th>eyesclosed_psd_19dot00hz_average</th>\n",
              "      <th>eyesclosed_psd_19dot50hz_average</th>\n",
              "      <th>eyesclosed_psd_20dot00hz_average</th>\n",
              "      <th>eyesclosed_psd_20dot50hz_average</th>\n",
              "      <th>...</th>\n",
              "      <th>eyesopen_psd_70dot50hz_average</th>\n",
              "      <th>eyesopen_psd_71dot00hz_average</th>\n",
              "      <th>eyesopen_psd_71dot50hz_average</th>\n",
              "      <th>eyesopen_psd_72dot00hz_average</th>\n",
              "      <th>eyesopen_psd_72dot50hz_average</th>\n",
              "      <th>eyesopen_psd_73dot00hz_average</th>\n",
              "      <th>eyesopen_psd_73dot50hz_average</th>\n",
              "      <th>eyesopen_psd_74dot00hz_average</th>\n",
              "      <th>eyesopen_psd_74dot50hz_average</th>\n",
              "      <th>eyesopen_psd_75dot00hz_average</th>\n",
              "      <th>eyesopen_psd_75dot50hz_average</th>\n",
              "      <th>eyesopen_psd_76dot00hz_average</th>\n",
              "      <th>eyesopen_psd_76dot50hz_average</th>\n",
              "      <th>eyesopen_psd_77dot00hz_average</th>\n",
              "      <th>eyesopen_psd_77dot50hz_average</th>\n",
              "      <th>eyesopen_psd_78dot00hz_average</th>\n",
              "      <th>eyesopen_psd_78dot50hz_average</th>\n",
              "      <th>eyesopen_psd_79dot00hz_average</th>\n",
              "      <th>eyesopen_psd_79dot50hz_average</th>\n",
              "      <th>eyesopen_psd_80dot00hz_average</th>\n",
              "      <th>eyesopen_psd_80dot50hz_average</th>\n",
              "      <th>eyesopen_psd_81dot00hz_average</th>\n",
              "      <th>eyesopen_psd_81dot50hz_average</th>\n",
              "      <th>eyesopen_psd_82dot00hz_average</th>\n",
              "      <th>eyesopen_psd_82dot50hz_average</th>\n",
              "      <th>eyesopen_psd_83dot00hz_average</th>\n",
              "      <th>eyesopen_psd_83dot50hz_average</th>\n",
              "      <th>eyesopen_psd_84dot00hz_average</th>\n",
              "      <th>eyesopen_psd_84dot50hz_average</th>\n",
              "      <th>eyesopen_psd_85dot00hz_average</th>\n",
              "      <th>eyesopen_psd_85dot50hz_average</th>\n",
              "      <th>eyesopen_psd_86dot00hz_average</th>\n",
              "      <th>eyesopen_psd_86dot50hz_average</th>\n",
              "      <th>eyesopen_psd_87dot00hz_average</th>\n",
              "      <th>eyesopen_psd_87dot50hz_average</th>\n",
              "      <th>eyesopen_psd_88dot00hz_average</th>\n",
              "      <th>eyesopen_psd_88dot50hz_average</th>\n",
              "      <th>eyesopen_psd_89dot00hz_average</th>\n",
              "      <th>eyesopen_psd_89dot50hz_average</th>\n",
              "      <th>eyesopen_psd_90dot00hz_average</th>\n",
              "    </tr>\n",
              "  </thead>\n",
              "  <tbody>\n",
              "    <tr>\n",
              "      <th>0</th>\n",
              "      <td>13.252075</td>\n",
              "      <td>13.171060</td>\n",
              "      <td>10.303562</td>\n",
              "      <td>7.247638</td>\n",
              "      <td>5.177531</td>\n",
              "      <td>4.012201</td>\n",
              "      <td>3.257799</td>\n",
              "      <td>2.716654</td>\n",
              "      <td>2.334777</td>\n",
              "      <td>2.064073</td>\n",
              "      <td>1.951010</td>\n",
              "      <td>2.106707</td>\n",
              "      <td>2.599794</td>\n",
              "      <td>3.398925</td>\n",
              "      <td>5.155590</td>\n",
              "      <td>8.938139</td>\n",
              "      <td>12.533943</td>\n",
              "      <td>11.535839</td>\n",
              "      <td>6.956389</td>\n",
              "      <td>3.230759</td>\n",
              "      <td>1.504203</td>\n",
              "      <td>0.841712</td>\n",
              "      <td>0.597280</td>\n",
              "      <td>0.486366</td>\n",
              "      <td>0.416022</td>\n",
              "      <td>0.391247</td>\n",
              "      <td>0.391266</td>\n",
              "      <td>0.386449</td>\n",
              "      <td>0.366163</td>\n",
              "      <td>0.334611</td>\n",
              "      <td>0.294511</td>\n",
              "      <td>0.267583</td>\n",
              "      <td>0.273096</td>\n",
              "      <td>0.293408</td>\n",
              "      <td>0.299024</td>\n",
              "      <td>0.292122</td>\n",
              "      <td>0.284493</td>\n",
              "      <td>0.257461</td>\n",
              "      <td>0.204511</td>\n",
              "      <td>0.160624</td>\n",
              "      <td>...</td>\n",
              "      <td>0.041974</td>\n",
              "      <td>0.041617</td>\n",
              "      <td>0.038385</td>\n",
              "      <td>0.034233</td>\n",
              "      <td>0.032711</td>\n",
              "      <td>0.033877</td>\n",
              "      <td>0.034532</td>\n",
              "      <td>0.033885</td>\n",
              "      <td>0.033288</td>\n",
              "      <td>0.033455</td>\n",
              "      <td>0.033305</td>\n",
              "      <td>0.032292</td>\n",
              "      <td>0.031645</td>\n",
              "      <td>0.033093</td>\n",
              "      <td>0.035101</td>\n",
              "      <td>0.034616</td>\n",
              "      <td>0.033599</td>\n",
              "      <td>0.034358</td>\n",
              "      <td>0.034409</td>\n",
              "      <td>0.032573</td>\n",
              "      <td>0.030488</td>\n",
              "      <td>0.029183</td>\n",
              "      <td>0.029474</td>\n",
              "      <td>0.031485</td>\n",
              "      <td>0.032308</td>\n",
              "      <td>0.030559</td>\n",
              "      <td>0.028891</td>\n",
              "      <td>0.028484</td>\n",
              "      <td>0.028546</td>\n",
              "      <td>0.028926</td>\n",
              "      <td>0.030418</td>\n",
              "      <td>0.032051</td>\n",
              "      <td>0.030983</td>\n",
              "      <td>0.028301</td>\n",
              "      <td>0.028747</td>\n",
              "      <td>0.031572</td>\n",
              "      <td>0.032276</td>\n",
              "      <td>0.031815</td>\n",
              "      <td>0.030898</td>\n",
              "      <td>0.024803</td>\n",
              "    </tr>\n",
              "    <tr>\n",
              "      <th>1</th>\n",
              "      <td>18.933153</td>\n",
              "      <td>16.288860</td>\n",
              "      <td>10.595218</td>\n",
              "      <td>6.793446</td>\n",
              "      <td>5.170341</td>\n",
              "      <td>4.259245</td>\n",
              "      <td>3.492614</td>\n",
              "      <td>2.900088</td>\n",
              "      <td>2.419868</td>\n",
              "      <td>2.061413</td>\n",
              "      <td>1.849428</td>\n",
              "      <td>1.643705</td>\n",
              "      <td>1.433840</td>\n",
              "      <td>1.284499</td>\n",
              "      <td>1.148665</td>\n",
              "      <td>0.957932</td>\n",
              "      <td>0.774339</td>\n",
              "      <td>0.713294</td>\n",
              "      <td>0.722093</td>\n",
              "      <td>0.685296</td>\n",
              "      <td>0.611052</td>\n",
              "      <td>0.538792</td>\n",
              "      <td>0.473819</td>\n",
              "      <td>0.421145</td>\n",
              "      <td>0.378297</td>\n",
              "      <td>0.333074</td>\n",
              "      <td>0.284930</td>\n",
              "      <td>0.253142</td>\n",
              "      <td>0.256997</td>\n",
              "      <td>0.264753</td>\n",
              "      <td>0.252979</td>\n",
              "      <td>0.235653</td>\n",
              "      <td>0.220426</td>\n",
              "      <td>0.207347</td>\n",
              "      <td>0.197353</td>\n",
              "      <td>0.196580</td>\n",
              "      <td>0.201940</td>\n",
              "      <td>0.198415</td>\n",
              "      <td>0.186404</td>\n",
              "      <td>0.174339</td>\n",
              "      <td>...</td>\n",
              "      <td>0.017367</td>\n",
              "      <td>0.017632</td>\n",
              "      <td>0.018009</td>\n",
              "      <td>0.017191</td>\n",
              "      <td>0.016044</td>\n",
              "      <td>0.015546</td>\n",
              "      <td>0.015629</td>\n",
              "      <td>0.016328</td>\n",
              "      <td>0.017420</td>\n",
              "      <td>0.018440</td>\n",
              "      <td>0.019046</td>\n",
              "      <td>0.019026</td>\n",
              "      <td>0.018132</td>\n",
              "      <td>0.017376</td>\n",
              "      <td>0.016868</td>\n",
              "      <td>0.016151</td>\n",
              "      <td>0.016245</td>\n",
              "      <td>0.018334</td>\n",
              "      <td>0.020296</td>\n",
              "      <td>0.019596</td>\n",
              "      <td>0.017474</td>\n",
              "      <td>0.015387</td>\n",
              "      <td>0.014524</td>\n",
              "      <td>0.015458</td>\n",
              "      <td>0.017637</td>\n",
              "      <td>0.018725</td>\n",
              "      <td>0.017394</td>\n",
              "      <td>0.015399</td>\n",
              "      <td>0.013978</td>\n",
              "      <td>0.013282</td>\n",
              "      <td>0.013946</td>\n",
              "      <td>0.014787</td>\n",
              "      <td>0.014436</td>\n",
              "      <td>0.013733</td>\n",
              "      <td>0.013491</td>\n",
              "      <td>0.013280</td>\n",
              "      <td>0.012857</td>\n",
              "      <td>0.013204</td>\n",
              "      <td>0.013635</td>\n",
              "      <td>0.011250</td>\n",
              "    </tr>\n",
              "    <tr>\n",
              "      <th>2</th>\n",
              "      <td>22.622696</td>\n",
              "      <td>21.394408</td>\n",
              "      <td>15.648336</td>\n",
              "      <td>10.689955</td>\n",
              "      <td>8.211262</td>\n",
              "      <td>7.578229</td>\n",
              "      <td>7.466200</td>\n",
              "      <td>7.003118</td>\n",
              "      <td>6.159468</td>\n",
              "      <td>5.335996</td>\n",
              "      <td>5.093545</td>\n",
              "      <td>5.538321</td>\n",
              "      <td>6.175145</td>\n",
              "      <td>6.734697</td>\n",
              "      <td>7.534442</td>\n",
              "      <td>9.503303</td>\n",
              "      <td>13.546476</td>\n",
              "      <td>17.441251</td>\n",
              "      <td>16.459230</td>\n",
              "      <td>10.850000</td>\n",
              "      <td>5.575627</td>\n",
              "      <td>2.764298</td>\n",
              "      <td>1.496170</td>\n",
              "      <td>0.969445</td>\n",
              "      <td>0.765090</td>\n",
              "      <td>0.666740</td>\n",
              "      <td>0.630320</td>\n",
              "      <td>0.606155</td>\n",
              "      <td>0.548354</td>\n",
              "      <td>0.478655</td>\n",
              "      <td>0.429026</td>\n",
              "      <td>0.403020</td>\n",
              "      <td>0.385353</td>\n",
              "      <td>0.365351</td>\n",
              "      <td>0.345919</td>\n",
              "      <td>0.327228</td>\n",
              "      <td>0.311196</td>\n",
              "      <td>0.298948</td>\n",
              "      <td>0.278150</td>\n",
              "      <td>0.248927</td>\n",
              "      <td>...</td>\n",
              "      <td>0.031273</td>\n",
              "      <td>0.032459</td>\n",
              "      <td>0.032566</td>\n",
              "      <td>0.031523</td>\n",
              "      <td>0.032054</td>\n",
              "      <td>0.034274</td>\n",
              "      <td>0.035031</td>\n",
              "      <td>0.033881</td>\n",
              "      <td>0.032438</td>\n",
              "      <td>0.030898</td>\n",
              "      <td>0.029622</td>\n",
              "      <td>0.029223</td>\n",
              "      <td>0.030502</td>\n",
              "      <td>0.032380</td>\n",
              "      <td>0.032818</td>\n",
              "      <td>0.031978</td>\n",
              "      <td>0.031986</td>\n",
              "      <td>0.032543</td>\n",
              "      <td>0.031722</td>\n",
              "      <td>0.030049</td>\n",
              "      <td>0.029465</td>\n",
              "      <td>0.030448</td>\n",
              "      <td>0.031399</td>\n",
              "      <td>0.031733</td>\n",
              "      <td>0.032177</td>\n",
              "      <td>0.031858</td>\n",
              "      <td>0.030657</td>\n",
              "      <td>0.030272</td>\n",
              "      <td>0.030468</td>\n",
              "      <td>0.030211</td>\n",
              "      <td>0.030175</td>\n",
              "      <td>0.029631</td>\n",
              "      <td>0.028393</td>\n",
              "      <td>0.027592</td>\n",
              "      <td>0.027952</td>\n",
              "      <td>0.028634</td>\n",
              "      <td>0.028677</td>\n",
              "      <td>0.028734</td>\n",
              "      <td>0.027461</td>\n",
              "      <td>0.021914</td>\n",
              "    </tr>\n",
              "    <tr>\n",
              "      <th>3</th>\n",
              "      <td>7.616088</td>\n",
              "      <td>7.465304</td>\n",
              "      <td>5.674827</td>\n",
              "      <td>4.346300</td>\n",
              "      <td>4.118548</td>\n",
              "      <td>4.603765</td>\n",
              "      <td>4.924242</td>\n",
              "      <td>4.317279</td>\n",
              "      <td>3.072319</td>\n",
              "      <td>2.088074</td>\n",
              "      <td>1.693134</td>\n",
              "      <td>1.736706</td>\n",
              "      <td>2.225522</td>\n",
              "      <td>3.109757</td>\n",
              "      <td>3.669119</td>\n",
              "      <td>3.176001</td>\n",
              "      <td>2.150910</td>\n",
              "      <td>1.483975</td>\n",
              "      <td>1.148956</td>\n",
              "      <td>0.805825</td>\n",
              "      <td>0.505406</td>\n",
              "      <td>0.368324</td>\n",
              "      <td>0.326578</td>\n",
              "      <td>0.309621</td>\n",
              "      <td>0.302778</td>\n",
              "      <td>0.295409</td>\n",
              "      <td>0.280534</td>\n",
              "      <td>0.261327</td>\n",
              "      <td>0.246840</td>\n",
              "      <td>0.241667</td>\n",
              "      <td>0.236341</td>\n",
              "      <td>0.220557</td>\n",
              "      <td>0.199960</td>\n",
              "      <td>0.182535</td>\n",
              "      <td>0.170176</td>\n",
              "      <td>0.166696</td>\n",
              "      <td>0.170470</td>\n",
              "      <td>0.174641</td>\n",
              "      <td>0.167333</td>\n",
              "      <td>0.150467</td>\n",
              "      <td>...</td>\n",
              "      <td>0.026323</td>\n",
              "      <td>0.025747</td>\n",
              "      <td>0.024412</td>\n",
              "      <td>0.021701</td>\n",
              "      <td>0.020773</td>\n",
              "      <td>0.022615</td>\n",
              "      <td>0.023941</td>\n",
              "      <td>0.023632</td>\n",
              "      <td>0.023145</td>\n",
              "      <td>0.022699</td>\n",
              "      <td>0.021593</td>\n",
              "      <td>0.021579</td>\n",
              "      <td>0.024250</td>\n",
              "      <td>0.025981</td>\n",
              "      <td>0.024421</td>\n",
              "      <td>0.022734</td>\n",
              "      <td>0.022453</td>\n",
              "      <td>0.022062</td>\n",
              "      <td>0.021018</td>\n",
              "      <td>0.019736</td>\n",
              "      <td>0.019001</td>\n",
              "      <td>0.019659</td>\n",
              "      <td>0.021479</td>\n",
              "      <td>0.023029</td>\n",
              "      <td>0.022652</td>\n",
              "      <td>0.020846</td>\n",
              "      <td>0.020567</td>\n",
              "      <td>0.021772</td>\n",
              "      <td>0.022186</td>\n",
              "      <td>0.023255</td>\n",
              "      <td>0.024436</td>\n",
              "      <td>0.022657</td>\n",
              "      <td>0.020194</td>\n",
              "      <td>0.019508</td>\n",
              "      <td>0.018648</td>\n",
              "      <td>0.016907</td>\n",
              "      <td>0.016236</td>\n",
              "      <td>0.017126</td>\n",
              "      <td>0.017212</td>\n",
              "      <td>0.013901</td>\n",
              "    </tr>\n",
              "    <tr>\n",
              "      <th>4</th>\n",
              "      <td>11.608390</td>\n",
              "      <td>10.456798</td>\n",
              "      <td>7.934045</td>\n",
              "      <td>5.786838</td>\n",
              "      <td>4.170480</td>\n",
              "      <td>3.224944</td>\n",
              "      <td>2.740215</td>\n",
              "      <td>2.349415</td>\n",
              "      <td>1.958827</td>\n",
              "      <td>1.607111</td>\n",
              "      <td>1.308273</td>\n",
              "      <td>1.094446</td>\n",
              "      <td>1.043282</td>\n",
              "      <td>1.209117</td>\n",
              "      <td>1.633459</td>\n",
              "      <td>2.360477</td>\n",
              "      <td>3.401965</td>\n",
              "      <td>4.608664</td>\n",
              "      <td>5.151809</td>\n",
              "      <td>4.256539</td>\n",
              "      <td>2.614861</td>\n",
              "      <td>1.457028</td>\n",
              "      <td>1.020486</td>\n",
              "      <td>0.910847</td>\n",
              "      <td>0.896932</td>\n",
              "      <td>0.884207</td>\n",
              "      <td>0.836849</td>\n",
              "      <td>0.775844</td>\n",
              "      <td>0.708736</td>\n",
              "      <td>0.648845</td>\n",
              "      <td>0.600528</td>\n",
              "      <td>0.542329</td>\n",
              "      <td>0.470181</td>\n",
              "      <td>0.423256</td>\n",
              "      <td>0.410798</td>\n",
              "      <td>0.413140</td>\n",
              "      <td>0.421245</td>\n",
              "      <td>0.418983</td>\n",
              "      <td>0.397065</td>\n",
              "      <td>0.360176</td>\n",
              "      <td>...</td>\n",
              "      <td>0.113279</td>\n",
              "      <td>0.114524</td>\n",
              "      <td>0.111252</td>\n",
              "      <td>0.109279</td>\n",
              "      <td>0.106344</td>\n",
              "      <td>0.105440</td>\n",
              "      <td>0.111025</td>\n",
              "      <td>0.113986</td>\n",
              "      <td>0.108479</td>\n",
              "      <td>0.103986</td>\n",
              "      <td>0.102399</td>\n",
              "      <td>0.093157</td>\n",
              "      <td>0.085754</td>\n",
              "      <td>0.094398</td>\n",
              "      <td>0.105060</td>\n",
              "      <td>0.101131</td>\n",
              "      <td>0.091100</td>\n",
              "      <td>0.090297</td>\n",
              "      <td>0.093152</td>\n",
              "      <td>0.092081</td>\n",
              "      <td>0.090758</td>\n",
              "      <td>0.091546</td>\n",
              "      <td>0.092549</td>\n",
              "      <td>0.090458</td>\n",
              "      <td>0.090128</td>\n",
              "      <td>0.093742</td>\n",
              "      <td>0.091682</td>\n",
              "      <td>0.088568</td>\n",
              "      <td>0.092612</td>\n",
              "      <td>0.098956</td>\n",
              "      <td>0.102336</td>\n",
              "      <td>0.097143</td>\n",
              "      <td>0.088040</td>\n",
              "      <td>0.084683</td>\n",
              "      <td>0.088784</td>\n",
              "      <td>0.095170</td>\n",
              "      <td>0.098684</td>\n",
              "      <td>0.094657</td>\n",
              "      <td>0.079672</td>\n",
              "      <td>0.056901</td>\n",
              "    </tr>\n",
              "  </tbody>\n",
              "</table>\n",
              "<p>5 rows × 340 columns</p>\n",
              "</div>"
            ],
            "text/plain": [
              "   eyesclosed_psd_01dot00hz_average  ...  eyesopen_psd_90dot00hz_average\n",
              "0                         13.252075  ...                        0.024803\n",
              "1                         18.933153  ...                        0.011250\n",
              "2                         22.622696  ...                        0.021914\n",
              "3                          7.616088  ...                        0.013901\n",
              "4                         11.608390  ...                        0.056901\n",
              "\n",
              "[5 rows x 340 columns]"
            ]
          },
          "metadata": {
            "tags": []
          },
          "execution_count": 91
        }
      ]
    },
    {
      "cell_type": "code",
      "metadata": {
        "id": "Ao3whVMUod-a",
        "colab_type": "code",
        "outputId": "474c7744-6b53-48ca-f238-597f2be3a5e4",
        "colab": {
          "base_uri": "https://localhost:8080/",
          "height": 1000
        }
      },
      "source": [
        "for disorder in y.columns.values:\n",
        "  print(\"===============\",disorder,\"===================\")\n",
        "  x_=np.concatenate((x[y[disorder]==1].values,x[y_none].values),axis=0)\n",
        "  y_=np.concatenate((np.ones(sum(y[disorder].values==1)),np.zeros(sum(y_none))),axis=0)\n",
        "  print(\"Number of Subjects: \",y_.shape[0])\n",
        "  print(\"Positive: \",sum(y_==1))\n",
        "  print(\"Negative: \",sum(y_==0))\n",
        "  print()\n",
        "  binary_classifier(x_,y_)\n",
        "  print()"
      ],
      "execution_count": 0,
      "outputs": [
        {
          "output_type": "stream",
          "text": [
            "=============== Neurodevelopmental Disorders ===================\n",
            "Number of Subjects:  1111\n",
            "Positive:  940\n",
            "Negative:  171\n",
            "\n",
            "Logistic Regression\n",
            "-------------------\n",
            "Accuracy : 0.5832583258325833\n",
            "Balanced Accuracy : 0.5456140350877192\n",
            "f1-score : 0.4876160574387825\n",
            "[[ 84  87]\n",
            " [376 564]]\n",
            "\n",
            "Random Forest\n",
            "-----------------\n",
            "Accuracy : 0.7776777677767777\n",
            "Balanced Accuracy : 0.5409045663804902\n",
            "f1-score : 0.5431751025877927\n",
            "[[ 34 137]\n",
            " [110 830]]\n",
            "\n",
            "SVM\n",
            "----------------\n",
            "Accuracy : 0.6111611161116112\n",
            "Balanced Accuracy : 0.5286145327858653\n",
            "f1-score : 0.49146853146853153\n",
            "[[ 70 101]\n",
            " [331 609]]\n",
            "\n",
            "=============== Anxiety Disorders ===================\n",
            "Number of Subjects:  472\n",
            "Positive:  301\n",
            "Negative:  171\n",
            "\n",
            "Logistic Regression\n",
            "-------------------\n",
            "Accuracy : 0.5360169491525424\n",
            "Balanced Accuracy : 0.520030696897282\n",
            "f1-score : 0.516427378496344\n",
            "[[ 79  92]\n",
            " [127 174]]\n",
            "\n",
            "Random Forest\n",
            "-----------------\n",
            "Accuracy : 0.5889830508474576\n",
            "Balanced Accuracy : 0.5438790775388083\n",
            "f1-score : 0.5441656710473914\n",
            "[[ 65 106]\n",
            " [ 88 213]]\n",
            "\n",
            "SVM\n",
            "----------------\n",
            "Accuracy : 0.538135593220339\n",
            "Balanced Accuracy : 0.5115890501447417\n",
            "f1-score : 0.5105783866057838\n",
            "[[ 71 100]\n",
            " [118 183]]\n",
            "\n",
            "=============== Disruptive ===================\n",
            "Number of Subjects:  374\n",
            "Positive:  203\n",
            "Negative:  171\n",
            "\n",
            "Logistic Regression\n",
            "-------------------\n",
            "Accuracy : 0.45187165775401067\n",
            "Balanced Accuracy : 0.45589548584103934\n",
            "f1-score : 0.45183638742519683\n",
            "[[ 86  85]\n",
            " [120  83]]\n",
            "\n",
            "Random Forest\n",
            "-----------------\n",
            "Accuracy : 0.5855614973262032\n",
            "Balanced Accuracy : 0.5818137297266154\n",
            "f1-score : 0.581899878111229\n",
            "[[ 92  79]\n",
            " [ 76 127]]\n",
            "\n",
            "SVM\n",
            "----------------\n",
            "Accuracy : 0.5080213903743316\n",
            "Balanced Accuracy : 0.5154553049289892\n",
            "f1-score : 0.5071193238791003\n",
            "[[103  68]\n",
            " [116  87]]\n",
            "\n",
            "=============== Depressive Disorders ===================\n",
            "Number of Subjects:  285\n",
            "Positive:  114\n",
            "Negative:  171\n",
            "\n",
            "Logistic Regression\n",
            "-------------------\n",
            "Accuracy : 0.6456140350877193\n",
            "Balanced Accuracy : 0.6608187134502923\n",
            "f1-score : 0.6444935716138276\n",
            "[[100  71]\n",
            " [ 30  84]]\n",
            "\n",
            "Random Forest\n",
            "-----------------\n",
            "Accuracy : 0.6350877192982456\n",
            "Balanced Accuracy : 0.6081871345029239\n",
            "f1-score : 0.6094655844840309\n",
            "[[127  44]\n",
            " [ 60  54]]\n",
            "\n",
            "SVM\n",
            "----------------\n",
            "Accuracy : 0.6631578947368421\n",
            "Balanced Accuracy : 0.6695906432748537\n",
            "f1-score : 0.6596337579617835\n",
            "[[109  62]\n",
            " [ 34  80]]\n",
            "\n",
            "=============== Elimination Disorders ===================\n",
            "Number of Subjects:  228\n",
            "Positive:  57\n",
            "Negative:  171\n",
            "\n",
            "Logistic Regression\n",
            "-------------------\n",
            "Accuracy : 0.5789473684210527\n",
            "Balanced Accuracy : 0.5380116959064327\n",
            "f1-score : 0.5198315198315199\n",
            "[[106  65]\n",
            " [ 31  26]]\n",
            "\n",
            "Random Forest\n",
            "-----------------\n",
            "Accuracy : 0.7192982456140351\n",
            "Balanced Accuracy : 0.5146198830409356\n",
            "f1-score : 0.49473684210526314\n",
            "[[158  13]\n",
            " [ 51   6]]\n",
            "\n",
            "SVM\n",
            "----------------\n",
            "Accuracy : 0.5789473684210527\n",
            "Balanced Accuracy : 0.47953216374269003\n",
            "f1-score : 0.4786585365853658\n",
            "[[116  55]\n",
            " [ 41  16]]\n",
            "\n"
          ],
          "name": "stdout"
        }
      ]
    },
    {
      "cell_type": "markdown",
      "metadata": {
        "id": "Yo4JDcdNJZqG",
        "colab_type": "text"
      },
      "source": [
        "#### PCA\n"
      ]
    },
    {
      "cell_type": "code",
      "metadata": {
        "id": "3elTtyGjmEgX",
        "colab_type": "code",
        "colab": {}
      },
      "source": [
        "x=(x-x.mean())/x.std()\n",
        "pca=PCA().fit(x)\n"
      ],
      "execution_count": 0,
      "outputs": []
    },
    {
      "cell_type": "code",
      "metadata": {
        "id": "Y3Y2Gckb16GR",
        "colab_type": "code",
        "outputId": "5b30a3eb-d81c-4e44-b40f-07a9b554c58e",
        "colab": {
          "base_uri": "https://localhost:8080/",
          "height": 282
        }
      },
      "source": [
        "plt.plot(pca.singular_values_[:50])"
      ],
      "execution_count": 0,
      "outputs": [
        {
          "output_type": "execute_result",
          "data": {
            "text/plain": [
              "[<matplotlib.lines.Line2D at 0x7fccc5c7cdd8>]"
            ]
          },
          "metadata": {
            "tags": []
          },
          "execution_count": 94
        },
        {
          "output_type": "display_data",
          "data": {
            "image/png": "[encoded data removed]",
            "text/plain": [
              "<Figure size 432x288 with 1 Axes>"
            ]
          },
          "metadata": {
            "tags": []
          }
        }
      ]
    },
    {
      "cell_type": "code",
      "metadata": {
        "id": "I0FoOayW2Eg0",
        "colab_type": "code",
        "colab": {}
      },
      "source": [
        "pca_x=pca.transform(x)[:,:10]"
      ],
      "execution_count": 0,
      "outputs": []
    },
    {
      "cell_type": "code",
      "metadata": {
        "id": "wONUuDZh2JR9",
        "colab_type": "code",
        "outputId": "85daef57-3c70-499a-c583-06a72c986680",
        "colab": {
          "base_uri": "https://localhost:8080/",
          "height": 1000
        }
      },
      "source": [
        "for disorder in y.columns.values:\n",
        "  print(\"===============\",disorder,\"===================\")\n",
        "  x_=np.concatenate((pca_x[y[disorder]==1],pca_x[y_none]),axis=0)\n",
        "  y_=np.concatenate((np.ones(sum(y[disorder].values==1)),np.zeros(sum(y_none))),axis=0)\n",
        "  print(\"Number of Subjects: \",y_.shape[0])\n",
        "  print(\"Positive: \",sum(y_==1))\n",
        "  print(\"Negative: \",sum(y_==0))\n",
        "  print()\n",
        "  binary_classifier(x_,y_,classifiers=['SVM','Logistic'])\n",
        "  print()"
      ],
      "execution_count": 0,
      "outputs": [
        {
          "output_type": "stream",
          "text": [
            "=============== Neurodevelopmental Disorders ===================\n",
            "Number of Subjects:  1111\n",
            "Positive:  940\n",
            "Negative:  171\n",
            "\n",
            "Logistic Regression\n",
            "-------------------\n",
            "Accuracy : 0.5454545454545454\n",
            "Balanced Accuracy : 0.5280577329849446\n",
            "f1-score : 0.46360059849038926\n",
            "[[ 86  85]\n",
            " [420 520]]\n",
            "\n",
            "SVM\n",
            "----------------\n",
            "Accuracy : 0.8037803780378038\n",
            "Balanced Accuracy : 0.49892061714570113\n",
            "f1-score : 0.4870772905936568\n",
            "[[ 10 161]\n",
            " [ 57 883]]\n",
            "\n",
            "=============== Anxiety Disorders ===================\n",
            "Number of Subjects:  472\n",
            "Positive:  301\n",
            "Negative:  171\n",
            "\n",
            "Logistic Regression\n",
            "-------------------\n",
            "Accuracy : 0.565677966101695\n",
            "Balanced Accuracy : 0.5496007460511745\n",
            "f1-score : 0.5456914401618909\n",
            "[[ 84  87]\n",
            " [118 183]]\n",
            "\n",
            "SVM\n",
            "----------------\n",
            "Accuracy : 0.5720338983050848\n",
            "Balanced Accuracy : 0.48260185347088647\n",
            "f1-score : 0.4586664244186046\n",
            "[[ 27 144]\n",
            " [ 58 243]]\n",
            "\n",
            "=============== Disruptive ===================\n",
            "Number of Subjects:  374\n",
            "Positive:  203\n",
            "Negative:  171\n",
            "\n",
            "Logistic Regression\n",
            "-------------------\n",
            "Accuracy : 0.4946524064171123\n",
            "Balanced Accuracy : 0.5012963443090485\n",
            "f1-score : 0.49404110030277654\n",
            "[[ 99  72]\n",
            " [117  86]]\n",
            "\n",
            "SVM\n",
            "----------------\n",
            "Accuracy : 0.5320855614973262\n",
            "Balanced Accuracy : 0.5127329818799873\n",
            "f1-score : 0.49527665317139\n",
            "[[ 49 122]\n",
            " [ 53 150]]\n",
            "\n",
            "=============== Depressive Disorders ===================\n",
            "Number of Subjects:  285\n",
            "Positive:  114\n",
            "Negative:  171\n",
            "\n",
            "Logistic Regression\n",
            "-------------------\n",
            "Accuracy : 0.6526315789473685\n",
            "Balanced Accuracy : 0.6666666666666666\n",
            "f1-score : 0.6512404049393704\n",
            "[[102  69]\n",
            " [ 30  84]]\n",
            "\n",
            "SVM\n",
            "----------------\n",
            "Accuracy : 0.5964912280701754\n",
            "Balanced Accuracy : 0.5394736842105263\n",
            "f1-score : 0.5227937857631658\n",
            "[[141  30]\n",
            " [ 85  29]]\n",
            "\n",
            "=============== Elimination Disorders ===================\n",
            "Number of Subjects:  228\n",
            "Positive:  57\n",
            "Negative:  171\n",
            "\n",
            "Logistic Regression\n",
            "-------------------\n",
            "Accuracy : 0.6140350877192983\n",
            "Balanced Accuracy : 0.6081871345029239\n",
            "f1-score : 0.5712820512820513\n",
            "[[106  65]\n",
            " [ 23  34]]\n",
            "\n",
            "SVM\n",
            "----------------\n",
            "Accuracy : 0.7192982456140351\n",
            "Balanced Accuracy : 0.5087719298245614\n",
            "f1-score : 0.48379793405971416\n",
            "[[159  12]\n",
            " [ 52   5]]\n",
            "\n"
          ],
          "name": "stdout"
        }
      ]
    },
    {
      "cell_type": "markdown",
      "metadata": {
        "id": "e1dwXAMupiM6",
        "colab_type": "text"
      },
      "source": [
        "### EEG SPECTRO\n"
      ]
    },
    {
      "cell_type": "code",
      "metadata": {
        "id": "Lej6cf646RWZ",
        "colab_type": "code",
        "colab": {}
      },
      "source": [
        "y_none=eeg_spectro_labels[no_diagnosis_given].values==0\n",
        "y=eeg_spectro_labels[most_common_disorders]"
      ],
      "execution_count": 0,
      "outputs": []
    },
    {
      "cell_type": "code",
      "metadata": {
        "id": "oRSFx9d4ppOF",
        "colab_type": "code",
        "colab": {}
      },
      "source": [
        "x=eeg_spectro_labels.drop(columns=[\"id\"]+list(most_common_disorders)+[no_diagnosis_given])"
      ],
      "execution_count": 0,
      "outputs": []
    },
    {
      "cell_type": "code",
      "metadata": {
        "id": "LMLJ19feJ3pl",
        "colab_type": "code",
        "outputId": "b37a4233-4ac6-4964-806c-21f1f9aa7133",
        "colab": {
          "base_uri": "https://localhost:8080/",
          "height": 34
        }
      },
      "source": [
        "x.shape"
      ],
      "execution_count": 0,
      "outputs": [
        {
          "output_type": "execute_result",
          "data": {
            "text/plain": [
              "(1277, 60)"
            ]
          },
          "metadata": {
            "tags": []
          },
          "execution_count": 99
        }
      ]
    },
    {
      "cell_type": "code",
      "metadata": {
        "id": "TGc1pbMSr9n8",
        "colab_type": "code",
        "outputId": "463bfef5-7ca2-4bc4-a492-8f5890ea2b58",
        "colab": {
          "base_uri": "https://localhost:8080/",
          "height": 221
        }
      },
      "source": [
        "# proportion of missing values per column with missing values\n",
        "missing=sum(x.isnull().values)/x.shape[0]\n",
        "for id,column in enumerate(x.columns.values):\n",
        "  if (missing[id]>0):\n",
        "    print(column,\": \",missing[id])"
      ],
      "execution_count": 0,
      "outputs": [
        {
          "output_type": "stream",
          "text": [
            "eyesclosed_alphapeak_max_freq :  0.16836335160532498\n",
            "eyesclosed_alphapeak_max_amplitude :  0.16836335160532498\n",
            "eyesclosed_alphapeak_derivative_freq :  0.1581832419733751\n",
            "eyesclosed_alphapeak_derivative_amplitude :  0.1581832419733751\n",
            "eyesclosed_fooof_peak_freq_average :  0.0031323414252153485\n",
            "eyesclosed_fooof_peak_amplitude_average :  0.0031323414252153485\n",
            "eyesopen_alphapeak_max_freq :  0.33046202036021927\n",
            "eyesopen_alphapeak_max_amplitude :  0.33046202036021927\n",
            "eyesopen_alphapeak_derivative_freq :  0.2725137039937353\n",
            "eyesopen_alphapeak_derivative_amplitude :  0.2725137039937353\n",
            "eyesopen_fooof_peak_freq_average :  0.004698512137823023\n",
            "eyesopen_fooof_peak_amplitude_average :  0.004698512137823023\n"
          ],
          "name": "stdout"
        }
      ]
    },
    {
      "cell_type": "code",
      "metadata": {
        "id": "ZXHTTbKKJtzc",
        "colab_type": "code",
        "colab": {}
      },
      "source": [
        "x=x.drop(columns=x.columns[missing>0.2])\n",
        "x.fillna(x.mean(),inplace=True)"
      ],
      "execution_count": 0,
      "outputs": []
    },
    {
      "cell_type": "code",
      "metadata": {
        "id": "YNvL5w8MrHZe",
        "colab_type": "code",
        "outputId": "85942a4c-20af-4a58-928f-266ce79d1222",
        "colab": {
          "base_uri": "https://localhost:8080/",
          "height": 1000
        }
      },
      "source": [
        "for disorder in y.columns.values:\n",
        "  print(\"===============\",disorder,\"===================\")\n",
        "  x_=np.concatenate((x[y[disorder]==1].values,x[y_none].values),axis=0)\n",
        "  y_=np.concatenate((np.ones(sum(y[disorder].values==1)),np.zeros(sum(y_none))),axis=0)\n",
        "  print(\"Number of Subjects: \",y_.shape[0])\n",
        "  print(\"Positive: \",sum(y_==1))\n",
        "  print(\"Negative: \",sum(y_==0))\n",
        "  print()\n",
        "  binary_classifier(x_,y_)\n",
        "  print()\n"
      ],
      "execution_count": 0,
      "outputs": [
        {
          "output_type": "stream",
          "text": [
            "=============== Neurodevelopmental Disorders ===================\n",
            "Number of Subjects:  1111\n",
            "Positive:  940\n",
            "Negative:  171\n",
            "\n",
            "Logistic Regression\n",
            "-------------------\n",
            "Accuracy : 0.5643564356435643\n",
            "Balanced Accuracy : 0.5272676371780515\n",
            "f1-score : 0.471833697411639\n",
            "[[ 81  90]\n",
            " [394 546]]\n",
            "\n",
            "Random Forest\n",
            "-----------------\n",
            "Accuracy : 0.7866786678667866\n",
            "Balanced Accuracy : 0.5103427895981087\n",
            "f1-score : 0.5082280431432973\n",
            "[[ 19 152]\n",
            " [ 85 855]]\n",
            "\n",
            "SVM\n",
            "----------------\n",
            "Accuracy : 0.7605760576057605\n",
            "Balanced Accuracy : 0.5212299365434864\n",
            "f1-score : 0.5218768605524061\n",
            "[[ 30 141]\n",
            " [125 815]]\n",
            "\n",
            "=============== Anxiety Disorders ===================\n",
            "Number of Subjects:  472\n",
            "Positive:  301\n",
            "Negative:  171\n",
            "\n",
            "Logistic Regression\n",
            "-------------------\n",
            "Accuracy : 0.5233050847457628\n",
            "Balanced Accuracy : 0.5088010724485632\n",
            "f1-score : 0.5049020293422469\n",
            "[[ 78  93]\n",
            " [132 169]]\n",
            "\n",
            "Random Forest\n",
            "-----------------\n",
            "Accuracy : 0.6059322033898306\n",
            "Balanced Accuracy : 0.5445396436828506\n",
            "f1-score : 0.5422922922922924\n",
            "[[ 55 116]\n",
            " [ 70 231]]\n",
            "\n",
            "SVM\n",
            "----------------\n",
            "Accuracy : 0.5805084745762712\n",
            "Balanced Accuracy : 0.5283946299858173\n",
            "f1-score : 0.5275705186533213\n",
            "[[ 58 113]\n",
            " [ 85 216]]\n",
            "\n",
            "=============== Disruptive ===================\n",
            "Number of Subjects:  374\n",
            "Positive:  203\n",
            "Negative:  171\n",
            "\n",
            "Logistic Regression\n",
            "-------------------\n",
            "Accuracy : 0.48663101604278075\n",
            "Balanced Accuracy : 0.49114164722150205\n",
            "f1-score : 0.48657228657228657\n",
            "[[ 93  78]\n",
            " [114  89]]\n",
            "\n",
            "Random Forest\n",
            "-----------------\n",
            "Accuracy : 0.5347593582887701\n",
            "Balanced Accuracy : 0.531328320802005\n",
            "f1-score : 0.531328320802005\n",
            "[[ 84  87]\n",
            " [ 87 116]]\n",
            "\n",
            "SVM\n",
            "----------------\n",
            "Accuracy : 0.553475935828877\n",
            "Balanced Accuracy : 0.5490306225333449\n",
            "f1-score : 0.5490625022562037\n",
            "[[ 85  86]\n",
            " [ 81 122]]\n",
            "\n",
            "=============== Depressive Disorders ===================\n",
            "Number of Subjects:  285\n",
            "Positive:  114\n",
            "Negative:  171\n",
            "\n",
            "Logistic Regression\n",
            "-------------------\n",
            "Accuracy : 0.6631578947368421\n",
            "Balanced Accuracy : 0.6564327485380117\n",
            "f1-score : 0.6537410144780804\n",
            "[[118  53]\n",
            " [ 43  71]]\n",
            "\n",
            "Random Forest\n",
            "-----------------\n",
            "Accuracy : 0.6912280701754386\n",
            "Balanced Accuracy : 0.6783625730994152\n",
            "f1-score : 0.6783625730994152\n",
            "[[127  44]\n",
            " [ 44  70]]\n",
            "\n",
            "SVM\n",
            "----------------\n",
            "Accuracy : 0.656140350877193\n",
            "Balanced Accuracy : 0.6345029239766082\n",
            "f1-score : 0.6360248123436196\n",
            "[[127  44]\n",
            " [ 54  60]]\n",
            "\n",
            "=============== Elimination Disorders ===================\n",
            "Number of Subjects:  228\n",
            "Positive:  57\n",
            "Negative:  171\n",
            "\n",
            "Logistic Regression\n",
            "-------------------\n",
            "Accuracy : 0.6096491228070176\n",
            "Balanced Accuracy : 0.5877192982456141\n",
            "f1-score : 0.5593963739007708\n",
            "[[108  63]\n",
            " [ 26  31]]\n",
            "\n",
            "Random Forest\n",
            "-----------------\n",
            "Accuracy : 0.6710526315789473\n",
            "Balanced Accuracy : 0.5292397660818713\n",
            "f1-score : 0.5296900354795235\n",
            "[[139  32]\n",
            " [ 43  14]]\n",
            "\n",
            "SVM\n",
            "----------------\n",
            "Accuracy : 0.6885964912280702\n",
            "Balanced Accuracy : 0.5467836257309941\n",
            "f1-score : 0.5485148514851484\n",
            "[[142  29]\n",
            " [ 42  15]]\n",
            "\n"
          ],
          "name": "stdout"
        }
      ]
    },
    {
      "cell_type": "markdown",
      "metadata": {
        "id": "6O4TZGWRKpw5",
        "colab_type": "text"
      },
      "source": [
        "#### PCA\n"
      ]
    },
    {
      "cell_type": "code",
      "metadata": {
        "id": "NSLmEda4Yi0k",
        "colab_type": "code",
        "colab": {}
      },
      "source": [
        "x=(x-x.mean())/x.std()"
      ],
      "execution_count": 0,
      "outputs": []
    },
    {
      "cell_type": "code",
      "metadata": {
        "id": "ZDRRIibAYn9X",
        "colab_type": "code",
        "colab": {}
      },
      "source": [
        "pca=PCA().fit(x)"
      ],
      "execution_count": 0,
      "outputs": []
    },
    {
      "cell_type": "code",
      "metadata": {
        "id": "0msDa1bMYs3M",
        "colab_type": "code",
        "outputId": "9d9a618f-f71f-40bb-8b9a-bad874e9a0d1",
        "colab": {
          "base_uri": "https://localhost:8080/",
          "height": 285
        }
      },
      "source": [
        "plt.plot(range(1,len(pca.singular_values_[:100])+1),pca.singular_values_[:100])"
      ],
      "execution_count": 0,
      "outputs": [
        {
          "output_type": "execute_result",
          "data": {
            "text/plain": [
              "[<matplotlib.lines.Line2D at 0x7fccc5ade7f0>]"
            ]
          },
          "metadata": {
            "tags": []
          },
          "execution_count": 105
        },
        {
          "output_type": "display_data",
          "data": {
            "image/png": "[encoded data removed]",
            "text/plain": [
              "<Figure size 432x288 with 1 Axes>"
            ]
          },
          "metadata": {
            "tags": []
          }
        }
      ]
    },
    {
      "cell_type": "code",
      "metadata": {
        "id": "NSGzw2ZQZCk7",
        "colab_type": "code",
        "colab": {}
      },
      "source": [
        "pca_x=pca.transform(x)[:,:30]"
      ],
      "execution_count": 0,
      "outputs": []
    },
    {
      "cell_type": "code",
      "metadata": {
        "id": "UOSgHGdj1dAM",
        "colab_type": "code",
        "outputId": "26c440bb-cd8f-41e3-e5de-8df5e564449f",
        "colab": {
          "base_uri": "https://localhost:8080/",
          "height": 1000
        }
      },
      "source": [
        "for disorder in y.columns.values:\n",
        "  print(\"===============\",disorder,\"===================\")\n",
        "  x_=np.concatenate((pca_x[y[disorder]==1],pca_x[y_none]),axis=0)\n",
        "  y_=np.concatenate((np.ones(sum(y[disorder].values==1)),np.zeros(sum(y_none))),axis=0)\n",
        "  print(\"Number of Subjects: \",y_.shape[0])\n",
        "  print(\"Positive: \",sum(y_==1))\n",
        "  print(\"Negative: \",sum(y_==0))\n",
        "  print()\n",
        "  binary_classifier(x_,y_)\n",
        "  print()"
      ],
      "execution_count": 0,
      "outputs": [
        {
          "output_type": "stream",
          "text": [
            "=============== Neurodevelopmental Disorders ===================\n",
            "Number of Subjects:  1111\n",
            "Positive:  940\n",
            "Negative:  171\n",
            "\n",
            "Logistic Regression\n",
            "-------------------\n",
            "Accuracy : 0.5697569756975698\n",
            "Balanced Accuracy : 0.5304591265397536\n",
            "f1-score : 0.4754879108723135\n",
            "[[ 81  90]\n",
            " [388 552]]\n",
            "\n",
            "Random Forest\n",
            "-----------------\n",
            "Accuracy : 0.8055805580558055\n",
            "Balanced Accuracy : 0.5095526937912156\n",
            "f1-score : 0.5027764425069203\n",
            "[[ 14 157]\n",
            " [ 59 881]]\n",
            "\n",
            "SVM\n",
            "----------------\n",
            "Accuracy : 0.7155715571557155\n",
            "Balanced Accuracy : 0.5185548090083365\n",
            "f1-score : 0.5144821711086771\n",
            "[[ 40 131]\n",
            " [185 755]]\n",
            "\n",
            "=============== Anxiety Disorders ===================\n",
            "Number of Subjects:  472\n",
            "Positive:  301\n",
            "Negative:  171\n",
            "\n",
            "Logistic Regression\n",
            "-------------------\n",
            "Accuracy : 0.5338983050847458\n",
            "Balanced Accuracy : 0.529735190689903\n",
            "f1-score : 0.521492295214923\n",
            "[[ 88  83]\n",
            " [137 164]]\n",
            "\n",
            "Random Forest\n",
            "-----------------\n",
            "Accuracy : 0.5889830508474576\n",
            "Balanced Accuracy : 0.5110450544967069\n",
            "f1-score : 0.4990371148459384\n",
            "[[ 39 132]\n",
            " [ 62 239]]\n",
            "\n",
            "SVM\n",
            "----------------\n",
            "Accuracy : 0.586864406779661\n",
            "Balanced Accuracy : 0.5485321831711061\n",
            "f1-score : 0.5488567017131093\n",
            "[[ 70 101]\n",
            " [ 94 207]]\n",
            "\n",
            "=============== Disruptive ===================\n",
            "Number of Subjects:  374\n",
            "Positive:  203\n",
            "Negative:  171\n",
            "\n",
            "Logistic Regression\n",
            "-------------------\n",
            "Accuracy : 0.5080213903743316\n",
            "Balanced Accuracy : 0.509002391035059\n",
            "f1-score : 0.5075143846792431\n",
            "[[ 89  82]\n",
            " [102 101]]\n",
            "\n",
            "Random Forest\n",
            "-----------------\n",
            "Accuracy : 0.5213903743315508\n",
            "Balanced Accuracy : 0.5176302826030593\n",
            "f1-score : 0.5176349369897757\n",
            "[[ 81  90]\n",
            " [ 89 114]]\n",
            "\n",
            "SVM\n",
            "----------------\n",
            "Accuracy : 0.5026737967914439\n",
            "Balanced Accuracy : 0.4985452136087345\n",
            "f1-score : 0.49852941176470583\n",
            "[[ 77  94]\n",
            " [ 92 111]]\n",
            "\n",
            "=============== Depressive Disorders ===================\n",
            "Number of Subjects:  285\n",
            "Positive:  114\n",
            "Negative:  171\n",
            "\n",
            "Logistic Regression\n",
            "-------------------\n",
            "Accuracy : 0.631578947368421\n",
            "Balanced Accuracy : 0.631578947368421\n",
            "f1-score : 0.6256052246368652\n",
            "[[108  63]\n",
            " [ 42  72]]\n",
            "\n",
            "Random Forest\n",
            "-----------------\n",
            "Accuracy : 0.631578947368421\n",
            "Balanced Accuracy : 0.5935672514619883\n",
            "f1-score : 0.5927518678297792\n",
            "[[134  37]\n",
            " [ 68  46]]\n",
            "\n",
            "SVM\n",
            "----------------\n",
            "Accuracy : 0.6280701754385964\n",
            "Balanced Accuracy : 0.6125730994152047\n",
            "f1-score : 0.6125730994152047\n",
            "[[118  53]\n",
            " [ 53  61]]\n",
            "\n",
            "=============== Elimination Disorders ===================\n",
            "Number of Subjects:  228\n",
            "Positive:  57\n",
            "Negative:  171\n",
            "\n",
            "Logistic Regression\n",
            "-------------------\n",
            "Accuracy : 0.6052631578947368\n",
            "Balanced Accuracy : 0.5906432748538011\n",
            "f1-score : 0.5587855852756515\n",
            "[[106  65]\n",
            " [ 25  32]]\n",
            "\n",
            "Random Forest\n",
            "-----------------\n",
            "Accuracy : 0.7017543859649122\n",
            "Balanced Accuracy : 0.49122807017543857\n",
            "f1-score : 0.46315789473684205\n",
            "[[156  15]\n",
            " [ 53   4]]\n",
            "\n",
            "SVM\n",
            "----------------\n",
            "Accuracy : 0.6096491228070176\n",
            "Balanced Accuracy : 0.4766081871345029\n",
            "f1-score : 0.47645708093604067\n",
            "[[127  44]\n",
            " [ 45  12]]\n",
            "\n"
          ],
          "name": "stdout"
        }
      ]
    },
    {
      "cell_type": "markdown",
      "metadata": {
        "id": "bjade6dfBkyL",
        "colab_type": "text"
      },
      "source": [
        "### All together"
      ]
    },
    {
      "cell_type": "code",
      "metadata": {
        "id": "qvvew5DlBnI0",
        "colab_type": "code",
        "colab": {}
      },
      "source": [
        "all=eeg_mic.merge(eeg_psd,how='inner',on='id')\n",
        "all=all.merge(eeg_spectro,how='inner',on='id')\n",
        "all_labels=all.merge(labels,how='inner',left_on='id',right_on='EID')"
      ],
      "execution_count": 0,
      "outputs": []
    },
    {
      "cell_type": "code",
      "metadata": {
        "id": "ilYA_qNCCaP4",
        "colab_type": "code",
        "colab": {}
      },
      "source": [
        "y_none=all_labels[no_diagnosis_given]==0\n",
        "y=all_labels[most_common_disorders]\n",
        "x=all_labels.drop(columns=[\"id\"]+list(most_common_disorders)+[no_diagnosis_given])\n",
        "\n",
        "x.drop(columns=[\"EID\"],inplace=True)\n"
      ],
      "execution_count": 0,
      "outputs": []
    },
    {
      "cell_type": "code",
      "metadata": {
        "id": "6-RSGkHSDptf",
        "colab_type": "code",
        "colab": {}
      },
      "source": [
        "missing=sum(x.isnull().values)/x.shape[0]\n",
        "x=x.drop(columns=x.columns[missing>0.2])\n",
        "x.fillna(x.mean(),inplace=True)"
      ],
      "execution_count": 0,
      "outputs": []
    },
    {
      "cell_type": "code",
      "metadata": {
        "id": "x3kFF5GOD5Wc",
        "colab_type": "code",
        "outputId": "754c13dd-f8ee-4cad-a176-8346af5a2633",
        "colab": {
          "base_uri": "https://localhost:8080/",
          "height": 1000
        }
      },
      "source": [
        "for disorder in y.columns.values:\n",
        "  print(\"===============\",disorder,\"===================\")\n",
        "  x_=np.concatenate((x[y[disorder]==1].values,x[y_none].values),axis=0)\n",
        "  y_=np.concatenate((np.ones(sum(y[disorder].values==1)),np.zeros(sum(y_none))),axis=0)\n",
        "  print(\"Number of Subjects: \",y_.shape[0])\n",
        "  print(\"Positive: \",sum(y_==1))\n",
        "  print(\"Negative: \",sum(y_==0))\n",
        "  print()\n",
        "  binary_classifier(x_,y_)\n",
        "  print()\n",
        "\n"
      ],
      "execution_count": 0,
      "outputs": [
        {
          "output_type": "stream",
          "text": [
            "=============== Neurodevelopmental Disorders ===================\n",
            "Number of Subjects:  829\n",
            "Positive:  704\n",
            "Negative:  125\n",
            "\n",
            "Logistic Regression\n",
            "-------------------\n",
            "Accuracy : 0.6043425814234017\n",
            "Balanced Accuracy : 0.5137329545454545\n",
            "f1-score : 0.4803064126479313\n",
            "[[ 48  77]\n",
            " [251 453]]\n",
            "\n",
            "Random Forest\n",
            "-----------------\n",
            "Accuracy : 0.8021712907117008\n",
            "Balanced Accuracy : 0.5446761363636363\n",
            "f1-score : 0.5492175066312998\n",
            "[[ 22 103]\n",
            " [ 61 643]]\n",
            "\n",
            "SVM\n",
            "----------------\n",
            "Accuracy : 0.8021712907117008\n",
            "Balanced Accuracy : 0.5249375000000001\n",
            "f1-score : 0.5255451017616348\n",
            "[[ 16 109]\n",
            " [ 55 649]]\n",
            "\n",
            "=============== Anxiety Disorders ===================\n",
            "Number of Subjects:  338\n",
            "Positive:  213\n",
            "Negative:  125\n",
            "\n",
            "Logistic Regression\n",
            "-------------------\n",
            "Accuracy : 0.5710059171597633\n",
            "Balanced Accuracy : 0.5538591549295775\n",
            "f1-score : 0.5512028057837238\n",
            "[[ 61  64]\n",
            " [ 81 132]]\n",
            "\n",
            "Random Forest\n",
            "-----------------\n",
            "Accuracy : 0.5828402366863905\n",
            "Balanced Accuracy : 0.5318497652582159\n",
            "f1-score : 0.5303473762010347\n",
            "[[ 42  83]\n",
            " [ 58 155]]\n",
            "\n",
            "SVM\n",
            "----------------\n",
            "Accuracy : 0.5621301775147929\n",
            "Balanced Accuracy : 0.5021971830985916\n",
            "f1-score : 0.49653784219001607\n",
            "[[ 34  91]\n",
            " [ 57 156]]\n",
            "\n",
            "=============== Disruptive ===================\n",
            "Number of Subjects:  277\n",
            "Positive:  152\n",
            "Negative:  125\n",
            "\n"
          ],
          "name": "stdout"
        },
        {
          "output_type": "stream",
          "text": [
            "/usr/local/lib/python3.6/dist-packages/sklearn/svm/base.py:929: ConvergenceWarning: Liblinear failed to converge, increase the number of iterations.\n",
            "  \"the number of iterations.\", ConvergenceWarning)\n",
            "/usr/local/lib/python3.6/dist-packages/sklearn/svm/base.py:929: ConvergenceWarning: Liblinear failed to converge, increase the number of iterations.\n",
            "  \"the number of iterations.\", ConvergenceWarning)\n"
          ],
          "name": "stderr"
        },
        {
          "output_type": "stream",
          "text": [
            "Logistic Regression\n",
            "-------------------\n",
            "Accuracy : 0.5379061371841155\n",
            "Balanced Accuracy : 0.540578947368421\n",
            "f1-score : 0.5376108502869066\n",
            "[[71 54]\n",
            " [74 78]]\n",
            "\n",
            "Random Forest\n",
            "-----------------\n",
            "Accuracy : 0.5812274368231047\n",
            "Balanced Accuracy : 0.5729473684210526\n",
            "f1-score : 0.5727582172109349\n",
            "[[ 61  64]\n",
            " [ 52 100]]\n",
            "\n",
            "SVM\n",
            "----------------\n",
            "Accuracy : 0.5415162454873647\n",
            "Balanced Accuracy : 0.5303684210526316\n",
            "f1-score : 0.528513797863643\n",
            "[[52 73]\n",
            " [54 98]]\n",
            "\n",
            "=============== Depressive Disorders ===================\n",
            "Number of Subjects:  213\n",
            "Positive:  88\n",
            "Negative:  125\n",
            "\n",
            "Logistic Regression\n",
            "-------------------\n",
            "Accuracy : 0.6291079812206573\n",
            "Balanced Accuracy : 0.6234545454545455\n",
            "f1-score : 0.6216015651352628\n",
            "[[82 43]\n",
            " [36 52]]\n",
            "\n",
            "Random Forest\n",
            "-----------------\n",
            "Accuracy : 0.6619718309859155\n",
            "Balanced Accuracy : 0.648090909090909\n",
            "f1-score : 0.6489653909540377\n",
            "[[91 34]\n",
            " [38 50]]\n",
            "\n",
            "SVM\n",
            "----------------\n",
            "Accuracy : 0.5070422535211268\n",
            "Balanced Accuracy : 0.469\n",
            "f1-score : 0.4581203207908318\n",
            "[[86 39]\n",
            " [66 22]]\n",
            "\n",
            "=============== Elimination Disorders ===================\n",
            "Number of Subjects:  166\n",
            "Positive:  41\n",
            "Negative:  125\n",
            "\n",
            "Logistic Regression\n",
            "-------------------\n",
            "Accuracy : 0.6144578313253012\n",
            "Balanced Accuracy : 0.5473170731707317\n",
            "f1-score : 0.5367172510029653\n",
            "[[85 40]\n",
            " [24 17]]\n",
            "\n",
            "Random Forest\n",
            "-----------------\n",
            "Accuracy : 0.7469879518072289\n",
            "Balanced Accuracy : 0.545170731707317\n",
            "f1-score : 0.5355715427657874\n",
            "[[118   7]\n",
            " [ 35   6]]\n",
            "\n",
            "SVM\n",
            "----------------\n",
            "Accuracy : 0.7530120481927711\n",
            "Balanced Accuracy : 0.6065365853658536\n",
            "f1-score : 0.6166713601802309\n",
            "[[112  13]\n",
            " [ 28  13]]\n",
            "\n"
          ],
          "name": "stdout"
        }
      ]
    },
    {
      "cell_type": "markdown",
      "metadata": {
        "id": "TXDEy9gVLVvQ",
        "colab_type": "text"
      },
      "source": [
        "#### PCA"
      ]
    },
    {
      "cell_type": "code",
      "metadata": {
        "id": "i_2uITv1zNMy",
        "colab_type": "code",
        "colab": {}
      },
      "source": [
        "##PCA\n",
        "x=(x-x.mean())/x.std()\n",
        "pca=PCA().fit(x)\n"
      ],
      "execution_count": 0,
      "outputs": []
    },
    {
      "cell_type": "code",
      "metadata": {
        "id": "nvaWY_G6zXMQ",
        "colab_type": "code",
        "outputId": "3c65e674-2244-4301-ce72-948981c01ee0",
        "colab": {
          "base_uri": "https://localhost:8080/",
          "height": 282
        }
      },
      "source": [
        "import matplotlib.pyplot as plt\n",
        "plt.plot(pca.singular_values_[:50])"
      ],
      "execution_count": 0,
      "outputs": [
        {
          "output_type": "execute_result",
          "data": {
            "text/plain": [
              "[<matplotlib.lines.Line2D at 0x7fccc59e1128>]"
            ]
          },
          "metadata": {
            "tags": []
          },
          "execution_count": 113
        },
        {
          "output_type": "display_data",
          "data": {
            "image/png": "[encoded data removed]",
            "text/plain": [
              "<Figure size 432x288 with 1 Axes>"
            ]
          },
          "metadata": {
            "tags": []
          }
        }
      ]
    },
    {
      "cell_type": "code",
      "metadata": {
        "id": "F_uFdQ_8z5hE",
        "colab_type": "code",
        "colab": {}
      },
      "source": [
        "pca_x=pca.transform(x)[:,:20]"
      ],
      "execution_count": 0,
      "outputs": []
    },
    {
      "cell_type": "code",
      "metadata": {
        "id": "E3of_-RrEAAs",
        "colab_type": "code",
        "outputId": "7484c4ce-5a06-4441-8b33-bac419eaf1c0",
        "colab": {
          "base_uri": "https://localhost:8080/",
          "height": 1000
        }
      },
      "source": [
        "\n",
        "for disorder in y.columns.values:\n",
        "  print(\"===============\",disorder,\"===================\")\n",
        "  x_=np.concatenate((pca_x[y[disorder]==1],pca_x[y_none]),axis=0)\n",
        "  y_=np.concatenate((np.ones(sum(y[disorder].values==1)),np.zeros(sum(y_none))),axis=0)\n",
        "  print(\"Number of Subjects: \",y_.shape[0])\n",
        "  print(\"Positive: \",sum(y_==1))\n",
        "  print(\"Negative: \",sum(y_==0))\n",
        "  print()\n",
        "  binary_classifier(x_,y_)\n",
        "  print()"
      ],
      "execution_count": 0,
      "outputs": [
        {
          "output_type": "stream",
          "text": [
            "=============== Neurodevelopmental Disorders ===================\n",
            "Number of Subjects:  829\n",
            "Positive:  704\n",
            "Negative:  125\n",
            "\n",
            "Logistic Regression\n",
            "-------------------\n",
            "Accuracy : 0.5705669481302774\n",
            "Balanced Accuracy : 0.5464829545454546\n",
            "f1-score : 0.4806130063215397\n",
            "[[ 64  61]\n",
            " [295 409]]\n",
            "\n",
            "Random Forest\n",
            "-----------------\n",
            "Accuracy : 0.7913148371531966\n",
            "Balanced Accuracy : 0.5086761363636364\n",
            "f1-score : 0.5060394501637729\n",
            "[[ 13 112]\n",
            " [ 61 643]]\n",
            "\n",
            "SVM\n",
            "----------------\n",
            "Accuracy : 0.8455971049457177\n",
            "Balanced Accuracy : 0.4978693181818182\n",
            "f1-score : 0.45816993464052286\n",
            "[[  0 125]\n",
            " [  3 701]]\n",
            "\n",
            "=============== Anxiety Disorders ===================\n",
            "Number of Subjects:  338\n",
            "Positive:  213\n",
            "Negative:  125\n",
            "\n",
            "Logistic Regression\n",
            "-------------------\n",
            "Accuracy : 0.5769230769230769\n",
            "Balanced Accuracy : 0.5767323943661972\n",
            "f1-score : 0.5670664528900156\n",
            "[[ 72  53]\n",
            " [ 90 123]]\n",
            "\n",
            "Random Forest\n",
            "-----------------\n",
            "Accuracy : 0.6005917159763313\n",
            "Balanced Accuracy : 0.5426291079812207\n",
            "f1-score : 0.5396256873328962\n",
            "[[ 40  85]\n",
            " [ 50 163]]\n",
            "\n",
            "SVM\n",
            "----------------\n",
            "Accuracy : 0.6035502958579881\n",
            "Balanced Accuracy : 0.48052582159624413\n",
            "f1-score : 0.3832788671023965\n",
            "[[  1 124]\n",
            " [ 10 203]]\n",
            "\n",
            "=============== Disruptive ===================\n",
            "Number of Subjects:  277\n",
            "Positive:  152\n",
            "Negative:  125\n",
            "\n",
            "Logistic Regression\n",
            "-------------------\n",
            "Accuracy : 0.4729241877256318\n",
            "Balanced Accuracy : 0.4756842105263158\n",
            "f1-score : 0.47275239883187314\n",
            "[[63 62]\n",
            " [84 68]]\n",
            "\n",
            "Random Forest\n",
            "-----------------\n",
            "Accuracy : 0.49097472924187724\n",
            "Balanced Accuracy : 0.48502631578947364\n",
            "f1-score : 0.4849332049743501\n",
            "[[53 72]\n",
            " [69 83]]\n",
            "\n",
            "SVM\n",
            "----------------\n",
            "Accuracy : 0.5270758122743683\n",
            "Balanced Accuracy : 0.48807894736842106\n",
            "f1-score : 0.40855377895131445\n",
            "[[ 11 114]\n",
            " [ 17 135]]\n",
            "\n",
            "=============== Depressive Disorders ===================\n",
            "Number of Subjects:  213\n",
            "Positive:  88\n",
            "Negative:  125\n",
            "\n",
            "Logistic Regression\n",
            "-------------------\n",
            "Accuracy : 0.6197183098591549\n",
            "Balanced Accuracy : 0.6188181818181818\n",
            "f1-score : 0.6148282097649187\n",
            "[[78 47]\n",
            " [34 54]]\n",
            "\n",
            "Random Forest\n",
            "-----------------\n",
            "Accuracy : 0.6713615023474179\n",
            "Balanced Accuracy : 0.6510454545454545\n",
            "f1-score : 0.6529975795941166\n",
            "[[96 29]\n",
            " [41 47]]\n",
            "\n",
            "SVM\n",
            "----------------\n",
            "Accuracy : 0.5821596244131455\n",
            "Balanced Accuracy : 0.5111363636363636\n",
            "f1-score : 0.44461371693082946\n",
            "[[115  10]\n",
            " [ 79   9]]\n",
            "\n",
            "=============== Elimination Disorders ===================\n",
            "Number of Subjects:  166\n",
            "Positive:  41\n",
            "Negative:  125\n",
            "\n",
            "Logistic Regression\n",
            "-------------------\n",
            "Accuracy : 0.6385542168674698\n",
            "Balanced Accuracy : 0.6288780487804878\n",
            "f1-score : 0.5921375921375921\n",
            "[[81 44]\n",
            " [16 25]]\n",
            "\n",
            "Random Forest\n",
            "-----------------\n",
            "Accuracy : 0.7168674698795181\n",
            "Balanced Accuracy : 0.5087804878048781\n",
            "f1-score : 0.4878897276009189\n",
            "[[115  10]\n",
            " [ 37   4]]\n",
            "\n",
            "SVM\n",
            "----------------\n",
            "Accuracy : 0.7530120481927711\n",
            "Balanced Accuracy : 0.5\n",
            "f1-score : 0.429553264604811\n",
            "[[125   0]\n",
            " [ 41   0]]\n",
            "\n"
          ],
          "name": "stdout"
        },
        {
          "output_type": "stream",
          "text": [
            "/usr/local/lib/python3.6/dist-packages/sklearn/metrics/classification.py:1437: UndefinedMetricWarning: F-score is ill-defined and being set to 0.0 in labels with no predicted samples.\n",
            "  'precision', 'predicted', average, warn_for)\n"
          ],
          "name": "stderr"
        }
      ]
    },
    {
      "cell_type": "markdown",
      "metadata": {
        "id": "BIbRi1U_wLmg",
        "colab_type": "text"
      },
      "source": [
        "#### Autoencoder"
      ]
    },
    {
      "cell_type": "code",
      "metadata": {
        "id": "LNeakXQLPkqp",
        "colab_type": "code",
        "colab": {}
      },
      "source": [
        "x=(x-x.mean()/x.std())\n",
        "shape=x.shape[1]\n",
        "layers=[50,25,25]\n",
        "ae_=ae.Autoencoder(shape,layers=layers )\n",
        "ae_.fit(x.values, print_every_epochs=1,log_path='Auto_all')\n"
      ],
      "execution_count": 0,
      "outputs": []
    },
    {
      "cell_type": "code",
      "metadata": {
        "id": "ktJcyWmPYCzv",
        "colab_type": "code",
        "outputId": "b41aefca-f7de-4b0a-cce3-627789c37316",
        "colab": {
          "base_uri": "https://localhost:8080/",
          "height": 51
        }
      },
      "source": [
        "reconstructed_data = ae_.reconstruct(x.values,log_path='Auto_all')\n",
        "loss=ae.get_reconstruction_loss(x.values,reconstructed_data)\n",
        "print(\"Recostrunction Loss: \",loss)"
      ],
      "execution_count": 0,
      "outputs": [
        {
          "output_type": "stream",
          "text": [
            "INFO:tensorflow:Restoring parameters from Auto_all/model-349\n",
            "Recostrunction Loss:  0.9923787504336602\n"
          ],
          "name": "stdout"
        }
      ]
    },
    {
      "cell_type": "code",
      "metadata": {
        "id": "cr6L0BmUY7uo",
        "colab_type": "code",
        "outputId": "73862a83-c2da-4335-979c-740375a3b8b4",
        "colab": {
          "base_uri": "https://localhost:8080/",
          "height": 34
        }
      },
      "source": [
        "x_encoding=ae_.encode_(x.values,log_path='Auto_all')"
      ],
      "execution_count": 0,
      "outputs": [
        {
          "output_type": "stream",
          "text": [
            "INFO:tensorflow:Restoring parameters from Auto_all/model-349\n"
          ],
          "name": "stdout"
        }
      ]
    },
    {
      "cell_type": "code",
      "metadata": {
        "id": "i0_MwKt_v2At",
        "colab_type": "code",
        "outputId": "13408dcf-2ea4-477f-c5a8-dcdde296c23d",
        "colab": {
          "base_uri": "https://localhost:8080/",
          "height": 1000
        }
      },
      "source": [
        "for disorder in y.columns.values:\n",
        "  print(\"===============\",disorder,\"===================\")\n",
        "  x_=np.concatenate((x_encoding[y[disorder]==1],x_encoding[y_none]),axis=0)\n",
        "  y_=np.concatenate((np.ones(sum(y[disorder].values==1)),np.zeros(sum(y_none))),axis=0)\n",
        "  print(\"Number of Subjects: \",y_.shape[0])\n",
        "  print(\"Positive: \",sum(y_==1))\n",
        "  print(\"Negative: \",sum(y_==0))\n",
        "  print()\n",
        "  binary_classifier(x_,y_)\n",
        "  print()"
      ],
      "execution_count": 0,
      "outputs": [
        {
          "output_type": "stream",
          "text": [
            "=============== Neurodevelopmental Disorders ===================\n",
            "Number of Subjects:  829\n",
            "Positive:  704\n",
            "Negative:  125\n",
            "\n",
            "Logistic Regression\n",
            "-------------------\n",
            "Accuracy : 0.5536791314837153\n",
            "Balanced Accuracy : 0.5398295454545454\n",
            "f1-score : 0.47024179620034545\n",
            "[[ 65  60]\n",
            " [310 394]]\n",
            "\n",
            "Random Forest\n",
            "-----------------\n",
            "Accuracy : 0.7599517490952955\n",
            "Balanced Accuracy : 0.5560056818181818\n",
            "f1-score : 0.553099730458221\n",
            "[[ 33  92]\n",
            " [107 597]]\n",
            "\n",
            "SVM\n",
            "----------------\n",
            "Accuracy : 0.5235223160434258\n",
            "Balanced Accuracy : 0.5352329545454546\n",
            "f1-score : 0.4539003543881592\n",
            "[[ 69  56]\n",
            " [339 365]]\n",
            "\n",
            "=============== Anxiety Disorders ===================\n",
            "Number of Subjects:  338\n",
            "Positive:  213\n",
            "Negative:  125\n",
            "\n",
            "Logistic Regression\n",
            "-------------------\n",
            "Accuracy : 0.5502958579881657\n",
            "Balanced Accuracy : 0.5506478873239438\n",
            "f1-score : 0.5410398427729141\n",
            "[[ 69  56]\n",
            " [ 96 117]]\n",
            "\n",
            "Random Forest\n",
            "-----------------\n",
            "Accuracy : 0.5591715976331361\n",
            "Balanced Accuracy : 0.5262910798122066\n",
            "f1-score : 0.5263301449357147\n",
            "[[ 50  75]\n",
            " [ 74 139]]\n",
            "\n",
            "SVM\n",
            "----------------\n",
            "Accuracy : 0.5325443786982249\n",
            "Balanced Accuracy : 0.5382159624413145\n",
            "f1-score : 0.5259046198643514\n",
            "[[ 70  55]\n",
            " [103 110]]\n",
            "\n",
            "=============== Disruptive ===================\n",
            "Number of Subjects:  277\n",
            "Positive:  152\n",
            "Negative:  125\n",
            "\n",
            "Logistic Regression\n",
            "-------------------\n",
            "Accuracy : 0.5306859205776173\n",
            "Balanced Accuracy : 0.534\n",
            "f1-score : 0.5305329578639967\n",
            "[[71 54]\n",
            " [76 76]]\n",
            "\n",
            "Random Forest\n",
            "-----------------\n",
            "Accuracy : 0.47653429602888087\n",
            "Balanced Accuracy : 0.47542105263157897\n",
            "f1-score : 0.47478194918467964\n",
            "[[58 67]\n",
            " [78 74]]\n",
            "\n",
            "SVM\n",
            "----------------\n",
            "Accuracy : 0.49097472924187724\n",
            "Balanced Accuracy : 0.4971052631578948\n",
            "f1-score : 0.4908685620429393\n",
            "[[70 55]\n",
            " [86 66]]\n",
            "\n",
            "=============== Depressive Disorders ===================\n",
            "Number of Subjects:  213\n",
            "Positive:  88\n",
            "Negative:  125\n",
            "\n",
            "Logistic Regression\n",
            "-------------------\n",
            "Accuracy : 0.6525821596244131\n",
            "Balanced Accuracy : 0.6501818181818182\n",
            "f1-score : 0.6469086021505377\n",
            "[[83 42]\n",
            " [32 56]]\n",
            "\n",
            "Random Forest\n",
            "-----------------\n",
            "Accuracy : 0.676056338028169\n",
            "Balanced Accuracy : 0.6584090909090909\n",
            "f1-score : 0.6602085404480614\n",
            "[[95 30]\n",
            " [39 49]]\n",
            "\n",
            "SVM\n",
            "----------------\n",
            "Accuracy : 0.6666666666666666\n",
            "Balanced Accuracy : 0.6504090909090909\n",
            "f1-score : 0.6518085326825225\n",
            "[[93 32]\n",
            " [39 49]]\n",
            "\n",
            "=============== Elimination Disorders ===================\n",
            "Number of Subjects:  166\n",
            "Positive:  41\n",
            "Negative:  125\n",
            "\n",
            "Logistic Regression\n",
            "-------------------\n",
            "Accuracy : 0.6445783132530121\n",
            "Balanced Accuracy : 0.6164878048780489\n",
            "f1-score : 0.5890916719110553\n",
            "[[84 41]\n",
            " [18 23]]\n",
            "\n",
            "Random Forest\n",
            "-----------------\n",
            "Accuracy : 0.7289156626506024\n",
            "Balanced Accuracy : 0.5577560975609757\n",
            "f1-score : 0.559214020180563\n",
            "[[112  13]\n",
            " [ 32   9]]\n",
            "\n",
            "SVM\n",
            "----------------\n",
            "Accuracy : 0.6385542168674698\n",
            "Balanced Accuracy : 0.6124878048780489\n",
            "f1-score : 0.5842377692436134\n",
            "[[83 42]\n",
            " [18 23]]\n",
            "\n"
          ],
          "name": "stdout"
        }
      ]
    }
  ]
}