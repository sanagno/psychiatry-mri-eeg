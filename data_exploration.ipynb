{
 "cells": [
  {
   "cell_type": "markdown",
   "metadata": {},
   "source": [
    "## Questions:\n",
    "\n",
    "- What to do with patients for whom NoDX is 'Dropped out before diagnosis was given' ??\n",
    "- DX_{}_Cat : No Diagnosis Given: Incomplete Eval (what does this categeory mean?)\n",
    "- For one patient (with id 716) there exists subcategory ADHD woth no appropriate category\n",
    "- For some cases ACE_Score is not NaN although all scores ACE_{01-10} are NaN\n",
    "- Some of the siorders presented in the original pdf are part of DX_Cat and some are part of DX_Sub "
   ]
  },
  {
   "cell_type": "code",
   "execution_count": 1,
   "metadata": {},
   "outputs": [],
   "source": [
    "import pandas as pd]"
   ]
  },
  {
   "cell_type": "code",
   "execution_count": 2,
   "metadata": {},
   "outputs": [],
   "source": [
    "data = pd.read_csv('data/DataScience2019_MRI/Behavioral/AllData.csv', low_memory=False)"
   ]
  },
  {
   "cell_type": "code",
   "execution_count": 3,
   "metadata": {},
   "outputs": [
    {
     "data": {
      "text/html": [
       "<div>\n",
       "<style scoped>\n",
       "    .dataframe tbody tr th:only-of-type {\n",
       "        vertical-align: middle;\n",
       "    }\n",
       "\n",
       "    .dataframe tbody tr th {\n",
       "        vertical-align: top;\n",
       "    }\n",
       "\n",
       "    .dataframe thead th {\n",
       "        text-align: right;\n",
       "    }\n",
       "</style>\n",
       "<table border=\"1\" class=\"dataframe\">\n",
       "  <thead>\n",
       "    <tr style=\"text-align: right;\">\n",
       "      <th></th>\n",
       "      <th>Anonymized.ID</th>\n",
       "      <th>Subject.Type</th>\n",
       "      <th>Visit</th>\n",
       "      <th>Days.since.enrollment</th>\n",
       "      <th>EID</th>\n",
       "      <th>START_DATE</th>\n",
       "      <th>Patient_ID</th>\n",
       "      <th>Enrollment.Year</th>\n",
       "      <th>Enrollment.Season</th>\n",
       "      <th>Sex</th>\n",
       "      <th>...</th>\n",
       "      <th>YSR_TP</th>\n",
       "      <th>YSR_TP_T</th>\n",
       "      <th>YSR_Ext</th>\n",
       "      <th>YSR_Ext_T</th>\n",
       "      <th>YSR_Int</th>\n",
       "      <th>YSR_Int_T</th>\n",
       "      <th>YSR_OP</th>\n",
       "      <th>YSR_C</th>\n",
       "      <th>YSR_Total</th>\n",
       "      <th>YSR_Total_T</th>\n",
       "    </tr>\n",
       "  </thead>\n",
       "  <tbody>\n",
       "    <tr>\n",
       "      <td>0</td>\n",
       "      <td>A00078864</td>\n",
       "      <td>UNKNOWN</td>\n",
       "      <td>V1</td>\n",
       "      <td>0</td>\n",
       "      <td>NDARYM832PX3</td>\n",
       "      <td>1901-01-01T07:00:00Z</td>\n",
       "      <td>NDARYM832PX3</td>\n",
       "      <td>2015</td>\n",
       "      <td>Spring</td>\n",
       "      <td>1</td>\n",
       "      <td>...</td>\n",
       "      <td>NaN</td>\n",
       "      <td>NaN</td>\n",
       "      <td>NaN</td>\n",
       "      <td>NaN</td>\n",
       "      <td>NaN</td>\n",
       "      <td>NaN</td>\n",
       "      <td>NaN</td>\n",
       "      <td>NaN</td>\n",
       "      <td>NaN</td>\n",
       "      <td>NaN</td>\n",
       "    </tr>\n",
       "    <tr>\n",
       "      <td>1</td>\n",
       "      <td>A00078865</td>\n",
       "      <td>UNKNOWN</td>\n",
       "      <td>V1</td>\n",
       "      <td>0</td>\n",
       "      <td>NDARNJ687DMC</td>\n",
       "      <td>1901-01-01T07:00:00Z</td>\n",
       "      <td>NDARNJ687DMC</td>\n",
       "      <td>2015</td>\n",
       "      <td>Spring</td>\n",
       "      <td>1</td>\n",
       "      <td>...</td>\n",
       "      <td>NaN</td>\n",
       "      <td>NaN</td>\n",
       "      <td>NaN</td>\n",
       "      <td>NaN</td>\n",
       "      <td>NaN</td>\n",
       "      <td>NaN</td>\n",
       "      <td>NaN</td>\n",
       "      <td>NaN</td>\n",
       "      <td>NaN</td>\n",
       "      <td>NaN</td>\n",
       "    </tr>\n",
       "    <tr>\n",
       "      <td>2</td>\n",
       "      <td>A00078866</td>\n",
       "      <td>UNKNOWN</td>\n",
       "      <td>V1</td>\n",
       "      <td>0</td>\n",
       "      <td>NDARRM363BXZ</td>\n",
       "      <td>1901-01-01T07:00:00Z</td>\n",
       "      <td>NDARRM363BXZ</td>\n",
       "      <td>2015</td>\n",
       "      <td>Spring</td>\n",
       "      <td>0</td>\n",
       "      <td>...</td>\n",
       "      <td>NaN</td>\n",
       "      <td>NaN</td>\n",
       "      <td>NaN</td>\n",
       "      <td>NaN</td>\n",
       "      <td>NaN</td>\n",
       "      <td>NaN</td>\n",
       "      <td>NaN</td>\n",
       "      <td>NaN</td>\n",
       "      <td>NaN</td>\n",
       "      <td>NaN</td>\n",
       "    </tr>\n",
       "    <tr>\n",
       "      <td>3</td>\n",
       "      <td>A00078867</td>\n",
       "      <td>UNKNOWN</td>\n",
       "      <td>V1</td>\n",
       "      <td>0</td>\n",
       "      <td>NDARUW586LLL</td>\n",
       "      <td>1901-01-01T07:00:00Z</td>\n",
       "      <td>NDARUW586LLL</td>\n",
       "      <td>2015</td>\n",
       "      <td>Spring</td>\n",
       "      <td>1</td>\n",
       "      <td>...</td>\n",
       "      <td>15.0</td>\n",
       "      <td>75.0</td>\n",
       "      <td>16.0</td>\n",
       "      <td>60.0</td>\n",
       "      <td>29.0</td>\n",
       "      <td>68.0</td>\n",
       "      <td>8.0</td>\n",
       "      <td>40.0</td>\n",
       "      <td>85.0</td>\n",
       "      <td>68.0</td>\n",
       "    </tr>\n",
       "    <tr>\n",
       "      <td>4</td>\n",
       "      <td>A00078868</td>\n",
       "      <td>UNKNOWN</td>\n",
       "      <td>V1</td>\n",
       "      <td>0</td>\n",
       "      <td>NDARDC298NW4</td>\n",
       "      <td>1901-01-01T07:00:00Z</td>\n",
       "      <td>NDARDC298NW4</td>\n",
       "      <td>2015</td>\n",
       "      <td>Spring</td>\n",
       "      <td>0</td>\n",
       "      <td>...</td>\n",
       "      <td>9.0</td>\n",
       "      <td>67.0</td>\n",
       "      <td>10.0</td>\n",
       "      <td>52.0</td>\n",
       "      <td>26.0</td>\n",
       "      <td>72.0</td>\n",
       "      <td>11.0</td>\n",
       "      <td>34.0</td>\n",
       "      <td>70.0</td>\n",
       "      <td>67.0</td>\n",
       "    </tr>\n",
       "    <tr>\n",
       "      <td>...</td>\n",
       "      <td>...</td>\n",
       "      <td>...</td>\n",
       "      <td>...</td>\n",
       "      <td>...</td>\n",
       "      <td>...</td>\n",
       "      <td>...</td>\n",
       "      <td>...</td>\n",
       "      <td>...</td>\n",
       "      <td>...</td>\n",
       "      <td>...</td>\n",
       "      <td>...</td>\n",
       "      <td>...</td>\n",
       "      <td>...</td>\n",
       "      <td>...</td>\n",
       "      <td>...</td>\n",
       "      <td>...</td>\n",
       "      <td>...</td>\n",
       "      <td>...</td>\n",
       "      <td>...</td>\n",
       "      <td>...</td>\n",
       "      <td>...</td>\n",
       "    </tr>\n",
       "    <tr>\n",
       "      <td>2091</td>\n",
       "      <td>A00093557</td>\n",
       "      <td>UNKNOWN</td>\n",
       "      <td>V1</td>\n",
       "      <td>0</td>\n",
       "      <td>NDARYZ986HEW</td>\n",
       "      <td>1901-01-01T07:00:00Z</td>\n",
       "      <td>NDARYZ986HEW</td>\n",
       "      <td>2018</td>\n",
       "      <td>Summer</td>\n",
       "      <td>1</td>\n",
       "      <td>...</td>\n",
       "      <td>NaN</td>\n",
       "      <td>NaN</td>\n",
       "      <td>NaN</td>\n",
       "      <td>NaN</td>\n",
       "      <td>NaN</td>\n",
       "      <td>NaN</td>\n",
       "      <td>NaN</td>\n",
       "      <td>NaN</td>\n",
       "      <td>NaN</td>\n",
       "      <td>NaN</td>\n",
       "    </tr>\n",
       "    <tr>\n",
       "      <td>2092</td>\n",
       "      <td>A00093558</td>\n",
       "      <td>UNKNOWN</td>\n",
       "      <td>V1</td>\n",
       "      <td>0</td>\n",
       "      <td>NDARPM572ZZV</td>\n",
       "      <td>1901-01-01T07:00:00Z</td>\n",
       "      <td>NDARPM572ZZV</td>\n",
       "      <td>2018</td>\n",
       "      <td>Summer</td>\n",
       "      <td>0</td>\n",
       "      <td>...</td>\n",
       "      <td>NaN</td>\n",
       "      <td>NaN</td>\n",
       "      <td>NaN</td>\n",
       "      <td>NaN</td>\n",
       "      <td>NaN</td>\n",
       "      <td>NaN</td>\n",
       "      <td>NaN</td>\n",
       "      <td>NaN</td>\n",
       "      <td>NaN</td>\n",
       "      <td>NaN</td>\n",
       "    </tr>\n",
       "    <tr>\n",
       "      <td>2093</td>\n",
       "      <td>A00093559</td>\n",
       "      <td>UNKNOWN</td>\n",
       "      <td>V1</td>\n",
       "      <td>0</td>\n",
       "      <td>NDARYA955CY1</td>\n",
       "      <td>1901-01-01T07:00:00Z</td>\n",
       "      <td>NDARYA955CY1</td>\n",
       "      <td>2018</td>\n",
       "      <td>Fall</td>\n",
       "      <td>0</td>\n",
       "      <td>...</td>\n",
       "      <td>6.0</td>\n",
       "      <td>60.0</td>\n",
       "      <td>11.0</td>\n",
       "      <td>53.0</td>\n",
       "      <td>13.0</td>\n",
       "      <td>59.0</td>\n",
       "      <td>3.0</td>\n",
       "      <td>23.0</td>\n",
       "      <td>47.0</td>\n",
       "      <td>58.0</td>\n",
       "    </tr>\n",
       "    <tr>\n",
       "      <td>2094</td>\n",
       "      <td>A00093560</td>\n",
       "      <td>UNKNOWN</td>\n",
       "      <td>V1</td>\n",
       "      <td>0</td>\n",
       "      <td>NDARRT283RHB</td>\n",
       "      <td>1901-01-01T07:00:00Z</td>\n",
       "      <td>NDARRT283RHB</td>\n",
       "      <td>2018</td>\n",
       "      <td>Fall</td>\n",
       "      <td>1</td>\n",
       "      <td>...</td>\n",
       "      <td>NaN</td>\n",
       "      <td>NaN</td>\n",
       "      <td>NaN</td>\n",
       "      <td>NaN</td>\n",
       "      <td>NaN</td>\n",
       "      <td>NaN</td>\n",
       "      <td>NaN</td>\n",
       "      <td>NaN</td>\n",
       "      <td>NaN</td>\n",
       "      <td>NaN</td>\n",
       "    </tr>\n",
       "    <tr>\n",
       "      <td>2095</td>\n",
       "      <td>A00093561</td>\n",
       "      <td>UNKNOWN</td>\n",
       "      <td>V1</td>\n",
       "      <td>0</td>\n",
       "      <td>NDARYG879ZM4</td>\n",
       "      <td>1901-01-01T07:00:00Z</td>\n",
       "      <td>NDARYG879ZM4</td>\n",
       "      <td>2018</td>\n",
       "      <td>Winter</td>\n",
       "      <td>0</td>\n",
       "      <td>...</td>\n",
       "      <td>4.0</td>\n",
       "      <td>55.0</td>\n",
       "      <td>7.0</td>\n",
       "      <td>47.0</td>\n",
       "      <td>12.0</td>\n",
       "      <td>58.0</td>\n",
       "      <td>6.0</td>\n",
       "      <td>22.0</td>\n",
       "      <td>41.0</td>\n",
       "      <td>55.0</td>\n",
       "    </tr>\n",
       "  </tbody>\n",
       "</table>\n",
       "<p>2096 rows × 7042 columns</p>\n",
       "</div>"
      ],
      "text/plain": [
       "     Anonymized.ID Subject.Type Visit  Days.since.enrollment           EID  \\\n",
       "0        A00078864      UNKNOWN    V1                      0  NDARYM832PX3   \n",
       "1        A00078865      UNKNOWN    V1                      0  NDARNJ687DMC   \n",
       "2        A00078866      UNKNOWN    V1                      0  NDARRM363BXZ   \n",
       "3        A00078867      UNKNOWN    V1                      0  NDARUW586LLL   \n",
       "4        A00078868      UNKNOWN    V1                      0  NDARDC298NW4   \n",
       "...            ...          ...   ...                    ...           ...   \n",
       "2091     A00093557      UNKNOWN    V1                      0  NDARYZ986HEW   \n",
       "2092     A00093558      UNKNOWN    V1                      0  NDARPM572ZZV   \n",
       "2093     A00093559      UNKNOWN    V1                      0  NDARYA955CY1   \n",
       "2094     A00093560      UNKNOWN    V1                      0  NDARRT283RHB   \n",
       "2095     A00093561      UNKNOWN    V1                      0  NDARYG879ZM4   \n",
       "\n",
       "                START_DATE    Patient_ID  Enrollment.Year Enrollment.Season  \\\n",
       "0     1901-01-01T07:00:00Z  NDARYM832PX3             2015            Spring   \n",
       "1     1901-01-01T07:00:00Z  NDARNJ687DMC             2015            Spring   \n",
       "2     1901-01-01T07:00:00Z  NDARRM363BXZ             2015            Spring   \n",
       "3     1901-01-01T07:00:00Z  NDARUW586LLL             2015            Spring   \n",
       "4     1901-01-01T07:00:00Z  NDARDC298NW4             2015            Spring   \n",
       "...                    ...           ...              ...               ...   \n",
       "2091  1901-01-01T07:00:00Z  NDARYZ986HEW             2018            Summer   \n",
       "2092  1901-01-01T07:00:00Z  NDARPM572ZZV             2018            Summer   \n",
       "2093  1901-01-01T07:00:00Z  NDARYA955CY1             2018              Fall   \n",
       "2094  1901-01-01T07:00:00Z  NDARRT283RHB             2018              Fall   \n",
       "2095  1901-01-01T07:00:00Z  NDARYG879ZM4             2018            Winter   \n",
       "\n",
       "      Sex  ...  YSR_TP  YSR_TP_T YSR_Ext  YSR_Ext_T YSR_Int YSR_Int_T  YSR_OP  \\\n",
       "0       1  ...     NaN       NaN     NaN        NaN     NaN       NaN     NaN   \n",
       "1       1  ...     NaN       NaN     NaN        NaN     NaN       NaN     NaN   \n",
       "2       0  ...     NaN       NaN     NaN        NaN     NaN       NaN     NaN   \n",
       "3       1  ...    15.0      75.0    16.0       60.0    29.0      68.0     8.0   \n",
       "4       0  ...     9.0      67.0    10.0       52.0    26.0      72.0    11.0   \n",
       "...   ...  ...     ...       ...     ...        ...     ...       ...     ...   \n",
       "2091    1  ...     NaN       NaN     NaN        NaN     NaN       NaN     NaN   \n",
       "2092    0  ...     NaN       NaN     NaN        NaN     NaN       NaN     NaN   \n",
       "2093    0  ...     6.0      60.0    11.0       53.0    13.0      59.0     3.0   \n",
       "2094    1  ...     NaN       NaN     NaN        NaN     NaN       NaN     NaN   \n",
       "2095    0  ...     4.0      55.0     7.0       47.0    12.0      58.0     6.0   \n",
       "\n",
       "      YSR_C YSR_Total YSR_Total_T  \n",
       "0       NaN       NaN         NaN  \n",
       "1       NaN       NaN         NaN  \n",
       "2       NaN       NaN         NaN  \n",
       "3      40.0      85.0        68.0  \n",
       "4      34.0      70.0        67.0  \n",
       "...     ...       ...         ...  \n",
       "2091    NaN       NaN         NaN  \n",
       "2092    NaN       NaN         NaN  \n",
       "2093   23.0      47.0        58.0  \n",
       "2094    NaN       NaN         NaN  \n",
       "2095   22.0      41.0        55.0  \n",
       "\n",
       "[2096 rows x 7042 columns]"
      ]
     },
     "execution_count": 3,
     "metadata": {},
     "output_type": "execute_result"
    }
   ],
   "source": [
    "data"
   ]
  },
  {
   "cell_type": "code",
   "execution_count": 15,
   "metadata": {},
   "outputs": [
    {
     "name": "stdout",
     "output_type": "stream",
     "text": [
      "features to drop: 289\n"
     ]
    }
   ],
   "source": [
    "feat_to_drop = data.nunique() == 1\n",
    "dropping_features = list(data.columns[feat_to_drop])\n",
    "\n",
    "print('features to drop:', len(dropping_features))"
   ]
  },
  {
   "cell_type": "code",
   "execution_count": 18,
   "metadata": {},
   "outputs": [],
   "source": [
    "data.drop(columns=dropping_features, inplace=True)"
   ]
  },
  {
   "cell_type": "code",
   "execution_count": 20,
   "metadata": {},
   "outputs": [
    {
     "name": "stdout",
     "output_type": "stream",
     "text": [
      "Total len of data 2096\n"
     ]
    }
   ],
   "source": [
    "print('Total len of data', len(data))\n",
    "\n",
    "data_nulls = data.isnull().apply(sum, axis=0).sort_values(ascending=False)"
   ]
  },
  {
   "cell_type": "code",
   "execution_count": 27,
   "metadata": {},
   "outputs": [],
   "source": [
    "# drop values for which more than threshold percent are NaNs\n",
    "threshold = 0.8\n",
    "\n",
    "dropped_columns = data_nulls.values > threshold * len(data)"
   ]
  },
  {
   "cell_type": "code",
   "execution_count": 4,
   "metadata": {
    "collapsed": true
   },
   "outputs": [
    {
     "ename": "NameError",
     "evalue": "name 'dropped_columns' is not defined",
     "output_type": "error",
     "traceback": [
      "\u001b[0;31m---------------------------------------------------------------------------\u001b[0m",
      "\u001b[0;31mNameError\u001b[0m                                 Traceback (most recent call last)",
      "\u001b[0;32m<ipython-input-4-330da5fce1ac>\u001b[0m in \u001b[0;36m<module>\u001b[0;34m\u001b[0m\n\u001b[1;32m      1\u001b[0m \u001b[0;32mimport\u001b[0m \u001b[0mnumpy\u001b[0m \u001b[0;32mas\u001b[0m \u001b[0mnp\u001b[0m\u001b[0;34m\u001b[0m\u001b[0;34m\u001b[0m\u001b[0m\n\u001b[1;32m      2\u001b[0m \u001b[0;34m\u001b[0m\u001b[0m\n\u001b[0;32m----> 3\u001b[0;31m \u001b[0mnp\u001b[0m\u001b[0;34m.\u001b[0m\u001b[0msum\u001b[0m\u001b[0;34m(\u001b[0m\u001b[0mdropped_columns\u001b[0m\u001b[0;34m)\u001b[0m\u001b[0;34m\u001b[0m\u001b[0;34m\u001b[0m\u001b[0m\n\u001b[0m",
      "\u001b[0;31mNameError\u001b[0m: name 'dropped_columns' is not defined"
     ]
    }
   ],
   "source": [
    "import numpy as np\n",
    "\n",
    "np.sum(dropped_columns)"
   ]
  },
  {
   "cell_type": "code",
   "execution_count": null,
   "metadata": {},
   "outputs": [],
   "source": []
  },
  {
   "cell_type": "code",
   "execution_count": 32,
   "metadata": {},
   "outputs": [],
   "source": [
    "data.drop(columns=data_nulls.index[dropped_columns], inplace=True)"
   ]
  },
  {
   "cell_type": "code",
   "execution_count": 45,
   "metadata": {},
   "outputs": [
    {
     "data": {
      "text/plain": [
       "3042"
      ]
     },
     "execution_count": 45,
     "metadata": {},
     "output_type": "execute_result"
    }
   ],
   "source": [
    "all_dropped_features = list(data_nulls.index[dropped_columns].values) + dropping_features\n",
    "\n",
    "len(all_dropped_features)"
   ]
  },
  {
   "cell_type": "code",
   "execution_count": 33,
   "metadata": {},
   "outputs": [
    {
     "data": {
      "text/plain": [
       "Index(['Anonymized.ID', 'EID', 'Patient_ID', 'Enrollment.Year',\n",
       "       'Enrollment.Season', 'Sex', 'Age', 'Study.Site', 'Commercial.Use',\n",
       "       'Release.Number',\n",
       "       ...\n",
       "       'YSR_TP', 'YSR_TP_T', 'YSR_Ext', 'YSR_Ext_T', 'YSR_Int', 'YSR_Int_T',\n",
       "       'YSR_OP', 'YSR_C', 'YSR_Total', 'YSR_Total_T'],\n",
       "      dtype='object', length=4000)"
      ]
     },
     "execution_count": 33,
     "metadata": {},
     "output_type": "execute_result"
    }
   ],
   "source": [
    "data.columns"
   ]
  },
  {
   "cell_type": "code",
   "execution_count": null,
   "metadata": {},
   "outputs": [],
   "source": []
  },
  {
   "cell_type": "markdown",
   "metadata": {},
   "source": [
    "## Column observations\n",
    "\n",
    "TODO: maybe theses observations may not be done on the initial dataset but on the reduced one based on the number of patients that actually have a diagnosis"
   ]
  },
  {
   "cell_type": "code",
   "execution_count": 5,
   "metadata": {},
   "outputs": [
    {
     "name": "stderr",
     "output_type": "stream",
     "text": [
      "/usr/local/lib/python3.7/site-packages/IPython/core/interactiveshell.py:3058: DtypeWarning: Columns (66,68,80,81,82,83,84,95,96,97,98,99,110,111,112,113,114,125,126,127,128,129,140,141,142,144,155,156,157,159,932,933,934,935,936,937,938,939,940,941,942,943,944,945,946,947,948,949,950,951,952,953,954,955,956,957,958,959,960,961,962,963,964,965,966,967,968,969,970,971,972,973,974,975,976,977,978,979,980,981,982,983,984,985,986,987,988,989,990,991,992,993,994,995,996,997,998,999,1000,1001,1002,1003,1004,1005,1006,1007,1008,1009,1010,1011,1012,1013,1014,1015,1016,1017,1018,1019,1020,1021,1022,1023,1024,1025,1026,1027,1028,1029,1030,1031,1032,1033,1034,1035,1036,1037,1038,1039,1040,1041,1042,1043,1044,1045,1046,1047,1048,1049,1050,1051,1052,1053,1054,1055,1056,1057,1058,1059,1060,1061,1062,1063,1064,1065,1066,1067,1068,1069,1070,1071,1072,1073,1074,1075,1076,1077,1078,1079,1080,1081,1082,1083,1084,1085,1086,1087,1088,1089,1090,1091,1092,1093,1094,1095,1096,1097,1098,1099,1100,1101,1102,1103,1104,1105,1106,1107,1108,1109,1110,1111,1112,1113,1114,1115,1116,1117,1118,1119,1120,1121,1122,1123,1124,1125,1126,1127,1128,1129,1130,1131,1132,1133,1134,1135,1136,1137,1138,1139,1140,1141,1142,1143,1144,1145,1146,1147,1148,1149,1150,1151,1152,1153,1154,1155,1156,1157,1158,1159,1160,1161,1162,1163,1164,1165,1166,1167,1168,1169,1170,1171,1172,1173,1174,1175,1176,1177,1178,1179,1180,1181,1182,1183,1184,1185,1186,1187,1188,1189,1190,1191,1192,1193,1194,1195,1196,1197,1198,1199,1200,1201,1202,1203,1204,1205,1206,1207,1208,1209,1210,1211,1212,1213,1214,1215,1216,1217,1218,1219,1220,1221,1222,1223,1224,1225,1226,1227,1228,1229,1230,1231,1232,1233,1234,1235,1236,1237,1238,1239,1240,1241,1242,1243,1244,1245,1246,1247,1248,1249,1250,1251,1252,1253,1254,1255,1256,1257,1258,1259,1260,1261,1262,1263,1264,1265,1266,1267,1268,1269,1270,1271,1272,1273,1274,1275,1276,1277,1278,1279,1280,1281,1282,1283,1284,1285,1286,1287,1288,1289,1290,1291,1292,1293,1294,1295,1296,1297,1298,1299,1300,1301,1302,1303,1304,1305,1306,1307,1308,1309,1310,1311,1312,1313,1314,1315,1316,1317,1318,1319,1320,1321,1322,1323,1324,1325,1326,1327,1328,1329,1330,1331,1332,1333,1334,1335,1336,1337,1338,1339,1340,1341,1342,1343,1344,1345,1346,1347,1348,1349,1350,1351,1352,1353,1354,1355,1356,1357,1358,1359,1360,1361,1362,1363,1364,1365,1366,1367,1368,1369,1370,1371,1372,1373,1374,1375,1376,1377,1378,1379,1380,1381,1384,1385,1387,1390,1391,1393,1396,1397,1399,1402,1403,1405,1408,1409,1411,1414,1415,1417,1420,1421,1423,1426,1427,1429,1432,1433,1435,1438,1439,1441,1444,1445,1447,1450,1451,1453,1456,1457,1459,1462,1463,1465,1468,1469,1471,1474,1475,1477,1480,1481,1483,1486,1487,1489,1492,1493,1495,1498,1499,1501,1504,1505,1507,1510,1511,1513,1516,1517,1519,1522,1523,1525,1528,1529,1531,1534,1535,1537,1540,1541,1543,1546,1547,1549,1552,1553,1555,1558,1559,1561,1564,1565,1567,1570,1571,1573,1576,1577,1579,1582,1583,1585,1588,1589,1591,1594,1595,1597,1600,1601,1603,1606,1607,1609,1612,1613,1615,1618,1619,1621,1624,1625,1627,1630,1631,1633,1636,1637,1639,1642,1643,1645,1648,1649,1651,1654,1655,1657,1660,1661,1663,1666,1667,1669,1672,1673,1675,1678,1679,1681,1684,1685,1687,1690,1691,1693,1696,1697,1699,1702,1703,1705,1708,1709,1711,1714,1715,1717,1720,1721,1723,1726,1727,1729,1732,1733,1735,1738,1739,1741,1744,1745,1747,1750,1751,1753,1756,1757,1759,1762,1763,1765,1768,1769,1771,1774,1775,1777,1780,1781,1783,1786,1787,1789,1792,1793,1795,1798,1799,1801,1804,1805,1807,1810,1811,1813,1816,1817,1819,1822,1823,1825,1828,1829,1831,1834,1835,1837,1840,1841,1843,1846,1847,1849,1852,1853,1855,1858,1859,1861,1882,1883,1884,1917,1918,1919,1952,1953,1954,1955,1987,1988,1989,1990,2022,2023,2024,2025,2026,2057,2058,2059,2060,2061,2092,2093,2094,2095,2096,2097,2127,2128,2129,2130,2131,2132,2162,2163,2164,2165,2166,2167,2168,2197,2198,2199,2200,2201,2202,2203,2232,2233,2234,2235,2236,2237,2238,2239,2267,2268,2269,2270,2271,2272,2273,2274,2302,2303,2304,2305,2306,2307,2308,2309,2337,2338,2339,2340,2341,2342,2343,2344,2477,2478,2479,2512,2513,2514,2547,2548,2549,2550,2582,2583,2584,2585,2617,2618,2619,2620,2621,2652,2653,2654,2655,2656,2687,2688,2689,2690,2691,2692,2722,2723,2724,2725,2726,2727,2757,2758,2759,2760,2761,2762,2763,2792,2793,2794,2795,2796,2797,2798,2827,2828,2829,2830,2831,2832,2833,2834,2862,2863,2864,2865,2866,2867,2868,2869,2897,2898,2899,2900,2901,2902,2903,2904,2932,2933,2934,2935,2936,2937,2938,2939,3819,3826,3866,3933,4037,4055,4059,4063,4067,4071,4075,4079,4084,4085,4086,4087,4088,4091,4092,4094,4095,4096,4608,4616,4648,4649,4664,4665,4667,4683,4690,4691,4692,4693,4739,4800,5002,5010,5018,5026,5042,5240,5282,5386,5433,5443,5463,5466,5467,5468,5470,5478,5479,5481,5482,5483,5484,5485,5486,5487,5488,5489,5490,5491,5492,5495,5499,5503,5507,5511,5515,5517,5518,5519,5520,5521,5522,5523,5524,5532,5535,5536,5537,5539,5540,5548,5549,5551,5552,5553,5554,5555,5556,5557,5558,5559,5560,5561,5562,5565,5569,5573,5577,5581,5586,5587,5588,5589,5590,5591,5592,5593,5594,5601,5604,5605,5606,5608,5616,5617,5619,5620,5621,5622,5623,5624,5625,5626,5627,5628,5629,5630,5633,5636,5637,5638,5640,5648,5649,5651,5652,5653,5654,5655,5656,5657,5658,5659,5660,5661,5662,5665,5668,5669,5670,5672,5680,5681,5683,5684,5685,5686,5687,5688,5689,5690,5691,5692,5693,5694,5697,5700,5701,5702,5704,5712,5713,5715,5716,5717,5718,5719,5720,5721,5722,5723,5724,5725,5726,5729,5732,5733,5734,5736,5744,5745,5747,5748,5749,5750,5751,5752,5753,5754,5755,5756,5757,5758,5759,5760,5761,5762,5763,5764,5768,5772,5776,5780,5784,5788,5792,5796,5800,5804,5808,5812,5816,5820,5869,5877,5881,5885,5889,5893,5897,6538,6539,6540,6541,6542,6555,6556,6557,6558,6559,6572,6573,6574,6575,6576,6589,6590,6591,6592,6593,6606,6607,6608,6609,6610,6623,6624,6625,6626,6627,6636,6644,6650,6653,6682,6701,6738,6768) have mixed types. Specify dtype option on import or set low_memory=False.\n",
      "  interactivity=interactivity, compiler=compiler, result=result)\n"
     ]
    }
   ],
   "source": [
    "whole_data = pd.read_csv('data/DataScience2019_MRI/Behavioral/AllData.csv')"
   ]
  },
  {
   "cell_type": "markdown",
   "metadata": {},
   "source": [
    "#### Diagnoses"
   ]
  },
  {
   "cell_type": "code",
   "execution_count": 308,
   "metadata": {},
   "outputs": [
    {
     "name": "stdout",
     "output_type": "stream",
     "text": [
      "20\n",
      "Other Conditions That May Be a Focus of Clinical Attention  : 23\n",
      "Neurodevelopmental Disorders                                : 2081\n",
      "No Diagnosis Given                                          : 235\n",
      "Schizophrenia Spectrum and other Psychotic Disorders        : 10\n",
      "Gender Dysphoria                                            : 1\n",
      "Disruptive, Impulse Control and Conduct Disorders           : 35\n",
      "Feeding and Eating Disorders                                : 10\n",
      "Anxiety Disorders                                           : 597\n",
      "Trauma and Stressor Related Disorders                       : 77\n",
      "Sleep-Wake Disorders                                        : 3\n",
      "No Diagnosis Given: Incomplete Eval                         : 278\n",
      "Elimination Disorders                                       : 96\n",
      "Substance Related and Addictive Disorders                   : 9\n",
      "Apppendix (Neurobehavioral Disorder)                        : 1\n",
      "Obsessive Compulsive and Related Disorders                  : 74\n",
      "Neurocognitive Disorders                                    : 3\n",
      "Bipolar and Related Disorders                               : 10\n",
      "Depressive Disorders                                        : 179\n",
      "Disruptive                                                  : 241\n",
      "Somatic Symptom and Related Disorders                       : 1\n"
     ]
    }
   ],
   "source": [
    "disorders = set()\n",
    "\n",
    "for i in range(1, 11):\n",
    "    disorders.update(whole_data['DX_' + str(i).zfill(2) + '_Cat'].unique())\n",
    "    \n",
    "disorders = list(disorders)\n",
    "disorders.remove(' ')\n",
    "disorders = [x for x in disorders if str(x) != 'nan']\n",
    "\n",
    "counter = np.zeros(len(disorders), dtype=np.int64)\n",
    "\n",
    "for i in range(1, 11):\n",
    "    test = whole_data['DX_' + str(i).zfill(2) + '_Cat'].values\n",
    "    \n",
    "    for j, disorder in enumerate(disorders):\n",
    "        counter[j] += np.sum(test == disorder)\n",
    "\n",
    "print(len(disorders))\n",
    "for j, disorder in enumerate(disorders):\n",
    "    print('{0: <60}: {1}'.format(disorder, counter[j]))"
   ]
  },
  {
   "cell_type": "code",
   "execution_count": 310,
   "metadata": {},
   "outputs": [
    {
     "name": "stdout",
     "output_type": "stream",
     "text": [
      "17\n",
      "Intellectual Disability                                     : 57\n",
      "Tobacco-Related                                             : 2\n",
      "Cannabis-Related                                            : 5\n",
      "Motor Disorder                                              : 99\n",
      "Abuse and Neglect: Child Maltreatment and Neglect Problems: Child Neglect: 1\n",
      "Moderate                                                    : 1\n",
      "Acute                                                       : 1\n",
      "Specific Learning Disorder                                  : 366\n",
      "Nonadherence to Medical Treatment                           : 16\n",
      "Attention-Deficit/Hyperactivity Disorder                    : 1022\n",
      "Past                                                        : 1\n",
      "Communication Disorder                                      : 229\n",
      "Other Neurodevelopmental Disorders                          : 3\n",
      "Autism Spectrum Disorder                                    : 308\n",
      "Problems Related to Other Psychosocial                      : 1\n",
      "Alcohol-Related                                             : 2\n",
      "Relational Problems: Problems Related to Family Upbringing  : 5\n"
     ]
    }
   ],
   "source": [
    "disorders = set()\n",
    "\n",
    "for i in range(1, 11):\n",
    "    disorders.update(whole_data['DX_' + str(i).zfill(2) + '_Sub'].unique())\n",
    "    \n",
    "disorders = list(disorders)\n",
    "disorders = [x for x in disorders if str(x) != 'nan']\n",
    "\n",
    "counter = np.zeros(len(disorders), dtype=np.int64)\n",
    "\n",
    "for i in range(1, 11):\n",
    "    test = whole_data['DX_' + str(i).zfill(2) + '_Sub'].values\n",
    "    \n",
    "    for j, disorder in enumerate(disorders):\n",
    "        counter[j] += np.sum(test == disorder)\n",
    "\n",
    "print(len(disorders))\n",
    "for j, disorder in enumerate(disorders):\n",
    "    print('{0: <60}: {1}'.format(disorder, counter[j]))"
   ]
  },
  {
   "cell_type": "code",
   "execution_count": 307,
   "metadata": {
    "collapsed": true
   },
   "outputs": [
    {
     "name": "stdout",
     "output_type": "stream",
     "text": [
      "98\n",
      "G47.00                                                      : 1\n",
      "F71                                                         : 9\n",
      "F28                                                         : 9\n",
      "No Diagnosis Given                                          : 230\n",
      "F20.9                                                       : 1\n",
      "G47.09                                                      : 1\n",
      "F80.9                                                       : 174\n",
      "F31.89                                                      : 2\n",
      "F32.0                                                       : 2\n",
      "Z72.0                                                       : 2\n",
      "F43.8                                                       : 11\n",
      "F10.20                                                      : 1\n",
      "F12.10                                                      : 3\n",
      "F80.0                                                       : 28\n",
      "F31.9                                                       : 2\n",
      "F43.10                                                      : 12\n",
      "F41.9                                                       : 11\n",
      "F10.10                                                      : 1\n",
      "F91.3                                                       : 32\n",
      "F91.1                                                       : 1\n",
      "F81.2                                                       : 86\n",
      "F40.228                                                     : 1\n",
      "No ICD 10 Code                                              : 21\n",
      "F33.1                                                       : 2\n",
      "F43.23                                                      : 9\n",
      "F45.22                                                      : 1\n",
      "F43.22                                                      : 7\n",
      "F32.8                                                       : 19\n",
      "F84.0                                                       : 299\n",
      "F34.1                                                       : 21\n",
      "F40.231                                                     : 31\n",
      "F40.230                                                     : 4\n",
      "Z62.820                                                     : 5\n",
      "F50.2                                                       : 1\n",
      "F94.0                                                       : 6\n",
      "F43.20                                                      : 2\n",
      "F32.9                                                       : 1\n",
      "F41.1                                                       : 169\n",
      "No Diagnosis Given: Incomplete Eval                         : 278\n",
      "F98.0                                                       : 72\n",
      "F32.4                                                       : 4\n",
      "F43.24                                                      : 3\n",
      "Z91.19                                                      : 3\n",
      "F81.0                                                       : 223\n",
      "F31.81                                                      : 2\n",
      "F79                                                         : 3\n",
      "F64.2                                                       : 1\n",
      "F90.1                                                       : 52\n",
      "F40.10                                                      : 113\n",
      "F90.0                                                       : 378\n",
      "F40.298                                                     : 18\n",
      "F70                                                         : 44\n",
      "F33.41                                                      : 2\n",
      "F50.8                                                       : 7\n",
      "F40.248                                                     : 35\n",
      "F05                                                         : 1\n",
      "F91.8                                                       : 1\n",
      "F80.81                                                      : 5\n",
      "F40.0                                                       : 10\n",
      "F95.0                                                       : 19\n",
      "F93.0                                                       : 74\n",
      "F12.20                                                      : 1\n",
      "F43.0                                                       : 2\n",
      "F41.0                                                       : 6\n",
      "F95.9                                                       : 1\n",
      "F88                                                         : 2\n",
      "F80.89                                                      : 19\n",
      "F42                                                         : 53\n",
      "F63.3                                                       : 7\n",
      "F98.3                                                       : 1\n",
      "F43.21                                                      : 3\n",
      "F90.8                                                       : 77\n",
      "G47.419                                                     : 1\n",
      "F98.1                                                       : 19\n",
      "F72                                                         : 1\n",
      "F95.2                                                       : 28\n",
      "F82                                                         : 16\n",
      "F43.25                                                      : 18\n",
      "L98.1                                                       : 13\n",
      "F95.1                                                       : 32\n",
      "F02.80                                                      : 1\n",
      "F32.5                                                       : 2\n",
      "F40.232                                                     : 2\n",
      "F89                                                         : 1\n",
      "N39.498                                                     : 1\n",
      "F40.218                                                     : 24\n",
      "F32.2                                                       : 1\n",
      "R41.83                                                      : 13\n",
      "F44.4                                                       : 1\n",
      "F41.8                                                       : 85\n",
      "F34.8                                                       : 36\n",
      "F90.9                                                       : 8\n",
      "F50.01                                                      : 1\n",
      "F94.1                                                       : 8\n",
      "F81.81                                                      : 50\n",
      "F91.2                                                       : 1\n",
      "F90.2                                                       : 502\n",
      "F95.8                                                       : 3\n"
     ]
    }
   ],
   "source": [
    "# ICD-10 codes are substantially more than the available disorders .. what does this mean ?\n",
    "\n",
    "disorders = set()\n",
    "\n",
    "for i in range(1, 11):\n",
    "    disorders.update(whole_data['DX_' + str(i).zfill(2) + '_Code'].unique())\n",
    "    \n",
    "disorders = list(disorders)\n",
    "disorders = [x for x in disorders if str(x) != 'nan']\n",
    "\n",
    "counter = np.zeros(len(disorders), dtype=np.int64)\n",
    "\n",
    "for i in range(1, 11):\n",
    "    test = whole_data['DX_' + str(i).zfill(2) + '_Code'].values\n",
    "    \n",
    "    for j, disorder in enumerate(disorders):\n",
    "        counter[j] += np.sum(test == disorder)\n",
    "\n",
    "print(len(disorders))\n",
    "for j, disorder in enumerate(disorders):\n",
    "    print('{0: <60}: {1}'.format(disorder, counter[j]))"
   ]
  },
  {
   "cell_type": "code",
   "execution_count": null,
   "metadata": {},
   "outputs": [],
   "source": []
  },
  {
   "cell_type": "code",
   "execution_count": null,
   "metadata": {},
   "outputs": [],
   "source": []
  },
  {
   "cell_type": "code",
   "execution_count": null,
   "metadata": {},
   "outputs": [],
   "source": [
    "# For all disorders the subcategory only exists when an category exists (sanity check)\n",
    "\n",
    "test = pd.DataFrame()\n",
    "\n",
    "for i in range(1, 11):\n",
    "    whole_data['DX_' + str(i).zfill(2) + '_Cat'] = whole_data['DX_' + str(i).zfill(2) + '_Cat'].astype('str')\n",
    "    whole_data['DX_' + str(i).zfill(2) + '_Sub'] = whole_data['DX_' + str(i).zfill(2) + '_Sub'].astype('str')\n",
    "    mask = ((whole_data['DX_' + str(i).zfill(2) + '_Cat'] == 'nan').values & \\\n",
    "            (whole_data['DX_' + str(i).zfill(2) + '_Sub'] != 'nan').values)\n",
    "        \n",
    "    test = whole_data[mask][['DX_' + str(i).zfill(2) + '_Cat', 'DX_' + str(i).zfill(2) + '_Sub']]\n",
    "\n",
    "test"
   ]
  },
  {
   "cell_type": "code",
   "execution_count": 297,
   "metadata": {},
   "outputs": [
    {
     "data": {
      "text/html": [
       "<div>\n",
       "<style scoped>\n",
       "    .dataframe tbody tr th:only-of-type {\n",
       "        vertical-align: middle;\n",
       "    }\n",
       "\n",
       "    .dataframe tbody tr th {\n",
       "        vertical-align: top;\n",
       "    }\n",
       "\n",
       "    .dataframe thead th {\n",
       "        text-align: right;\n",
       "    }\n",
       "</style>\n",
       "<table border=\"1\" class=\"dataframe\">\n",
       "  <thead>\n",
       "    <tr style=\"text-align: right;\">\n",
       "      <th></th>\n",
       "      <th>DX_01_Cat</th>\n",
       "      <th>DX_01_Sub</th>\n",
       "      <th>DX_02_Cat</th>\n",
       "      <th>DX_02_Sub</th>\n",
       "      <th>DX_03_Cat</th>\n",
       "      <th>DX_03_Sub</th>\n",
       "      <th>DX_04_Cat</th>\n",
       "      <th>DX_04_Sub</th>\n",
       "      <th>DX_05_Cat</th>\n",
       "      <th>DX_05_Sub</th>\n",
       "      <th>DX_06_Cat</th>\n",
       "      <th>DX_06_Sub</th>\n",
       "      <th>DX_07_Cat</th>\n",
       "      <th>DX_07_Sub</th>\n",
       "      <th>DX_08_Cat</th>\n",
       "      <th>DX_08_Sub</th>\n",
       "      <th>DX_09_Cat</th>\n",
       "      <th>DX_09_Sub</th>\n",
       "      <th>DX_10_Cat</th>\n",
       "      <th>DX_10_Sub</th>\n",
       "    </tr>\n",
       "  </thead>\n",
       "  <tbody>\n",
       "    <tr>\n",
       "      <td>716</td>\n",
       "      <td>No Diagnosis Given: Incomplete Eval</td>\n",
       "      <td>Attention-Deficit/Hyperactivity Disorder</td>\n",
       "      <td>NaN</td>\n",
       "      <td>NaN</td>\n",
       "      <td>NaN</td>\n",
       "      <td>NaN</td>\n",
       "      <td>NaN</td>\n",
       "      <td>NaN</td>\n",
       "      <td>NaN</td>\n",
       "      <td>NaN</td>\n",
       "      <td>NaN</td>\n",
       "      <td>NaN</td>\n",
       "      <td>NaN</td>\n",
       "      <td>NaN</td>\n",
       "      <td>NaN</td>\n",
       "      <td>NaN</td>\n",
       "      <td>NaN</td>\n",
       "      <td>NaN</td>\n",
       "      <td>NaN</td>\n",
       "      <td>NaN</td>\n",
       "    </tr>\n",
       "  </tbody>\n",
       "</table>\n",
       "</div>"
      ],
      "text/plain": [
       "                               DX_01_Cat  \\\n",
       "716  No Diagnosis Given: Incomplete Eval   \n",
       "\n",
       "                                    DX_01_Sub DX_02_Cat DX_02_Sub DX_03_Cat  \\\n",
       "716  Attention-Deficit/Hyperactivity Disorder       NaN       NaN       NaN   \n",
       "\n",
       "    DX_03_Sub DX_04_Cat DX_04_Sub DX_05_Cat DX_05_Sub DX_06_Cat DX_06_Sub  \\\n",
       "716       NaN       NaN       NaN       NaN       NaN       NaN       NaN   \n",
       "\n",
       "    DX_07_Cat DX_07_Sub DX_08_Cat DX_08_Sub DX_09_Cat DX_09_Sub DX_10_Cat  \\\n",
       "716       NaN       NaN       NaN       NaN       NaN       NaN       NaN   \n",
       "\n",
       "    DX_10_Sub  \n",
       "716       NaN  "
      ]
     },
     "execution_count": 297,
     "metadata": {},
     "output_type": "execute_result"
    }
   ],
   "source": [
    "# For one patient (with id 716) there exists subcategory ADHD woth no appropriate category\n",
    "\n",
    "test = pd.DataFrame()\n",
    "\n",
    "for i in range(1, 11):\n",
    "    test = test.append(whole_data[(whole_data['DX_' + str(i).zfill(2) + '_Sub'] == 'Attention-Deficit/Hyperactivity Disorder') & \\\n",
    "                      (whole_data['DX_' + str(i).zfill(2) + '_Cat'] != 'Neurodevelopmental Disorders')]\\\n",
    "                       [['DX_' + str(i).zfill(2) + '_Cat', 'DX_' + str(i).zfill(2) + '_Sub']])\n",
    "    \n",
    "\n",
    "test"
   ]
  },
  {
   "cell_type": "code",
   "execution_count": null,
   "metadata": {},
   "outputs": [],
   "source": []
  },
  {
   "cell_type": "code",
   "execution_count": null,
   "metadata": {},
   "outputs": [],
   "source": []
  },
  {
   "cell_type": "code",
   "execution_count": null,
   "metadata": {},
   "outputs": [],
   "source": []
  },
  {
   "cell_type": "code",
   "execution_count": 12,
   "metadata": {},
   "outputs": [],
   "source": [
    "# check the available data for each questionare\n",
    "\n",
    "from os import listdir\n",
    "from os.path import isfile, join\n",
    "\n",
    "path = 'data/DataScience2019_MRI/Behavioral/description'\n",
    "files = [f for f in listdir(path) if isfile(join(path, f))]"
   ]
  },
  {
   "cell_type": "code",
   "execution_count": 16,
   "metadata": {},
   "outputs": [
    {
     "data": {
      "text/plain": [
       "104"
      ]
     },
     "execution_count": 16,
     "metadata": {},
     "output_type": "execute_result"
    }
   ],
   "source": [
    "len(files)"
   ]
  },
  {
   "cell_type": "code",
   "execution_count": 80,
   "metadata": {},
   "outputs": [
    {
     "name": "stdout",
     "output_type": "stream",
     "text": [
      "---> For type DrugScreen   not columns with the same name found.\n",
      "---> For type CGAS         a total of 53.8168 percent of values are filled\n",
      "---> For type STAI         a total of 2.8626 percent of values are filled\n",
      "---> For type PAQ_A        a total of 14.6947 percent of values are filled\n",
      "---> For type PAQ_C        a total of 43.7977 percent of values are filled\n",
      "---> For type CIS_P        a total of 58.8740 percent of values are filled\n",
      "---> For type PreInt_Lang  not columns with the same name found.\n",
      "---> For type YFAS_C       a total of 68.9885 percent of values are filled\n",
      "---> For type PPVT         a total of 7.0611 percent of values are filled\n",
      "---> For type EVT          a total of 7.0611 percent of values are filled\n",
      "---> For type CELF         a total of 92.1756 percent of values are filled\n",
      "---> For type Physical     not columns with the same name found.\n",
      "---> For type ARI_S        a total of 88.7405 percent of values are filled\n",
      "---> For type FGC          a total of 7.8721 percent of values are filled\n",
      "---> For type Temp_Disc    not columns with the same name found.\n",
      "---> For type NIDA         not columns with the same name found.\n",
      "---> For type CBCL         a total of 80.9160 percent of values are filled\n",
      "---> For type PBQ          a total of 62.1660 percent of values are filled\n",
      "---> For type ColorVision  not columns with the same name found.\n",
      "---> For type FTQA         a total of 20.4676 percent of values are filled\n",
      "---> For type PhenX_SchoolRisk not columns with the same name found.\n",
      "---> For type SCARED_SR    a total of 61.5935 percent of values are filled\n",
      "---> For type RANRAS       not columns with the same name found.\n",
      "---> For type WIAT         a total of 89.3607 percent of values are filled\n",
      "---> For type IAT          a total of 52.9580 percent of values are filled\n",
      "---> For type FSQ          a total of 68.2252 percent of values are filled\n",
      "---> For type CBCL_Pre     a total of 7.1088 percent of values are filled\n",
      "---> For type FTND         a total of 2.7195 percent of values are filled\n",
      "---> For type GFTA         a total of 79.8187 percent of values are filled\n",
      "---> For type Tanner       a total of 2.7672 percent of values are filled\n",
      "---> For type PreInt_EduHx not columns with the same name found.\n",
      "---> For type DigitSpan    not columns with the same name found.\n",
      "---> For type PreInt_DemosHome not columns with the same name found.\n",
      "---> For type SRS          a total of 10.0191 percent of values are filled\n",
      "---> For type PCIAT        a total of 73.1870 percent of values are filled\n",
      "---> For type BIA          not columns with the same name found.\n",
      "---> For type CELF_Meta    not columns with the same name found.\n",
      "---> For type WISC         a total of 74.7137 percent of values are filled\n",
      "---> For type WHODAS_SR    a total of 60.4485 percent of values are filled\n",
      "---> For type ConsensusDx  not columns with the same name found.\n",
      "---> For type NLES_SR      a total of 24.3321 percent of values are filled\n",
      "---> For type PSI          a total of 57.1088 percent of values are filled\n",
      "---> For type Vineland     not columns with the same name found.\n",
      "---> For type MFQ_P        a total of 66.3645 percent of values are filled\n",
      "---> For type CTOPP        a total of 83.6832 percent of values are filled\n",
      "---> For type Basic_Demos  not columns with the same name found.\n",
      "---> For type PreInt_FamHx not columns with the same name found.\n",
      "---> For type ASR          a total of 2.8149 percent of values are filled\n",
      "---> For type ARI_P        a total of 86.5935 percent of values are filled\n",
      "---> For type ASSQ         a total of 88.1679 percent of values are filled\n",
      "---> For type TRF_P        not columns with the same name found.\n",
      "---> For type PhenX_Neighborhood a total of 48.6641 percent of values are filled\n",
      "---> For type EHQ          a total of 92.2710 percent of values are filled\n",
      "---> For type Barratt      a total of 88.0248 percent of values are filled\n",
      "---> For type CCSC         a total of 57.1088 percent of values are filled\n",
      "---> For type MFQ_SR       a total of 58.7786 percent of values are filled\n",
      "---> For type PreInt_DemosFam not columns with the same name found.\n",
      "---> For type TOWRE        a total of 74.9046 percent of values are filled\n",
      "---> For type Quotient_Ext not columns with the same name found.\n",
      "---> For type ESWAN        not columns with the same name found.\n",
      "---> For type DTS          a total of 73.0916 percent of values are filled\n",
      "---> For type DailyMeds    not columns with the same name found.\n",
      "---> For type CELF_Full_9to21 not columns with the same name found.\n",
      "---> For type PPS          not columns with the same name found.\n",
      "---> For type NIH5         not columns with the same name found.\n",
      "---> For type NIH_Ext      not columns with the same name found.\n",
      "---> For type WAIS         a total of 4.4370 percent of values are filled\n",
      "---> For type SDQ          a total of 86.3073 percent of values are filled\n",
      "---> For type CELF_Full_5to8 a total of 3.5305 percent of values are filled\n",
      "---> For type SympChck     not columns with the same name found.\n",
      "---> For type YFAS         a total of 4.5802 percent of values are filled\n",
      "---> For type CIS_SR       a total of 52.1469 percent of values are filled\n",
      "---> For type YSR          a total of 35.5916 percent of values are filled\n",
      "---> For type WHODAS_P     a total of 60.4485 percent of values are filled\n",
      "---> For type FFQ          not columns with the same name found.\n",
      "---> For type SRS_Pre      a total of 6.1069 percent of values are filled\n",
      "---> For type NIH7         a total of 89.0744 percent of values are filled\n",
      "---> For type CDI_P        not columns with the same name found.\n",
      "---> For type CPIC         a total of 48.0916 percent of values are filled\n",
      "---> For type Quotient     not columns with the same name found.\n",
      "---> For type KBIT         a total of 9.3511 percent of values are filled\n",
      "---> For type PreInt_DevHx not columns with the same name found.\n",
      "---> For type CDI_SR       not columns with the same name found.\n",
      "---> For type SCARED_P     a total of 75.1908 percent of values are filled\n",
      "---> For type ICU_P        a total of 74.6183 percent of values are filled\n",
      "---> For type TRF          not columns with the same name found.\n",
      "---> For type SCQ          a total of 88.6927 percent of values are filled\n",
      "---> For type Audit        not columns with the same name found.\n",
      "---> For type PreInt_FamHx_RDC not columns with the same name found.\n",
      "---> For type NLES_P       a total of 73.4256 percent of values are filled\n",
      "---> For type APQ_P        a total of 84.6851 percent of values are filled\n",
      "---> For type SWAN         not columns with the same name found.\n",
      "---> For type APQ_SR       a total of 83.5878 percent of values are filled\n",
      "---> For type PreInt_TxHx  not columns with the same name found.\n",
      "---> For type CAARS        a total of 2.8149 percent of values are filled\n",
      "---> For type EEG_Track    not columns with the same name found.\n",
      "---> For type SDS          a total of 60.4008 percent of values are filled\n",
      "---> For type ICU_SR       a total of 33.1584 percent of values are filled\n",
      "---> For type ESPAD        a total of 38.0725 percent of values are filled\n",
      "---> For type RBS          a total of 50.8588 percent of values are filled\n",
      "---> For type ACE          a total of 2.7195 percent of values are filled\n",
      "---> For type SAS          a total of 57.8244 percent of values are filled\n",
      "---> For type WASI         a total of 9.0649 percent of values are filled\n",
      "---> For type C3SR         a total of 64.3607 percent of values are filled\n"
     ]
    }
   ],
   "source": [
    "# Assume that all same type questions are either filled all or none for each individual\n",
    "# This is not always the case! See for example ACE!\n",
    "\n",
    "total_rows = whole_data.shape[0]\n",
    "\n",
    "filled_values_all_types = []\n",
    "\n",
    "for file in files:\n",
    "    column_type = file.split('.')[0]\n",
    "    \n",
    "    flag = 0\n",
    "    for col in whole_data.columns:\n",
    "        if column_type in col:\n",
    "            flag = 1\n",
    "            \n",
    "            found = np.sum(~pd.isnull(whole_data[col]))\n",
    "            \n",
    "            filled_values = found / total_rows * 100\n",
    "            filled_values_all_types.append(filled_values)\n",
    "            \n",
    "            print('---> For type {0: <12} a total of {1:6.4f} percent of values are filled'\n",
    "                  .format(column_type, filled_values))\n",
    "            \n",
    "            break\n",
    "            \n",
    "    if flag == 0:\n",
    "        print('---> For type {0: <12} not columns with the same name found.'.format(column_type))\n",
    "        "
   ]
  },
  {
   "cell_type": "code",
   "execution_count": 94,
   "metadata": {},
   "outputs": [
    {
     "data": {
      "text/plain": [
       "<matplotlib.axes._subplots.AxesSubplot at 0x7f2d982d33d0>"
      ]
     },
     "execution_count": 94,
     "metadata": {},
     "output_type": "execute_result"
    },
    {
     "data": {
      "image/png": "[encoded data removed]",
      "text/plain": [
       "<Figure size 1008x432 with 1 Axes>"
      ]
     },
     "metadata": {},
     "output_type": "display_data"
    }
   ],
   "source": [
    "import numpy as np\n",
    "import pandas as pd\n",
    "import seaborn as sns\n",
    "import matplotlib.pyplot as plt\n",
    "from scipy import stats\n",
    "\n",
    "from pylab import rcParams\n",
    "rcParams['figure.figsize'] = 14, 6\n",
    "\n",
    "sns.set(color_codes=True)\n",
    "\n",
    "sns.distplot(filled_values_all_types, kde=False, bins=50)"
   ]
  },
  {
   "cell_type": "code",
   "execution_count": null,
   "metadata": {},
   "outputs": [],
   "source": []
  },
  {
   "cell_type": "code",
   "execution_count": 160,
   "metadata": {},
   "outputs": [],
   "source": [
    "unique, counts = np.unique(categories, return_counts=True)"
   ]
  },
  {
   "cell_type": "code",
   "execution_count": null,
   "metadata": {},
   "outputs": [],
   "source": []
  },
  {
   "cell_type": "code",
   "execution_count": 166,
   "metadata": {},
   "outputs": [
    {
     "data": {
      "image/png": "[encoded data removed]",
      "text/plain": [
       "<Figure size 1008x432 with 1 Axes>"
      ]
     },
     "metadata": {},
     "output_type": "display_data"
    }
   ],
   "source": [
    "import seaborn as sns\n",
    "import matplotlib.pyplot as plt\n",
    "\n",
    "sns.set()\n",
    "\n",
    "threshold = 20\n",
    "\n",
    "for i in range(1, 11):\n",
    "    if i == 1:\n",
    "        categories = np.array(whole_data['DX_' + str(i).zfill(2) + '_Cat'].values, dtype=np.str)\n",
    "        sub_categories = np.array(whole_data['DX_' + str(i).zfill(2) + '_Sub'].values, dtype=np.str)\n",
    "    else:\n",
    "        categories = np.concatenate((categories, \n",
    "                                     np.array(whole_data['DX_' + str(i).zfill(2) + '_Cat'].values, dtype=np.str)))\n",
    "        sub_categories = np.concatenate((sub_categories,\n",
    "                                     np.array(whole_data['DX_' + str(i).zfill(2) + '_Sub'].values, dtype=np.str)))\n",
    "\n",
    "\n",
    "# remove nans\n",
    "mask = ~(categories == 'nan')\n",
    "categories = categories[mask]\n",
    "sub_categories = sub_categories[mask]\n",
    "\n",
    "# unique categories with less than threshold apearrences\n",
    "unique, counts = np.unique(categories, return_counts=True)\n",
    "valid_categories = unique[counts > threshold]\n",
    "\n",
    "mask = [x in valid_categories for x in categories]\n",
    "categories = categories[mask]\n",
    "sub_categories = sub_categories[mask]\n",
    "        \n",
    "df = pd.DataFrame({'sub_categories': sub_categories, 'categories': categories})\n",
    "ct = pd.crosstab(df.categories, df.sub_categories)\n",
    "\n",
    "ct.plot.bar(stacked=True)\n",
    "plt.legend(title='Sub category', fontsize=8)\n",
    "\n",
    "plt.show()"
   ]
  },
  {
   "cell_type": "code",
   "execution_count": null,
   "metadata": {},
   "outputs": [],
   "source": []
  },
  {
   "cell_type": "code",
   "execution_count": 109,
   "metadata": {},
   "outputs": [
    {
     "name": "stdout",
     "output_type": "stream",
     "text": [
      "[2072, 1996, 1956]\n"
     ]
    },
    {
     "data": {
      "text/html": [
       "<div>\n",
       "<style scoped>\n",
       "    .dataframe tbody tr th:only-of-type {\n",
       "        vertical-align: middle;\n",
       "    }\n",
       "\n",
       "    .dataframe tbody tr th {\n",
       "        vertical-align: top;\n",
       "    }\n",
       "\n",
       "    .dataframe thead th {\n",
       "        text-align: right;\n",
       "    }\n",
       "</style>\n",
       "<table border=\"1\" class=\"dataframe\">\n",
       "  <thead>\n",
       "    <tr style=\"text-align: right;\">\n",
       "      <th></th>\n",
       "      <th>ACE_01</th>\n",
       "      <th>ACE_02</th>\n",
       "      <th>ACE_03</th>\n",
       "      <th>ACE_04</th>\n",
       "      <th>ACE_05</th>\n",
       "      <th>ACE_06</th>\n",
       "      <th>ACE_07</th>\n",
       "      <th>ACE_08</th>\n",
       "      <th>ACE_09</th>\n",
       "      <th>ACE_10</th>\n",
       "      <th>ACE_Score</th>\n",
       "    </tr>\n",
       "  </thead>\n",
       "  <tbody>\n",
       "    <tr>\n",
       "      <td>2072</td>\n",
       "      <td>NaN</td>\n",
       "      <td>NaN</td>\n",
       "      <td>NaN</td>\n",
       "      <td>NaN</td>\n",
       "      <td>NaN</td>\n",
       "      <td>NaN</td>\n",
       "      <td>NaN</td>\n",
       "      <td>NaN</td>\n",
       "      <td>NaN</td>\n",
       "      <td>NaN</td>\n",
       "      <td>0.0</td>\n",
       "    </tr>\n",
       "    <tr>\n",
       "      <td>1996</td>\n",
       "      <td>NaN</td>\n",
       "      <td>NaN</td>\n",
       "      <td>NaN</td>\n",
       "      <td>NaN</td>\n",
       "      <td>NaN</td>\n",
       "      <td>NaN</td>\n",
       "      <td>NaN</td>\n",
       "      <td>NaN</td>\n",
       "      <td>NaN</td>\n",
       "      <td>NaN</td>\n",
       "      <td>0.0</td>\n",
       "    </tr>\n",
       "    <tr>\n",
       "      <td>1956</td>\n",
       "      <td>NaN</td>\n",
       "      <td>NaN</td>\n",
       "      <td>NaN</td>\n",
       "      <td>NaN</td>\n",
       "      <td>NaN</td>\n",
       "      <td>NaN</td>\n",
       "      <td>NaN</td>\n",
       "      <td>NaN</td>\n",
       "      <td>NaN</td>\n",
       "      <td>NaN</td>\n",
       "      <td>0.0</td>\n",
       "    </tr>\n",
       "  </tbody>\n",
       "</table>\n",
       "</div>"
      ],
      "text/plain": [
       "      ACE_01  ACE_02  ACE_03  ACE_04  ACE_05  ACE_06  ACE_07  ACE_08  ACE_09  \\\n",
       "2072     NaN     NaN     NaN     NaN     NaN     NaN     NaN     NaN     NaN   \n",
       "1996     NaN     NaN     NaN     NaN     NaN     NaN     NaN     NaN     NaN   \n",
       "1956     NaN     NaN     NaN     NaN     NaN     NaN     NaN     NaN     NaN   \n",
       "\n",
       "      ACE_10  ACE_Score  \n",
       "2072     NaN        0.0  \n",
       "1996     NaN        0.0  \n",
       "1956     NaN        0.0  "
      ]
     },
     "execution_count": 109,
     "metadata": {},
     "output_type": "execute_result"
    }
   ],
   "source": [
    "# For some cases ACE_Score is not NaN although all scores ACE_{01-10} are NaN\n",
    "# Also should we care about all the ACE random columns?\n",
    "\n",
    "positions = list(set(whole_data[~ np.isnan(whole_data['ACE_Score'])].index) - \\\n",
    "                    set(whole_data[~ np.isnan(whole_data['ACE_01'])].index))\n",
    "\n",
    "print(positions)\n",
    "\n",
    "relevant_columns = ['ACE_0' + str(i) for i in range(1, 10)] + ['ACE_10', 'ACE_Score']\n",
    "whole_data[relevant_columns].iloc[positions]"
   ]
  },
  {
   "cell_type": "code",
   "execution_count": 122,
   "metadata": {},
   "outputs": [
    {
     "name": "stdout",
     "output_type": "stream",
     "text": [
      "For the columns: ['APQ_P_INV', 'APQ_P_PP', 'APQ_P_PM', 'APQ_P_ID', 'APQ_P_CP', 'APQ_P_Total', 'APQ_P_OPD']\n",
      "This percentage of values are Nan: 0.15314885496183206\n"
     ]
    }
   ],
   "source": [
    "# Percentage of NaN values for APQ_P\n",
    "# for all columns the same values are Nan\n",
    "\n",
    "cols = ['APQ_P_' + i for i in ['INV', 'PP', 'PM', 'ID', 'CP', 'Total', 'OPD']]\n",
    "print('For the columns:', cols)\n",
    "\n",
    "print('This percentage of values are Nan:', np.sum(np.isnan(whole_data[cols[0]].values)) / len(whole_data))"
   ]
  },
  {
   "cell_type": "code",
   "execution_count": 127,
   "metadata": {},
   "outputs": [
    {
     "name": "stdout",
     "output_type": "stream",
     "text": [
      "For the columns: ['APQ_SR_INV_D', 'APQ_SR_INV_M', 'APQ_SR_PP', 'APQ_SR_PM', 'APQ_SR_CP', 'APQ_SR_OPD', 'APQ_SR_Total']\n",
      "This percentage of values are Nan: 0.16173664122137404\n"
     ]
    }
   ],
   "source": [
    "# Percentage of NaN values for APQ_SR\n",
    "# for all columns the same values are Nan\n",
    "\n",
    "cols = ['APQ_SR_' + i for i in ['INV_D', 'INV_M', 'PP', 'PM', 'CP', 'OPD', 'Total']]\n",
    "print('For the columns:', cols)\n",
    "\n",
    "print('This percentage of values are Nan:', np.sum(np.isnan(whole_data[cols[0]].values)) / len(whole_data))"
   ]
  },
  {
   "cell_type": "code",
   "execution_count": 136,
   "metadata": {},
   "outputs": [
    {
     "name": "stdout",
     "output_type": "stream",
     "text": [
      "For the columns: ['ARI_P_01', 'ARI_P_02', 'ARI_P_03', 'ARI_P_04', 'ARI_P_05', 'ARI_P_06', 'ARI_P_07', 'ARI_P_Total_Score']\n",
      "This percentage of values are Nan: 0.1340648854961832\n",
      "This percentage of values are Nan: 0.13454198473282442\n",
      "This percentage of values are Nan: 0.1340648854961832\n",
      "This percentage of values are Nan: 0.13454198473282442\n",
      "This percentage of values are Nan: 0.1340648854961832\n",
      "This percentage of values are Nan: 0.13549618320610687\n",
      "This percentage of values are Nan: 0.13454198473282442\n",
      "This percentage of values are Nan: 0.1340648854961832\n"
     ]
    }
   ],
   "source": [
    "# Percentage of NaN values for ARI_P\n",
    "\n",
    "cols = ['ARI_P_0' + str(i) for i in range(1, 8)] + ['ARI_P_Total_Score']\n",
    "print('For the columns:', cols)\n",
    "\n",
    "for col in cols:\n",
    "    print('This percentage of values are Nan:', np.sum(np.isnan(whole_data[col].values)) / len(whole_data))"
   ]
  },
  {
   "cell_type": "code",
   "execution_count": 137,
   "metadata": {},
   "outputs": [
    {
     "name": "stdout",
     "output_type": "stream",
     "text": [
      "For the columns: ['ARI_S_01', 'ARI_S_02', 'ARI_S_03', 'ARI_S_04', 'ARI_S_05', 'ARI_S_06', 'ARI_S_07', 'ARI_P_Total_Score']\n",
      "This percentage of values are Nan: 0.11259541984732824\n",
      "This percentage of values are Nan: 0.11307251908396947\n",
      "This percentage of values are Nan: 0.11402671755725191\n",
      "This percentage of values are Nan: 0.11259541984732824\n",
      "This percentage of values are Nan: 0.11307251908396947\n",
      "This percentage of values are Nan: 0.11307251908396947\n",
      "This percentage of values are Nan: 0.11354961832061068\n",
      "This percentage of values are Nan: 0.1340648854961832\n"
     ]
    }
   ],
   "source": [
    "# Percentage of NaN values for ARI_S\n",
    "\n",
    "cols = ['ARI_S_0' + str(i) for i in range(1, 8)] + ['ARI_P_Total_Score']\n",
    "print('For the columns:', cols)\n",
    "\n",
    "for col in cols:\n",
    "    print('This percentage of values are Nan:', np.sum(np.isnan(whole_data[col].values)) / len(whole_data))"
   ]
  },
  {
   "cell_type": "code",
   "execution_count": null,
   "metadata": {},
   "outputs": [],
   "source": []
  },
  {
   "cell_type": "code",
   "execution_count": null,
   "metadata": {},
   "outputs": [],
   "source": []
  },
  {
   "cell_type": "code",
   "execution_count": null,
   "metadata": {},
   "outputs": [],
   "source": []
  },
  {
   "cell_type": "code",
   "execution_count": null,
   "metadata": {},
   "outputs": [],
   "source": []
  },
  {
   "cell_type": "code",
   "execution_count": null,
   "metadata": {},
   "outputs": [],
   "source": []
  },
  {
   "cell_type": "markdown",
   "metadata": {},
   "source": [
    "## test"
   ]
  },
  {
   "cell_type": "code",
   "execution_count": null,
   "metadata": {},
   "outputs": [],
   "source": []
  },
  {
   "cell_type": "code",
   "execution_count": null,
   "metadata": {},
   "outputs": [],
   "source": []
  },
  {
   "cell_type": "code",
   "execution_count": null,
   "metadata": {},
   "outputs": [],
   "source": []
  },
  {
   "cell_type": "code",
   "execution_count": null,
   "metadata": {},
   "outputs": [],
   "source": []
  },
  {
   "cell_type": "code",
   "execution_count": null,
   "metadata": {},
   "outputs": [],
   "source": []
  },
  {
   "cell_type": "markdown",
   "metadata": {},
   "source": [
    "## Simple algorithm"
   ]
  },
  {
   "cell_type": "code",
   "execution_count": 364,
   "metadata": {},
   "outputs": [],
   "source": [
    "data = pd.read_csv('data/DataScience2019_MRI/Behavioral/AllData.csv', low_memory=False)\n",
    "\n",
    "# For start only keep patients for which we have actual diagnosis\n",
    "# not having a diagnosis means that they are healthy ?\n",
    "data = data[(data['NoDX'] == 'Yes') | (data['NoDX'] == 'No')]\n",
    "data.reset_index(inplace=True)\n",
    "\n",
    "important_columns = ['Sex', 'Age', 'BMI', 'Handedness', 'WISC_FSIQ']"
   ]
  },
  {
   "cell_type": "code",
   "execution_count": 365,
   "metadata": {},
   "outputs": [],
   "source": [
    "data['Handedness'].fillna(0, inplace=True)"
   ]
  },
  {
   "cell_type": "code",
   "execution_count": 366,
   "metadata": {},
   "outputs": [],
   "source": [
    "data['BMI'].fillna((data['BMI'].mean()), inplace=True)"
   ]
  },
  {
   "cell_type": "code",
   "execution_count": 367,
   "metadata": {},
   "outputs": [],
   "source": [
    "data['WISC_FSIQ'].fillna((data['WISC_FSIQ'].mean()), inplace=True)"
   ]
  },
  {
   "cell_type": "code",
   "execution_count": null,
   "metadata": {},
   "outputs": [],
   "source": []
  },
  {
   "cell_type": "code",
   "execution_count": 368,
   "metadata": {},
   "outputs": [],
   "source": [
    "most_common_disorders = ['Intellectual Disability', 'Obsessive Compulsive and Related Disorders', \n",
    "                         'Trauma and Stressor Related Disorders', 'Motor Disorder', 'Elimination Disorders',\n",
    "                         'Depressive Disorders', 'Communication Disorder', \n",
    "                         'Disruptive, Impulse Control and Conduct Disorders',\n",
    "                         'Autism Spectrum Disorder', 'Specific Learning Disorder',\n",
    "                         'Anxiety Disorders', 'Attention-Deficit/Hyperactivity Disorder']\n",
    "\n",
    "search_columns = ['DX_' + str(i).zfill(2) + '_Cat' for i in range(1, 11)] + \\\n",
    "                 ['DX_' + str(i).zfill(2) + '_Sub' for i in range(1, 11)]"
   ]
  },
  {
   "cell_type": "code",
   "execution_count": 372,
   "metadata": {},
   "outputs": [
    {
     "name": "stdout",
     "output_type": "stream",
     "text": [
      "Intellectual Disability                           : 56\n",
      "Obsessive Compulsive and Related Disorders        : 72\n",
      "Trauma and Stressor Related Disorders             : 76\n",
      "Motor Disorder                                    : 96\n",
      "Elimination Disorders                             : 88\n",
      "Depressive Disorders                              : 174\n",
      "Communication Disorder                            : 210\n",
      "Disruptive, Impulse Control and Conduct Disorders : 35\n",
      "Autism Spectrum Disorder                          : 299\n",
      "Specific Learning Disorder                        : 279\n",
      "Anxiety Disorders                                 : 427\n",
      "Attention-Deficit/Hyperactivity Disorder          : 1015\n"
     ]
    }
   ],
   "source": [
    "classes = np.zeros((len(most_common_disorders), data.shape[0]))\n",
    "\n",
    "data_classes = data[search_columns]\n",
    "\n",
    "for i, disorder in enumerate(most_common_disorders):\n",
    "    mask = data_classes.select_dtypes(include=[object]). \\\n",
    "            applymap(lambda x: disorder in x if pd.notnull(x) else False)\n",
    "    \n",
    "    disorder_df = data_classes[mask.any(axis=1)]\n",
    "    \n",
    "    np.add.at(classes[i], disorder_df.index.values, 1)\n",
    "    \n",
    "    # same as np.sum(classes[i])\n",
    "    print('{0: <50}: {1}'.format(disorder, disorder_df.shape[0]))"
   ]
  },
  {
   "cell_type": "code",
   "execution_count": null,
   "metadata": {},
   "outputs": [],
   "source": []
  },
  {
   "cell_type": "code",
   "execution_count": 375,
   "metadata": {},
   "outputs": [],
   "source": [
    "data = data[important_columns]"
   ]
  },
  {
   "cell_type": "code",
   "execution_count": 378,
   "metadata": {},
   "outputs": [],
   "source": [
    "from sklearn.ensemble import RandomForestClassifier\n",
    "\n"
   ]
  },
  {
   "cell_type": "code",
   "execution_count": null,
   "metadata": {},
   "outputs": [],
   "source": []
  },
  {
   "cell_type": "code",
   "execution_count": 380,
   "metadata": {},
   "outputs": [],
   "source": [
    "from sklearn.model_selection import train_test_split"
   ]
  },
  {
   "cell_type": "code",
   "execution_count": 401,
   "metadata": {},
   "outputs": [],
   "source": [
    "X_train, X_test, y_train, y_test = train_test_split(data, classes[-1], test_size=0.25, random_state=42)"
   ]
  },
  {
   "cell_type": "code",
   "execution_count": 402,
   "metadata": {},
   "outputs": [
    {
     "name": "stdout",
     "output_type": "stream",
     "text": [
      "(1360, 5)\n",
      "(454, 5)\n",
      "(1360,)\n",
      "(454,)\n"
     ]
    }
   ],
   "source": [
    "print(X_train.shape)\n",
    "print(X_test.shape)\n",
    "print(y_train.shape)\n",
    "print(y_test.shape)"
   ]
  },
  {
   "cell_type": "code",
   "execution_count": 403,
   "metadata": {},
   "outputs": [
    {
     "data": {
      "text/plain": [
       "RandomForestClassifier(bootstrap=True, class_weight='balanced',\n",
       "                       criterion='gini', max_depth=None, max_features='auto',\n",
       "                       max_leaf_nodes=None, min_impurity_decrease=0.0,\n",
       "                       min_impurity_split=None, min_samples_leaf=1,\n",
       "                       min_samples_split=2, min_weight_fraction_leaf=0.0,\n",
       "                       n_estimators=100, n_jobs=None, oob_score=False,\n",
       "                       random_state=None, verbose=0, warm_start=False)"
      ]
     },
     "execution_count": 403,
     "metadata": {},
     "output_type": "execute_result"
    }
   ],
   "source": [
    "clf = RandomForestClassifier(n_estimators=100, class_weight='balanced')\n",
    "\n",
    "clf.fit(X_train, y_train)"
   ]
  },
  {
   "cell_type": "code",
   "execution_count": 404,
   "metadata": {},
   "outputs": [],
   "source": [
    "preds = clf.predict(X_test)"
   ]
  },
  {
   "cell_type": "code",
   "execution_count": 405,
   "metadata": {},
   "outputs": [
    {
     "name": "stdout",
     "output_type": "stream",
     "text": [
      "accuracy 0.5969162995594713\n",
      "[[ 96  98]\n",
      " [ 85 175]]\n",
      "              precision    recall  f1-score   support\n",
      "\n",
      "         0.0       0.53      0.49      0.51       194\n",
      "         1.0       0.64      0.67      0.66       260\n",
      "\n",
      "    accuracy                           0.60       454\n",
      "   macro avg       0.59      0.58      0.58       454\n",
      "weighted avg       0.59      0.60      0.59       454\n",
      "\n"
     ]
    }
   ],
   "source": [
    "from sklearn.metrics import accuracy_score, classification_report, confusion_matrix\n",
    "\n",
    "print('accuracy', accuracy_score(y_test, preds))\n",
    "\n",
    "print(confusion_matrix(y_test, preds))\n",
    "\n",
    "print(classification_report(y_test, preds))"
   ]
  },
  {
   "cell_type": "code",
   "execution_count": null,
   "metadata": {},
   "outputs": [],
   "source": []
  }
 ],
 "metadata": {
  "kernelspec": {
   "display_name": "Python 3",
   "language": "python",
   "name": "python3"
  },
  "language_info": {
   "codemirror_mode": {
    "name": "ipython",
    "version": 3
   },
   "file_extension": ".py",
   "mimetype": "text/x-python",
   "name": "python",
   "nbconvert_exporter": "python",
   "pygments_lexer": "ipython3",
   "version": "3.7.4"
  }
 },
 "nbformat": 4,
 "nbformat_minor": 2
}
