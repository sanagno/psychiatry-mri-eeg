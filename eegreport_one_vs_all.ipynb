{
  "nbformat": 4,
  "nbformat_minor": 0,
  "metadata": {
    "colab": {
      "name": "DataScienceLab.ipynb",
      "provenance": [],
      "collapsed_sections": [
        "mwrL96YmEwz8",
        "Yo4JDcdNJZqG",
        "9hIfx6EZFT3r",
        "6O4TZGWRKpw5",
        "63U3iLOgFjSh",
        "TXDEy9gVLVvQ",
        "BIbRi1U_wLmg"
      ],
      "include_colab_link": true
    },
    "kernelspec": {
      "name": "python3",
      "display_name": "Python 3"
    }
  },
  "cells": [
    {
      "cell_type": "markdown",
      "metadata": {
        "id": "view-in-github",
        "colab_type": "text"
      },
      "source": [
        "<a href=\"https://colab.research.google.com/github/sanagno/psychiatry-mri/blob/eeg/eegreport_one_vs_all.ipynb\" target=\"_parent\"><img src=\"https://colab.research.google.com/assets/colab-badge.svg\" alt=\"Open In Colab\"/></a>"
      ]
    },
    {
      "cell_type": "code",
      "metadata": {
        "id": "7YxOz-zNNlyy",
        "colab_type": "code",
        "colab": {}
      },
      "source": [
        "import pandas as pd\n",
        "import numpy as np\n",
        "from sklearn.ensemble import RandomForestClassifier as rf\n",
        "from sklearn.svm import SVC as svm\n",
        "from sklearn.linear_model import LogisticRegression as lg\n",
        "from sklearn.model_selection import train_test_split\n",
        "from sklearn.metrics import confusion_matrix,accuracy_score,balanced_accuracy_score,f1_score\n",
        "from sklearn.decomposition import PCA\n",
        "import matplotlib.pyplot as plt\n",
        "from sklearn.model_selection import StratifiedKFold\n",
        "from warnings import simplefilter\n",
        "import os\n",
        "#import autoencoder as ae\n",
        "#import importlib\n",
        "#importlib.reload(ae)\n",
        "# ignore all future warnings\n",
        "simplefilter(action='ignore', category=FutureWarning)\n"
      ],
      "execution_count": 0,
      "outputs": []
    },
    {
      "cell_type": "markdown",
      "metadata": {
        "id": "-YjKzrOY5dKO",
        "colab_type": "text"
      },
      "source": [
        "## Clean Data\n"
      ]
    },
    {
      "cell_type": "code",
      "metadata": {
        "id": "bFK75cJgWc2G",
        "colab_type": "code",
        "outputId": "2bcebcbc-fdcd-4a3f-b5c8-b4156c1b39a9",
        "colab": {
          "base_uri": "https://localhost:8080/",
          "height": 51
        }
      },
      "source": [
        "base_dir = './'\n",
        "\n",
        "behaviour_data = pd.read_csv(os.path.join(base_dir, 'HBNFinalSummaries.csv'), low_memory=False)\n",
        "\n",
        "initial_size = behaviour_data.shape[0]\n",
        "behaviour_data = behaviour_data[behaviour_data['NoDX'].isin(['Yes', 'No'])]\n",
        "new_size = behaviour_data.shape[0]\n",
        "print('Removing', initial_size - new_size,\n",
        "      'patients as their evaluation was incomplete.')\n",
        "\n",
        "most_common_disorders = ['Attention-Deficit/Hyperactivity Disorder', 'Anxiety Disorders', 'Specific Learning Disorder',\n",
        "                         'Autism Spectrum Disorder', 'Disruptive', 'No Diagnosis Given', 'Communication Disorder',\n",
        "                         'Depressive Disorders']\n",
        "\n",
        "category_columns = ['DX_' + str(i).zfill(2) + '_Cat' for i in range(1, 11)] +\\\n",
        "                   ['DX_' + str(i).zfill(2) + '_Sub' for i in range(1, 11)]\n",
        "\n",
        "# find users that have no diagnosis within these top diseases\n",
        "# filtering should cahnge anything as this should also happen at a later stage\n",
        "mask = None\n",
        "for col in category_columns:\n",
        "    mask_col = behaviour_data[col].isin(most_common_disorders)\n",
        "    if mask is None:\n",
        "        mask = mask_col\n",
        "    else:\n",
        "        mask = mask | mask_col\n",
        "\n",
        "initial_size = behaviour_data.shape[0]\n",
        "behaviour_data = behaviour_data[mask]\n",
        "behaviour_data = behaviour_data.reset_index(drop=True)\n",
        "new_size = behaviour_data.shape[0]\n",
        "print('Removing', initial_size - new_size,\n",
        "      'patients as their diagnoses were very uncommon.')"
      ],
      "execution_count": 2,
      "outputs": [
        {
          "output_type": "stream",
          "text": [
            "Removing 282 patients as their evaluation was incomplete.\n",
            "Removing 73 patients as their diagnoses were very uncommon.\n"
          ],
          "name": "stdout"
        }
      ]
    },
    {
      "cell_type": "code",
      "metadata": {
        "id": "gPJKjCNhXbsz",
        "colab_type": "code",
        "colab": {}
      },
      "source": [
        "no_diagnosis_given = 'No Diagnosis Given'\n",
        "\n",
        "if no_diagnosis_given in most_common_disorders:\n",
        "    no_diag_index = most_common_disorders.index(no_diagnosis_given)\n",
        "    most_common_disorders = most_common_disorders[:no_diag_index] + \\\n",
        "        most_common_disorders[no_diag_index + 1:]"
      ],
      "execution_count": 0,
      "outputs": []
    },
    {
      "cell_type": "code",
      "metadata": {
        "id": "L1T5zt6UXefa",
        "colab_type": "code",
        "colab": {}
      },
      "source": [
        "diagnoses_to_ids = {disorder: i for i, disorder in enumerate(most_common_disorders)}"
      ],
      "execution_count": 0,
      "outputs": []
    },
    {
      "cell_type": "code",
      "metadata": {
        "id": "Rw7ila_vXfVj",
        "colab_type": "code",
        "colab": {}
      },
      "source": [
        "def get_disorder(data, row, index):\n",
        "    disorder = data.iloc[row][category_columns[index]]\n",
        "\n",
        "    if disorder == 'Neurodevelopmental Disorders':\n",
        "        disorder = data.iloc[row][category_columns[index + 10]]\n",
        "\n",
        "    return disorder\n",
        "\n",
        "order_of_disorders = []\n",
        "for k in range(behaviour_data.shape[0]):\n",
        "    i = 0\n",
        "    disorder = get_disorder(behaviour_data, k, i)\n",
        "    disorders_patient = []\n",
        "    while disorder != no_diagnosis_given and not pd.isnull(disorder):\n",
        "        if disorder in diagnoses_to_ids:\n",
        "            if diagnoses_to_ids[disorder] not in disorders_patient:\n",
        "                disorders_patient.append(diagnoses_to_ids[disorder])\n",
        "        i += 1\n",
        "        if i == len(category_columns):\n",
        "            break\n",
        "        disorder = get_disorder(behaviour_data, k, i)\n",
        "\n",
        "    order_of_disorders.append(disorders_patient)"
      ],
      "execution_count": 0,
      "outputs": []
    },
    {
      "cell_type": "code",
      "metadata": {
        "id": "v0QmC0oKXr3e",
        "colab_type": "code",
        "colab": {}
      },
      "source": [
        "max_len_order = np.max([len(x) for x in order_of_disorders])\n",
        "\n",
        "# pad with a new token denoting the pad token\n",
        "pad_token = len(most_common_disorders)\n",
        "bod_token = len(most_common_disorders) + 1\n",
        "eod_token = len(most_common_disorders) + 2\n",
        "\n",
        "order_of_disorders = [[bod_token] + x + [eod_token] + [pad_token] * (max_len_order - len(x)) for x in order_of_disorders]\n",
        "\n",
        "order_of_disorders = np.array(order_of_disorders)"
      ],
      "execution_count": 0,
      "outputs": []
    },
    {
      "cell_type": "code",
      "metadata": {
        "id": "N3UPZCUKXvS8",
        "colab_type": "code",
        "colab": {}
      },
      "source": [
        "classes = np.zeros((len(most_common_disorders),\n",
        "                    behaviour_data.shape[0]), dtype=np.int32)\n",
        "\n",
        "df_disorders = behaviour_data[category_columns]\n",
        "\n",
        "for i, disorder in enumerate(most_common_disorders):\n",
        "    mask = df_disorders.select_dtypes(include=[object]). \\\n",
        "        applymap(lambda x: disorder in x if pd.notnull(x) else False)\n",
        "\n",
        "    disorder_df = df_disorders[mask.any(axis=1)]\n",
        "\n",
        "    np.add.at(classes[i], disorder_df.index.values, 1)"
      ],
      "execution_count": 0,
      "outputs": []
    },
    {
      "cell_type": "code",
      "metadata": {
        "id": "qZp0xLeJX0gt",
        "colab_type": "code",
        "colab": {}
      },
      "source": [
        "behaviour_data_columns = behaviour_data.columns.values.astype(np.str)\n",
        "\n",
        "columns_to_drop = behaviour_data_columns[\n",
        "    np.flatnonzero(np.core.defchararray.find(behaviour_data_columns, 'DX') != -1)]\n",
        "\n",
        "behaviour_data = behaviour_data.drop(columns=columns_to_drop)"
      ],
      "execution_count": 0,
      "outputs": []
    },
    {
      "cell_type": "code",
      "metadata": {
        "id": "PFcPGkb1X21f",
        "colab_type": "code",
        "colab": {}
      },
      "source": [
        "for disorder, classification in zip(most_common_disorders, classes):\n",
        "    behaviour_data[disorder] = classification\n",
        "\n",
        "behaviour_data['order_diagnoses'] = list(order_of_disorders)"
      ],
      "execution_count": 0,
      "outputs": []
    },
    {
      "cell_type": "code",
      "metadata": {
        "id": "uRAFeRyM9yHF",
        "colab_type": "code",
        "colab": {}
      },
      "source": [
        "behaviour_data_id=behaviour_data.EID.values"
      ],
      "execution_count": 0,
      "outputs": []
    },
    {
      "cell_type": "code",
      "metadata": {
        "id": "ATAs-7WaGD_1",
        "colab_type": "code",
        "outputId": "04c08c56-ff94-41df-ebfc-dfae56cbd65e",
        "colab": {
          "base_uri": "https://localhost:8080/",
          "height": 34
        }
      },
      "source": [
        "behaviour_data.shape"
      ],
      "execution_count": 11,
      "outputs": [
        {
          "output_type": "execute_result",
          "data": {
            "text/plain": [
              "(1741, 314)"
            ]
          },
          "metadata": {
            "tags": []
          },
          "execution_count": 11
        }
      ]
    },
    {
      "cell_type": "code",
      "metadata": {
        "id": "x3ojwtsR-eEi",
        "colab_type": "code",
        "colab": {}
      },
      "source": [
        "labels=behaviour_data[[\"EID\"]+list(most_common_disorders)]"
      ],
      "execution_count": 0,
      "outputs": []
    },
    {
      "cell_type": "code",
      "metadata": {
        "id": "j3N5U3zhz1f1",
        "colab_type": "code",
        "outputId": "c25b6d96-a90a-4787-eeb0-2535c9df24f1",
        "colab": {
          "base_uri": "https://localhost:8080/",
          "height": 238
        }
      },
      "source": [
        "labels.head()"
      ],
      "execution_count": 13,
      "outputs": [
        {
          "output_type": "execute_result",
          "data": {
            "text/html": [
              "<div>\n",
              "<style scoped>\n",
              "    .dataframe tbody tr th:only-of-type {\n",
              "        vertical-align: middle;\n",
              "    }\n",
              "\n",
              "    .dataframe tbody tr th {\n",
              "        vertical-align: top;\n",
              "    }\n",
              "\n",
              "    .dataframe thead th {\n",
              "        text-align: right;\n",
              "    }\n",
              "</style>\n",
              "<table border=\"1\" class=\"dataframe\">\n",
              "  <thead>\n",
              "    <tr style=\"text-align: right;\">\n",
              "      <th></th>\n",
              "      <th>EID</th>\n",
              "      <th>Attention-Deficit/Hyperactivity Disorder</th>\n",
              "      <th>Anxiety Disorders</th>\n",
              "      <th>Specific Learning Disorder</th>\n",
              "      <th>Autism Spectrum Disorder</th>\n",
              "      <th>Disruptive</th>\n",
              "      <th>Communication Disorder</th>\n",
              "      <th>Depressive Disorders</th>\n",
              "    </tr>\n",
              "  </thead>\n",
              "  <tbody>\n",
              "    <tr>\n",
              "      <th>0</th>\n",
              "      <td>NDARYM832PX3</td>\n",
              "      <td>0</td>\n",
              "      <td>1</td>\n",
              "      <td>1</td>\n",
              "      <td>0</td>\n",
              "      <td>0</td>\n",
              "      <td>0</td>\n",
              "      <td>0</td>\n",
              "    </tr>\n",
              "    <tr>\n",
              "      <th>1</th>\n",
              "      <td>NDARNJ687DMC</td>\n",
              "      <td>0</td>\n",
              "      <td>0</td>\n",
              "      <td>0</td>\n",
              "      <td>0</td>\n",
              "      <td>0</td>\n",
              "      <td>0</td>\n",
              "      <td>1</td>\n",
              "    </tr>\n",
              "    <tr>\n",
              "      <th>2</th>\n",
              "      <td>NDARRM363BXZ</td>\n",
              "      <td>1</td>\n",
              "      <td>0</td>\n",
              "      <td>0</td>\n",
              "      <td>0</td>\n",
              "      <td>0</td>\n",
              "      <td>0</td>\n",
              "      <td>0</td>\n",
              "    </tr>\n",
              "    <tr>\n",
              "      <th>3</th>\n",
              "      <td>NDARUW586LLL</td>\n",
              "      <td>0</td>\n",
              "      <td>0</td>\n",
              "      <td>0</td>\n",
              "      <td>0</td>\n",
              "      <td>0</td>\n",
              "      <td>0</td>\n",
              "      <td>1</td>\n",
              "    </tr>\n",
              "    <tr>\n",
              "      <th>4</th>\n",
              "      <td>NDARDC298NW4</td>\n",
              "      <td>1</td>\n",
              "      <td>0</td>\n",
              "      <td>0</td>\n",
              "      <td>0</td>\n",
              "      <td>0</td>\n",
              "      <td>0</td>\n",
              "      <td>0</td>\n",
              "    </tr>\n",
              "  </tbody>\n",
              "</table>\n",
              "</div>"
            ],
            "text/plain": [
              "            EID  ...  Depressive Disorders\n",
              "0  NDARYM832PX3  ...                     0\n",
              "1  NDARNJ687DMC  ...                     1\n",
              "2  NDARRM363BXZ  ...                     0\n",
              "3  NDARUW586LLL  ...                     1\n",
              "4  NDARDC298NW4  ...                     0\n",
              "\n",
              "[5 rows x 8 columns]"
            ]
          },
          "metadata": {
            "tags": []
          },
          "execution_count": 13
        }
      ]
    },
    {
      "cell_type": "markdown",
      "metadata": {
        "id": "QUkqL0Vn_679",
        "colab_type": "text"
      },
      "source": [
        "## EEG Data\n"
      ]
    },
    {
      "cell_type": "markdown",
      "metadata": {
        "id": "D6ZA8qD60z0m",
        "colab_type": "text"
      },
      "source": [
        "Electroencephalography (EEG) is an electrophysiological monitoring method to record electrical activity of the brain."
      ]
    },
    {
      "cell_type": "code",
      "metadata": {
        "id": "KurT-5un_4NR",
        "colab_type": "code",
        "outputId": "3509dcf8-f5dc-4a2d-941d-c0fff4979457",
        "colab": {
          "base_uri": "https://localhost:8080/",
          "height": 119
        }
      },
      "source": [
        "#labels[no_diagnosis_given]=labels[no_diagnosis_given].apply(lambda x:0 if x==1 else 1)"
      ],
      "execution_count": 0,
      "outputs": [
        {
          "output_type": "stream",
          "text": [
            "/usr/local/lib/python3.6/dist-packages/ipykernel_launcher.py:1: SettingWithCopyWarning: \n",
            "A value is trying to be set on a copy of a slice from a DataFrame.\n",
            "Try using .loc[row_indexer,col_indexer] = value instead\n",
            "\n",
            "See the caveats in the documentation: http://pandas.pydata.org/pandas-docs/stable/user_guide/indexing.html#returning-a-view-versus-a-copy\n",
            "  \"\"\"Entry point for launching an IPython kernel.\n"
          ],
          "name": "stderr"
        }
      ]
    },
    {
      "cell_type": "code",
      "metadata": {
        "id": "NMWfLWP01w39",
        "colab_type": "code",
        "colab": {}
      },
      "source": [
        "#most_common_disorders=[disorder for disorder in most_common_disorders if disorder!=no_diagnosis_given]"
      ],
      "execution_count": 0,
      "outputs": []
    },
    {
      "cell_type": "code",
      "metadata": {
        "id": "XWWFzOb417eN",
        "colab_type": "code",
        "outputId": "1250ba4e-1b5d-4f5b-80fb-450a5801918c",
        "colab": {
          "base_uri": "https://localhost:8080/",
          "height": 136
        }
      },
      "source": [
        "most_common_disorders"
      ],
      "execution_count": 14,
      "outputs": [
        {
          "output_type": "execute_result",
          "data": {
            "text/plain": [
              "['Attention-Deficit/Hyperactivity Disorder',\n",
              " 'Anxiety Disorders',\n",
              " 'Specific Learning Disorder',\n",
              " 'Autism Spectrum Disorder',\n",
              " 'Disruptive',\n",
              " 'Communication Disorder',\n",
              " 'Depressive Disorders']"
            ]
          },
          "metadata": {
            "tags": []
          },
          "execution_count": 14
        }
      ]
    },
    {
      "cell_type": "code",
      "metadata": {
        "id": "IlQ9KTLl_4YE",
        "colab_type": "code",
        "outputId": "e0c167d2-5a6c-44c4-efb5-ba29a17ecf86",
        "colab": {
          "base_uri": "https://localhost:8080/",
          "height": 34
        }
      },
      "source": [
        "eeg_mic=pd.read_csv(\"RestingEEG_Microstates.csv\")\n",
        "eeg_psd=pd.read_csv(\"RestingEEG_PSD_Average.csv\")\n",
        "eeg_spectro=pd.read_csv(\"RestingEEG_Spectro_Average.csv\")\n",
        "\n",
        "len(eeg_mic),len(eeg_psd),len(eeg_spectro)\n"
      ],
      "execution_count": 15,
      "outputs": [
        {
          "output_type": "execute_result",
          "data": {
            "text/plain": [
              "(1108, 1485, 1485)"
            ]
          },
          "metadata": {
            "tags": []
          },
          "execution_count": 15
        }
      ]
    },
    {
      "cell_type": "code",
      "metadata": {
        "id": "t7ZfJwqRAlBv",
        "colab_type": "code",
        "colab": {}
      },
      "source": [
        "eeg_mic_labels=pd.merge(eeg_mic,labels,left_on='id',right_on='EID')\n",
        "eeg_psd_labels=pd.merge(eeg_psd,labels,left_on='id',right_on='EID')\n",
        "eeg_spectro_labels=pd.merge(eeg_spectro,labels,left_on='id',right_on='EID')\n",
        "\n",
        "eeg_mic_labels.drop(columns=[\"EID\"],inplace=True)\n",
        "eeg_psd_labels.drop(columns=[\"EID\"],inplace=True)\n",
        "eeg_spectro_labels.drop(columns=[\"EID\"],inplace=True)"
      ],
      "execution_count": 0,
      "outputs": []
    },
    {
      "cell_type": "code",
      "metadata": {
        "id": "SolHMhAICZ8Y",
        "colab_type": "code",
        "outputId": "9e256c4e-072e-4a51-befd-a628e9cc80cf",
        "colab": {
          "base_uri": "https://localhost:8080/",
          "height": 173
        }
      },
      "source": [
        "labels_id=labels.EID.values\n",
        "beh_full_id=behaviour_data_id.copy()\n",
        "\n",
        "eeg_mic_id=eeg_mic.id.values\n",
        "\n",
        "eeg_psd_id=eeg_psd.id.values\n",
        "\n",
        "eeg_spectro_id=eeg_spectro.id.values\n",
        "\n",
        "sum_=0\n",
        "for id in eeg_mic_id:\n",
        "  if id not in beh_full_id :\n",
        "    sum_+=1\n",
        "print(\"There are \",sum_,\"mismatches between the Behavioral Data and the EEG_Mic Data. (Belong to EEG but not to Behavioral)\")\n",
        "    \n",
        "sum_=0\n",
        "for id in eeg_mic_id:\n",
        "  if id not in labels_id :\n",
        "    sum_+=1\n",
        "print(\"There are \",sum_,\"mismatches between the Labels and the EEG_Mic Data (Belong to EEG and  but not to Labels).\")\n",
        "print()\n",
        "\n",
        "sum_=0\n",
        "for id in eeg_psd_id:\n",
        "  if id not in beh_full_id :\n",
        "    sum_+=1\n",
        "print(\"There are \",sum_,\"mismatches between the Behavioral Data and the EEG_PSD Data (Belong to EEG but not to Behavioral).\")\n",
        "    \n",
        "sum_=0\n",
        "for id in eeg_psd_id:\n",
        "  if id not in labels_id :\n",
        "    sum_+=1\n",
        "print(\"There are \",sum_,\"mismatches between the Labels and the EEG_PSD Data (Belong to EEG but not to Labels).\")\n",
        "print()\n",
        "\n",
        "sum_=0\n",
        "for id in eeg_spectro_id:\n",
        "  if id not in beh_full_id :\n",
        "    sum_+=1\n",
        "print(\"There are \",sum_,\"mismatches between the Behavioral Data and the EEG_Spectro Data (Belong to EEG but not to Behavioral).\")\n",
        "    \n",
        "sum_=0\n",
        "for id in eeg_spectro_id:\n",
        "  if id not in labels_id :\n",
        "    sum_+=1\n",
        "print(\"There are \",sum_,\"mismatches between the Labels and the EEG_Spectro Data (Belong to EEG but not to Labels) .\")\n",
        "\n",
        "\n",
        "\n",
        "\n"
      ],
      "execution_count": 17,
      "outputs": [
        {
          "output_type": "stream",
          "text": [
            "There are  180 mismatches between the Behavioral Data and the EEG_Mic Data. (Belong to EEG but not to Behavioral)\n",
            "There are  180 mismatches between the Labels and the EEG_Mic Data (Belong to EEG and  but not to Labels).\n",
            "\n",
            "There are  231 mismatches between the Behavioral Data and the EEG_PSD Data (Belong to EEG but not to Behavioral).\n",
            "There are  231 mismatches between the Labels and the EEG_PSD Data (Belong to EEG but not to Labels).\n",
            "\n",
            "There are  231 mismatches between the Behavioral Data and the EEG_Spectro Data (Belong to EEG but not to Behavioral).\n",
            "There are  231 mismatches between the Labels and the EEG_Spectro Data (Belong to EEG but not to Labels) .\n"
          ],
          "name": "stdout"
        }
      ]
    },
    {
      "cell_type": "code",
      "metadata": {
        "id": "OJcEWzMvCIgL",
        "colab_type": "code",
        "outputId": "de15a19b-16b7-49dd-bca6-ff762c0283f5",
        "colab": {
          "base_uri": "https://localhost:8080/",
          "height": 68
        }
      },
      "source": [
        "print(\"Microstate: {:5d} Subjects\\nPSD: {:12d} Subjects\\nSpectro: {:8d} Subjects\".\\\n",
        "      format(len(eeg_mic_labels),len(eeg_psd_labels),len(eeg_spectro_labels)))\n",
        "\n"
      ],
      "execution_count": 18,
      "outputs": [
        {
          "output_type": "stream",
          "text": [
            "Microstate:   928 Subjects\n",
            "PSD:         1254 Subjects\n",
            "Spectro:     1254 Subjects\n"
          ],
          "name": "stdout"
        }
      ]
    },
    {
      "cell_type": "code",
      "metadata": {
        "id": "XaYlxbP_GUGa",
        "colab_type": "code",
        "outputId": "6d1a0420-1bd0-496a-d471-a608d37dcff2",
        "colab": {
          "base_uri": "https://localhost:8080/",
          "height": 34
        }
      },
      "source": [
        "#Sanity check for set of EEG Feautures\n",
        "if(len(set(eeg_mic_id).intersection(set(eeg_psd_id),set(eeg_spectro_id)))==len(eeg_mic_id) and \\\n",
        "   len(set(eeg_psd_id).intersection(set(eeg_spectro_id)))==len(eeg_psd_id)):\n",
        "  print(\"Microstate, PSD and Spectro features contain the same subjects.\")\n"
      ],
      "execution_count": 19,
      "outputs": [
        {
          "output_type": "stream",
          "text": [
            "Microstate, PSD and Spectro features contain the same subjects.\n"
          ],
          "name": "stdout"
        }
      ]
    },
    {
      "cell_type": "markdown",
      "metadata": {
        "id": "9a-qGAOONie1",
        "colab_type": "text"
      },
      "source": [
        "## Classification\n"
      ]
    },
    {
      "cell_type": "code",
      "metadata": {
        "id": "4hFWxyelOfg7",
        "colab_type": "code",
        "colab": {}
      },
      "source": [
        "def binary_classifier(x,y,conf_matrix=True,classifiers=['Logistic','Random Forest','SVM'],pca=None,scale=True,n_splits=10,C=20,\\\n",
        "                      return_result=True,verbose=False):\n",
        "\n",
        "  \n",
        "  skf=StratifiedKFold(n_splits=n_splits,shuffle=True)\n",
        "  \n",
        "  logistic='Logistic' in classifiers\n",
        "  ranfor='Random Forest' in classifiers\n",
        "  suve='SVM' in classifiers\n",
        "  results={}\n",
        "\n",
        "  \n",
        "  \n",
        "  if logistic:\n",
        "    lgc=lg(C=C,class_weight='balanced',max_iter=1000,solver='lbfgs')\n",
        "    y_pred_lgc=np.zeros(y.shape[0])\n",
        "  if ranfor:\n",
        "    rfc=rf(n_estimators=100,max_depth=5,class_weight='balanced')\n",
        "    y_pred_rfc=np.zeros(y.shape[0])\n",
        "  \n",
        "  if suve:\n",
        "    \n",
        "    svmc=svm(C=C,class_weight='balanced')\n",
        "    y_pred_svmc=np.zeros(y.shape[0])\n",
        "\n",
        "  for train_index, test_index in skf.split(x, y):\n",
        "        x_train, x_test = x[train_index], x[test_index]\n",
        "        y_train, y_test = y[train_index], y[test_index]\n",
        "\n",
        "        if pca is not None:\n",
        "          x_train=(x_train-x_train.mean())/x_train.std()\n",
        "          pca.fit(x_train)\n",
        "          x_train=pca.transform(x_train)\n",
        "          x_test=(pca.transform(x_test)-x_train.mean())/x_train.std()\n",
        "\n",
        "        if scale and (pca is None):\n",
        "          x_train=(x_train-x_train.mean())/x_train.std()\n",
        "          x_test=(x_test-x_train.mean())/x_train.std()\n",
        "        if logistic:\n",
        "          lgc.fit(x_train, y_train)\n",
        "          y_pred_lgc[test_index] = lgc.predict(x_test)\n",
        "        if ranfor:\n",
        "          rfc.fit(x_train, y_train)\n",
        "          y_pred_rfc[test_index] = rfc.predict(x_test)\n",
        "        if suve:\n",
        "          svmc.fit(x_train, y_train)\n",
        "          y_pred_svmc[test_index] = svmc.predict(x_test)\n",
        "\n",
        "  \n",
        "  if logistic:\n",
        "    acc=accuracy_score(y,y_pred_lgc)\n",
        "    bacc=balanced_accuracy_score(y,y_pred_lgc)\n",
        "    mr=f1_score(y,y_pred_lgc)\n",
        "    cof_m=confusion_matrix(y,y_pred_lgc)\n",
        "    if verbose:\n",
        "      print(\"Logistic Regression\")\n",
        "      print(\"-------------------\")\n",
        "      print(\"Accuracy :\",accuracy_score(y,y_pred_lgc))\n",
        "      print(\"Balanced Accuracy :\",balanced_accuracy_score(y,y_pred_lgc))\n",
        "      print(\"f1-score :\",f1_score(y,y_pred_lgc))\n",
        "      if conf_matrix:\n",
        "        print(confusion_matrix(y,y_pred_lgc))\n",
        "      print()\n",
        "    results['log']=[acc,bacc,mr,cof_m]\n",
        "  if ranfor:\n",
        "    acc=accuracy_score(y,y_pred_rfc)\n",
        "    bacc=balanced_accuracy_score(y,y_pred_rfc)\n",
        "    mr=f1_score(y,y_pred_rfc)\n",
        "    cof_m=confusion_matrix(y,y_pred_rfc)\n",
        "    if verbose:\n",
        "      print(\"Random Forest\")\n",
        "      print(\"-----------------\")\n",
        "      print(\"Accuracy :\",accuracy_score(y,y_pred_rfc))\n",
        "      print(\"Balanced Accuracy :\",balanced_accuracy_score(y,y_pred_rfc))\n",
        "      print(\"f1-score :\",f1_score(y,y_pred_rfc))\n",
        "      if conf_matrix:\n",
        "        print(confusion_matrix(y,y_pred_rfc))\n",
        "      print()\n",
        "    results['rf']=[acc,bacc,mr,cof_m]\n",
        "\n",
        "  if suve:\n",
        "    acc=accuracy_score(y,y_pred_svmc)\n",
        "    bacc=balanced_accuracy_score(y,y_pred_svmc)\n",
        "    mr=f1_score(y,y_pred_svmc)\n",
        "    cof_m=confusion_matrix(y,y_pred_svmc)\n",
        "    if verbose:\n",
        "      print(\"SVM\")\n",
        "      print(\"----------------\")\n",
        "      print(\"Accuracy :\",accuracy_score(y,y_pred_svmc))\n",
        "      print(\"Balanced Accuracy :\",balanced_accuracy_score(y,y_pred_svmc))\n",
        "      print(\"f1-score :\",f1_score(y,y_pred_svmc))\n",
        "      if conf_matrix:\n",
        "        print(confusion_matrix(y,y_pred_svmc))\n",
        "    results['svm']=[acc,bacc,mr,cof_m]  \n",
        "  print(\"Done\")\n",
        "  if return_result:\n",
        "    return results    \n",
        "\n",
        " "
      ],
      "execution_count": 0,
      "outputs": []
    },
    {
      "cell_type": "code",
      "metadata": {
        "id": "j7cllppB1Tvu",
        "colab_type": "code",
        "colab": {}
      },
      "source": [
        "def best_classifier(results):\n",
        "  best={}\n",
        "  for key_,value in results.items():\n",
        "    best[key_]=sorted(value,key=lambda x:-x[1])[0]\n",
        "  return best\n",
        "\n",
        "def overall_best_result(results):\n",
        "    best_per_disorder=best_classifier(results)\n",
        "    results=[]\n",
        "    for _,value in best_per_disorder.items():\n",
        "      results.append(value[-1])\n",
        "\n",
        "    return np.mean(results)\n",
        "\n"
      ],
      "execution_count": 0,
      "outputs": []
    },
    {
      "cell_type": "code",
      "metadata": {
        "id": "4Dz2s9pr4Kwo",
        "colab_type": "code",
        "colab": {}
      },
      "source": [
        "def best_per_disorder(raw_b,pca_b):\n",
        "  best={}\n",
        "  for key in raw_b:\n",
        "    score_raw=raw_b[key][-1]  \n",
        "    score_pca=pca_b[key][-1]\n",
        "    \n",
        "    max_=np.max([score_raw,score_pca])\n",
        "    max_index=np.argmax([score_raw,score_pca])\n",
        "    if max_index==0:\n",
        "      method='raw'\n",
        "      classifier=raw_b[key][0]\n",
        "    if max_index==1:\n",
        "      method='pca'\n",
        "      classifier=pca_b[key][0]\n",
        "    best[key]=(method,classifier,max_)\n",
        "  return best"
      ],
      "execution_count": 0,
      "outputs": []
    },
    {
      "cell_type": "markdown",
      "metadata": {
        "id": "WbP2Fvx-OgQ9",
        "colab_type": "text"
      },
      "source": [
        "### EEG Microstates\n",
        "\n"
      ]
    },
    {
      "cell_type": "markdown",
      "metadata": {
        "id": "VyGhRzOe1XHv",
        "colab_type": "text"
      },
      "source": [
        "EEG microstates are transient, patterned, quasi-stable states or patterns of an electroencephalogram. These tend to last anywhere from milliseconds to seconds and are hypothesized to be the most basic instantiations of human neurological tasks, and are thus nicknamed \"the atoms of thought\"."
      ]
    },
    {
      "cell_type": "code",
      "metadata": {
        "id": "eKjl5xQHtrKA",
        "colab_type": "code",
        "colab": {}
      },
      "source": [
        "#y_none=eeg_mic_labels[no_diagnosis_given].values==0\n",
        "y=eeg_mic_labels[most_common_disorders]"
      ],
      "execution_count": 0,
      "outputs": []
    },
    {
      "cell_type": "code",
      "metadata": {
        "id": "aOfcOKHeODc1",
        "colab_type": "code",
        "colab": {}
      },
      "source": [
        "#x=eeg_mic_labels.drop(columns=[\"id\"]+list(most_common_disorders)+[no_diagnosis_given])\n",
        "x=eeg_mic_labels.drop(columns=[\"id\"]+list(most_common_disorders))\n",
        "x.fillna(x.mean(axis=0),inplace=True)\n"
      ],
      "execution_count": 0,
      "outputs": []
    },
    {
      "cell_type": "code",
      "metadata": {
        "id": "q9SjHiFCHier",
        "colab_type": "code",
        "outputId": "2aea7863-557a-45c6-d4da-07ea19940d04",
        "colab": {
          "base_uri": "https://localhost:8080/",
          "height": 224
        }
      },
      "source": [
        "x.head()"
      ],
      "execution_count": 32,
      "outputs": [
        {
          "output_type": "execute_result",
          "data": {
            "text/html": [
              "<div>\n",
              "<style scoped>\n",
              "    .dataframe tbody tr th:only-of-type {\n",
              "        vertical-align: middle;\n",
              "    }\n",
              "\n",
              "    .dataframe tbody tr th {\n",
              "        vertical-align: top;\n",
              "    }\n",
              "\n",
              "    .dataframe thead th {\n",
              "        text-align: right;\n",
              "    }\n",
              "</style>\n",
              "<table border=\"1\" class=\"dataframe\">\n",
              "  <thead>\n",
              "    <tr style=\"text-align: right;\">\n",
              "      <th></th>\n",
              "      <th>eyesclosed_microstates_gevtotal</th>\n",
              "      <th>eyesclosed_microstates_gfp_prototype1</th>\n",
              "      <th>eyesclosed_microstates_gfp_prototype2</th>\n",
              "      <th>eyesclosed_microstates_gfp_prototype3</th>\n",
              "      <th>eyesclosed_microstates_gfp_prototype4</th>\n",
              "      <th>eyesclosed_microstates_occurence_prototype1</th>\n",
              "      <th>eyesclosed_microstates_occurence_prototype2</th>\n",
              "      <th>eyesclosed_microstates_occurence_prototype3</th>\n",
              "      <th>eyesclosed_microstates_occurence_prototype4</th>\n",
              "      <th>eyesclosed_microstates_duration_prototype1</th>\n",
              "      <th>eyesclosed_microstates_duration_prototype2</th>\n",
              "      <th>eyesclosed_microstates_duration_prototype3</th>\n",
              "      <th>eyesclosed_microstates_duration_prototype4</th>\n",
              "      <th>eyesclosed_microstates_coverage_prototype1</th>\n",
              "      <th>eyesclosed_microstates_coverage_prototype2</th>\n",
              "      <th>eyesclosed_microstates_coverage_prototype3</th>\n",
              "      <th>eyesclosed_microstates_coverage_prototype4</th>\n",
              "      <th>eyesclosed_microstates_gev_prototype1</th>\n",
              "      <th>eyesclosed_microstates_gev_prototype2</th>\n",
              "      <th>eyesclosed_microstates_gev_prototype3</th>\n",
              "      <th>eyesclosed_microstates_gev_prototype4</th>\n",
              "      <th>eyesclosed_microstates_mspatcorr_prototype1</th>\n",
              "      <th>eyesclosed_microstates_mspatcorr_prototype2</th>\n",
              "      <th>eyesclosed_microstates_mspatcorr_prototype3</th>\n",
              "      <th>eyesclosed_microstates_mspatcorr_prototype4</th>\n",
              "    </tr>\n",
              "  </thead>\n",
              "  <tbody>\n",
              "    <tr>\n",
              "      <th>0</th>\n",
              "      <td>0.815053</td>\n",
              "      <td>8.594640</td>\n",
              "      <td>7.840168</td>\n",
              "      <td>6.751696</td>\n",
              "      <td>6.155346</td>\n",
              "      <td>4.531579</td>\n",
              "      <td>3.605263</td>\n",
              "      <td>2.042105</td>\n",
              "      <td>1.826316</td>\n",
              "      <td>109.572590</td>\n",
              "      <td>74.712409</td>\n",
              "      <td>59.371134</td>\n",
              "      <td>61.798271</td>\n",
              "      <td>0.496537</td>\n",
              "      <td>0.269358</td>\n",
              "      <td>0.121242</td>\n",
              "      <td>0.112863</td>\n",
              "      <td>0.425801</td>\n",
              "      <td>0.179269</td>\n",
              "      <td>0.050128</td>\n",
              "      <td>0.033547</td>\n",
              "      <td>0.736561</td>\n",
              "      <td>0.707855</td>\n",
              "      <td>0.650813</td>\n",
              "      <td>0.648384</td>\n",
              "    </tr>\n",
              "    <tr>\n",
              "      <th>1</th>\n",
              "      <td>0.725810</td>\n",
              "      <td>7.300888</td>\n",
              "      <td>6.125996</td>\n",
              "      <td>5.441025</td>\n",
              "      <td>7.418961</td>\n",
              "      <td>3.929825</td>\n",
              "      <td>2.385965</td>\n",
              "      <td>0.745614</td>\n",
              "      <td>3.421053</td>\n",
              "      <td>118.696429</td>\n",
              "      <td>69.272059</td>\n",
              "      <td>58.470588</td>\n",
              "      <td>94.902564</td>\n",
              "      <td>0.466456</td>\n",
              "      <td>0.165281</td>\n",
              "      <td>0.043596</td>\n",
              "      <td>0.324667</td>\n",
              "      <td>0.305721</td>\n",
              "      <td>0.058535</td>\n",
              "      <td>0.007259</td>\n",
              "      <td>0.176843</td>\n",
              "      <td>0.702696</td>\n",
              "      <td>0.634576</td>\n",
              "      <td>0.491432</td>\n",
              "      <td>0.630921</td>\n",
              "    </tr>\n",
              "    <tr>\n",
              "      <th>2</th>\n",
              "      <td>0.727351</td>\n",
              "      <td>11.019322</td>\n",
              "      <td>10.683680</td>\n",
              "      <td>10.461474</td>\n",
              "      <td>10.210294</td>\n",
              "      <td>3.989474</td>\n",
              "      <td>3.515789</td>\n",
              "      <td>3.478947</td>\n",
              "      <td>2.773684</td>\n",
              "      <td>78.812665</td>\n",
              "      <td>71.227545</td>\n",
              "      <td>71.779123</td>\n",
              "      <td>66.857685</td>\n",
              "      <td>0.314421</td>\n",
              "      <td>0.250421</td>\n",
              "      <td>0.249716</td>\n",
              "      <td>0.185442</td>\n",
              "      <td>0.206668</td>\n",
              "      <td>0.148275</td>\n",
              "      <td>0.126315</td>\n",
              "      <td>0.082509</td>\n",
              "      <td>0.680067</td>\n",
              "      <td>0.669293</td>\n",
              "      <td>0.641487</td>\n",
              "      <td>0.608844</td>\n",
              "    </tr>\n",
              "    <tr>\n",
              "      <th>3</th>\n",
              "      <td>0.800499</td>\n",
              "      <td>6.234832</td>\n",
              "      <td>6.023094</td>\n",
              "      <td>4.939876</td>\n",
              "      <td>6.024174</td>\n",
              "      <td>3.563158</td>\n",
              "      <td>3.378947</td>\n",
              "      <td>1.710526</td>\n",
              "      <td>4.084211</td>\n",
              "      <td>74.824225</td>\n",
              "      <td>73.489097</td>\n",
              "      <td>66.381538</td>\n",
              "      <td>90.966495</td>\n",
              "      <td>0.266611</td>\n",
              "      <td>0.248316</td>\n",
              "      <td>0.113547</td>\n",
              "      <td>0.371526</td>\n",
              "      <td>0.196817</td>\n",
              "      <td>0.170259</td>\n",
              "      <td>0.045047</td>\n",
              "      <td>0.252637</td>\n",
              "      <td>0.730940</td>\n",
              "      <td>0.722275</td>\n",
              "      <td>0.659675</td>\n",
              "      <td>0.710730</td>\n",
              "    </tr>\n",
              "    <tr>\n",
              "      <th>4</th>\n",
              "      <td>0.764762</td>\n",
              "      <td>6.290508</td>\n",
              "      <td>6.239210</td>\n",
              "      <td>5.502705</td>\n",
              "      <td>5.995388</td>\n",
              "      <td>3.463158</td>\n",
              "      <td>3.484211</td>\n",
              "      <td>2.347368</td>\n",
              "      <td>3.189474</td>\n",
              "      <td>85.142857</td>\n",
              "      <td>83.519637</td>\n",
              "      <td>72.278027</td>\n",
              "      <td>76.650165</td>\n",
              "      <td>0.294863</td>\n",
              "      <td>0.291000</td>\n",
              "      <td>0.169663</td>\n",
              "      <td>0.244474</td>\n",
              "      <td>0.203649</td>\n",
              "      <td>0.203309</td>\n",
              "      <td>0.068493</td>\n",
              "      <td>0.139418</td>\n",
              "      <td>0.726088</td>\n",
              "      <td>0.715230</td>\n",
              "      <td>0.654135</td>\n",
              "      <td>0.690053</td>\n",
              "    </tr>\n",
              "  </tbody>\n",
              "</table>\n",
              "</div>"
            ],
            "text/plain": [
              "   eyesclosed_microstates_gevtotal  ...  eyesclosed_microstates_mspatcorr_prototype4\n",
              "0                         0.815053  ...                                     0.648384\n",
              "1                         0.725810  ...                                     0.630921\n",
              "2                         0.727351  ...                                     0.608844\n",
              "3                         0.800499  ...                                     0.710730\n",
              "4                         0.764762  ...                                     0.690053\n",
              "\n",
              "[5 rows x 25 columns]"
            ]
          },
          "metadata": {
            "tags": []
          },
          "execution_count": 32
        }
      ]
    },
    {
      "cell_type": "code",
      "metadata": {
        "id": "eTffdrRjrD1j",
        "colab_type": "code",
        "outputId": "f2503060-8598-443f-ba96-221cb0755d22",
        "colab": {
          "base_uri": "https://localhost:8080/",
          "height": 1000
        }
      },
      "source": [
        "results_acc_1={}\n",
        "results_bacc_1={}\n",
        "results_f1_1={}\n",
        "results_acc_1_sc={}\n",
        "results_bacc_1_sc={}\n",
        "results_f1_1_sc={}\n",
        "\n",
        "for disorder in y.columns.values:\n",
        "  print(\"===============\",disorder,\"===================\")\n",
        "  #x_=np.concatenate((x[y[disorder]==1].values,x[y_none].values),axis=0)\n",
        "  x_=np.concatenate((x[y[disorder]==1].values,x[y[disorder]==0].values),axis=0)\n",
        "  #y_=np.concatenate((np.ones(sum(y[disorder].values==1)),np.zeros(sum(y_none))),axis=0)\n",
        "  y_=np.concatenate((np.ones(sum(y[disorder].values==1)),np.zeros(sum(y[disorder].values==0))),axis=0)\n",
        "  print(\"Number of Subjects: \",y_.shape[0])\n",
        "  print(\"Positive: \",sum(y_==1))\n",
        "  print(\"Negative: \",sum(y_==0))\n",
        "  print()\n",
        "  # scale False\n",
        "  result=binary_classifier(x_,y_,scale=False)\n",
        "  \n",
        "  results_acc_1[disorder]=[]\n",
        "  results_bacc_1[disorder]=[]\n",
        "  results_f1_1[disorder]=[]\n",
        "  for key,value in result.items():\n",
        "      results_acc_1[disorder].append((key,value[0]))\n",
        "      results_bacc_1[disorder].append((key,value[1]))\n",
        "      results_f1_1[disorder].append((key,value[2]))\n",
        "  print()\n",
        "\n",
        "  #scale True\n",
        "  result=binary_classifier(x_,y_,scale=True)\n",
        "  \n",
        "  results_acc_1_sc[disorder]=[]\n",
        "  results_bacc_1_sc[disorder]=[]\n",
        "  results_f1_1_sc[disorder]=[]\n",
        "  for key,value in result.items():\n",
        "      results_acc_1_sc[disorder].append((key,value[0]))\n",
        "      results_bacc_1_sc[disorder].append((key,value[1]))\n",
        "      results_f1_1_sc[disorder].append((key,value[2]))\n",
        "  print()"
      ],
      "execution_count": 93,
      "outputs": [
        {
          "output_type": "stream",
          "text": [
            "=============== Attention-Deficit/Hyperactivity Disorder ===================\n",
            "Number of Subjects:  928\n",
            "Positive:  559\n",
            "Negative:  369\n",
            "\n"
          ],
          "name": "stdout"
        },
        {
          "output_type": "stream",
          "text": [
            "/usr/local/lib/python3.6/dist-packages/sklearn/linear_model/logistic.py:947: ConvergenceWarning: lbfgs failed to converge. Increase the number of iterations.\n",
            "  \"of iterations.\", ConvergenceWarning)\n"
          ],
          "name": "stderr"
        },
        {
          "output_type": "stream",
          "text": [
            "Done\n",
            "\n",
            "Done\n",
            "\n",
            "=============== Anxiety Disorders ===================\n",
            "Number of Subjects:  928\n",
            "Positive:  213\n",
            "Negative:  715\n",
            "\n",
            "Done\n",
            "\n"
          ],
          "name": "stdout"
        },
        {
          "output_type": "stream",
          "text": [
            "/usr/local/lib/python3.6/dist-packages/sklearn/metrics/classification.py:1437: UndefinedMetricWarning: F-score is ill-defined and being set to 0.0 due to no predicted samples.\n",
            "  'precision', 'predicted', average, warn_for)\n"
          ],
          "name": "stderr"
        },
        {
          "output_type": "stream",
          "text": [
            "Done\n",
            "\n",
            "=============== Specific Learning Disorder ===================\n",
            "Number of Subjects:  928\n",
            "Positive:  148\n",
            "Negative:  780\n",
            "\n"
          ],
          "name": "stdout"
        },
        {
          "output_type": "stream",
          "text": [
            "/usr/local/lib/python3.6/dist-packages/sklearn/linear_model/logistic.py:947: ConvergenceWarning: lbfgs failed to converge. Increase the number of iterations.\n",
            "  \"of iterations.\", ConvergenceWarning)\n"
          ],
          "name": "stderr"
        },
        {
          "output_type": "stream",
          "text": [
            "Done\n",
            "\n"
          ],
          "name": "stdout"
        },
        {
          "output_type": "stream",
          "text": [
            "/usr/local/lib/python3.6/dist-packages/sklearn/metrics/classification.py:1437: UndefinedMetricWarning: F-score is ill-defined and being set to 0.0 due to no predicted samples.\n",
            "  'precision', 'predicted', average, warn_for)\n"
          ],
          "name": "stderr"
        },
        {
          "output_type": "stream",
          "text": [
            "Done\n",
            "\n",
            "=============== Autism Spectrum Disorder ===================\n",
            "Number of Subjects:  928\n",
            "Positive:  153\n",
            "Negative:  775\n",
            "\n"
          ],
          "name": "stdout"
        },
        {
          "output_type": "stream",
          "text": [
            "/usr/local/lib/python3.6/dist-packages/sklearn/linear_model/logistic.py:947: ConvergenceWarning: lbfgs failed to converge. Increase the number of iterations.\n",
            "  \"of iterations.\", ConvergenceWarning)\n",
            "/usr/local/lib/python3.6/dist-packages/sklearn/linear_model/logistic.py:947: ConvergenceWarning: lbfgs failed to converge. Increase the number of iterations.\n",
            "  \"of iterations.\", ConvergenceWarning)\n"
          ],
          "name": "stderr"
        },
        {
          "output_type": "stream",
          "text": [
            "Done\n",
            "\n"
          ],
          "name": "stdout"
        },
        {
          "output_type": "stream",
          "text": [
            "/usr/local/lib/python3.6/dist-packages/sklearn/metrics/classification.py:1437: UndefinedMetricWarning: F-score is ill-defined and being set to 0.0 due to no predicted samples.\n",
            "  'precision', 'predicted', average, warn_for)\n"
          ],
          "name": "stderr"
        },
        {
          "output_type": "stream",
          "text": [
            "Done\n",
            "\n",
            "=============== Disruptive ===================\n",
            "Number of Subjects:  928\n",
            "Positive:  152\n",
            "Negative:  776\n",
            "\n"
          ],
          "name": "stdout"
        },
        {
          "output_type": "stream",
          "text": [
            "/usr/local/lib/python3.6/dist-packages/sklearn/linear_model/logistic.py:947: ConvergenceWarning: lbfgs failed to converge. Increase the number of iterations.\n",
            "  \"of iterations.\", ConvergenceWarning)\n"
          ],
          "name": "stderr"
        },
        {
          "output_type": "stream",
          "text": [
            "Done\n",
            "\n"
          ],
          "name": "stdout"
        },
        {
          "output_type": "stream",
          "text": [
            "/usr/local/lib/python3.6/dist-packages/sklearn/metrics/classification.py:1437: UndefinedMetricWarning: F-score is ill-defined and being set to 0.0 due to no predicted samples.\n",
            "  'precision', 'predicted', average, warn_for)\n"
          ],
          "name": "stderr"
        },
        {
          "output_type": "stream",
          "text": [
            "Done\n",
            "\n",
            "=============== Communication Disorder ===================\n",
            "Number of Subjects:  928\n",
            "Positive:  108\n",
            "Negative:  820\n",
            "\n"
          ],
          "name": "stdout"
        },
        {
          "output_type": "stream",
          "text": [
            "/usr/local/lib/python3.6/dist-packages/sklearn/linear_model/logistic.py:947: ConvergenceWarning: lbfgs failed to converge. Increase the number of iterations.\n",
            "  \"of iterations.\", ConvergenceWarning)\n",
            "/usr/local/lib/python3.6/dist-packages/sklearn/linear_model/logistic.py:947: ConvergenceWarning: lbfgs failed to converge. Increase the number of iterations.\n",
            "  \"of iterations.\", ConvergenceWarning)\n",
            "/usr/local/lib/python3.6/dist-packages/sklearn/linear_model/logistic.py:947: ConvergenceWarning: lbfgs failed to converge. Increase the number of iterations.\n",
            "  \"of iterations.\", ConvergenceWarning)\n",
            "/usr/local/lib/python3.6/dist-packages/sklearn/linear_model/logistic.py:947: ConvergenceWarning: lbfgs failed to converge. Increase the number of iterations.\n",
            "  \"of iterations.\", ConvergenceWarning)\n",
            "/usr/local/lib/python3.6/dist-packages/sklearn/linear_model/logistic.py:947: ConvergenceWarning: lbfgs failed to converge. Increase the number of iterations.\n",
            "  \"of iterations.\", ConvergenceWarning)\n",
            "/usr/local/lib/python3.6/dist-packages/sklearn/linear_model/logistic.py:947: ConvergenceWarning: lbfgs failed to converge. Increase the number of iterations.\n",
            "  \"of iterations.\", ConvergenceWarning)\n",
            "/usr/local/lib/python3.6/dist-packages/sklearn/linear_model/logistic.py:947: ConvergenceWarning: lbfgs failed to converge. Increase the number of iterations.\n",
            "  \"of iterations.\", ConvergenceWarning)\n",
            "/usr/local/lib/python3.6/dist-packages/sklearn/linear_model/logistic.py:947: ConvergenceWarning: lbfgs failed to converge. Increase the number of iterations.\n",
            "  \"of iterations.\", ConvergenceWarning)\n",
            "/usr/local/lib/python3.6/dist-packages/sklearn/linear_model/logistic.py:947: ConvergenceWarning: lbfgs failed to converge. Increase the number of iterations.\n",
            "  \"of iterations.\", ConvergenceWarning)\n"
          ],
          "name": "stderr"
        },
        {
          "output_type": "stream",
          "text": [
            "Done\n",
            "\n"
          ],
          "name": "stdout"
        },
        {
          "output_type": "stream",
          "text": [
            "/usr/local/lib/python3.6/dist-packages/sklearn/metrics/classification.py:1437: UndefinedMetricWarning: F-score is ill-defined and being set to 0.0 due to no predicted samples.\n",
            "  'precision', 'predicted', average, warn_for)\n"
          ],
          "name": "stderr"
        },
        {
          "output_type": "stream",
          "text": [
            "Done\n",
            "\n",
            "=============== Depressive Disorders ===================\n",
            "Number of Subjects:  928\n",
            "Positive:  88\n",
            "Negative:  840\n",
            "\n"
          ],
          "name": "stdout"
        },
        {
          "output_type": "stream",
          "text": [
            "/usr/local/lib/python3.6/dist-packages/sklearn/linear_model/logistic.py:947: ConvergenceWarning: lbfgs failed to converge. Increase the number of iterations.\n",
            "  \"of iterations.\", ConvergenceWarning)\n",
            "/usr/local/lib/python3.6/dist-packages/sklearn/linear_model/logistic.py:947: ConvergenceWarning: lbfgs failed to converge. Increase the number of iterations.\n",
            "  \"of iterations.\", ConvergenceWarning)\n"
          ],
          "name": "stderr"
        },
        {
          "output_type": "stream",
          "text": [
            "Done\n",
            "\n",
            "Done\n",
            "\n"
          ],
          "name": "stdout"
        },
        {
          "output_type": "stream",
          "text": [
            "/usr/local/lib/python3.6/dist-packages/sklearn/metrics/classification.py:1437: UndefinedMetricWarning: F-score is ill-defined and being set to 0.0 due to no predicted samples.\n",
            "  'precision', 'predicted', average, warn_for)\n"
          ],
          "name": "stderr"
        }
      ]
    },
    {
      "cell_type": "markdown",
      "metadata": {
        "id": "NPQ9TQPKIxNv",
        "colab_type": "text"
      },
      "source": [
        "#### PCA\n",
        "\n"
      ]
    },
    {
      "cell_type": "code",
      "metadata": {
        "id": "VnoyvYSX3SMp",
        "colab_type": "code",
        "colab": {}
      },
      "source": [
        "x=(x-x.mean())/x.std()\n",
        "pca=PCA().fit(x)"
      ],
      "execution_count": 0,
      "outputs": []
    },
    {
      "cell_type": "code",
      "metadata": {
        "id": "4BdX2EA23hN5",
        "colab_type": "code",
        "outputId": "977b2640-bc0e-4926-c5d6-df15aa286314",
        "colab": {
          "base_uri": "https://localhost:8080/",
          "height": 282
        }
      },
      "source": [
        "plt.plot(pca.singular_values_)"
      ],
      "execution_count": 0,
      "outputs": [
        {
          "output_type": "execute_result",
          "data": {
            "text/plain": [
              "[<matplotlib.lines.Line2D at 0x7fe7da149048>]"
            ]
          },
          "metadata": {
            "tags": []
          },
          "execution_count": 28
        },
        {
          "output_type": "display_data",
          "data": {
            "image/png": "[encoded data removed]",
            "text/plain": [
              "<Figure size 432x288 with 1 Axes>"
            ]
          },
          "metadata": {
            "tags": []
          }
        }
      ]
    },
    {
      "cell_type": "code",
      "metadata": {
        "id": "x42hMnnJ4Ctz",
        "colab_type": "code",
        "colab": {}
      },
      "source": [
        "pca_x=pca.transform(x)[:,:12]"
      ],
      "execution_count": 0,
      "outputs": []
    },
    {
      "cell_type": "code",
      "metadata": {
        "id": "xk89VGLN3GUr",
        "colab_type": "code",
        "outputId": "c1998114-fafb-46b4-81e3-4538fcf0e64f",
        "colab": {
          "base_uri": "https://localhost:8080/",
          "height": 955
        }
      },
      "source": [
        "pca_results_acc_1={}\n",
        "pca_results_bacc_1={}\n",
        "pca_results_f1_1={}\n",
        "for disorder in y.columns.values:\n",
        "  print(\"===============\",disorder,\"===================\")\n",
        "  #x_=np.concatenate((pca_x[y[disorder]==1],pca_x[y_none]),axis=0)\n",
        "  x_=np.concatenate((x[y[disorder]==1],x[y[disorder]==0]),axis=0)\n",
        "  #y_=np.concatenate((np.ones(sum(y[disorder].values==1)),np.zeros(sum(y_none))),axis=0)\n",
        "  y_=np.concatenate((np.ones(sum(y[disorder].values==1)),np.zeros(sum(y[disorder]==0))),axis=0)\n",
        "  print(\"Number of Subjects: \",y_.shape[0])\n",
        "  print(\"Positive: \",sum(y_==1))\n",
        "  print(\"Negative: \",sum(y_==0))\n",
        "  print()\n",
        "  result=binary_classifier(x_,y_,pca=PCA(n_components=12))\n",
        "  \n",
        "  pca_results_acc_1[disorder]=[]\n",
        "  pca_results_bacc_1[disorder]=[]\n",
        "  pca_results_f1_1[disorder]=[]\n",
        "  for key,value in result.items():\n",
        "      pca_results_acc_1[disorder].append((key,value[0]))\n",
        "      pca_results_bacc_1[disorder].append((key,value[1]))\n",
        "      pca_results_f1_1[disorder].append((key,value[2]))"
      ],
      "execution_count": 52,
      "outputs": [
        {
          "output_type": "stream",
          "text": [
            "=============== Attention-Deficit/Hyperactivity Disorder ===================\n",
            "Number of Subjects:  928\n",
            "Positive:  559\n",
            "Negative:  369\n",
            "\n",
            "Done\n",
            "=============== Anxiety Disorders ===================\n",
            "Number of Subjects:  928\n",
            "Positive:  213\n",
            "Negative:  715\n",
            "\n"
          ],
          "name": "stdout"
        },
        {
          "output_type": "stream",
          "text": [
            "/usr/local/lib/python3.6/dist-packages/sklearn/metrics/classification.py:1437: UndefinedMetricWarning: F-score is ill-defined and being set to 0.0 due to no predicted samples.\n",
            "  'precision', 'predicted', average, warn_for)\n"
          ],
          "name": "stderr"
        },
        {
          "output_type": "stream",
          "text": [
            "Done\n",
            "=============== Specific Learning Disorder ===================\n",
            "Number of Subjects:  928\n",
            "Positive:  148\n",
            "Negative:  780\n",
            "\n"
          ],
          "name": "stdout"
        },
        {
          "output_type": "stream",
          "text": [
            "/usr/local/lib/python3.6/dist-packages/sklearn/metrics/classification.py:1437: UndefinedMetricWarning: F-score is ill-defined and being set to 0.0 due to no predicted samples.\n",
            "  'precision', 'predicted', average, warn_for)\n"
          ],
          "name": "stderr"
        },
        {
          "output_type": "stream",
          "text": [
            "Done\n",
            "=============== Autism Spectrum Disorder ===================\n",
            "Number of Subjects:  928\n",
            "Positive:  153\n",
            "Negative:  775\n",
            "\n"
          ],
          "name": "stdout"
        },
        {
          "output_type": "stream",
          "text": [
            "/usr/local/lib/python3.6/dist-packages/sklearn/metrics/classification.py:1437: UndefinedMetricWarning: F-score is ill-defined and being set to 0.0 due to no predicted samples.\n",
            "  'precision', 'predicted', average, warn_for)\n"
          ],
          "name": "stderr"
        },
        {
          "output_type": "stream",
          "text": [
            "Done\n",
            "=============== Disruptive ===================\n",
            "Number of Subjects:  928\n",
            "Positive:  152\n",
            "Negative:  776\n",
            "\n"
          ],
          "name": "stdout"
        },
        {
          "output_type": "stream",
          "text": [
            "/usr/local/lib/python3.6/dist-packages/sklearn/metrics/classification.py:1437: UndefinedMetricWarning: F-score is ill-defined and being set to 0.0 due to no predicted samples.\n",
            "  'precision', 'predicted', average, warn_for)\n"
          ],
          "name": "stderr"
        },
        {
          "output_type": "stream",
          "text": [
            "Done\n",
            "=============== Communication Disorder ===================\n",
            "Number of Subjects:  928\n",
            "Positive:  108\n",
            "Negative:  820\n",
            "\n"
          ],
          "name": "stdout"
        },
        {
          "output_type": "stream",
          "text": [
            "/usr/local/lib/python3.6/dist-packages/sklearn/metrics/classification.py:1437: UndefinedMetricWarning: F-score is ill-defined and being set to 0.0 due to no predicted samples.\n",
            "  'precision', 'predicted', average, warn_for)\n"
          ],
          "name": "stderr"
        },
        {
          "output_type": "stream",
          "text": [
            "Done\n",
            "=============== Depressive Disorders ===================\n",
            "Number of Subjects:  928\n",
            "Positive:  88\n",
            "Negative:  840\n",
            "\n",
            "Done\n"
          ],
          "name": "stdout"
        },
        {
          "output_type": "stream",
          "text": [
            "/usr/local/lib/python3.6/dist-packages/sklearn/metrics/classification.py:1437: UndefinedMetricWarning: F-score is ill-defined and being set to 0.0 due to no predicted samples.\n",
            "  'precision', 'predicted', average, warn_for)\n"
          ],
          "name": "stderr"
        }
      ]
    },
    {
      "cell_type": "markdown",
      "metadata": {
        "id": "cIcXmc97hP5s",
        "colab_type": "text"
      },
      "source": [
        "### EEG PSD\n",
        "\n",
        "\n"
      ]
    },
    {
      "cell_type": "markdown",
      "metadata": {
        "id": "l_Z3VtJs2SsL",
        "colab_type": "text"
      },
      "source": [
        "Power Spectral Densities (PSD): Frequency-wise spectral power from 1-90 Hz."
      ]
    },
    {
      "cell_type": "code",
      "metadata": {
        "id": "KS8EbGsS4tIE",
        "colab_type": "code",
        "colab": {}
      },
      "source": [
        "#y_none=eeg_psd_labels[no_diagnosis_given].values==0\n",
        "y=eeg_psd_labels[most_common_disorders]"
      ],
      "execution_count": 0,
      "outputs": []
    },
    {
      "cell_type": "code",
      "metadata": {
        "id": "HXL6jZ9XhSJ8",
        "colab_type": "code",
        "colab": {}
      },
      "source": [
        "#x=eeg_psd_labels.drop(columns=[\"id\"]+list(most_common_disorders)+[no_diagnosis_given])\n",
        "x=eeg_psd_labels.drop(columns=[\"id\"]+list(most_common_disorders))\n",
        "\n",
        "#x.fillna(x.mean(axis=0),inplace=True) No missing values\n"
      ],
      "execution_count": 0,
      "outputs": []
    },
    {
      "cell_type": "code",
      "metadata": {
        "id": "nQHvd3f8JHpK",
        "colab_type": "code",
        "outputId": "fdc33fd6-5c76-48df-887f-623111e4e2e1",
        "colab": {
          "base_uri": "https://localhost:8080/",
          "height": 253
        }
      },
      "source": [
        "x.head()"
      ],
      "execution_count": 99,
      "outputs": [
        {
          "output_type": "execute_result",
          "data": {
            "text/html": [
              "<div>\n",
              "<style scoped>\n",
              "    .dataframe tbody tr th:only-of-type {\n",
              "        vertical-align: middle;\n",
              "    }\n",
              "\n",
              "    .dataframe tbody tr th {\n",
              "        vertical-align: top;\n",
              "    }\n",
              "\n",
              "    .dataframe thead th {\n",
              "        text-align: right;\n",
              "    }\n",
              "</style>\n",
              "<table border=\"1\" class=\"dataframe\">\n",
              "  <thead>\n",
              "    <tr style=\"text-align: right;\">\n",
              "      <th></th>\n",
              "      <th>eyesclosed_psd_01dot00hz_average</th>\n",
              "      <th>eyesclosed_psd_01dot50hz_average</th>\n",
              "      <th>eyesclosed_psd_02dot00hz_average</th>\n",
              "      <th>eyesclosed_psd_02dot50hz_average</th>\n",
              "      <th>eyesclosed_psd_03dot00hz_average</th>\n",
              "      <th>eyesclosed_psd_03dot50hz_average</th>\n",
              "      <th>eyesclosed_psd_04dot00hz_average</th>\n",
              "      <th>eyesclosed_psd_04dot50hz_average</th>\n",
              "      <th>eyesclosed_psd_05dot00hz_average</th>\n",
              "      <th>eyesclosed_psd_05dot50hz_average</th>\n",
              "      <th>eyesclosed_psd_06dot00hz_average</th>\n",
              "      <th>eyesclosed_psd_06dot50hz_average</th>\n",
              "      <th>eyesclosed_psd_07dot00hz_average</th>\n",
              "      <th>eyesclosed_psd_07dot50hz_average</th>\n",
              "      <th>eyesclosed_psd_08dot00hz_average</th>\n",
              "      <th>eyesclosed_psd_08dot50hz_average</th>\n",
              "      <th>eyesclosed_psd_09dot00hz_average</th>\n",
              "      <th>eyesclosed_psd_09dot50hz_average</th>\n",
              "      <th>eyesclosed_psd_10dot00hz_average</th>\n",
              "      <th>eyesclosed_psd_10dot50hz_average</th>\n",
              "      <th>eyesclosed_psd_11dot00hz_average</th>\n",
              "      <th>eyesclosed_psd_11dot50hz_average</th>\n",
              "      <th>eyesclosed_psd_12dot00hz_average</th>\n",
              "      <th>eyesclosed_psd_12dot50hz_average</th>\n",
              "      <th>eyesclosed_psd_13dot00hz_average</th>\n",
              "      <th>eyesclosed_psd_13dot50hz_average</th>\n",
              "      <th>eyesclosed_psd_14dot00hz_average</th>\n",
              "      <th>eyesclosed_psd_14dot50hz_average</th>\n",
              "      <th>eyesclosed_psd_15dot00hz_average</th>\n",
              "      <th>eyesclosed_psd_15dot50hz_average</th>\n",
              "      <th>eyesclosed_psd_16dot00hz_average</th>\n",
              "      <th>eyesclosed_psd_16dot50hz_average</th>\n",
              "      <th>eyesclosed_psd_17dot00hz_average</th>\n",
              "      <th>eyesclosed_psd_17dot50hz_average</th>\n",
              "      <th>eyesclosed_psd_18dot00hz_average</th>\n",
              "      <th>eyesclosed_psd_18dot50hz_average</th>\n",
              "      <th>eyesclosed_psd_19dot00hz_average</th>\n",
              "      <th>eyesclosed_psd_19dot50hz_average</th>\n",
              "      <th>eyesclosed_psd_20dot00hz_average</th>\n",
              "      <th>eyesclosed_psd_20dot50hz_average</th>\n",
              "      <th>...</th>\n",
              "      <th>eyesopen_psd_70dot50hz_average</th>\n",
              "      <th>eyesopen_psd_71dot00hz_average</th>\n",
              "      <th>eyesopen_psd_71dot50hz_average</th>\n",
              "      <th>eyesopen_psd_72dot00hz_average</th>\n",
              "      <th>eyesopen_psd_72dot50hz_average</th>\n",
              "      <th>eyesopen_psd_73dot00hz_average</th>\n",
              "      <th>eyesopen_psd_73dot50hz_average</th>\n",
              "      <th>eyesopen_psd_74dot00hz_average</th>\n",
              "      <th>eyesopen_psd_74dot50hz_average</th>\n",
              "      <th>eyesopen_psd_75dot00hz_average</th>\n",
              "      <th>eyesopen_psd_75dot50hz_average</th>\n",
              "      <th>eyesopen_psd_76dot00hz_average</th>\n",
              "      <th>eyesopen_psd_76dot50hz_average</th>\n",
              "      <th>eyesopen_psd_77dot00hz_average</th>\n",
              "      <th>eyesopen_psd_77dot50hz_average</th>\n",
              "      <th>eyesopen_psd_78dot00hz_average</th>\n",
              "      <th>eyesopen_psd_78dot50hz_average</th>\n",
              "      <th>eyesopen_psd_79dot00hz_average</th>\n",
              "      <th>eyesopen_psd_79dot50hz_average</th>\n",
              "      <th>eyesopen_psd_80dot00hz_average</th>\n",
              "      <th>eyesopen_psd_80dot50hz_average</th>\n",
              "      <th>eyesopen_psd_81dot00hz_average</th>\n",
              "      <th>eyesopen_psd_81dot50hz_average</th>\n",
              "      <th>eyesopen_psd_82dot00hz_average</th>\n",
              "      <th>eyesopen_psd_82dot50hz_average</th>\n",
              "      <th>eyesopen_psd_83dot00hz_average</th>\n",
              "      <th>eyesopen_psd_83dot50hz_average</th>\n",
              "      <th>eyesopen_psd_84dot00hz_average</th>\n",
              "      <th>eyesopen_psd_84dot50hz_average</th>\n",
              "      <th>eyesopen_psd_85dot00hz_average</th>\n",
              "      <th>eyesopen_psd_85dot50hz_average</th>\n",
              "      <th>eyesopen_psd_86dot00hz_average</th>\n",
              "      <th>eyesopen_psd_86dot50hz_average</th>\n",
              "      <th>eyesopen_psd_87dot00hz_average</th>\n",
              "      <th>eyesopen_psd_87dot50hz_average</th>\n",
              "      <th>eyesopen_psd_88dot00hz_average</th>\n",
              "      <th>eyesopen_psd_88dot50hz_average</th>\n",
              "      <th>eyesopen_psd_89dot00hz_average</th>\n",
              "      <th>eyesopen_psd_89dot50hz_average</th>\n",
              "      <th>eyesopen_psd_90dot00hz_average</th>\n",
              "    </tr>\n",
              "  </thead>\n",
              "  <tbody>\n",
              "    <tr>\n",
              "      <th>0</th>\n",
              "      <td>13.252075</td>\n",
              "      <td>13.171060</td>\n",
              "      <td>10.303562</td>\n",
              "      <td>7.247638</td>\n",
              "      <td>5.177531</td>\n",
              "      <td>4.012201</td>\n",
              "      <td>3.257799</td>\n",
              "      <td>2.716654</td>\n",
              "      <td>2.334777</td>\n",
              "      <td>2.064073</td>\n",
              "      <td>1.951010</td>\n",
              "      <td>2.106707</td>\n",
              "      <td>2.599794</td>\n",
              "      <td>3.398925</td>\n",
              "      <td>5.155590</td>\n",
              "      <td>8.938139</td>\n",
              "      <td>12.533943</td>\n",
              "      <td>11.535839</td>\n",
              "      <td>6.956389</td>\n",
              "      <td>3.230759</td>\n",
              "      <td>1.504203</td>\n",
              "      <td>0.841712</td>\n",
              "      <td>0.597280</td>\n",
              "      <td>0.486366</td>\n",
              "      <td>0.416022</td>\n",
              "      <td>0.391247</td>\n",
              "      <td>0.391266</td>\n",
              "      <td>0.386449</td>\n",
              "      <td>0.366163</td>\n",
              "      <td>0.334611</td>\n",
              "      <td>0.294511</td>\n",
              "      <td>0.267583</td>\n",
              "      <td>0.273096</td>\n",
              "      <td>0.293408</td>\n",
              "      <td>0.299024</td>\n",
              "      <td>0.292122</td>\n",
              "      <td>0.284493</td>\n",
              "      <td>0.257461</td>\n",
              "      <td>0.204511</td>\n",
              "      <td>0.160624</td>\n",
              "      <td>...</td>\n",
              "      <td>0.041974</td>\n",
              "      <td>0.041617</td>\n",
              "      <td>0.038385</td>\n",
              "      <td>0.034233</td>\n",
              "      <td>0.032711</td>\n",
              "      <td>0.033877</td>\n",
              "      <td>0.034532</td>\n",
              "      <td>0.033885</td>\n",
              "      <td>0.033288</td>\n",
              "      <td>0.033455</td>\n",
              "      <td>0.033305</td>\n",
              "      <td>0.032292</td>\n",
              "      <td>0.031645</td>\n",
              "      <td>0.033093</td>\n",
              "      <td>0.035101</td>\n",
              "      <td>0.034616</td>\n",
              "      <td>0.033599</td>\n",
              "      <td>0.034358</td>\n",
              "      <td>0.034409</td>\n",
              "      <td>0.032573</td>\n",
              "      <td>0.030488</td>\n",
              "      <td>0.029183</td>\n",
              "      <td>0.029474</td>\n",
              "      <td>0.031485</td>\n",
              "      <td>0.032308</td>\n",
              "      <td>0.030559</td>\n",
              "      <td>0.028891</td>\n",
              "      <td>0.028484</td>\n",
              "      <td>0.028546</td>\n",
              "      <td>0.028926</td>\n",
              "      <td>0.030418</td>\n",
              "      <td>0.032051</td>\n",
              "      <td>0.030983</td>\n",
              "      <td>0.028301</td>\n",
              "      <td>0.028747</td>\n",
              "      <td>0.031572</td>\n",
              "      <td>0.032276</td>\n",
              "      <td>0.031815</td>\n",
              "      <td>0.030898</td>\n",
              "      <td>0.024803</td>\n",
              "    </tr>\n",
              "    <tr>\n",
              "      <th>1</th>\n",
              "      <td>18.933153</td>\n",
              "      <td>16.288860</td>\n",
              "      <td>10.595218</td>\n",
              "      <td>6.793446</td>\n",
              "      <td>5.170341</td>\n",
              "      <td>4.259245</td>\n",
              "      <td>3.492614</td>\n",
              "      <td>2.900088</td>\n",
              "      <td>2.419868</td>\n",
              "      <td>2.061413</td>\n",
              "      <td>1.849428</td>\n",
              "      <td>1.643705</td>\n",
              "      <td>1.433840</td>\n",
              "      <td>1.284499</td>\n",
              "      <td>1.148665</td>\n",
              "      <td>0.957932</td>\n",
              "      <td>0.774339</td>\n",
              "      <td>0.713294</td>\n",
              "      <td>0.722093</td>\n",
              "      <td>0.685296</td>\n",
              "      <td>0.611052</td>\n",
              "      <td>0.538792</td>\n",
              "      <td>0.473819</td>\n",
              "      <td>0.421145</td>\n",
              "      <td>0.378297</td>\n",
              "      <td>0.333074</td>\n",
              "      <td>0.284930</td>\n",
              "      <td>0.253142</td>\n",
              "      <td>0.256997</td>\n",
              "      <td>0.264753</td>\n",
              "      <td>0.252979</td>\n",
              "      <td>0.235653</td>\n",
              "      <td>0.220426</td>\n",
              "      <td>0.207347</td>\n",
              "      <td>0.197353</td>\n",
              "      <td>0.196580</td>\n",
              "      <td>0.201940</td>\n",
              "      <td>0.198415</td>\n",
              "      <td>0.186404</td>\n",
              "      <td>0.174339</td>\n",
              "      <td>...</td>\n",
              "      <td>0.017367</td>\n",
              "      <td>0.017632</td>\n",
              "      <td>0.018009</td>\n",
              "      <td>0.017191</td>\n",
              "      <td>0.016044</td>\n",
              "      <td>0.015546</td>\n",
              "      <td>0.015629</td>\n",
              "      <td>0.016328</td>\n",
              "      <td>0.017420</td>\n",
              "      <td>0.018440</td>\n",
              "      <td>0.019046</td>\n",
              "      <td>0.019026</td>\n",
              "      <td>0.018132</td>\n",
              "      <td>0.017376</td>\n",
              "      <td>0.016868</td>\n",
              "      <td>0.016151</td>\n",
              "      <td>0.016245</td>\n",
              "      <td>0.018334</td>\n",
              "      <td>0.020296</td>\n",
              "      <td>0.019596</td>\n",
              "      <td>0.017474</td>\n",
              "      <td>0.015387</td>\n",
              "      <td>0.014524</td>\n",
              "      <td>0.015458</td>\n",
              "      <td>0.017637</td>\n",
              "      <td>0.018725</td>\n",
              "      <td>0.017394</td>\n",
              "      <td>0.015399</td>\n",
              "      <td>0.013978</td>\n",
              "      <td>0.013282</td>\n",
              "      <td>0.013946</td>\n",
              "      <td>0.014787</td>\n",
              "      <td>0.014436</td>\n",
              "      <td>0.013733</td>\n",
              "      <td>0.013491</td>\n",
              "      <td>0.013280</td>\n",
              "      <td>0.012857</td>\n",
              "      <td>0.013204</td>\n",
              "      <td>0.013635</td>\n",
              "      <td>0.011250</td>\n",
              "    </tr>\n",
              "    <tr>\n",
              "      <th>2</th>\n",
              "      <td>22.622696</td>\n",
              "      <td>21.394408</td>\n",
              "      <td>15.648336</td>\n",
              "      <td>10.689955</td>\n",
              "      <td>8.211262</td>\n",
              "      <td>7.578229</td>\n",
              "      <td>7.466200</td>\n",
              "      <td>7.003118</td>\n",
              "      <td>6.159468</td>\n",
              "      <td>5.335996</td>\n",
              "      <td>5.093545</td>\n",
              "      <td>5.538321</td>\n",
              "      <td>6.175145</td>\n",
              "      <td>6.734697</td>\n",
              "      <td>7.534442</td>\n",
              "      <td>9.503303</td>\n",
              "      <td>13.546476</td>\n",
              "      <td>17.441251</td>\n",
              "      <td>16.459230</td>\n",
              "      <td>10.850000</td>\n",
              "      <td>5.575627</td>\n",
              "      <td>2.764298</td>\n",
              "      <td>1.496170</td>\n",
              "      <td>0.969445</td>\n",
              "      <td>0.765090</td>\n",
              "      <td>0.666740</td>\n",
              "      <td>0.630320</td>\n",
              "      <td>0.606155</td>\n",
              "      <td>0.548354</td>\n",
              "      <td>0.478655</td>\n",
              "      <td>0.429026</td>\n",
              "      <td>0.403020</td>\n",
              "      <td>0.385353</td>\n",
              "      <td>0.365351</td>\n",
              "      <td>0.345919</td>\n",
              "      <td>0.327228</td>\n",
              "      <td>0.311196</td>\n",
              "      <td>0.298948</td>\n",
              "      <td>0.278150</td>\n",
              "      <td>0.248927</td>\n",
              "      <td>...</td>\n",
              "      <td>0.031273</td>\n",
              "      <td>0.032459</td>\n",
              "      <td>0.032566</td>\n",
              "      <td>0.031523</td>\n",
              "      <td>0.032054</td>\n",
              "      <td>0.034274</td>\n",
              "      <td>0.035031</td>\n",
              "      <td>0.033881</td>\n",
              "      <td>0.032438</td>\n",
              "      <td>0.030898</td>\n",
              "      <td>0.029622</td>\n",
              "      <td>0.029223</td>\n",
              "      <td>0.030502</td>\n",
              "      <td>0.032380</td>\n",
              "      <td>0.032818</td>\n",
              "      <td>0.031978</td>\n",
              "      <td>0.031986</td>\n",
              "      <td>0.032543</td>\n",
              "      <td>0.031722</td>\n",
              "      <td>0.030049</td>\n",
              "      <td>0.029465</td>\n",
              "      <td>0.030448</td>\n",
              "      <td>0.031399</td>\n",
              "      <td>0.031733</td>\n",
              "      <td>0.032177</td>\n",
              "      <td>0.031858</td>\n",
              "      <td>0.030657</td>\n",
              "      <td>0.030272</td>\n",
              "      <td>0.030468</td>\n",
              "      <td>0.030211</td>\n",
              "      <td>0.030175</td>\n",
              "      <td>0.029631</td>\n",
              "      <td>0.028393</td>\n",
              "      <td>0.027592</td>\n",
              "      <td>0.027952</td>\n",
              "      <td>0.028634</td>\n",
              "      <td>0.028677</td>\n",
              "      <td>0.028734</td>\n",
              "      <td>0.027461</td>\n",
              "      <td>0.021914</td>\n",
              "    </tr>\n",
              "    <tr>\n",
              "      <th>3</th>\n",
              "      <td>7.616088</td>\n",
              "      <td>7.465304</td>\n",
              "      <td>5.674827</td>\n",
              "      <td>4.346300</td>\n",
              "      <td>4.118548</td>\n",
              "      <td>4.603765</td>\n",
              "      <td>4.924242</td>\n",
              "      <td>4.317279</td>\n",
              "      <td>3.072319</td>\n",
              "      <td>2.088074</td>\n",
              "      <td>1.693134</td>\n",
              "      <td>1.736706</td>\n",
              "      <td>2.225522</td>\n",
              "      <td>3.109757</td>\n",
              "      <td>3.669119</td>\n",
              "      <td>3.176001</td>\n",
              "      <td>2.150910</td>\n",
              "      <td>1.483975</td>\n",
              "      <td>1.148956</td>\n",
              "      <td>0.805825</td>\n",
              "      <td>0.505406</td>\n",
              "      <td>0.368324</td>\n",
              "      <td>0.326578</td>\n",
              "      <td>0.309621</td>\n",
              "      <td>0.302778</td>\n",
              "      <td>0.295409</td>\n",
              "      <td>0.280534</td>\n",
              "      <td>0.261327</td>\n",
              "      <td>0.246840</td>\n",
              "      <td>0.241667</td>\n",
              "      <td>0.236341</td>\n",
              "      <td>0.220557</td>\n",
              "      <td>0.199960</td>\n",
              "      <td>0.182535</td>\n",
              "      <td>0.170176</td>\n",
              "      <td>0.166696</td>\n",
              "      <td>0.170470</td>\n",
              "      <td>0.174641</td>\n",
              "      <td>0.167333</td>\n",
              "      <td>0.150467</td>\n",
              "      <td>...</td>\n",
              "      <td>0.026323</td>\n",
              "      <td>0.025747</td>\n",
              "      <td>0.024412</td>\n",
              "      <td>0.021701</td>\n",
              "      <td>0.020773</td>\n",
              "      <td>0.022615</td>\n",
              "      <td>0.023941</td>\n",
              "      <td>0.023632</td>\n",
              "      <td>0.023145</td>\n",
              "      <td>0.022699</td>\n",
              "      <td>0.021593</td>\n",
              "      <td>0.021579</td>\n",
              "      <td>0.024250</td>\n",
              "      <td>0.025981</td>\n",
              "      <td>0.024421</td>\n",
              "      <td>0.022734</td>\n",
              "      <td>0.022453</td>\n",
              "      <td>0.022062</td>\n",
              "      <td>0.021018</td>\n",
              "      <td>0.019736</td>\n",
              "      <td>0.019001</td>\n",
              "      <td>0.019659</td>\n",
              "      <td>0.021479</td>\n",
              "      <td>0.023029</td>\n",
              "      <td>0.022652</td>\n",
              "      <td>0.020846</td>\n",
              "      <td>0.020567</td>\n",
              "      <td>0.021772</td>\n",
              "      <td>0.022186</td>\n",
              "      <td>0.023255</td>\n",
              "      <td>0.024436</td>\n",
              "      <td>0.022657</td>\n",
              "      <td>0.020194</td>\n",
              "      <td>0.019508</td>\n",
              "      <td>0.018648</td>\n",
              "      <td>0.016907</td>\n",
              "      <td>0.016236</td>\n",
              "      <td>0.017126</td>\n",
              "      <td>0.017212</td>\n",
              "      <td>0.013901</td>\n",
              "    </tr>\n",
              "    <tr>\n",
              "      <th>4</th>\n",
              "      <td>11.608390</td>\n",
              "      <td>10.456798</td>\n",
              "      <td>7.934045</td>\n",
              "      <td>5.786838</td>\n",
              "      <td>4.170480</td>\n",
              "      <td>3.224944</td>\n",
              "      <td>2.740215</td>\n",
              "      <td>2.349415</td>\n",
              "      <td>1.958827</td>\n",
              "      <td>1.607111</td>\n",
              "      <td>1.308273</td>\n",
              "      <td>1.094446</td>\n",
              "      <td>1.043282</td>\n",
              "      <td>1.209117</td>\n",
              "      <td>1.633459</td>\n",
              "      <td>2.360477</td>\n",
              "      <td>3.401965</td>\n",
              "      <td>4.608664</td>\n",
              "      <td>5.151809</td>\n",
              "      <td>4.256539</td>\n",
              "      <td>2.614861</td>\n",
              "      <td>1.457028</td>\n",
              "      <td>1.020486</td>\n",
              "      <td>0.910847</td>\n",
              "      <td>0.896932</td>\n",
              "      <td>0.884207</td>\n",
              "      <td>0.836849</td>\n",
              "      <td>0.775844</td>\n",
              "      <td>0.708736</td>\n",
              "      <td>0.648845</td>\n",
              "      <td>0.600528</td>\n",
              "      <td>0.542329</td>\n",
              "      <td>0.470181</td>\n",
              "      <td>0.423256</td>\n",
              "      <td>0.410798</td>\n",
              "      <td>0.413140</td>\n",
              "      <td>0.421245</td>\n",
              "      <td>0.418983</td>\n",
              "      <td>0.397065</td>\n",
              "      <td>0.360176</td>\n",
              "      <td>...</td>\n",
              "      <td>0.113279</td>\n",
              "      <td>0.114524</td>\n",
              "      <td>0.111252</td>\n",
              "      <td>0.109279</td>\n",
              "      <td>0.106344</td>\n",
              "      <td>0.105440</td>\n",
              "      <td>0.111025</td>\n",
              "      <td>0.113986</td>\n",
              "      <td>0.108479</td>\n",
              "      <td>0.103986</td>\n",
              "      <td>0.102399</td>\n",
              "      <td>0.093157</td>\n",
              "      <td>0.085754</td>\n",
              "      <td>0.094398</td>\n",
              "      <td>0.105060</td>\n",
              "      <td>0.101131</td>\n",
              "      <td>0.091100</td>\n",
              "      <td>0.090297</td>\n",
              "      <td>0.093152</td>\n",
              "      <td>0.092081</td>\n",
              "      <td>0.090758</td>\n",
              "      <td>0.091546</td>\n",
              "      <td>0.092549</td>\n",
              "      <td>0.090458</td>\n",
              "      <td>0.090128</td>\n",
              "      <td>0.093742</td>\n",
              "      <td>0.091682</td>\n",
              "      <td>0.088568</td>\n",
              "      <td>0.092612</td>\n",
              "      <td>0.098956</td>\n",
              "      <td>0.102336</td>\n",
              "      <td>0.097143</td>\n",
              "      <td>0.088040</td>\n",
              "      <td>0.084683</td>\n",
              "      <td>0.088784</td>\n",
              "      <td>0.095170</td>\n",
              "      <td>0.098684</td>\n",
              "      <td>0.094657</td>\n",
              "      <td>0.079672</td>\n",
              "      <td>0.056901</td>\n",
              "    </tr>\n",
              "  </tbody>\n",
              "</table>\n",
              "<p>5 rows × 340 columns</p>\n",
              "</div>"
            ],
            "text/plain": [
              "   eyesclosed_psd_01dot00hz_average  ...  eyesopen_psd_90dot00hz_average\n",
              "0                         13.252075  ...                        0.024803\n",
              "1                         18.933153  ...                        0.011250\n",
              "2                         22.622696  ...                        0.021914\n",
              "3                          7.616088  ...                        0.013901\n",
              "4                         11.608390  ...                        0.056901\n",
              "\n",
              "[5 rows x 340 columns]"
            ]
          },
          "metadata": {
            "tags": []
          },
          "execution_count": 99
        }
      ]
    },
    {
      "cell_type": "code",
      "metadata": {
        "id": "Ao3whVMUod-a",
        "colab_type": "code",
        "outputId": "f9a37cd7-ea88-49e4-8f20-13093beb37ca",
        "colab": {
          "base_uri": "https://localhost:8080/",
          "height": 1000
        }
      },
      "source": [
        "results_acc_2={}\n",
        "results_bacc_2={}\n",
        "results_f1_2={}\n",
        "results_acc_2_sc={}\n",
        "results_bacc_2_sc={}\n",
        "results_f1_2_sc={}\n",
        "\n",
        "for disorder in y.columns.values:\n",
        "  print(\"===============\",disorder,\"===================\")\n",
        "  #x_=np.concatenate((x[y[disorder]==1].values,x[y_none].values),axis=0)\n",
        "  x_=np.concatenate((x[y[disorder]==1].values,x[y[disorder]==0].values),axis=0)\n",
        "  #y_=np.concatenate((np.ones(sum(y[disorder].values==1)),np.zeros(sum(y_none))),axis=0)\n",
        "  y_=np.concatenate((np.ones(sum(y[disorder].values==1)),np.zeros(sum(y[disorder].values==0))),axis=0)\n",
        "  print(\"Number of Subjects: \",y_.shape[0])\n",
        "  print(\"Positive: \",sum(y_==1))\n",
        "  print(\"Negative: \",sum(y_==0))\n",
        "  print()\n",
        "  # scale False\n",
        "  result=binary_classifier(x_,y_,scale=False)\n",
        "  \n",
        "  results_acc_2[disorder]=[]\n",
        "  results_bacc_2[disorder]=[]\n",
        "  results_f1_2[disorder]=[]\n",
        "  for key,value in result.items():\n",
        "      results_acc_2[disorder].append((key,value[0]))\n",
        "      results_bacc_2[disorder].append((key,value[1]))\n",
        "      results_f1_2[disorder].append((key,value[2]))\n",
        "  print()\n",
        "\n",
        "  #scale True\n",
        "  result=binary_classifier(x_,y_,scale=True)\n",
        "  \n",
        "  results_acc_2_sc[disorder]=[]\n",
        "  results_bacc_2_sc[disorder]=[]\n",
        "  results_f1_2_sc[disorder]=[]\n",
        "  for key,value in result.items():\n",
        "      results_acc_2_sc[disorder].append((key,value[0]))\n",
        "      results_bacc_2_sc[disorder].append((key,value[1]))\n",
        "      results_f1_2_sc[disorder].append((key,value[2]))\n",
        "  print()"
      ],
      "execution_count": 100,
      "outputs": [
        {
          "output_type": "stream",
          "text": [
            "=============== Attention-Deficit/Hyperactivity Disorder ===================\n",
            "Number of Subjects:  1254\n",
            "Positive:  738\n",
            "Negative:  516\n",
            "\n"
          ],
          "name": "stdout"
        },
        {
          "output_type": "stream",
          "text": [
            "/usr/local/lib/python3.6/dist-packages/sklearn/linear_model/logistic.py:947: ConvergenceWarning: lbfgs failed to converge. Increase the number of iterations.\n",
            "  \"of iterations.\", ConvergenceWarning)\n",
            "/usr/local/lib/python3.6/dist-packages/sklearn/linear_model/logistic.py:947: ConvergenceWarning: lbfgs failed to converge. Increase the number of iterations.\n",
            "  \"of iterations.\", ConvergenceWarning)\n",
            "/usr/local/lib/python3.6/dist-packages/sklearn/linear_model/logistic.py:947: ConvergenceWarning: lbfgs failed to converge. Increase the number of iterations.\n",
            "  \"of iterations.\", ConvergenceWarning)\n",
            "/usr/local/lib/python3.6/dist-packages/sklearn/linear_model/logistic.py:947: ConvergenceWarning: lbfgs failed to converge. Increase the number of iterations.\n",
            "  \"of iterations.\", ConvergenceWarning)\n",
            "/usr/local/lib/python3.6/dist-packages/sklearn/linear_model/logistic.py:947: ConvergenceWarning: lbfgs failed to converge. Increase the number of iterations.\n",
            "  \"of iterations.\", ConvergenceWarning)\n",
            "/usr/local/lib/python3.6/dist-packages/sklearn/linear_model/logistic.py:947: ConvergenceWarning: lbfgs failed to converge. Increase the number of iterations.\n",
            "  \"of iterations.\", ConvergenceWarning)\n",
            "/usr/local/lib/python3.6/dist-packages/sklearn/linear_model/logistic.py:947: ConvergenceWarning: lbfgs failed to converge. Increase the number of iterations.\n",
            "  \"of iterations.\", ConvergenceWarning)\n",
            "/usr/local/lib/python3.6/dist-packages/sklearn/linear_model/logistic.py:947: ConvergenceWarning: lbfgs failed to converge. Increase the number of iterations.\n",
            "  \"of iterations.\", ConvergenceWarning)\n",
            "/usr/local/lib/python3.6/dist-packages/sklearn/linear_model/logistic.py:947: ConvergenceWarning: lbfgs failed to converge. Increase the number of iterations.\n",
            "  \"of iterations.\", ConvergenceWarning)\n",
            "/usr/local/lib/python3.6/dist-packages/sklearn/linear_model/logistic.py:947: ConvergenceWarning: lbfgs failed to converge. Increase the number of iterations.\n",
            "  \"of iterations.\", ConvergenceWarning)\n"
          ],
          "name": "stderr"
        },
        {
          "output_type": "stream",
          "text": [
            "Done\n",
            "\n"
          ],
          "name": "stdout"
        },
        {
          "output_type": "stream",
          "text": [
            "/usr/local/lib/python3.6/dist-packages/sklearn/linear_model/logistic.py:947: ConvergenceWarning: lbfgs failed to converge. Increase the number of iterations.\n",
            "  \"of iterations.\", ConvergenceWarning)\n",
            "/usr/local/lib/python3.6/dist-packages/sklearn/linear_model/logistic.py:947: ConvergenceWarning: lbfgs failed to converge. Increase the number of iterations.\n",
            "  \"of iterations.\", ConvergenceWarning)\n",
            "/usr/local/lib/python3.6/dist-packages/sklearn/linear_model/logistic.py:947: ConvergenceWarning: lbfgs failed to converge. Increase the number of iterations.\n",
            "  \"of iterations.\", ConvergenceWarning)\n",
            "/usr/local/lib/python3.6/dist-packages/sklearn/linear_model/logistic.py:947: ConvergenceWarning: lbfgs failed to converge. Increase the number of iterations.\n",
            "  \"of iterations.\", ConvergenceWarning)\n",
            "/usr/local/lib/python3.6/dist-packages/sklearn/linear_model/logistic.py:947: ConvergenceWarning: lbfgs failed to converge. Increase the number of iterations.\n",
            "  \"of iterations.\", ConvergenceWarning)\n",
            "/usr/local/lib/python3.6/dist-packages/sklearn/linear_model/logistic.py:947: ConvergenceWarning: lbfgs failed to converge. Increase the number of iterations.\n",
            "  \"of iterations.\", ConvergenceWarning)\n",
            "/usr/local/lib/python3.6/dist-packages/sklearn/linear_model/logistic.py:947: ConvergenceWarning: lbfgs failed to converge. Increase the number of iterations.\n",
            "  \"of iterations.\", ConvergenceWarning)\n",
            "/usr/local/lib/python3.6/dist-packages/sklearn/linear_model/logistic.py:947: ConvergenceWarning: lbfgs failed to converge. Increase the number of iterations.\n",
            "  \"of iterations.\", ConvergenceWarning)\n",
            "/usr/local/lib/python3.6/dist-packages/sklearn/linear_model/logistic.py:947: ConvergenceWarning: lbfgs failed to converge. Increase the number of iterations.\n",
            "  \"of iterations.\", ConvergenceWarning)\n",
            "/usr/local/lib/python3.6/dist-packages/sklearn/linear_model/logistic.py:947: ConvergenceWarning: lbfgs failed to converge. Increase the number of iterations.\n",
            "  \"of iterations.\", ConvergenceWarning)\n"
          ],
          "name": "stderr"
        },
        {
          "output_type": "stream",
          "text": [
            "Done\n",
            "\n",
            "=============== Anxiety Disorders ===================\n",
            "Number of Subjects:  1254\n",
            "Positive:  301\n",
            "Negative:  953\n",
            "\n"
          ],
          "name": "stdout"
        },
        {
          "output_type": "stream",
          "text": [
            "/usr/local/lib/python3.6/dist-packages/sklearn/linear_model/logistic.py:947: ConvergenceWarning: lbfgs failed to converge. Increase the number of iterations.\n",
            "  \"of iterations.\", ConvergenceWarning)\n",
            "/usr/local/lib/python3.6/dist-packages/sklearn/linear_model/logistic.py:947: ConvergenceWarning: lbfgs failed to converge. Increase the number of iterations.\n",
            "  \"of iterations.\", ConvergenceWarning)\n",
            "/usr/local/lib/python3.6/dist-packages/sklearn/linear_model/logistic.py:947: ConvergenceWarning: lbfgs failed to converge. Increase the number of iterations.\n",
            "  \"of iterations.\", ConvergenceWarning)\n",
            "/usr/local/lib/python3.6/dist-packages/sklearn/linear_model/logistic.py:947: ConvergenceWarning: lbfgs failed to converge. Increase the number of iterations.\n",
            "  \"of iterations.\", ConvergenceWarning)\n",
            "/usr/local/lib/python3.6/dist-packages/sklearn/linear_model/logistic.py:947: ConvergenceWarning: lbfgs failed to converge. Increase the number of iterations.\n",
            "  \"of iterations.\", ConvergenceWarning)\n",
            "/usr/local/lib/python3.6/dist-packages/sklearn/linear_model/logistic.py:947: ConvergenceWarning: lbfgs failed to converge. Increase the number of iterations.\n",
            "  \"of iterations.\", ConvergenceWarning)\n",
            "/usr/local/lib/python3.6/dist-packages/sklearn/linear_model/logistic.py:947: ConvergenceWarning: lbfgs failed to converge. Increase the number of iterations.\n",
            "  \"of iterations.\", ConvergenceWarning)\n",
            "/usr/local/lib/python3.6/dist-packages/sklearn/linear_model/logistic.py:947: ConvergenceWarning: lbfgs failed to converge. Increase the number of iterations.\n",
            "  \"of iterations.\", ConvergenceWarning)\n",
            "/usr/local/lib/python3.6/dist-packages/sklearn/linear_model/logistic.py:947: ConvergenceWarning: lbfgs failed to converge. Increase the number of iterations.\n",
            "  \"of iterations.\", ConvergenceWarning)\n",
            "/usr/local/lib/python3.6/dist-packages/sklearn/linear_model/logistic.py:947: ConvergenceWarning: lbfgs failed to converge. Increase the number of iterations.\n",
            "  \"of iterations.\", ConvergenceWarning)\n"
          ],
          "name": "stderr"
        },
        {
          "output_type": "stream",
          "text": [
            "Done\n",
            "\n"
          ],
          "name": "stdout"
        },
        {
          "output_type": "stream",
          "text": [
            "/usr/local/lib/python3.6/dist-packages/sklearn/linear_model/logistic.py:947: ConvergenceWarning: lbfgs failed to converge. Increase the number of iterations.\n",
            "  \"of iterations.\", ConvergenceWarning)\n",
            "/usr/local/lib/python3.6/dist-packages/sklearn/linear_model/logistic.py:947: ConvergenceWarning: lbfgs failed to converge. Increase the number of iterations.\n",
            "  \"of iterations.\", ConvergenceWarning)\n",
            "/usr/local/lib/python3.6/dist-packages/sklearn/linear_model/logistic.py:947: ConvergenceWarning: lbfgs failed to converge. Increase the number of iterations.\n",
            "  \"of iterations.\", ConvergenceWarning)\n",
            "/usr/local/lib/python3.6/dist-packages/sklearn/linear_model/logistic.py:947: ConvergenceWarning: lbfgs failed to converge. Increase the number of iterations.\n",
            "  \"of iterations.\", ConvergenceWarning)\n",
            "/usr/local/lib/python3.6/dist-packages/sklearn/linear_model/logistic.py:947: ConvergenceWarning: lbfgs failed to converge. Increase the number of iterations.\n",
            "  \"of iterations.\", ConvergenceWarning)\n",
            "/usr/local/lib/python3.6/dist-packages/sklearn/linear_model/logistic.py:947: ConvergenceWarning: lbfgs failed to converge. Increase the number of iterations.\n",
            "  \"of iterations.\", ConvergenceWarning)\n",
            "/usr/local/lib/python3.6/dist-packages/sklearn/linear_model/logistic.py:947: ConvergenceWarning: lbfgs failed to converge. Increase the number of iterations.\n",
            "  \"of iterations.\", ConvergenceWarning)\n",
            "/usr/local/lib/python3.6/dist-packages/sklearn/linear_model/logistic.py:947: ConvergenceWarning: lbfgs failed to converge. Increase the number of iterations.\n",
            "  \"of iterations.\", ConvergenceWarning)\n",
            "/usr/local/lib/python3.6/dist-packages/sklearn/linear_model/logistic.py:947: ConvergenceWarning: lbfgs failed to converge. Increase the number of iterations.\n",
            "  \"of iterations.\", ConvergenceWarning)\n",
            "/usr/local/lib/python3.6/dist-packages/sklearn/linear_model/logistic.py:947: ConvergenceWarning: lbfgs failed to converge. Increase the number of iterations.\n",
            "  \"of iterations.\", ConvergenceWarning)\n",
            "/usr/local/lib/python3.6/dist-packages/sklearn/metrics/classification.py:1437: UndefinedMetricWarning: F-score is ill-defined and being set to 0.0 due to no predicted samples.\n",
            "  'precision', 'predicted', average, warn_for)\n"
          ],
          "name": "stderr"
        },
        {
          "output_type": "stream",
          "text": [
            "Done\n",
            "\n",
            "=============== Specific Learning Disorder ===================\n",
            "Number of Subjects:  1254\n",
            "Positive:  208\n",
            "Negative:  1046\n",
            "\n"
          ],
          "name": "stdout"
        },
        {
          "output_type": "stream",
          "text": [
            "/usr/local/lib/python3.6/dist-packages/sklearn/linear_model/logistic.py:947: ConvergenceWarning: lbfgs failed to converge. Increase the number of iterations.\n",
            "  \"of iterations.\", ConvergenceWarning)\n",
            "/usr/local/lib/python3.6/dist-packages/sklearn/linear_model/logistic.py:947: ConvergenceWarning: lbfgs failed to converge. Increase the number of iterations.\n",
            "  \"of iterations.\", ConvergenceWarning)\n",
            "/usr/local/lib/python3.6/dist-packages/sklearn/linear_model/logistic.py:947: ConvergenceWarning: lbfgs failed to converge. Increase the number of iterations.\n",
            "  \"of iterations.\", ConvergenceWarning)\n",
            "/usr/local/lib/python3.6/dist-packages/sklearn/linear_model/logistic.py:947: ConvergenceWarning: lbfgs failed to converge. Increase the number of iterations.\n",
            "  \"of iterations.\", ConvergenceWarning)\n",
            "/usr/local/lib/python3.6/dist-packages/sklearn/linear_model/logistic.py:947: ConvergenceWarning: lbfgs failed to converge. Increase the number of iterations.\n",
            "  \"of iterations.\", ConvergenceWarning)\n",
            "/usr/local/lib/python3.6/dist-packages/sklearn/linear_model/logistic.py:947: ConvergenceWarning: lbfgs failed to converge. Increase the number of iterations.\n",
            "  \"of iterations.\", ConvergenceWarning)\n",
            "/usr/local/lib/python3.6/dist-packages/sklearn/linear_model/logistic.py:947: ConvergenceWarning: lbfgs failed to converge. Increase the number of iterations.\n",
            "  \"of iterations.\", ConvergenceWarning)\n",
            "/usr/local/lib/python3.6/dist-packages/sklearn/linear_model/logistic.py:947: ConvergenceWarning: lbfgs failed to converge. Increase the number of iterations.\n",
            "  \"of iterations.\", ConvergenceWarning)\n",
            "/usr/local/lib/python3.6/dist-packages/sklearn/linear_model/logistic.py:947: ConvergenceWarning: lbfgs failed to converge. Increase the number of iterations.\n",
            "  \"of iterations.\", ConvergenceWarning)\n",
            "/usr/local/lib/python3.6/dist-packages/sklearn/linear_model/logistic.py:947: ConvergenceWarning: lbfgs failed to converge. Increase the number of iterations.\n",
            "  \"of iterations.\", ConvergenceWarning)\n"
          ],
          "name": "stderr"
        },
        {
          "output_type": "stream",
          "text": [
            "Done\n",
            "\n"
          ],
          "name": "stdout"
        },
        {
          "output_type": "stream",
          "text": [
            "/usr/local/lib/python3.6/dist-packages/sklearn/linear_model/logistic.py:947: ConvergenceWarning: lbfgs failed to converge. Increase the number of iterations.\n",
            "  \"of iterations.\", ConvergenceWarning)\n",
            "/usr/local/lib/python3.6/dist-packages/sklearn/linear_model/logistic.py:947: ConvergenceWarning: lbfgs failed to converge. Increase the number of iterations.\n",
            "  \"of iterations.\", ConvergenceWarning)\n",
            "/usr/local/lib/python3.6/dist-packages/sklearn/linear_model/logistic.py:947: ConvergenceWarning: lbfgs failed to converge. Increase the number of iterations.\n",
            "  \"of iterations.\", ConvergenceWarning)\n",
            "/usr/local/lib/python3.6/dist-packages/sklearn/linear_model/logistic.py:947: ConvergenceWarning: lbfgs failed to converge. Increase the number of iterations.\n",
            "  \"of iterations.\", ConvergenceWarning)\n",
            "/usr/local/lib/python3.6/dist-packages/sklearn/linear_model/logistic.py:947: ConvergenceWarning: lbfgs failed to converge. Increase the number of iterations.\n",
            "  \"of iterations.\", ConvergenceWarning)\n",
            "/usr/local/lib/python3.6/dist-packages/sklearn/linear_model/logistic.py:947: ConvergenceWarning: lbfgs failed to converge. Increase the number of iterations.\n",
            "  \"of iterations.\", ConvergenceWarning)\n",
            "/usr/local/lib/python3.6/dist-packages/sklearn/linear_model/logistic.py:947: ConvergenceWarning: lbfgs failed to converge. Increase the number of iterations.\n",
            "  \"of iterations.\", ConvergenceWarning)\n",
            "/usr/local/lib/python3.6/dist-packages/sklearn/linear_model/logistic.py:947: ConvergenceWarning: lbfgs failed to converge. Increase the number of iterations.\n",
            "  \"of iterations.\", ConvergenceWarning)\n",
            "/usr/local/lib/python3.6/dist-packages/sklearn/linear_model/logistic.py:947: ConvergenceWarning: lbfgs failed to converge. Increase the number of iterations.\n",
            "  \"of iterations.\", ConvergenceWarning)\n",
            "/usr/local/lib/python3.6/dist-packages/sklearn/linear_model/logistic.py:947: ConvergenceWarning: lbfgs failed to converge. Increase the number of iterations.\n",
            "  \"of iterations.\", ConvergenceWarning)\n"
          ],
          "name": "stderr"
        },
        {
          "output_type": "stream",
          "text": [
            "Done\n",
            "\n",
            "=============== Autism Spectrum Disorder ===================\n",
            "Number of Subjects:  1254\n",
            "Positive:  210\n",
            "Negative:  1044\n",
            "\n"
          ],
          "name": "stdout"
        },
        {
          "output_type": "stream",
          "text": [
            "/usr/local/lib/python3.6/dist-packages/sklearn/linear_model/logistic.py:947: ConvergenceWarning: lbfgs failed to converge. Increase the number of iterations.\n",
            "  \"of iterations.\", ConvergenceWarning)\n",
            "/usr/local/lib/python3.6/dist-packages/sklearn/linear_model/logistic.py:947: ConvergenceWarning: lbfgs failed to converge. Increase the number of iterations.\n",
            "  \"of iterations.\", ConvergenceWarning)\n",
            "/usr/local/lib/python3.6/dist-packages/sklearn/linear_model/logistic.py:947: ConvergenceWarning: lbfgs failed to converge. Increase the number of iterations.\n",
            "  \"of iterations.\", ConvergenceWarning)\n",
            "/usr/local/lib/python3.6/dist-packages/sklearn/linear_model/logistic.py:947: ConvergenceWarning: lbfgs failed to converge. Increase the number of iterations.\n",
            "  \"of iterations.\", ConvergenceWarning)\n",
            "/usr/local/lib/python3.6/dist-packages/sklearn/linear_model/logistic.py:947: ConvergenceWarning: lbfgs failed to converge. Increase the number of iterations.\n",
            "  \"of iterations.\", ConvergenceWarning)\n",
            "/usr/local/lib/python3.6/dist-packages/sklearn/linear_model/logistic.py:947: ConvergenceWarning: lbfgs failed to converge. Increase the number of iterations.\n",
            "  \"of iterations.\", ConvergenceWarning)\n",
            "/usr/local/lib/python3.6/dist-packages/sklearn/linear_model/logistic.py:947: ConvergenceWarning: lbfgs failed to converge. Increase the number of iterations.\n",
            "  \"of iterations.\", ConvergenceWarning)\n",
            "/usr/local/lib/python3.6/dist-packages/sklearn/linear_model/logistic.py:947: ConvergenceWarning: lbfgs failed to converge. Increase the number of iterations.\n",
            "  \"of iterations.\", ConvergenceWarning)\n",
            "/usr/local/lib/python3.6/dist-packages/sklearn/linear_model/logistic.py:947: ConvergenceWarning: lbfgs failed to converge. Increase the number of iterations.\n",
            "  \"of iterations.\", ConvergenceWarning)\n",
            "/usr/local/lib/python3.6/dist-packages/sklearn/linear_model/logistic.py:947: ConvergenceWarning: lbfgs failed to converge. Increase the number of iterations.\n",
            "  \"of iterations.\", ConvergenceWarning)\n"
          ],
          "name": "stderr"
        },
        {
          "output_type": "stream",
          "text": [
            "Done\n",
            "\n"
          ],
          "name": "stdout"
        },
        {
          "output_type": "stream",
          "text": [
            "/usr/local/lib/python3.6/dist-packages/sklearn/linear_model/logistic.py:947: ConvergenceWarning: lbfgs failed to converge. Increase the number of iterations.\n",
            "  \"of iterations.\", ConvergenceWarning)\n",
            "/usr/local/lib/python3.6/dist-packages/sklearn/linear_model/logistic.py:947: ConvergenceWarning: lbfgs failed to converge. Increase the number of iterations.\n",
            "  \"of iterations.\", ConvergenceWarning)\n",
            "/usr/local/lib/python3.6/dist-packages/sklearn/linear_model/logistic.py:947: ConvergenceWarning: lbfgs failed to converge. Increase the number of iterations.\n",
            "  \"of iterations.\", ConvergenceWarning)\n",
            "/usr/local/lib/python3.6/dist-packages/sklearn/linear_model/logistic.py:947: ConvergenceWarning: lbfgs failed to converge. Increase the number of iterations.\n",
            "  \"of iterations.\", ConvergenceWarning)\n",
            "/usr/local/lib/python3.6/dist-packages/sklearn/linear_model/logistic.py:947: ConvergenceWarning: lbfgs failed to converge. Increase the number of iterations.\n",
            "  \"of iterations.\", ConvergenceWarning)\n",
            "/usr/local/lib/python3.6/dist-packages/sklearn/linear_model/logistic.py:947: ConvergenceWarning: lbfgs failed to converge. Increase the number of iterations.\n",
            "  \"of iterations.\", ConvergenceWarning)\n",
            "/usr/local/lib/python3.6/dist-packages/sklearn/linear_model/logistic.py:947: ConvergenceWarning: lbfgs failed to converge. Increase the number of iterations.\n",
            "  \"of iterations.\", ConvergenceWarning)\n",
            "/usr/local/lib/python3.6/dist-packages/sklearn/linear_model/logistic.py:947: ConvergenceWarning: lbfgs failed to converge. Increase the number of iterations.\n",
            "  \"of iterations.\", ConvergenceWarning)\n",
            "/usr/local/lib/python3.6/dist-packages/sklearn/linear_model/logistic.py:947: ConvergenceWarning: lbfgs failed to converge. Increase the number of iterations.\n",
            "  \"of iterations.\", ConvergenceWarning)\n",
            "/usr/local/lib/python3.6/dist-packages/sklearn/linear_model/logistic.py:947: ConvergenceWarning: lbfgs failed to converge. Increase the number of iterations.\n",
            "  \"of iterations.\", ConvergenceWarning)\n",
            "/usr/local/lib/python3.6/dist-packages/sklearn/metrics/classification.py:1437: UndefinedMetricWarning: F-score is ill-defined and being set to 0.0 due to no predicted samples.\n",
            "  'precision', 'predicted', average, warn_for)\n"
          ],
          "name": "stderr"
        },
        {
          "output_type": "stream",
          "text": [
            "Done\n",
            "\n",
            "=============== Disruptive ===================\n",
            "Number of Subjects:  1254\n",
            "Positive:  203\n",
            "Negative:  1051\n",
            "\n"
          ],
          "name": "stdout"
        },
        {
          "output_type": "stream",
          "text": [
            "/usr/local/lib/python3.6/dist-packages/sklearn/linear_model/logistic.py:947: ConvergenceWarning: lbfgs failed to converge. Increase the number of iterations.\n",
            "  \"of iterations.\", ConvergenceWarning)\n",
            "/usr/local/lib/python3.6/dist-packages/sklearn/linear_model/logistic.py:947: ConvergenceWarning: lbfgs failed to converge. Increase the number of iterations.\n",
            "  \"of iterations.\", ConvergenceWarning)\n",
            "/usr/local/lib/python3.6/dist-packages/sklearn/linear_model/logistic.py:947: ConvergenceWarning: lbfgs failed to converge. Increase the number of iterations.\n",
            "  \"of iterations.\", ConvergenceWarning)\n",
            "/usr/local/lib/python3.6/dist-packages/sklearn/linear_model/logistic.py:947: ConvergenceWarning: lbfgs failed to converge. Increase the number of iterations.\n",
            "  \"of iterations.\", ConvergenceWarning)\n",
            "/usr/local/lib/python3.6/dist-packages/sklearn/linear_model/logistic.py:947: ConvergenceWarning: lbfgs failed to converge. Increase the number of iterations.\n",
            "  \"of iterations.\", ConvergenceWarning)\n",
            "/usr/local/lib/python3.6/dist-packages/sklearn/linear_model/logistic.py:947: ConvergenceWarning: lbfgs failed to converge. Increase the number of iterations.\n",
            "  \"of iterations.\", ConvergenceWarning)\n",
            "/usr/local/lib/python3.6/dist-packages/sklearn/linear_model/logistic.py:947: ConvergenceWarning: lbfgs failed to converge. Increase the number of iterations.\n",
            "  \"of iterations.\", ConvergenceWarning)\n",
            "/usr/local/lib/python3.6/dist-packages/sklearn/linear_model/logistic.py:947: ConvergenceWarning: lbfgs failed to converge. Increase the number of iterations.\n",
            "  \"of iterations.\", ConvergenceWarning)\n",
            "/usr/local/lib/python3.6/dist-packages/sklearn/linear_model/logistic.py:947: ConvergenceWarning: lbfgs failed to converge. Increase the number of iterations.\n",
            "  \"of iterations.\", ConvergenceWarning)\n",
            "/usr/local/lib/python3.6/dist-packages/sklearn/linear_model/logistic.py:947: ConvergenceWarning: lbfgs failed to converge. Increase the number of iterations.\n",
            "  \"of iterations.\", ConvergenceWarning)\n"
          ],
          "name": "stderr"
        },
        {
          "output_type": "stream",
          "text": [
            "Done\n",
            "\n"
          ],
          "name": "stdout"
        },
        {
          "output_type": "stream",
          "text": [
            "/usr/local/lib/python3.6/dist-packages/sklearn/linear_model/logistic.py:947: ConvergenceWarning: lbfgs failed to converge. Increase the number of iterations.\n",
            "  \"of iterations.\", ConvergenceWarning)\n",
            "/usr/local/lib/python3.6/dist-packages/sklearn/linear_model/logistic.py:947: ConvergenceWarning: lbfgs failed to converge. Increase the number of iterations.\n",
            "  \"of iterations.\", ConvergenceWarning)\n",
            "/usr/local/lib/python3.6/dist-packages/sklearn/linear_model/logistic.py:947: ConvergenceWarning: lbfgs failed to converge. Increase the number of iterations.\n",
            "  \"of iterations.\", ConvergenceWarning)\n",
            "/usr/local/lib/python3.6/dist-packages/sklearn/linear_model/logistic.py:947: ConvergenceWarning: lbfgs failed to converge. Increase the number of iterations.\n",
            "  \"of iterations.\", ConvergenceWarning)\n",
            "/usr/local/lib/python3.6/dist-packages/sklearn/linear_model/logistic.py:947: ConvergenceWarning: lbfgs failed to converge. Increase the number of iterations.\n",
            "  \"of iterations.\", ConvergenceWarning)\n",
            "/usr/local/lib/python3.6/dist-packages/sklearn/linear_model/logistic.py:947: ConvergenceWarning: lbfgs failed to converge. Increase the number of iterations.\n",
            "  \"of iterations.\", ConvergenceWarning)\n",
            "/usr/local/lib/python3.6/dist-packages/sklearn/linear_model/logistic.py:947: ConvergenceWarning: lbfgs failed to converge. Increase the number of iterations.\n",
            "  \"of iterations.\", ConvergenceWarning)\n",
            "/usr/local/lib/python3.6/dist-packages/sklearn/linear_model/logistic.py:947: ConvergenceWarning: lbfgs failed to converge. Increase the number of iterations.\n",
            "  \"of iterations.\", ConvergenceWarning)\n",
            "/usr/local/lib/python3.6/dist-packages/sklearn/linear_model/logistic.py:947: ConvergenceWarning: lbfgs failed to converge. Increase the number of iterations.\n",
            "  \"of iterations.\", ConvergenceWarning)\n",
            "/usr/local/lib/python3.6/dist-packages/sklearn/linear_model/logistic.py:947: ConvergenceWarning: lbfgs failed to converge. Increase the number of iterations.\n",
            "  \"of iterations.\", ConvergenceWarning)\n",
            "/usr/local/lib/python3.6/dist-packages/sklearn/metrics/classification.py:1437: UndefinedMetricWarning: F-score is ill-defined and being set to 0.0 due to no predicted samples.\n",
            "  'precision', 'predicted', average, warn_for)\n"
          ],
          "name": "stderr"
        },
        {
          "output_type": "stream",
          "text": [
            "Done\n",
            "\n",
            "=============== Communication Disorder ===================\n",
            "Number of Subjects:  1254\n",
            "Positive:  146\n",
            "Negative:  1108\n",
            "\n"
          ],
          "name": "stdout"
        },
        {
          "output_type": "stream",
          "text": [
            "/usr/local/lib/python3.6/dist-packages/sklearn/linear_model/logistic.py:947: ConvergenceWarning: lbfgs failed to converge. Increase the number of iterations.\n",
            "  \"of iterations.\", ConvergenceWarning)\n",
            "/usr/local/lib/python3.6/dist-packages/sklearn/linear_model/logistic.py:947: ConvergenceWarning: lbfgs failed to converge. Increase the number of iterations.\n",
            "  \"of iterations.\", ConvergenceWarning)\n",
            "/usr/local/lib/python3.6/dist-packages/sklearn/linear_model/logistic.py:947: ConvergenceWarning: lbfgs failed to converge. Increase the number of iterations.\n",
            "  \"of iterations.\", ConvergenceWarning)\n",
            "/usr/local/lib/python3.6/dist-packages/sklearn/linear_model/logistic.py:947: ConvergenceWarning: lbfgs failed to converge. Increase the number of iterations.\n",
            "  \"of iterations.\", ConvergenceWarning)\n",
            "/usr/local/lib/python3.6/dist-packages/sklearn/linear_model/logistic.py:947: ConvergenceWarning: lbfgs failed to converge. Increase the number of iterations.\n",
            "  \"of iterations.\", ConvergenceWarning)\n",
            "/usr/local/lib/python3.6/dist-packages/sklearn/linear_model/logistic.py:947: ConvergenceWarning: lbfgs failed to converge. Increase the number of iterations.\n",
            "  \"of iterations.\", ConvergenceWarning)\n",
            "/usr/local/lib/python3.6/dist-packages/sklearn/linear_model/logistic.py:947: ConvergenceWarning: lbfgs failed to converge. Increase the number of iterations.\n",
            "  \"of iterations.\", ConvergenceWarning)\n",
            "/usr/local/lib/python3.6/dist-packages/sklearn/linear_model/logistic.py:947: ConvergenceWarning: lbfgs failed to converge. Increase the number of iterations.\n",
            "  \"of iterations.\", ConvergenceWarning)\n",
            "/usr/local/lib/python3.6/dist-packages/sklearn/linear_model/logistic.py:947: ConvergenceWarning: lbfgs failed to converge. Increase the number of iterations.\n",
            "  \"of iterations.\", ConvergenceWarning)\n",
            "/usr/local/lib/python3.6/dist-packages/sklearn/linear_model/logistic.py:947: ConvergenceWarning: lbfgs failed to converge. Increase the number of iterations.\n",
            "  \"of iterations.\", ConvergenceWarning)\n"
          ],
          "name": "stderr"
        },
        {
          "output_type": "stream",
          "text": [
            "Done\n",
            "\n"
          ],
          "name": "stdout"
        },
        {
          "output_type": "stream",
          "text": [
            "/usr/local/lib/python3.6/dist-packages/sklearn/linear_model/logistic.py:947: ConvergenceWarning: lbfgs failed to converge. Increase the number of iterations.\n",
            "  \"of iterations.\", ConvergenceWarning)\n",
            "/usr/local/lib/python3.6/dist-packages/sklearn/linear_model/logistic.py:947: ConvergenceWarning: lbfgs failed to converge. Increase the number of iterations.\n",
            "  \"of iterations.\", ConvergenceWarning)\n",
            "/usr/local/lib/python3.6/dist-packages/sklearn/linear_model/logistic.py:947: ConvergenceWarning: lbfgs failed to converge. Increase the number of iterations.\n",
            "  \"of iterations.\", ConvergenceWarning)\n",
            "/usr/local/lib/python3.6/dist-packages/sklearn/linear_model/logistic.py:947: ConvergenceWarning: lbfgs failed to converge. Increase the number of iterations.\n",
            "  \"of iterations.\", ConvergenceWarning)\n",
            "/usr/local/lib/python3.6/dist-packages/sklearn/linear_model/logistic.py:947: ConvergenceWarning: lbfgs failed to converge. Increase the number of iterations.\n",
            "  \"of iterations.\", ConvergenceWarning)\n",
            "/usr/local/lib/python3.6/dist-packages/sklearn/linear_model/logistic.py:947: ConvergenceWarning: lbfgs failed to converge. Increase the number of iterations.\n",
            "  \"of iterations.\", ConvergenceWarning)\n",
            "/usr/local/lib/python3.6/dist-packages/sklearn/linear_model/logistic.py:947: ConvergenceWarning: lbfgs failed to converge. Increase the number of iterations.\n",
            "  \"of iterations.\", ConvergenceWarning)\n",
            "/usr/local/lib/python3.6/dist-packages/sklearn/linear_model/logistic.py:947: ConvergenceWarning: lbfgs failed to converge. Increase the number of iterations.\n",
            "  \"of iterations.\", ConvergenceWarning)\n",
            "/usr/local/lib/python3.6/dist-packages/sklearn/linear_model/logistic.py:947: ConvergenceWarning: lbfgs failed to converge. Increase the number of iterations.\n",
            "  \"of iterations.\", ConvergenceWarning)\n",
            "/usr/local/lib/python3.6/dist-packages/sklearn/linear_model/logistic.py:947: ConvergenceWarning: lbfgs failed to converge. Increase the number of iterations.\n",
            "  \"of iterations.\", ConvergenceWarning)\n",
            "/usr/local/lib/python3.6/dist-packages/sklearn/metrics/classification.py:1437: UndefinedMetricWarning: F-score is ill-defined and being set to 0.0 due to no predicted samples.\n",
            "  'precision', 'predicted', average, warn_for)\n"
          ],
          "name": "stderr"
        },
        {
          "output_type": "stream",
          "text": [
            "Done\n",
            "\n",
            "=============== Depressive Disorders ===================\n",
            "Number of Subjects:  1254\n",
            "Positive:  114\n",
            "Negative:  1140\n",
            "\n"
          ],
          "name": "stdout"
        },
        {
          "output_type": "stream",
          "text": [
            "/usr/local/lib/python3.6/dist-packages/sklearn/linear_model/logistic.py:947: ConvergenceWarning: lbfgs failed to converge. Increase the number of iterations.\n",
            "  \"of iterations.\", ConvergenceWarning)\n",
            "/usr/local/lib/python3.6/dist-packages/sklearn/linear_model/logistic.py:947: ConvergenceWarning: lbfgs failed to converge. Increase the number of iterations.\n",
            "  \"of iterations.\", ConvergenceWarning)\n",
            "/usr/local/lib/python3.6/dist-packages/sklearn/linear_model/logistic.py:947: ConvergenceWarning: lbfgs failed to converge. Increase the number of iterations.\n",
            "  \"of iterations.\", ConvergenceWarning)\n",
            "/usr/local/lib/python3.6/dist-packages/sklearn/linear_model/logistic.py:947: ConvergenceWarning: lbfgs failed to converge. Increase the number of iterations.\n",
            "  \"of iterations.\", ConvergenceWarning)\n",
            "/usr/local/lib/python3.6/dist-packages/sklearn/linear_model/logistic.py:947: ConvergenceWarning: lbfgs failed to converge. Increase the number of iterations.\n",
            "  \"of iterations.\", ConvergenceWarning)\n",
            "/usr/local/lib/python3.6/dist-packages/sklearn/linear_model/logistic.py:947: ConvergenceWarning: lbfgs failed to converge. Increase the number of iterations.\n",
            "  \"of iterations.\", ConvergenceWarning)\n",
            "/usr/local/lib/python3.6/dist-packages/sklearn/linear_model/logistic.py:947: ConvergenceWarning: lbfgs failed to converge. Increase the number of iterations.\n",
            "  \"of iterations.\", ConvergenceWarning)\n",
            "/usr/local/lib/python3.6/dist-packages/sklearn/linear_model/logistic.py:947: ConvergenceWarning: lbfgs failed to converge. Increase the number of iterations.\n",
            "  \"of iterations.\", ConvergenceWarning)\n",
            "/usr/local/lib/python3.6/dist-packages/sklearn/linear_model/logistic.py:947: ConvergenceWarning: lbfgs failed to converge. Increase the number of iterations.\n",
            "  \"of iterations.\", ConvergenceWarning)\n",
            "/usr/local/lib/python3.6/dist-packages/sklearn/linear_model/logistic.py:947: ConvergenceWarning: lbfgs failed to converge. Increase the number of iterations.\n",
            "  \"of iterations.\", ConvergenceWarning)\n"
          ],
          "name": "stderr"
        },
        {
          "output_type": "stream",
          "text": [
            "Done\n",
            "\n"
          ],
          "name": "stdout"
        },
        {
          "output_type": "stream",
          "text": [
            "/usr/local/lib/python3.6/dist-packages/sklearn/linear_model/logistic.py:947: ConvergenceWarning: lbfgs failed to converge. Increase the number of iterations.\n",
            "  \"of iterations.\", ConvergenceWarning)\n",
            "/usr/local/lib/python3.6/dist-packages/sklearn/linear_model/logistic.py:947: ConvergenceWarning: lbfgs failed to converge. Increase the number of iterations.\n",
            "  \"of iterations.\", ConvergenceWarning)\n",
            "/usr/local/lib/python3.6/dist-packages/sklearn/linear_model/logistic.py:947: ConvergenceWarning: lbfgs failed to converge. Increase the number of iterations.\n",
            "  \"of iterations.\", ConvergenceWarning)\n",
            "/usr/local/lib/python3.6/dist-packages/sklearn/linear_model/logistic.py:947: ConvergenceWarning: lbfgs failed to converge. Increase the number of iterations.\n",
            "  \"of iterations.\", ConvergenceWarning)\n",
            "/usr/local/lib/python3.6/dist-packages/sklearn/linear_model/logistic.py:947: ConvergenceWarning: lbfgs failed to converge. Increase the number of iterations.\n",
            "  \"of iterations.\", ConvergenceWarning)\n",
            "/usr/local/lib/python3.6/dist-packages/sklearn/linear_model/logistic.py:947: ConvergenceWarning: lbfgs failed to converge. Increase the number of iterations.\n",
            "  \"of iterations.\", ConvergenceWarning)\n",
            "/usr/local/lib/python3.6/dist-packages/sklearn/linear_model/logistic.py:947: ConvergenceWarning: lbfgs failed to converge. Increase the number of iterations.\n",
            "  \"of iterations.\", ConvergenceWarning)\n",
            "/usr/local/lib/python3.6/dist-packages/sklearn/linear_model/logistic.py:947: ConvergenceWarning: lbfgs failed to converge. Increase the number of iterations.\n",
            "  \"of iterations.\", ConvergenceWarning)\n",
            "/usr/local/lib/python3.6/dist-packages/sklearn/linear_model/logistic.py:947: ConvergenceWarning: lbfgs failed to converge. Increase the number of iterations.\n",
            "  \"of iterations.\", ConvergenceWarning)\n",
            "/usr/local/lib/python3.6/dist-packages/sklearn/linear_model/logistic.py:947: ConvergenceWarning: lbfgs failed to converge. Increase the number of iterations.\n",
            "  \"of iterations.\", ConvergenceWarning)\n"
          ],
          "name": "stderr"
        },
        {
          "output_type": "stream",
          "text": [
            "Done\n",
            "\n"
          ],
          "name": "stdout"
        }
      ]
    },
    {
      "cell_type": "code",
      "metadata": {
        "id": "dHCy9tj9jLXQ",
        "colab_type": "code",
        "outputId": "14b3e5e6-80ad-4a31-a2ad-dc12b24b128f",
        "colab": {
          "base_uri": "https://localhost:8080/",
          "height": 374
        }
      },
      "source": [
        "results_f1_2_sc"
      ],
      "execution_count": 106,
      "outputs": [
        {
          "output_type": "execute_result",
          "data": {
            "text/plain": [
              "{'Anxiety Disorders': [('log', 0.2984218077474893),\n",
              "  ('rf', 0.0),\n",
              "  ('svm', 0.26101694915254237)],\n",
              " 'Attention-Deficit/Hyperactivity Disorder': [('log', 0.0522875816993464),\n",
              "  ('rf', 0.7116228070175438),\n",
              "  ('svm', 0.49796582587469485)],\n",
              " 'Autism Spectrum Disorder': [('log', 0.1044776119402985),\n",
              "  ('rf', 0.0),\n",
              "  ('svm', 0.20238095238095236)],\n",
              " 'Communication Disorder': [('log', 0.16033755274261602),\n",
              "  ('rf', 0.0),\n",
              "  ('svm', 0.11764705882352942)],\n",
              " 'Depressive Disorders': [('log', 0.18400687876182287),\n",
              "  ('rf', 0.1308411214953271),\n",
              "  ('svm', 0.20073439412484698)],\n",
              " 'Disruptive': [('log', 0.2601984564498346),\n",
              "  ('rf', 0.0),\n",
              "  ('svm', 0.20679468242245203)],\n",
              " 'Specific Learning Disorder': [('log', 0.29752066115702475),\n",
              "  ('rf', 0.0),\n",
              "  ('svm', 0.2335216572504708)]}"
            ]
          },
          "metadata": {
            "tags": []
          },
          "execution_count": 106
        }
      ]
    },
    {
      "cell_type": "markdown",
      "metadata": {
        "id": "Yo4JDcdNJZqG",
        "colab_type": "text"
      },
      "source": [
        "#### PCA\n"
      ]
    },
    {
      "cell_type": "code",
      "metadata": {
        "id": "3elTtyGjmEgX",
        "colab_type": "code",
        "colab": {}
      },
      "source": [
        "x=(x-x.mean())/x.std()\n",
        "pca=PCA().fit(x)\n"
      ],
      "execution_count": 0,
      "outputs": []
    },
    {
      "cell_type": "code",
      "metadata": {
        "id": "Y3Y2Gckb16GR",
        "colab_type": "code",
        "outputId": "11ad1641-5ee2-4bb9-b3f2-396c33bbdfa7",
        "colab": {
          "base_uri": "https://localhost:8080/",
          "height": 282
        }
      },
      "source": [
        "plt.plot(pca.singular_values_[:50])"
      ],
      "execution_count": 0,
      "outputs": [
        {
          "output_type": "execute_result",
          "data": {
            "text/plain": [
              "[<matplotlib.lines.Line2D at 0x7f1745ee4208>]"
            ]
          },
          "metadata": {
            "tags": []
          },
          "execution_count": 150
        },
        {
          "output_type": "display_data",
          "data": {
            "image/png": "[encoded data removed]",
            "text/plain": [
              "<Figure size 432x288 with 1 Axes>"
            ]
          },
          "metadata": {
            "tags": []
          }
        }
      ]
    },
    {
      "cell_type": "code",
      "metadata": {
        "id": "I0FoOayW2Eg0",
        "colab_type": "code",
        "colab": {}
      },
      "source": [
        "pca_x=pca.transform(x)[:,:10]"
      ],
      "execution_count": 0,
      "outputs": []
    },
    {
      "cell_type": "code",
      "metadata": {
        "id": "wONUuDZh2JR9",
        "colab_type": "code",
        "outputId": "b5ee67d2-f44f-45c8-efe1-fe842b76e45d",
        "colab": {
          "base_uri": "https://localhost:8080/",
          "height": 731
        }
      },
      "source": [
        "pca_results_acc_2={}\n",
        "pca_results_bacc_2={}\n",
        "pca_results_f1_2={}\n",
        "for disorder in y.columns.values:\n",
        "  print(\"===============\",disorder,\"===================\")\n",
        "  #x_=np.concatenate((pca_x[y[disorder]==1],pca_x[y_none]),axis=0)\n",
        "  x_=np.concatenate((x[y[disorder]==1],x[y[disorder]==0]),axis=0)\n",
        "  #y_=np.concatenate((np.ones(sum(y[disorder].values==1)),np.zeros(sum(y_none))),axis=0)\n",
        "  y_=np.concatenate((np.ones(sum(y[disorder].values==1)),np.zeros(sum(y[disorder]==0))),axis=0)\n",
        "  print(\"Number of Subjects: \",y_.shape[0])\n",
        "  print(\"Positive: \",sum(y_==1))\n",
        "  print(\"Negative: \",sum(y_==0))\n",
        "  print()\n",
        "  result=binary_classifier(x_,y_,pca=PCA(n_components=20))\n",
        "  \n",
        "  pca_results_acc_2[disorder]=[]\n",
        "  pca_results_bacc_2[disorder]=[]\n",
        "  pca_results_f1_2[disorder]=[]\n",
        "  for key,value in result.items():\n",
        "      pca_results_acc_2[disorder].append((key,value[0]))\n",
        "      pca_results_bacc_2[disorder].append((key,value[1]))\n",
        "      pca_results_f1_2[disorder].append((key,value[2]))"
      ],
      "execution_count": 60,
      "outputs": [
        {
          "output_type": "stream",
          "text": [
            "=============== Attention-Deficit/Hyperactivity Disorder ===================\n",
            "Number of Subjects:  1254\n",
            "Positive:  738\n",
            "Negative:  516\n",
            "\n",
            "Done\n",
            "=============== Anxiety Disorders ===================\n",
            "Number of Subjects:  1254\n",
            "Positive:  301\n",
            "Negative:  953\n",
            "\n",
            "Done\n",
            "=============== Specific Learning Disorder ===================\n",
            "Number of Subjects:  1254\n",
            "Positive:  208\n",
            "Negative:  1046\n",
            "\n",
            "Done\n",
            "=============== Autism Spectrum Disorder ===================\n",
            "Number of Subjects:  1254\n",
            "Positive:  210\n",
            "Negative:  1044\n",
            "\n",
            "Done\n",
            "=============== Disruptive ===================\n",
            "Number of Subjects:  1254\n",
            "Positive:  203\n",
            "Negative:  1051\n",
            "\n",
            "Done\n",
            "=============== Communication Disorder ===================\n",
            "Number of Subjects:  1254\n",
            "Positive:  146\n",
            "Negative:  1108\n",
            "\n",
            "Done\n",
            "=============== Depressive Disorders ===================\n",
            "Number of Subjects:  1254\n",
            "Positive:  114\n",
            "Negative:  1140\n",
            "\n",
            "Done\n"
          ],
          "name": "stdout"
        }
      ]
    },
    {
      "cell_type": "markdown",
      "metadata": {
        "id": "e1dwXAMupiM6",
        "colab_type": "text"
      },
      "source": [
        "### EEG Spectro\n",
        "\n",
        "\n"
      ]
    },
    {
      "cell_type": "markdown",
      "metadata": {
        "id": "htWFWDjm2EvH",
        "colab_type": "text"
      },
      "source": [
        "Spectrogram-based features, such as frequency band, individual alpha power, and FOOOF parameters.\n",
        "\n"
      ]
    },
    {
      "cell_type": "code",
      "metadata": {
        "id": "Lej6cf646RWZ",
        "colab_type": "code",
        "colab": {}
      },
      "source": [
        "#y_none=eeg_spectro_labels[no_diagnosis_given].values==0\n",
        "y=eeg_spectro_labels[most_common_disorders]"
      ],
      "execution_count": 0,
      "outputs": []
    },
    {
      "cell_type": "code",
      "metadata": {
        "id": "oRSFx9d4ppOF",
        "colab_type": "code",
        "colab": {}
      },
      "source": [
        "#x=eeg_spectro_labels.drop(columns=[\"id\"]+list(most_common_disorders)+[no_diagnosis_given])\n",
        "x=eeg_spectro_labels.drop(columns=[\"id\"]+list(most_common_disorders))"
      ],
      "execution_count": 0,
      "outputs": []
    },
    {
      "cell_type": "code",
      "metadata": {
        "id": "LMLJ19feJ3pl",
        "colab_type": "code",
        "outputId": "271728e8-3425-48d8-90ab-c4888e6903f8",
        "colab": {
          "base_uri": "https://localhost:8080/",
          "height": 34
        }
      },
      "source": [
        "x.shape"
      ],
      "execution_count": 64,
      "outputs": [
        {
          "output_type": "execute_result",
          "data": {
            "text/plain": [
              "(1254, 60)"
            ]
          },
          "metadata": {
            "tags": []
          },
          "execution_count": 64
        }
      ]
    },
    {
      "cell_type": "code",
      "metadata": {
        "id": "TGc1pbMSr9n8",
        "colab_type": "code",
        "outputId": "56a76f82-79e1-42ab-f736-412eccab97fa",
        "colab": {
          "base_uri": "https://localhost:8080/",
          "height": 221
        }
      },
      "source": [
        "# proportion of missing values per column with missing values\n",
        "missing=sum(x.isnull().values)/x.shape[0]\n",
        "for id,column in enumerate(x.columns.values):\n",
        "  if (missing[id]>0):\n",
        "    print(column,\": \",missing[id])"
      ],
      "execution_count": 65,
      "outputs": [
        {
          "output_type": "stream",
          "text": [
            "eyesclosed_alphapeak_max_freq :  0.1682615629984051\n",
            "eyesclosed_alphapeak_max_amplitude :  0.1682615629984051\n",
            "eyesclosed_alphapeak_derivative_freq :  0.15869218500797447\n",
            "eyesclosed_alphapeak_derivative_amplitude :  0.15869218500797447\n",
            "eyesclosed_fooof_peak_freq_average :  0.003189792663476874\n",
            "eyesclosed_fooof_peak_amplitude_average :  0.003189792663476874\n",
            "eyesopen_alphapeak_max_freq :  0.3277511961722488\n",
            "eyesopen_alphapeak_max_amplitude :  0.3277511961722488\n",
            "eyesopen_alphapeak_derivative_freq :  0.2703349282296651\n",
            "eyesopen_alphapeak_derivative_amplitude :  0.2703349282296651\n",
            "eyesopen_fooof_peak_freq_average :  0.004784688995215311\n",
            "eyesopen_fooof_peak_amplitude_average :  0.004784688995215311\n"
          ],
          "name": "stdout"
        }
      ]
    },
    {
      "cell_type": "code",
      "metadata": {
        "id": "ZXHTTbKKJtzc",
        "colab_type": "code",
        "colab": {}
      },
      "source": [
        "x=x.drop(columns=x.columns[missing>0.2])\n",
        "x.fillna(x.mean(),inplace=True)"
      ],
      "execution_count": 0,
      "outputs": []
    },
    {
      "cell_type": "code",
      "metadata": {
        "id": "YNvL5w8MrHZe",
        "colab_type": "code",
        "outputId": "5304132d-46ea-4121-fdc3-cd8b514ec562",
        "colab": {
          "base_uri": "https://localhost:8080/",
          "height": 1000
        }
      },
      "source": [
        "results_acc_3={}\n",
        "results_bacc_3={}\n",
        "results_f1_3={}\n",
        "results_acc_3_sc={}\n",
        "results_bacc_3_sc={}\n",
        "results_f1_3_sc={}\n",
        "\n",
        "for disorder in y.columns.values:\n",
        "  print(\"===============\",disorder,\"===================\")\n",
        "  #x_=np.concatenate((x[y[disorder]==1].values,x[y_none].values),axis=0)\n",
        "  x_=np.concatenate((x[y[disorder]==1].values,x[y[disorder]==0].values),axis=0)\n",
        "  #y_=np.concatenate((np.ones(sum(y[disorder].values==1)),np.zeros(sum(y_none))),axis=0)\n",
        "  y_=np.concatenate((np.ones(sum(y[disorder].values==1)),np.zeros(sum(y[disorder].values==0))),axis=0)\n",
        "  print(\"Number of Subjects: \",y_.shape[0])\n",
        "  print(\"Positive: \",sum(y_==1))\n",
        "  print(\"Negative: \",sum(y_==0))\n",
        "  print()\n",
        "  #scale false\n",
        "  result=binary_classifier(x_,y_,scale=False)\n",
        "  \n",
        "  results_acc_3[disorder]=[]\n",
        "  results_bacc_3[disorder]=[]\n",
        "  results_f1_3[disorder]=[]\n",
        "  for key,value in result.items():\n",
        "      results_acc_3[disorder].append((key,value[0]))\n",
        "      results_bacc_3[disorder].append((key,value[1]))\n",
        "      results_f1_3[disorder].append((key,value[2]))\n",
        "  \n",
        "  #scale true\n",
        "  result=binary_classifier(x_,y_,scale=True)\n",
        "  \n",
        "  results_acc_3_sc[disorder]=[]\n",
        "  results_bacc_3_sc[disorder]=[]\n",
        "  results_f1_3_sc[disorder]=[]\n",
        "  for key,value in result.items():\n",
        "      results_acc_3_sc[disorder].append((key,value[0]))\n",
        "      results_bacc_3_sc[disorder].append((key,value[1]))\n",
        "      results_f1_3_sc[disorder].append((key,value[2]))\n"
      ],
      "execution_count": 72,
      "outputs": [
        {
          "output_type": "stream",
          "text": [
            "=============== Attention-Deficit/Hyperactivity Disorder ===================\n",
            "Number of Subjects:  1254\n",
            "Positive:  738\n",
            "Negative:  516\n",
            "\n"
          ],
          "name": "stdout"
        },
        {
          "output_type": "stream",
          "text": [
            "/usr/local/lib/python3.6/dist-packages/sklearn/linear_model/logistic.py:947: ConvergenceWarning: lbfgs failed to converge. Increase the number of iterations.\n",
            "  \"of iterations.\", ConvergenceWarning)\n",
            "/usr/local/lib/python3.6/dist-packages/sklearn/linear_model/logistic.py:947: ConvergenceWarning: lbfgs failed to converge. Increase the number of iterations.\n",
            "  \"of iterations.\", ConvergenceWarning)\n",
            "/usr/local/lib/python3.6/dist-packages/sklearn/linear_model/logistic.py:947: ConvergenceWarning: lbfgs failed to converge. Increase the number of iterations.\n",
            "  \"of iterations.\", ConvergenceWarning)\n",
            "/usr/local/lib/python3.6/dist-packages/sklearn/linear_model/logistic.py:947: ConvergenceWarning: lbfgs failed to converge. Increase the number of iterations.\n",
            "  \"of iterations.\", ConvergenceWarning)\n",
            "/usr/local/lib/python3.6/dist-packages/sklearn/linear_model/logistic.py:947: ConvergenceWarning: lbfgs failed to converge. Increase the number of iterations.\n",
            "  \"of iterations.\", ConvergenceWarning)\n",
            "/usr/local/lib/python3.6/dist-packages/sklearn/linear_model/logistic.py:947: ConvergenceWarning: lbfgs failed to converge. Increase the number of iterations.\n",
            "  \"of iterations.\", ConvergenceWarning)\n",
            "/usr/local/lib/python3.6/dist-packages/sklearn/linear_model/logistic.py:947: ConvergenceWarning: lbfgs failed to converge. Increase the number of iterations.\n",
            "  \"of iterations.\", ConvergenceWarning)\n",
            "/usr/local/lib/python3.6/dist-packages/sklearn/linear_model/logistic.py:947: ConvergenceWarning: lbfgs failed to converge. Increase the number of iterations.\n",
            "  \"of iterations.\", ConvergenceWarning)\n",
            "/usr/local/lib/python3.6/dist-packages/sklearn/linear_model/logistic.py:947: ConvergenceWarning: lbfgs failed to converge. Increase the number of iterations.\n",
            "  \"of iterations.\", ConvergenceWarning)\n",
            "/usr/local/lib/python3.6/dist-packages/sklearn/linear_model/logistic.py:947: ConvergenceWarning: lbfgs failed to converge. Increase the number of iterations.\n",
            "  \"of iterations.\", ConvergenceWarning)\n"
          ],
          "name": "stderr"
        },
        {
          "output_type": "stream",
          "text": [
            "Done\n",
            "Done\n",
            "=============== Anxiety Disorders ===================\n",
            "Number of Subjects:  1254\n",
            "Positive:  301\n",
            "Negative:  953\n",
            "\n"
          ],
          "name": "stdout"
        },
        {
          "output_type": "stream",
          "text": [
            "/usr/local/lib/python3.6/dist-packages/sklearn/linear_model/logistic.py:947: ConvergenceWarning: lbfgs failed to converge. Increase the number of iterations.\n",
            "  \"of iterations.\", ConvergenceWarning)\n",
            "/usr/local/lib/python3.6/dist-packages/sklearn/linear_model/logistic.py:947: ConvergenceWarning: lbfgs failed to converge. Increase the number of iterations.\n",
            "  \"of iterations.\", ConvergenceWarning)\n",
            "/usr/local/lib/python3.6/dist-packages/sklearn/linear_model/logistic.py:947: ConvergenceWarning: lbfgs failed to converge. Increase the number of iterations.\n",
            "  \"of iterations.\", ConvergenceWarning)\n",
            "/usr/local/lib/python3.6/dist-packages/sklearn/linear_model/logistic.py:947: ConvergenceWarning: lbfgs failed to converge. Increase the number of iterations.\n",
            "  \"of iterations.\", ConvergenceWarning)\n",
            "/usr/local/lib/python3.6/dist-packages/sklearn/linear_model/logistic.py:947: ConvergenceWarning: lbfgs failed to converge. Increase the number of iterations.\n",
            "  \"of iterations.\", ConvergenceWarning)\n",
            "/usr/local/lib/python3.6/dist-packages/sklearn/linear_model/logistic.py:947: ConvergenceWarning: lbfgs failed to converge. Increase the number of iterations.\n",
            "  \"of iterations.\", ConvergenceWarning)\n",
            "/usr/local/lib/python3.6/dist-packages/sklearn/linear_model/logistic.py:947: ConvergenceWarning: lbfgs failed to converge. Increase the number of iterations.\n",
            "  \"of iterations.\", ConvergenceWarning)\n",
            "/usr/local/lib/python3.6/dist-packages/sklearn/linear_model/logistic.py:947: ConvergenceWarning: lbfgs failed to converge. Increase the number of iterations.\n",
            "  \"of iterations.\", ConvergenceWarning)\n",
            "/usr/local/lib/python3.6/dist-packages/sklearn/linear_model/logistic.py:947: ConvergenceWarning: lbfgs failed to converge. Increase the number of iterations.\n",
            "  \"of iterations.\", ConvergenceWarning)\n",
            "/usr/local/lib/python3.6/dist-packages/sklearn/linear_model/logistic.py:947: ConvergenceWarning: lbfgs failed to converge. Increase the number of iterations.\n",
            "  \"of iterations.\", ConvergenceWarning)\n"
          ],
          "name": "stderr"
        },
        {
          "output_type": "stream",
          "text": [
            "Done\n"
          ],
          "name": "stdout"
        },
        {
          "output_type": "stream",
          "text": [
            "/usr/local/lib/python3.6/dist-packages/sklearn/linear_model/logistic.py:947: ConvergenceWarning: lbfgs failed to converge. Increase the number of iterations.\n",
            "  \"of iterations.\", ConvergenceWarning)\n",
            "/usr/local/lib/python3.6/dist-packages/sklearn/linear_model/logistic.py:947: ConvergenceWarning: lbfgs failed to converge. Increase the number of iterations.\n",
            "  \"of iterations.\", ConvergenceWarning)\n",
            "/usr/local/lib/python3.6/dist-packages/sklearn/metrics/classification.py:1437: UndefinedMetricWarning: F-score is ill-defined and being set to 0.0 due to no predicted samples.\n",
            "  'precision', 'predicted', average, warn_for)\n"
          ],
          "name": "stderr"
        },
        {
          "output_type": "stream",
          "text": [
            "Done\n",
            "=============== Specific Learning Disorder ===================\n",
            "Number of Subjects:  1254\n",
            "Positive:  208\n",
            "Negative:  1046\n",
            "\n"
          ],
          "name": "stdout"
        },
        {
          "output_type": "stream",
          "text": [
            "/usr/local/lib/python3.6/dist-packages/sklearn/linear_model/logistic.py:947: ConvergenceWarning: lbfgs failed to converge. Increase the number of iterations.\n",
            "  \"of iterations.\", ConvergenceWarning)\n",
            "/usr/local/lib/python3.6/dist-packages/sklearn/linear_model/logistic.py:947: ConvergenceWarning: lbfgs failed to converge. Increase the number of iterations.\n",
            "  \"of iterations.\", ConvergenceWarning)\n",
            "/usr/local/lib/python3.6/dist-packages/sklearn/linear_model/logistic.py:947: ConvergenceWarning: lbfgs failed to converge. Increase the number of iterations.\n",
            "  \"of iterations.\", ConvergenceWarning)\n",
            "/usr/local/lib/python3.6/dist-packages/sklearn/linear_model/logistic.py:947: ConvergenceWarning: lbfgs failed to converge. Increase the number of iterations.\n",
            "  \"of iterations.\", ConvergenceWarning)\n",
            "/usr/local/lib/python3.6/dist-packages/sklearn/linear_model/logistic.py:947: ConvergenceWarning: lbfgs failed to converge. Increase the number of iterations.\n",
            "  \"of iterations.\", ConvergenceWarning)\n",
            "/usr/local/lib/python3.6/dist-packages/sklearn/linear_model/logistic.py:947: ConvergenceWarning: lbfgs failed to converge. Increase the number of iterations.\n",
            "  \"of iterations.\", ConvergenceWarning)\n",
            "/usr/local/lib/python3.6/dist-packages/sklearn/linear_model/logistic.py:947: ConvergenceWarning: lbfgs failed to converge. Increase the number of iterations.\n",
            "  \"of iterations.\", ConvergenceWarning)\n",
            "/usr/local/lib/python3.6/dist-packages/sklearn/linear_model/logistic.py:947: ConvergenceWarning: lbfgs failed to converge. Increase the number of iterations.\n",
            "  \"of iterations.\", ConvergenceWarning)\n",
            "/usr/local/lib/python3.6/dist-packages/sklearn/linear_model/logistic.py:947: ConvergenceWarning: lbfgs failed to converge. Increase the number of iterations.\n",
            "  \"of iterations.\", ConvergenceWarning)\n",
            "/usr/local/lib/python3.6/dist-packages/sklearn/linear_model/logistic.py:947: ConvergenceWarning: lbfgs failed to converge. Increase the number of iterations.\n",
            "  \"of iterations.\", ConvergenceWarning)\n"
          ],
          "name": "stderr"
        },
        {
          "output_type": "stream",
          "text": [
            "Done\n"
          ],
          "name": "stdout"
        },
        {
          "output_type": "stream",
          "text": [
            "/usr/local/lib/python3.6/dist-packages/sklearn/linear_model/logistic.py:947: ConvergenceWarning: lbfgs failed to converge. Increase the number of iterations.\n",
            "  \"of iterations.\", ConvergenceWarning)\n",
            "/usr/local/lib/python3.6/dist-packages/sklearn/linear_model/logistic.py:947: ConvergenceWarning: lbfgs failed to converge. Increase the number of iterations.\n",
            "  \"of iterations.\", ConvergenceWarning)\n",
            "/usr/local/lib/python3.6/dist-packages/sklearn/metrics/classification.py:1437: UndefinedMetricWarning: F-score is ill-defined and being set to 0.0 due to no predicted samples.\n",
            "  'precision', 'predicted', average, warn_for)\n"
          ],
          "name": "stderr"
        },
        {
          "output_type": "stream",
          "text": [
            "Done\n",
            "=============== Autism Spectrum Disorder ===================\n",
            "Number of Subjects:  1254\n",
            "Positive:  210\n",
            "Negative:  1044\n",
            "\n"
          ],
          "name": "stdout"
        },
        {
          "output_type": "stream",
          "text": [
            "/usr/local/lib/python3.6/dist-packages/sklearn/linear_model/logistic.py:947: ConvergenceWarning: lbfgs failed to converge. Increase the number of iterations.\n",
            "  \"of iterations.\", ConvergenceWarning)\n",
            "/usr/local/lib/python3.6/dist-packages/sklearn/linear_model/logistic.py:947: ConvergenceWarning: lbfgs failed to converge. Increase the number of iterations.\n",
            "  \"of iterations.\", ConvergenceWarning)\n",
            "/usr/local/lib/python3.6/dist-packages/sklearn/linear_model/logistic.py:947: ConvergenceWarning: lbfgs failed to converge. Increase the number of iterations.\n",
            "  \"of iterations.\", ConvergenceWarning)\n",
            "/usr/local/lib/python3.6/dist-packages/sklearn/linear_model/logistic.py:947: ConvergenceWarning: lbfgs failed to converge. Increase the number of iterations.\n",
            "  \"of iterations.\", ConvergenceWarning)\n",
            "/usr/local/lib/python3.6/dist-packages/sklearn/linear_model/logistic.py:947: ConvergenceWarning: lbfgs failed to converge. Increase the number of iterations.\n",
            "  \"of iterations.\", ConvergenceWarning)\n",
            "/usr/local/lib/python3.6/dist-packages/sklearn/linear_model/logistic.py:947: ConvergenceWarning: lbfgs failed to converge. Increase the number of iterations.\n",
            "  \"of iterations.\", ConvergenceWarning)\n",
            "/usr/local/lib/python3.6/dist-packages/sklearn/linear_model/logistic.py:947: ConvergenceWarning: lbfgs failed to converge. Increase the number of iterations.\n",
            "  \"of iterations.\", ConvergenceWarning)\n",
            "/usr/local/lib/python3.6/dist-packages/sklearn/linear_model/logistic.py:947: ConvergenceWarning: lbfgs failed to converge. Increase the number of iterations.\n",
            "  \"of iterations.\", ConvergenceWarning)\n",
            "/usr/local/lib/python3.6/dist-packages/sklearn/linear_model/logistic.py:947: ConvergenceWarning: lbfgs failed to converge. Increase the number of iterations.\n",
            "  \"of iterations.\", ConvergenceWarning)\n",
            "/usr/local/lib/python3.6/dist-packages/sklearn/linear_model/logistic.py:947: ConvergenceWarning: lbfgs failed to converge. Increase the number of iterations.\n",
            "  \"of iterations.\", ConvergenceWarning)\n"
          ],
          "name": "stderr"
        },
        {
          "output_type": "stream",
          "text": [
            "Done\n"
          ],
          "name": "stdout"
        },
        {
          "output_type": "stream",
          "text": [
            "/usr/local/lib/python3.6/dist-packages/sklearn/linear_model/logistic.py:947: ConvergenceWarning: lbfgs failed to converge. Increase the number of iterations.\n",
            "  \"of iterations.\", ConvergenceWarning)\n",
            "/usr/local/lib/python3.6/dist-packages/sklearn/linear_model/logistic.py:947: ConvergenceWarning: lbfgs failed to converge. Increase the number of iterations.\n",
            "  \"of iterations.\", ConvergenceWarning)\n",
            "/usr/local/lib/python3.6/dist-packages/sklearn/linear_model/logistic.py:947: ConvergenceWarning: lbfgs failed to converge. Increase the number of iterations.\n",
            "  \"of iterations.\", ConvergenceWarning)\n",
            "/usr/local/lib/python3.6/dist-packages/sklearn/metrics/classification.py:1437: UndefinedMetricWarning: F-score is ill-defined and being set to 0.0 due to no predicted samples.\n",
            "  'precision', 'predicted', average, warn_for)\n"
          ],
          "name": "stderr"
        },
        {
          "output_type": "stream",
          "text": [
            "Done\n",
            "=============== Disruptive ===================\n",
            "Number of Subjects:  1254\n",
            "Positive:  203\n",
            "Negative:  1051\n",
            "\n"
          ],
          "name": "stdout"
        },
        {
          "output_type": "stream",
          "text": [
            "/usr/local/lib/python3.6/dist-packages/sklearn/linear_model/logistic.py:947: ConvergenceWarning: lbfgs failed to converge. Increase the number of iterations.\n",
            "  \"of iterations.\", ConvergenceWarning)\n",
            "/usr/local/lib/python3.6/dist-packages/sklearn/linear_model/logistic.py:947: ConvergenceWarning: lbfgs failed to converge. Increase the number of iterations.\n",
            "  \"of iterations.\", ConvergenceWarning)\n",
            "/usr/local/lib/python3.6/dist-packages/sklearn/linear_model/logistic.py:947: ConvergenceWarning: lbfgs failed to converge. Increase the number of iterations.\n",
            "  \"of iterations.\", ConvergenceWarning)\n",
            "/usr/local/lib/python3.6/dist-packages/sklearn/linear_model/logistic.py:947: ConvergenceWarning: lbfgs failed to converge. Increase the number of iterations.\n",
            "  \"of iterations.\", ConvergenceWarning)\n",
            "/usr/local/lib/python3.6/dist-packages/sklearn/linear_model/logistic.py:947: ConvergenceWarning: lbfgs failed to converge. Increase the number of iterations.\n",
            "  \"of iterations.\", ConvergenceWarning)\n",
            "/usr/local/lib/python3.6/dist-packages/sklearn/linear_model/logistic.py:947: ConvergenceWarning: lbfgs failed to converge. Increase the number of iterations.\n",
            "  \"of iterations.\", ConvergenceWarning)\n",
            "/usr/local/lib/python3.6/dist-packages/sklearn/linear_model/logistic.py:947: ConvergenceWarning: lbfgs failed to converge. Increase the number of iterations.\n",
            "  \"of iterations.\", ConvergenceWarning)\n",
            "/usr/local/lib/python3.6/dist-packages/sklearn/linear_model/logistic.py:947: ConvergenceWarning: lbfgs failed to converge. Increase the number of iterations.\n",
            "  \"of iterations.\", ConvergenceWarning)\n",
            "/usr/local/lib/python3.6/dist-packages/sklearn/linear_model/logistic.py:947: ConvergenceWarning: lbfgs failed to converge. Increase the number of iterations.\n",
            "  \"of iterations.\", ConvergenceWarning)\n",
            "/usr/local/lib/python3.6/dist-packages/sklearn/linear_model/logistic.py:947: ConvergenceWarning: lbfgs failed to converge. Increase the number of iterations.\n",
            "  \"of iterations.\", ConvergenceWarning)\n"
          ],
          "name": "stderr"
        },
        {
          "output_type": "stream",
          "text": [
            "Done\n"
          ],
          "name": "stdout"
        },
        {
          "output_type": "stream",
          "text": [
            "/usr/local/lib/python3.6/dist-packages/sklearn/metrics/classification.py:1437: UndefinedMetricWarning: F-score is ill-defined and being set to 0.0 due to no predicted samples.\n",
            "  'precision', 'predicted', average, warn_for)\n"
          ],
          "name": "stderr"
        },
        {
          "output_type": "stream",
          "text": [
            "Done\n",
            "=============== Communication Disorder ===================\n",
            "Number of Subjects:  1254\n",
            "Positive:  146\n",
            "Negative:  1108\n",
            "\n"
          ],
          "name": "stdout"
        },
        {
          "output_type": "stream",
          "text": [
            "/usr/local/lib/python3.6/dist-packages/sklearn/linear_model/logistic.py:947: ConvergenceWarning: lbfgs failed to converge. Increase the number of iterations.\n",
            "  \"of iterations.\", ConvergenceWarning)\n",
            "/usr/local/lib/python3.6/dist-packages/sklearn/linear_model/logistic.py:947: ConvergenceWarning: lbfgs failed to converge. Increase the number of iterations.\n",
            "  \"of iterations.\", ConvergenceWarning)\n",
            "/usr/local/lib/python3.6/dist-packages/sklearn/linear_model/logistic.py:947: ConvergenceWarning: lbfgs failed to converge. Increase the number of iterations.\n",
            "  \"of iterations.\", ConvergenceWarning)\n",
            "/usr/local/lib/python3.6/dist-packages/sklearn/linear_model/logistic.py:947: ConvergenceWarning: lbfgs failed to converge. Increase the number of iterations.\n",
            "  \"of iterations.\", ConvergenceWarning)\n",
            "/usr/local/lib/python3.6/dist-packages/sklearn/linear_model/logistic.py:947: ConvergenceWarning: lbfgs failed to converge. Increase the number of iterations.\n",
            "  \"of iterations.\", ConvergenceWarning)\n",
            "/usr/local/lib/python3.6/dist-packages/sklearn/linear_model/logistic.py:947: ConvergenceWarning: lbfgs failed to converge. Increase the number of iterations.\n",
            "  \"of iterations.\", ConvergenceWarning)\n",
            "/usr/local/lib/python3.6/dist-packages/sklearn/linear_model/logistic.py:947: ConvergenceWarning: lbfgs failed to converge. Increase the number of iterations.\n",
            "  \"of iterations.\", ConvergenceWarning)\n",
            "/usr/local/lib/python3.6/dist-packages/sklearn/linear_model/logistic.py:947: ConvergenceWarning: lbfgs failed to converge. Increase the number of iterations.\n",
            "  \"of iterations.\", ConvergenceWarning)\n",
            "/usr/local/lib/python3.6/dist-packages/sklearn/linear_model/logistic.py:947: ConvergenceWarning: lbfgs failed to converge. Increase the number of iterations.\n",
            "  \"of iterations.\", ConvergenceWarning)\n",
            "/usr/local/lib/python3.6/dist-packages/sklearn/linear_model/logistic.py:947: ConvergenceWarning: lbfgs failed to converge. Increase the number of iterations.\n",
            "  \"of iterations.\", ConvergenceWarning)\n"
          ],
          "name": "stderr"
        },
        {
          "output_type": "stream",
          "text": [
            "Done\n"
          ],
          "name": "stdout"
        },
        {
          "output_type": "stream",
          "text": [
            "/usr/local/lib/python3.6/dist-packages/sklearn/metrics/classification.py:1437: UndefinedMetricWarning: F-score is ill-defined and being set to 0.0 due to no predicted samples.\n",
            "  'precision', 'predicted', average, warn_for)\n"
          ],
          "name": "stderr"
        },
        {
          "output_type": "stream",
          "text": [
            "Done\n",
            "=============== Depressive Disorders ===================\n",
            "Number of Subjects:  1254\n",
            "Positive:  114\n",
            "Negative:  1140\n",
            "\n"
          ],
          "name": "stdout"
        },
        {
          "output_type": "stream",
          "text": [
            "/usr/local/lib/python3.6/dist-packages/sklearn/linear_model/logistic.py:947: ConvergenceWarning: lbfgs failed to converge. Increase the number of iterations.\n",
            "  \"of iterations.\", ConvergenceWarning)\n",
            "/usr/local/lib/python3.6/dist-packages/sklearn/linear_model/logistic.py:947: ConvergenceWarning: lbfgs failed to converge. Increase the number of iterations.\n",
            "  \"of iterations.\", ConvergenceWarning)\n",
            "/usr/local/lib/python3.6/dist-packages/sklearn/linear_model/logistic.py:947: ConvergenceWarning: lbfgs failed to converge. Increase the number of iterations.\n",
            "  \"of iterations.\", ConvergenceWarning)\n",
            "/usr/local/lib/python3.6/dist-packages/sklearn/linear_model/logistic.py:947: ConvergenceWarning: lbfgs failed to converge. Increase the number of iterations.\n",
            "  \"of iterations.\", ConvergenceWarning)\n",
            "/usr/local/lib/python3.6/dist-packages/sklearn/linear_model/logistic.py:947: ConvergenceWarning: lbfgs failed to converge. Increase the number of iterations.\n",
            "  \"of iterations.\", ConvergenceWarning)\n",
            "/usr/local/lib/python3.6/dist-packages/sklearn/linear_model/logistic.py:947: ConvergenceWarning: lbfgs failed to converge. Increase the number of iterations.\n",
            "  \"of iterations.\", ConvergenceWarning)\n",
            "/usr/local/lib/python3.6/dist-packages/sklearn/linear_model/logistic.py:947: ConvergenceWarning: lbfgs failed to converge. Increase the number of iterations.\n",
            "  \"of iterations.\", ConvergenceWarning)\n",
            "/usr/local/lib/python3.6/dist-packages/sklearn/linear_model/logistic.py:947: ConvergenceWarning: lbfgs failed to converge. Increase the number of iterations.\n",
            "  \"of iterations.\", ConvergenceWarning)\n",
            "/usr/local/lib/python3.6/dist-packages/sklearn/linear_model/logistic.py:947: ConvergenceWarning: lbfgs failed to converge. Increase the number of iterations.\n",
            "  \"of iterations.\", ConvergenceWarning)\n",
            "/usr/local/lib/python3.6/dist-packages/sklearn/linear_model/logistic.py:947: ConvergenceWarning: lbfgs failed to converge. Increase the number of iterations.\n",
            "  \"of iterations.\", ConvergenceWarning)\n"
          ],
          "name": "stderr"
        },
        {
          "output_type": "stream",
          "text": [
            "Done\n"
          ],
          "name": "stdout"
        },
        {
          "output_type": "stream",
          "text": [
            "/usr/local/lib/python3.6/dist-packages/sklearn/linear_model/logistic.py:947: ConvergenceWarning: lbfgs failed to converge. Increase the number of iterations.\n",
            "  \"of iterations.\", ConvergenceWarning)\n",
            "/usr/local/lib/python3.6/dist-packages/sklearn/linear_model/logistic.py:947: ConvergenceWarning: lbfgs failed to converge. Increase the number of iterations.\n",
            "  \"of iterations.\", ConvergenceWarning)\n"
          ],
          "name": "stderr"
        },
        {
          "output_type": "stream",
          "text": [
            "Done\n"
          ],
          "name": "stdout"
        },
        {
          "output_type": "stream",
          "text": [
            "/usr/local/lib/python3.6/dist-packages/sklearn/metrics/classification.py:1437: UndefinedMetricWarning: F-score is ill-defined and being set to 0.0 due to no predicted samples.\n",
            "  'precision', 'predicted', average, warn_for)\n"
          ],
          "name": "stderr"
        }
      ]
    },
    {
      "cell_type": "markdown",
      "metadata": {
        "id": "6O4TZGWRKpw5",
        "colab_type": "text"
      },
      "source": [
        "#### PCA\n"
      ]
    },
    {
      "cell_type": "code",
      "metadata": {
        "id": "NSLmEda4Yi0k",
        "colab_type": "code",
        "colab": {}
      },
      "source": [
        "x=(x-x.mean())/x.std()"
      ],
      "execution_count": 0,
      "outputs": []
    },
    {
      "cell_type": "code",
      "metadata": {
        "id": "ZDRRIibAYn9X",
        "colab_type": "code",
        "colab": {}
      },
      "source": [
        "pca=PCA().fit(x)"
      ],
      "execution_count": 0,
      "outputs": []
    },
    {
      "cell_type": "code",
      "metadata": {
        "id": "0msDa1bMYs3M",
        "colab_type": "code",
        "outputId": "26570ff3-edb7-4cb6-97ae-b6f0ae230422",
        "colab": {
          "base_uri": "https://localhost:8080/",
          "height": 282
        }
      },
      "source": [
        "plt.plot(range(1,len(pca.singular_values_[:100])+1),pca.singular_values_[:100])"
      ],
      "execution_count": 0,
      "outputs": [
        {
          "output_type": "execute_result",
          "data": {
            "text/plain": [
              "[<matplotlib.lines.Line2D at 0x7f1745eaa358>]"
            ]
          },
          "metadata": {
            "tags": []
          },
          "execution_count": 167
        },
        {
          "output_type": "display_data",
          "data": {
            "image/png": "[encoded data removed]",
            "text/plain": [
              "<Figure size 432x288 with 1 Axes>"
            ]
          },
          "metadata": {
            "tags": []
          }
        }
      ]
    },
    {
      "cell_type": "code",
      "metadata": {
        "id": "NSGzw2ZQZCk7",
        "colab_type": "code",
        "colab": {}
      },
      "source": [
        "pca_x=pca.transform(x)[:,:30]"
      ],
      "execution_count": 0,
      "outputs": []
    },
    {
      "cell_type": "code",
      "metadata": {
        "id": "UOSgHGdj1dAM",
        "colab_type": "code",
        "outputId": "9d8c289b-cf19-493c-cbb5-c6c8fb7fe372",
        "colab": {
          "base_uri": "https://localhost:8080/",
          "height": 1000
        }
      },
      "source": [
        "pca_results_acc_3={}\n",
        "pca_results_bacc_3={}\n",
        "pca_results_f1_3={}\n",
        "for disorder in y.columns.values:\n",
        "  print(\"===============\",disorder,\"===================\")\n",
        "  #x_=np.concatenate((pca_x[y[disorder]==1],pca_x[y_none]),axis=0)\n",
        "  x_=np.concatenate((x[y[disorder]==1],x[y[disorder]==0]),axis=0)\n",
        "  #y_=np.concatenate((np.ones(sum(y[disorder].values==1)),np.zeros(sum(y_none))),axis=0)\n",
        "  y_=np.concatenate((np.ones(sum(y[disorder].values==1)),np.zeros(sum(y[disorder]==0))),axis=0)\n",
        "  print(\"Number of Subjects: \",y_.shape[0])\n",
        "  print(\"Positive: \",sum(y_==1))\n",
        "  print(\"Negative: \",sum(y_==0))\n",
        "  print()\n",
        "  result=binary_classifier(x_,y_,PCA(n_components=30))\n",
        "  \n",
        "  pca_results_acc_3[disorder]=[]\n",
        "  pca_results_bacc_3[disorder]=[]\n",
        "  pca_results_f1_3[disorder]=[]\n",
        "  for key,value in result.items():\n",
        "      pca_results_acc_3[disorder].append((key,value[0]))\n",
        "      pca_results_bacc_3[disorder].append((key,value[1]))\n",
        "      pca_results_f1_3[disorder].append((key,value[2]))"
      ],
      "execution_count": 110,
      "outputs": [
        {
          "output_type": "stream",
          "text": [
            "=============== Attention-Deficit/Hyperactivity Disorder ===================\n",
            "Number of Subjects:  1254\n",
            "Positive:  738\n",
            "Negative:  516\n",
            "\n"
          ],
          "name": "stdout"
        },
        {
          "output_type": "stream",
          "text": [
            "/usr/local/lib/python3.6/dist-packages/sklearn/linear_model/logistic.py:947: ConvergenceWarning: lbfgs failed to converge. Increase the number of iterations.\n",
            "  \"of iterations.\", ConvergenceWarning)\n",
            "/usr/local/lib/python3.6/dist-packages/sklearn/linear_model/logistic.py:947: ConvergenceWarning: lbfgs failed to converge. Increase the number of iterations.\n",
            "  \"of iterations.\", ConvergenceWarning)\n",
            "/usr/local/lib/python3.6/dist-packages/sklearn/linear_model/logistic.py:947: ConvergenceWarning: lbfgs failed to converge. Increase the number of iterations.\n",
            "  \"of iterations.\", ConvergenceWarning)\n",
            "/usr/local/lib/python3.6/dist-packages/sklearn/linear_model/logistic.py:947: ConvergenceWarning: lbfgs failed to converge. Increase the number of iterations.\n",
            "  \"of iterations.\", ConvergenceWarning)\n",
            "/usr/local/lib/python3.6/dist-packages/sklearn/linear_model/logistic.py:947: ConvergenceWarning: lbfgs failed to converge. Increase the number of iterations.\n",
            "  \"of iterations.\", ConvergenceWarning)\n",
            "/usr/local/lib/python3.6/dist-packages/sklearn/linear_model/logistic.py:947: ConvergenceWarning: lbfgs failed to converge. Increase the number of iterations.\n",
            "  \"of iterations.\", ConvergenceWarning)\n",
            "/usr/local/lib/python3.6/dist-packages/sklearn/linear_model/logistic.py:947: ConvergenceWarning: lbfgs failed to converge. Increase the number of iterations.\n",
            "  \"of iterations.\", ConvergenceWarning)\n",
            "/usr/local/lib/python3.6/dist-packages/sklearn/linear_model/logistic.py:947: ConvergenceWarning: lbfgs failed to converge. Increase the number of iterations.\n",
            "  \"of iterations.\", ConvergenceWarning)\n",
            "/usr/local/lib/python3.6/dist-packages/sklearn/linear_model/logistic.py:947: ConvergenceWarning: lbfgs failed to converge. Increase the number of iterations.\n",
            "  \"of iterations.\", ConvergenceWarning)\n",
            "/usr/local/lib/python3.6/dist-packages/sklearn/linear_model/logistic.py:947: ConvergenceWarning: lbfgs failed to converge. Increase the number of iterations.\n",
            "  \"of iterations.\", ConvergenceWarning)\n"
          ],
          "name": "stderr"
        },
        {
          "output_type": "stream",
          "text": [
            "Done\n",
            "=============== Anxiety Disorders ===================\n",
            "Number of Subjects:  1254\n",
            "Positive:  301\n",
            "Negative:  953\n",
            "\n"
          ],
          "name": "stdout"
        },
        {
          "output_type": "stream",
          "text": [
            "/usr/local/lib/python3.6/dist-packages/sklearn/linear_model/logistic.py:947: ConvergenceWarning: lbfgs failed to converge. Increase the number of iterations.\n",
            "  \"of iterations.\", ConvergenceWarning)\n",
            "/usr/local/lib/python3.6/dist-packages/sklearn/linear_model/logistic.py:947: ConvergenceWarning: lbfgs failed to converge. Increase the number of iterations.\n",
            "  \"of iterations.\", ConvergenceWarning)\n",
            "/usr/local/lib/python3.6/dist-packages/sklearn/linear_model/logistic.py:947: ConvergenceWarning: lbfgs failed to converge. Increase the number of iterations.\n",
            "  \"of iterations.\", ConvergenceWarning)\n",
            "/usr/local/lib/python3.6/dist-packages/sklearn/linear_model/logistic.py:947: ConvergenceWarning: lbfgs failed to converge. Increase the number of iterations.\n",
            "  \"of iterations.\", ConvergenceWarning)\n",
            "/usr/local/lib/python3.6/dist-packages/sklearn/linear_model/logistic.py:947: ConvergenceWarning: lbfgs failed to converge. Increase the number of iterations.\n",
            "  \"of iterations.\", ConvergenceWarning)\n",
            "/usr/local/lib/python3.6/dist-packages/sklearn/linear_model/logistic.py:947: ConvergenceWarning: lbfgs failed to converge. Increase the number of iterations.\n",
            "  \"of iterations.\", ConvergenceWarning)\n",
            "/usr/local/lib/python3.6/dist-packages/sklearn/linear_model/logistic.py:947: ConvergenceWarning: lbfgs failed to converge. Increase the number of iterations.\n",
            "  \"of iterations.\", ConvergenceWarning)\n",
            "/usr/local/lib/python3.6/dist-packages/sklearn/linear_model/logistic.py:947: ConvergenceWarning: lbfgs failed to converge. Increase the number of iterations.\n",
            "  \"of iterations.\", ConvergenceWarning)\n",
            "/usr/local/lib/python3.6/dist-packages/sklearn/linear_model/logistic.py:947: ConvergenceWarning: lbfgs failed to converge. Increase the number of iterations.\n",
            "  \"of iterations.\", ConvergenceWarning)\n",
            "/usr/local/lib/python3.6/dist-packages/sklearn/linear_model/logistic.py:947: ConvergenceWarning: lbfgs failed to converge. Increase the number of iterations.\n",
            "  \"of iterations.\", ConvergenceWarning)\n",
            "/usr/local/lib/python3.6/dist-packages/sklearn/metrics/classification.py:1437: UndefinedMetricWarning: F-score is ill-defined and being set to 0.0 due to no predicted samples.\n",
            "  'precision', 'predicted', average, warn_for)\n"
          ],
          "name": "stderr"
        },
        {
          "output_type": "stream",
          "text": [
            "Done\n",
            "=============== Specific Learning Disorder ===================\n",
            "Number of Subjects:  1254\n",
            "Positive:  208\n",
            "Negative:  1046\n",
            "\n"
          ],
          "name": "stdout"
        },
        {
          "output_type": "stream",
          "text": [
            "/usr/local/lib/python3.6/dist-packages/sklearn/linear_model/logistic.py:947: ConvergenceWarning: lbfgs failed to converge. Increase the number of iterations.\n",
            "  \"of iterations.\", ConvergenceWarning)\n",
            "/usr/local/lib/python3.6/dist-packages/sklearn/linear_model/logistic.py:947: ConvergenceWarning: lbfgs failed to converge. Increase the number of iterations.\n",
            "  \"of iterations.\", ConvergenceWarning)\n",
            "/usr/local/lib/python3.6/dist-packages/sklearn/linear_model/logistic.py:947: ConvergenceWarning: lbfgs failed to converge. Increase the number of iterations.\n",
            "  \"of iterations.\", ConvergenceWarning)\n",
            "/usr/local/lib/python3.6/dist-packages/sklearn/linear_model/logistic.py:947: ConvergenceWarning: lbfgs failed to converge. Increase the number of iterations.\n",
            "  \"of iterations.\", ConvergenceWarning)\n",
            "/usr/local/lib/python3.6/dist-packages/sklearn/linear_model/logistic.py:947: ConvergenceWarning: lbfgs failed to converge. Increase the number of iterations.\n",
            "  \"of iterations.\", ConvergenceWarning)\n",
            "/usr/local/lib/python3.6/dist-packages/sklearn/linear_model/logistic.py:947: ConvergenceWarning: lbfgs failed to converge. Increase the number of iterations.\n",
            "  \"of iterations.\", ConvergenceWarning)\n",
            "/usr/local/lib/python3.6/dist-packages/sklearn/linear_model/logistic.py:947: ConvergenceWarning: lbfgs failed to converge. Increase the number of iterations.\n",
            "  \"of iterations.\", ConvergenceWarning)\n",
            "/usr/local/lib/python3.6/dist-packages/sklearn/linear_model/logistic.py:947: ConvergenceWarning: lbfgs failed to converge. Increase the number of iterations.\n",
            "  \"of iterations.\", ConvergenceWarning)\n",
            "/usr/local/lib/python3.6/dist-packages/sklearn/linear_model/logistic.py:947: ConvergenceWarning: lbfgs failed to converge. Increase the number of iterations.\n",
            "  \"of iterations.\", ConvergenceWarning)\n",
            "/usr/local/lib/python3.6/dist-packages/sklearn/linear_model/logistic.py:947: ConvergenceWarning: lbfgs failed to converge. Increase the number of iterations.\n",
            "  \"of iterations.\", ConvergenceWarning)\n",
            "/usr/local/lib/python3.6/dist-packages/sklearn/metrics/classification.py:1437: UndefinedMetricWarning: F-score is ill-defined and being set to 0.0 due to no predicted samples.\n",
            "  'precision', 'predicted', average, warn_for)\n"
          ],
          "name": "stderr"
        },
        {
          "output_type": "stream",
          "text": [
            "Done\n",
            "=============== Autism Spectrum Disorder ===================\n",
            "Number of Subjects:  1254\n",
            "Positive:  210\n",
            "Negative:  1044\n",
            "\n"
          ],
          "name": "stdout"
        },
        {
          "output_type": "stream",
          "text": [
            "/usr/local/lib/python3.6/dist-packages/sklearn/linear_model/logistic.py:947: ConvergenceWarning: lbfgs failed to converge. Increase the number of iterations.\n",
            "  \"of iterations.\", ConvergenceWarning)\n",
            "/usr/local/lib/python3.6/dist-packages/sklearn/linear_model/logistic.py:947: ConvergenceWarning: lbfgs failed to converge. Increase the number of iterations.\n",
            "  \"of iterations.\", ConvergenceWarning)\n",
            "/usr/local/lib/python3.6/dist-packages/sklearn/linear_model/logistic.py:947: ConvergenceWarning: lbfgs failed to converge. Increase the number of iterations.\n",
            "  \"of iterations.\", ConvergenceWarning)\n",
            "/usr/local/lib/python3.6/dist-packages/sklearn/linear_model/logistic.py:947: ConvergenceWarning: lbfgs failed to converge. Increase the number of iterations.\n",
            "  \"of iterations.\", ConvergenceWarning)\n",
            "/usr/local/lib/python3.6/dist-packages/sklearn/linear_model/logistic.py:947: ConvergenceWarning: lbfgs failed to converge. Increase the number of iterations.\n",
            "  \"of iterations.\", ConvergenceWarning)\n",
            "/usr/local/lib/python3.6/dist-packages/sklearn/linear_model/logistic.py:947: ConvergenceWarning: lbfgs failed to converge. Increase the number of iterations.\n",
            "  \"of iterations.\", ConvergenceWarning)\n",
            "/usr/local/lib/python3.6/dist-packages/sklearn/linear_model/logistic.py:947: ConvergenceWarning: lbfgs failed to converge. Increase the number of iterations.\n",
            "  \"of iterations.\", ConvergenceWarning)\n",
            "/usr/local/lib/python3.6/dist-packages/sklearn/linear_model/logistic.py:947: ConvergenceWarning: lbfgs failed to converge. Increase the number of iterations.\n",
            "  \"of iterations.\", ConvergenceWarning)\n",
            "/usr/local/lib/python3.6/dist-packages/sklearn/linear_model/logistic.py:947: ConvergenceWarning: lbfgs failed to converge. Increase the number of iterations.\n",
            "  \"of iterations.\", ConvergenceWarning)\n",
            "/usr/local/lib/python3.6/dist-packages/sklearn/linear_model/logistic.py:947: ConvergenceWarning: lbfgs failed to converge. Increase the number of iterations.\n",
            "  \"of iterations.\", ConvergenceWarning)\n",
            "/usr/local/lib/python3.6/dist-packages/sklearn/metrics/classification.py:1437: UndefinedMetricWarning: F-score is ill-defined and being set to 0.0 due to no predicted samples.\n",
            "  'precision', 'predicted', average, warn_for)\n"
          ],
          "name": "stderr"
        },
        {
          "output_type": "stream",
          "text": [
            "Done\n",
            "=============== Disruptive ===================\n",
            "Number of Subjects:  1254\n",
            "Positive:  203\n",
            "Negative:  1051\n",
            "\n"
          ],
          "name": "stdout"
        },
        {
          "output_type": "stream",
          "text": [
            "/usr/local/lib/python3.6/dist-packages/sklearn/linear_model/logistic.py:947: ConvergenceWarning: lbfgs failed to converge. Increase the number of iterations.\n",
            "  \"of iterations.\", ConvergenceWarning)\n",
            "/usr/local/lib/python3.6/dist-packages/sklearn/linear_model/logistic.py:947: ConvergenceWarning: lbfgs failed to converge. Increase the number of iterations.\n",
            "  \"of iterations.\", ConvergenceWarning)\n",
            "/usr/local/lib/python3.6/dist-packages/sklearn/linear_model/logistic.py:947: ConvergenceWarning: lbfgs failed to converge. Increase the number of iterations.\n",
            "  \"of iterations.\", ConvergenceWarning)\n",
            "/usr/local/lib/python3.6/dist-packages/sklearn/linear_model/logistic.py:947: ConvergenceWarning: lbfgs failed to converge. Increase the number of iterations.\n",
            "  \"of iterations.\", ConvergenceWarning)\n",
            "/usr/local/lib/python3.6/dist-packages/sklearn/linear_model/logistic.py:947: ConvergenceWarning: lbfgs failed to converge. Increase the number of iterations.\n",
            "  \"of iterations.\", ConvergenceWarning)\n",
            "/usr/local/lib/python3.6/dist-packages/sklearn/linear_model/logistic.py:947: ConvergenceWarning: lbfgs failed to converge. Increase the number of iterations.\n",
            "  \"of iterations.\", ConvergenceWarning)\n",
            "/usr/local/lib/python3.6/dist-packages/sklearn/linear_model/logistic.py:947: ConvergenceWarning: lbfgs failed to converge. Increase the number of iterations.\n",
            "  \"of iterations.\", ConvergenceWarning)\n",
            "/usr/local/lib/python3.6/dist-packages/sklearn/linear_model/logistic.py:947: ConvergenceWarning: lbfgs failed to converge. Increase the number of iterations.\n",
            "  \"of iterations.\", ConvergenceWarning)\n",
            "/usr/local/lib/python3.6/dist-packages/sklearn/linear_model/logistic.py:947: ConvergenceWarning: lbfgs failed to converge. Increase the number of iterations.\n",
            "  \"of iterations.\", ConvergenceWarning)\n",
            "/usr/local/lib/python3.6/dist-packages/sklearn/linear_model/logistic.py:947: ConvergenceWarning: lbfgs failed to converge. Increase the number of iterations.\n",
            "  \"of iterations.\", ConvergenceWarning)\n",
            "/usr/local/lib/python3.6/dist-packages/sklearn/metrics/classification.py:1437: UndefinedMetricWarning: F-score is ill-defined and being set to 0.0 due to no predicted samples.\n",
            "  'precision', 'predicted', average, warn_for)\n"
          ],
          "name": "stderr"
        },
        {
          "output_type": "stream",
          "text": [
            "Done\n",
            "=============== Communication Disorder ===================\n",
            "Number of Subjects:  1254\n",
            "Positive:  146\n",
            "Negative:  1108\n",
            "\n"
          ],
          "name": "stdout"
        },
        {
          "output_type": "stream",
          "text": [
            "/usr/local/lib/python3.6/dist-packages/sklearn/linear_model/logistic.py:947: ConvergenceWarning: lbfgs failed to converge. Increase the number of iterations.\n",
            "  \"of iterations.\", ConvergenceWarning)\n",
            "/usr/local/lib/python3.6/dist-packages/sklearn/linear_model/logistic.py:947: ConvergenceWarning: lbfgs failed to converge. Increase the number of iterations.\n",
            "  \"of iterations.\", ConvergenceWarning)\n",
            "/usr/local/lib/python3.6/dist-packages/sklearn/linear_model/logistic.py:947: ConvergenceWarning: lbfgs failed to converge. Increase the number of iterations.\n",
            "  \"of iterations.\", ConvergenceWarning)\n",
            "/usr/local/lib/python3.6/dist-packages/sklearn/linear_model/logistic.py:947: ConvergenceWarning: lbfgs failed to converge. Increase the number of iterations.\n",
            "  \"of iterations.\", ConvergenceWarning)\n",
            "/usr/local/lib/python3.6/dist-packages/sklearn/linear_model/logistic.py:947: ConvergenceWarning: lbfgs failed to converge. Increase the number of iterations.\n",
            "  \"of iterations.\", ConvergenceWarning)\n",
            "/usr/local/lib/python3.6/dist-packages/sklearn/linear_model/logistic.py:947: ConvergenceWarning: lbfgs failed to converge. Increase the number of iterations.\n",
            "  \"of iterations.\", ConvergenceWarning)\n",
            "/usr/local/lib/python3.6/dist-packages/sklearn/linear_model/logistic.py:947: ConvergenceWarning: lbfgs failed to converge. Increase the number of iterations.\n",
            "  \"of iterations.\", ConvergenceWarning)\n",
            "/usr/local/lib/python3.6/dist-packages/sklearn/linear_model/logistic.py:947: ConvergenceWarning: lbfgs failed to converge. Increase the number of iterations.\n",
            "  \"of iterations.\", ConvergenceWarning)\n",
            "/usr/local/lib/python3.6/dist-packages/sklearn/linear_model/logistic.py:947: ConvergenceWarning: lbfgs failed to converge. Increase the number of iterations.\n",
            "  \"of iterations.\", ConvergenceWarning)\n",
            "/usr/local/lib/python3.6/dist-packages/sklearn/linear_model/logistic.py:947: ConvergenceWarning: lbfgs failed to converge. Increase the number of iterations.\n",
            "  \"of iterations.\", ConvergenceWarning)\n",
            "/usr/local/lib/python3.6/dist-packages/sklearn/metrics/classification.py:1437: UndefinedMetricWarning: F-score is ill-defined and being set to 0.0 due to no predicted samples.\n",
            "  'precision', 'predicted', average, warn_for)\n"
          ],
          "name": "stderr"
        },
        {
          "output_type": "stream",
          "text": [
            "Done\n",
            "=============== Depressive Disorders ===================\n",
            "Number of Subjects:  1254\n",
            "Positive:  114\n",
            "Negative:  1140\n",
            "\n"
          ],
          "name": "stdout"
        },
        {
          "output_type": "stream",
          "text": [
            "/usr/local/lib/python3.6/dist-packages/sklearn/linear_model/logistic.py:947: ConvergenceWarning: lbfgs failed to converge. Increase the number of iterations.\n",
            "  \"of iterations.\", ConvergenceWarning)\n",
            "/usr/local/lib/python3.6/dist-packages/sklearn/linear_model/logistic.py:947: ConvergenceWarning: lbfgs failed to converge. Increase the number of iterations.\n",
            "  \"of iterations.\", ConvergenceWarning)\n",
            "/usr/local/lib/python3.6/dist-packages/sklearn/linear_model/logistic.py:947: ConvergenceWarning: lbfgs failed to converge. Increase the number of iterations.\n",
            "  \"of iterations.\", ConvergenceWarning)\n",
            "/usr/local/lib/python3.6/dist-packages/sklearn/linear_model/logistic.py:947: ConvergenceWarning: lbfgs failed to converge. Increase the number of iterations.\n",
            "  \"of iterations.\", ConvergenceWarning)\n",
            "/usr/local/lib/python3.6/dist-packages/sklearn/linear_model/logistic.py:947: ConvergenceWarning: lbfgs failed to converge. Increase the number of iterations.\n",
            "  \"of iterations.\", ConvergenceWarning)\n",
            "/usr/local/lib/python3.6/dist-packages/sklearn/linear_model/logistic.py:947: ConvergenceWarning: lbfgs failed to converge. Increase the number of iterations.\n",
            "  \"of iterations.\", ConvergenceWarning)\n",
            "/usr/local/lib/python3.6/dist-packages/sklearn/linear_model/logistic.py:947: ConvergenceWarning: lbfgs failed to converge. Increase the number of iterations.\n",
            "  \"of iterations.\", ConvergenceWarning)\n",
            "/usr/local/lib/python3.6/dist-packages/sklearn/linear_model/logistic.py:947: ConvergenceWarning: lbfgs failed to converge. Increase the number of iterations.\n",
            "  \"of iterations.\", ConvergenceWarning)\n",
            "/usr/local/lib/python3.6/dist-packages/sklearn/linear_model/logistic.py:947: ConvergenceWarning: lbfgs failed to converge. Increase the number of iterations.\n",
            "  \"of iterations.\", ConvergenceWarning)\n",
            "/usr/local/lib/python3.6/dist-packages/sklearn/linear_model/logistic.py:947: ConvergenceWarning: lbfgs failed to converge. Increase the number of iterations.\n",
            "  \"of iterations.\", ConvergenceWarning)\n"
          ],
          "name": "stderr"
        },
        {
          "output_type": "stream",
          "text": [
            "Done\n"
          ],
          "name": "stdout"
        }
      ]
    },
    {
      "cell_type": "markdown",
      "metadata": {
        "id": "bjade6dfBkyL",
        "colab_type": "text"
      },
      "source": [
        "### All together"
      ]
    },
    {
      "cell_type": "code",
      "metadata": {
        "id": "qvvew5DlBnI0",
        "colab_type": "code",
        "colab": {}
      },
      "source": [
        "all=eeg_mic.merge(eeg_psd,how='inner',on='id')\n",
        "all=all.merge(eeg_spectro,how='inner',on='id')\n",
        "all_labels=all.merge(labels,how='inner',left_on='id',right_on='EID')"
      ],
      "execution_count": 0,
      "outputs": []
    },
    {
      "cell_type": "code",
      "metadata": {
        "id": "ilYA_qNCCaP4",
        "colab_type": "code",
        "colab": {}
      },
      "source": [
        "#y_none=all_labels[no_diagnosis_given]==0\n",
        "y=all_labels[most_common_disorders]\n",
        "#x=all_labels.drop(columns=[\"id\"]+list(most_common_disorders)+[no_diagnosis_given])\n",
        "x=all_labels.drop(columns=[\"id\"]+list(most_common_disorders))\n",
        "\n",
        "x.drop(columns=[\"EID\"],inplace=True)\n"
      ],
      "execution_count": 0,
      "outputs": []
    },
    {
      "cell_type": "code",
      "metadata": {
        "id": "6-RSGkHSDptf",
        "colab_type": "code",
        "colab": {}
      },
      "source": [
        "missing=sum(x.isnull().values)/x.shape[0]\n",
        "x=x.drop(columns=x.columns[missing>0.2])\n",
        "x.fillna(x.mean(),inplace=True)"
      ],
      "execution_count": 0,
      "outputs": []
    },
    {
      "cell_type": "code",
      "metadata": {
        "id": "x3kFF5GOD5Wc",
        "colab_type": "code",
        "outputId": "d0b504a9-99d7-4770-d97d-48d5ed2911b8",
        "colab": {
          "base_uri": "https://localhost:8080/",
          "height": 1000
        }
      },
      "source": [
        "results_acc_all={}\n",
        "results_bacc_all={}\n",
        "results_f1_all={}\n",
        "results_acc_all_sc={}\n",
        "results_bacc_all_sc={}\n",
        "results_f1_all_sc={}\n",
        "\n",
        "for disorder in y.columns.values:\n",
        "  print(\"===============\",disorder,\"===================\")\n",
        "  #x_=np.concatenate((x[y[disorder]==1].values,x[y_none].values),axis=0)\n",
        "  x_=np.concatenate((x[y[disorder]==1].values,x[y[disorder]==0].values),axis=0)\n",
        "  #y_=np.concatenate((np.ones(sum(y[disorder].values==1)),np.zeros(sum(y_none))),axis=0)\n",
        "  y_=np.concatenate((np.ones(sum(y[disorder].values==1)),np.zeros(sum(y[disorder].values==0))),axis=0)\n",
        "  print(\"Number of Subjects: \",y_.shape[0])\n",
        "  print(\"Positive: \",sum(y_==1))\n",
        "  print(\"Negative: \",sum(y_==0))\n",
        "  print()\n",
        "\n",
        "  #scale False\n",
        "  result=binary_classifier(x_,y_,scale=False)\n",
        "  \n",
        "  results_acc_all[disorder]=[]\n",
        "  results_bacc_all[disorder]=[]\n",
        "  results_f1_all[disorder]=[]\n",
        "  for key,value in result.items():\n",
        "      results_acc_all[disorder].append((key,value[0]))\n",
        "      results_bacc_all[disorder].append((key,value[1]))\n",
        "      results_f1_all[disorder].append((key,value[2]))\n",
        "  \n",
        "  #scale True\n",
        "\n",
        "  result=binary_classifier(x_,y_,scale=True)\n",
        "  \n",
        "  results_acc_all_sc[disorder]=[]\n",
        "  results_bacc_all_sc[disorder]=[]\n",
        "  results_f1_all_sc[disorder]=[]\n",
        "  for key,value in result.items():\n",
        "      results_acc_all_sc[disorder].append((key,value[0]))\n",
        "      results_bacc_all_sc[disorder].append((key,value[1]))\n",
        "      results_f1_all_sc[disorder].append((key,value[2]))\n",
        "\n"
      ],
      "execution_count": 85,
      "outputs": [
        {
          "output_type": "stream",
          "text": [
            "=============== Attention-Deficit/Hyperactivity Disorder ===================\n",
            "Number of Subjects:  928\n",
            "Positive:  559\n",
            "Negative:  369\n",
            "\n"
          ],
          "name": "stdout"
        },
        {
          "output_type": "stream",
          "text": [
            "/usr/local/lib/python3.6/dist-packages/sklearn/linear_model/logistic.py:947: ConvergenceWarning: lbfgs failed to converge. Increase the number of iterations.\n",
            "  \"of iterations.\", ConvergenceWarning)\n",
            "/usr/local/lib/python3.6/dist-packages/sklearn/linear_model/logistic.py:947: ConvergenceWarning: lbfgs failed to converge. Increase the number of iterations.\n",
            "  \"of iterations.\", ConvergenceWarning)\n",
            "/usr/local/lib/python3.6/dist-packages/sklearn/linear_model/logistic.py:947: ConvergenceWarning: lbfgs failed to converge. Increase the number of iterations.\n",
            "  \"of iterations.\", ConvergenceWarning)\n",
            "/usr/local/lib/python3.6/dist-packages/sklearn/linear_model/logistic.py:947: ConvergenceWarning: lbfgs failed to converge. Increase the number of iterations.\n",
            "  \"of iterations.\", ConvergenceWarning)\n",
            "/usr/local/lib/python3.6/dist-packages/sklearn/linear_model/logistic.py:947: ConvergenceWarning: lbfgs failed to converge. Increase the number of iterations.\n",
            "  \"of iterations.\", ConvergenceWarning)\n",
            "/usr/local/lib/python3.6/dist-packages/sklearn/linear_model/logistic.py:947: ConvergenceWarning: lbfgs failed to converge. Increase the number of iterations.\n",
            "  \"of iterations.\", ConvergenceWarning)\n",
            "/usr/local/lib/python3.6/dist-packages/sklearn/linear_model/logistic.py:947: ConvergenceWarning: lbfgs failed to converge. Increase the number of iterations.\n",
            "  \"of iterations.\", ConvergenceWarning)\n",
            "/usr/local/lib/python3.6/dist-packages/sklearn/linear_model/logistic.py:947: ConvergenceWarning: lbfgs failed to converge. Increase the number of iterations.\n",
            "  \"of iterations.\", ConvergenceWarning)\n",
            "/usr/local/lib/python3.6/dist-packages/sklearn/linear_model/logistic.py:947: ConvergenceWarning: lbfgs failed to converge. Increase the number of iterations.\n",
            "  \"of iterations.\", ConvergenceWarning)\n",
            "/usr/local/lib/python3.6/dist-packages/sklearn/linear_model/logistic.py:947: ConvergenceWarning: lbfgs failed to converge. Increase the number of iterations.\n",
            "  \"of iterations.\", ConvergenceWarning)\n"
          ],
          "name": "stderr"
        },
        {
          "output_type": "stream",
          "text": [
            "Done\n",
            "Done\n",
            "=============== Anxiety Disorders ===================\n",
            "Number of Subjects:  928\n",
            "Positive:  213\n",
            "Negative:  715\n",
            "\n"
          ],
          "name": "stdout"
        },
        {
          "output_type": "stream",
          "text": [
            "/usr/local/lib/python3.6/dist-packages/sklearn/linear_model/logistic.py:947: ConvergenceWarning: lbfgs failed to converge. Increase the number of iterations.\n",
            "  \"of iterations.\", ConvergenceWarning)\n",
            "/usr/local/lib/python3.6/dist-packages/sklearn/linear_model/logistic.py:947: ConvergenceWarning: lbfgs failed to converge. Increase the number of iterations.\n",
            "  \"of iterations.\", ConvergenceWarning)\n",
            "/usr/local/lib/python3.6/dist-packages/sklearn/linear_model/logistic.py:947: ConvergenceWarning: lbfgs failed to converge. Increase the number of iterations.\n",
            "  \"of iterations.\", ConvergenceWarning)\n",
            "/usr/local/lib/python3.6/dist-packages/sklearn/linear_model/logistic.py:947: ConvergenceWarning: lbfgs failed to converge. Increase the number of iterations.\n",
            "  \"of iterations.\", ConvergenceWarning)\n",
            "/usr/local/lib/python3.6/dist-packages/sklearn/linear_model/logistic.py:947: ConvergenceWarning: lbfgs failed to converge. Increase the number of iterations.\n",
            "  \"of iterations.\", ConvergenceWarning)\n",
            "/usr/local/lib/python3.6/dist-packages/sklearn/linear_model/logistic.py:947: ConvergenceWarning: lbfgs failed to converge. Increase the number of iterations.\n",
            "  \"of iterations.\", ConvergenceWarning)\n",
            "/usr/local/lib/python3.6/dist-packages/sklearn/linear_model/logistic.py:947: ConvergenceWarning: lbfgs failed to converge. Increase the number of iterations.\n",
            "  \"of iterations.\", ConvergenceWarning)\n",
            "/usr/local/lib/python3.6/dist-packages/sklearn/linear_model/logistic.py:947: ConvergenceWarning: lbfgs failed to converge. Increase the number of iterations.\n",
            "  \"of iterations.\", ConvergenceWarning)\n",
            "/usr/local/lib/python3.6/dist-packages/sklearn/linear_model/logistic.py:947: ConvergenceWarning: lbfgs failed to converge. Increase the number of iterations.\n",
            "  \"of iterations.\", ConvergenceWarning)\n",
            "/usr/local/lib/python3.6/dist-packages/sklearn/linear_model/logistic.py:947: ConvergenceWarning: lbfgs failed to converge. Increase the number of iterations.\n",
            "  \"of iterations.\", ConvergenceWarning)\n"
          ],
          "name": "stderr"
        },
        {
          "output_type": "stream",
          "text": [
            "Done\n"
          ],
          "name": "stdout"
        },
        {
          "output_type": "stream",
          "text": [
            "/usr/local/lib/python3.6/dist-packages/sklearn/metrics/classification.py:1437: UndefinedMetricWarning: F-score is ill-defined and being set to 0.0 due to no predicted samples.\n",
            "  'precision', 'predicted', average, warn_for)\n"
          ],
          "name": "stderr"
        },
        {
          "output_type": "stream",
          "text": [
            "Done\n",
            "=============== Specific Learning Disorder ===================\n",
            "Number of Subjects:  928\n",
            "Positive:  148\n",
            "Negative:  780\n",
            "\n"
          ],
          "name": "stdout"
        },
        {
          "output_type": "stream",
          "text": [
            "/usr/local/lib/python3.6/dist-packages/sklearn/linear_model/logistic.py:947: ConvergenceWarning: lbfgs failed to converge. Increase the number of iterations.\n",
            "  \"of iterations.\", ConvergenceWarning)\n",
            "/usr/local/lib/python3.6/dist-packages/sklearn/linear_model/logistic.py:947: ConvergenceWarning: lbfgs failed to converge. Increase the number of iterations.\n",
            "  \"of iterations.\", ConvergenceWarning)\n",
            "/usr/local/lib/python3.6/dist-packages/sklearn/linear_model/logistic.py:947: ConvergenceWarning: lbfgs failed to converge. Increase the number of iterations.\n",
            "  \"of iterations.\", ConvergenceWarning)\n",
            "/usr/local/lib/python3.6/dist-packages/sklearn/linear_model/logistic.py:947: ConvergenceWarning: lbfgs failed to converge. Increase the number of iterations.\n",
            "  \"of iterations.\", ConvergenceWarning)\n",
            "/usr/local/lib/python3.6/dist-packages/sklearn/linear_model/logistic.py:947: ConvergenceWarning: lbfgs failed to converge. Increase the number of iterations.\n",
            "  \"of iterations.\", ConvergenceWarning)\n",
            "/usr/local/lib/python3.6/dist-packages/sklearn/linear_model/logistic.py:947: ConvergenceWarning: lbfgs failed to converge. Increase the number of iterations.\n",
            "  \"of iterations.\", ConvergenceWarning)\n",
            "/usr/local/lib/python3.6/dist-packages/sklearn/linear_model/logistic.py:947: ConvergenceWarning: lbfgs failed to converge. Increase the number of iterations.\n",
            "  \"of iterations.\", ConvergenceWarning)\n",
            "/usr/local/lib/python3.6/dist-packages/sklearn/linear_model/logistic.py:947: ConvergenceWarning: lbfgs failed to converge. Increase the number of iterations.\n",
            "  \"of iterations.\", ConvergenceWarning)\n",
            "/usr/local/lib/python3.6/dist-packages/sklearn/linear_model/logistic.py:947: ConvergenceWarning: lbfgs failed to converge. Increase the number of iterations.\n",
            "  \"of iterations.\", ConvergenceWarning)\n",
            "/usr/local/lib/python3.6/dist-packages/sklearn/linear_model/logistic.py:947: ConvergenceWarning: lbfgs failed to converge. Increase the number of iterations.\n",
            "  \"of iterations.\", ConvergenceWarning)\n"
          ],
          "name": "stderr"
        },
        {
          "output_type": "stream",
          "text": [
            "Done\n"
          ],
          "name": "stdout"
        },
        {
          "output_type": "stream",
          "text": [
            "/usr/local/lib/python3.6/dist-packages/sklearn/metrics/classification.py:1437: UndefinedMetricWarning: F-score is ill-defined and being set to 0.0 due to no predicted samples.\n",
            "  'precision', 'predicted', average, warn_for)\n"
          ],
          "name": "stderr"
        },
        {
          "output_type": "stream",
          "text": [
            "Done\n",
            "=============== Autism Spectrum Disorder ===================\n",
            "Number of Subjects:  928\n",
            "Positive:  153\n",
            "Negative:  775\n",
            "\n"
          ],
          "name": "stdout"
        },
        {
          "output_type": "stream",
          "text": [
            "/usr/local/lib/python3.6/dist-packages/sklearn/linear_model/logistic.py:947: ConvergenceWarning: lbfgs failed to converge. Increase the number of iterations.\n",
            "  \"of iterations.\", ConvergenceWarning)\n",
            "/usr/local/lib/python3.6/dist-packages/sklearn/linear_model/logistic.py:947: ConvergenceWarning: lbfgs failed to converge. Increase the number of iterations.\n",
            "  \"of iterations.\", ConvergenceWarning)\n",
            "/usr/local/lib/python3.6/dist-packages/sklearn/linear_model/logistic.py:947: ConvergenceWarning: lbfgs failed to converge. Increase the number of iterations.\n",
            "  \"of iterations.\", ConvergenceWarning)\n",
            "/usr/local/lib/python3.6/dist-packages/sklearn/linear_model/logistic.py:947: ConvergenceWarning: lbfgs failed to converge. Increase the number of iterations.\n",
            "  \"of iterations.\", ConvergenceWarning)\n",
            "/usr/local/lib/python3.6/dist-packages/sklearn/linear_model/logistic.py:947: ConvergenceWarning: lbfgs failed to converge. Increase the number of iterations.\n",
            "  \"of iterations.\", ConvergenceWarning)\n",
            "/usr/local/lib/python3.6/dist-packages/sklearn/linear_model/logistic.py:947: ConvergenceWarning: lbfgs failed to converge. Increase the number of iterations.\n",
            "  \"of iterations.\", ConvergenceWarning)\n",
            "/usr/local/lib/python3.6/dist-packages/sklearn/linear_model/logistic.py:947: ConvergenceWarning: lbfgs failed to converge. Increase the number of iterations.\n",
            "  \"of iterations.\", ConvergenceWarning)\n",
            "/usr/local/lib/python3.6/dist-packages/sklearn/linear_model/logistic.py:947: ConvergenceWarning: lbfgs failed to converge. Increase the number of iterations.\n",
            "  \"of iterations.\", ConvergenceWarning)\n",
            "/usr/local/lib/python3.6/dist-packages/sklearn/linear_model/logistic.py:947: ConvergenceWarning: lbfgs failed to converge. Increase the number of iterations.\n",
            "  \"of iterations.\", ConvergenceWarning)\n",
            "/usr/local/lib/python3.6/dist-packages/sklearn/linear_model/logistic.py:947: ConvergenceWarning: lbfgs failed to converge. Increase the number of iterations.\n",
            "  \"of iterations.\", ConvergenceWarning)\n"
          ],
          "name": "stderr"
        },
        {
          "output_type": "stream",
          "text": [
            "Done\n"
          ],
          "name": "stdout"
        },
        {
          "output_type": "stream",
          "text": [
            "/usr/local/lib/python3.6/dist-packages/sklearn/metrics/classification.py:1437: UndefinedMetricWarning: F-score is ill-defined and being set to 0.0 due to no predicted samples.\n",
            "  'precision', 'predicted', average, warn_for)\n"
          ],
          "name": "stderr"
        },
        {
          "output_type": "stream",
          "text": [
            "Done\n",
            "=============== Disruptive ===================\n",
            "Number of Subjects:  928\n",
            "Positive:  152\n",
            "Negative:  776\n",
            "\n"
          ],
          "name": "stdout"
        },
        {
          "output_type": "stream",
          "text": [
            "/usr/local/lib/python3.6/dist-packages/sklearn/linear_model/logistic.py:947: ConvergenceWarning: lbfgs failed to converge. Increase the number of iterations.\n",
            "  \"of iterations.\", ConvergenceWarning)\n",
            "/usr/local/lib/python3.6/dist-packages/sklearn/linear_model/logistic.py:947: ConvergenceWarning: lbfgs failed to converge. Increase the number of iterations.\n",
            "  \"of iterations.\", ConvergenceWarning)\n",
            "/usr/local/lib/python3.6/dist-packages/sklearn/linear_model/logistic.py:947: ConvergenceWarning: lbfgs failed to converge. Increase the number of iterations.\n",
            "  \"of iterations.\", ConvergenceWarning)\n",
            "/usr/local/lib/python3.6/dist-packages/sklearn/linear_model/logistic.py:947: ConvergenceWarning: lbfgs failed to converge. Increase the number of iterations.\n",
            "  \"of iterations.\", ConvergenceWarning)\n",
            "/usr/local/lib/python3.6/dist-packages/sklearn/linear_model/logistic.py:947: ConvergenceWarning: lbfgs failed to converge. Increase the number of iterations.\n",
            "  \"of iterations.\", ConvergenceWarning)\n",
            "/usr/local/lib/python3.6/dist-packages/sklearn/linear_model/logistic.py:947: ConvergenceWarning: lbfgs failed to converge. Increase the number of iterations.\n",
            "  \"of iterations.\", ConvergenceWarning)\n",
            "/usr/local/lib/python3.6/dist-packages/sklearn/linear_model/logistic.py:947: ConvergenceWarning: lbfgs failed to converge. Increase the number of iterations.\n",
            "  \"of iterations.\", ConvergenceWarning)\n",
            "/usr/local/lib/python3.6/dist-packages/sklearn/linear_model/logistic.py:947: ConvergenceWarning: lbfgs failed to converge. Increase the number of iterations.\n",
            "  \"of iterations.\", ConvergenceWarning)\n",
            "/usr/local/lib/python3.6/dist-packages/sklearn/linear_model/logistic.py:947: ConvergenceWarning: lbfgs failed to converge. Increase the number of iterations.\n",
            "  \"of iterations.\", ConvergenceWarning)\n"
          ],
          "name": "stderr"
        },
        {
          "output_type": "stream",
          "text": [
            "Done\n"
          ],
          "name": "stdout"
        },
        {
          "output_type": "stream",
          "text": [
            "/usr/local/lib/python3.6/dist-packages/sklearn/metrics/classification.py:1437: UndefinedMetricWarning: F-score is ill-defined and being set to 0.0 due to no predicted samples.\n",
            "  'precision', 'predicted', average, warn_for)\n"
          ],
          "name": "stderr"
        },
        {
          "output_type": "stream",
          "text": [
            "Done\n",
            "=============== Communication Disorder ===================\n",
            "Number of Subjects:  928\n",
            "Positive:  108\n",
            "Negative:  820\n",
            "\n"
          ],
          "name": "stdout"
        },
        {
          "output_type": "stream",
          "text": [
            "/usr/local/lib/python3.6/dist-packages/sklearn/linear_model/logistic.py:947: ConvergenceWarning: lbfgs failed to converge. Increase the number of iterations.\n",
            "  \"of iterations.\", ConvergenceWarning)\n",
            "/usr/local/lib/python3.6/dist-packages/sklearn/linear_model/logistic.py:947: ConvergenceWarning: lbfgs failed to converge. Increase the number of iterations.\n",
            "  \"of iterations.\", ConvergenceWarning)\n",
            "/usr/local/lib/python3.6/dist-packages/sklearn/linear_model/logistic.py:947: ConvergenceWarning: lbfgs failed to converge. Increase the number of iterations.\n",
            "  \"of iterations.\", ConvergenceWarning)\n",
            "/usr/local/lib/python3.6/dist-packages/sklearn/linear_model/logistic.py:947: ConvergenceWarning: lbfgs failed to converge. Increase the number of iterations.\n",
            "  \"of iterations.\", ConvergenceWarning)\n",
            "/usr/local/lib/python3.6/dist-packages/sklearn/linear_model/logistic.py:947: ConvergenceWarning: lbfgs failed to converge. Increase the number of iterations.\n",
            "  \"of iterations.\", ConvergenceWarning)\n",
            "/usr/local/lib/python3.6/dist-packages/sklearn/linear_model/logistic.py:947: ConvergenceWarning: lbfgs failed to converge. Increase the number of iterations.\n",
            "  \"of iterations.\", ConvergenceWarning)\n",
            "/usr/local/lib/python3.6/dist-packages/sklearn/linear_model/logistic.py:947: ConvergenceWarning: lbfgs failed to converge. Increase the number of iterations.\n",
            "  \"of iterations.\", ConvergenceWarning)\n",
            "/usr/local/lib/python3.6/dist-packages/sklearn/linear_model/logistic.py:947: ConvergenceWarning: lbfgs failed to converge. Increase the number of iterations.\n",
            "  \"of iterations.\", ConvergenceWarning)\n",
            "/usr/local/lib/python3.6/dist-packages/sklearn/linear_model/logistic.py:947: ConvergenceWarning: lbfgs failed to converge. Increase the number of iterations.\n",
            "  \"of iterations.\", ConvergenceWarning)\n",
            "/usr/local/lib/python3.6/dist-packages/sklearn/linear_model/logistic.py:947: ConvergenceWarning: lbfgs failed to converge. Increase the number of iterations.\n",
            "  \"of iterations.\", ConvergenceWarning)\n"
          ],
          "name": "stderr"
        },
        {
          "output_type": "stream",
          "text": [
            "Done\n"
          ],
          "name": "stdout"
        },
        {
          "output_type": "stream",
          "text": [
            "/usr/local/lib/python3.6/dist-packages/sklearn/metrics/classification.py:1437: UndefinedMetricWarning: F-score is ill-defined and being set to 0.0 due to no predicted samples.\n",
            "  'precision', 'predicted', average, warn_for)\n"
          ],
          "name": "stderr"
        },
        {
          "output_type": "stream",
          "text": [
            "Done\n",
            "=============== Depressive Disorders ===================\n",
            "Number of Subjects:  928\n",
            "Positive:  88\n",
            "Negative:  840\n",
            "\n"
          ],
          "name": "stdout"
        },
        {
          "output_type": "stream",
          "text": [
            "/usr/local/lib/python3.6/dist-packages/sklearn/linear_model/logistic.py:947: ConvergenceWarning: lbfgs failed to converge. Increase the number of iterations.\n",
            "  \"of iterations.\", ConvergenceWarning)\n",
            "/usr/local/lib/python3.6/dist-packages/sklearn/linear_model/logistic.py:947: ConvergenceWarning: lbfgs failed to converge. Increase the number of iterations.\n",
            "  \"of iterations.\", ConvergenceWarning)\n",
            "/usr/local/lib/python3.6/dist-packages/sklearn/linear_model/logistic.py:947: ConvergenceWarning: lbfgs failed to converge. Increase the number of iterations.\n",
            "  \"of iterations.\", ConvergenceWarning)\n",
            "/usr/local/lib/python3.6/dist-packages/sklearn/linear_model/logistic.py:947: ConvergenceWarning: lbfgs failed to converge. Increase the number of iterations.\n",
            "  \"of iterations.\", ConvergenceWarning)\n",
            "/usr/local/lib/python3.6/dist-packages/sklearn/linear_model/logistic.py:947: ConvergenceWarning: lbfgs failed to converge. Increase the number of iterations.\n",
            "  \"of iterations.\", ConvergenceWarning)\n",
            "/usr/local/lib/python3.6/dist-packages/sklearn/linear_model/logistic.py:947: ConvergenceWarning: lbfgs failed to converge. Increase the number of iterations.\n",
            "  \"of iterations.\", ConvergenceWarning)\n",
            "/usr/local/lib/python3.6/dist-packages/sklearn/linear_model/logistic.py:947: ConvergenceWarning: lbfgs failed to converge. Increase the number of iterations.\n",
            "  \"of iterations.\", ConvergenceWarning)\n",
            "/usr/local/lib/python3.6/dist-packages/sklearn/linear_model/logistic.py:947: ConvergenceWarning: lbfgs failed to converge. Increase the number of iterations.\n",
            "  \"of iterations.\", ConvergenceWarning)\n",
            "/usr/local/lib/python3.6/dist-packages/sklearn/linear_model/logistic.py:947: ConvergenceWarning: lbfgs failed to converge. Increase the number of iterations.\n",
            "  \"of iterations.\", ConvergenceWarning)\n",
            "/usr/local/lib/python3.6/dist-packages/sklearn/linear_model/logistic.py:947: ConvergenceWarning: lbfgs failed to converge. Increase the number of iterations.\n",
            "  \"of iterations.\", ConvergenceWarning)\n"
          ],
          "name": "stderr"
        },
        {
          "output_type": "stream",
          "text": [
            "Done\n",
            "Done\n"
          ],
          "name": "stdout"
        },
        {
          "output_type": "stream",
          "text": [
            "/usr/local/lib/python3.6/dist-packages/sklearn/metrics/classification.py:1437: UndefinedMetricWarning: F-score is ill-defined and being set to 0.0 due to no predicted samples.\n",
            "  'precision', 'predicted', average, warn_for)\n"
          ],
          "name": "stderr"
        }
      ]
    },
    {
      "cell_type": "markdown",
      "metadata": {
        "id": "TXDEy9gVLVvQ",
        "colab_type": "text"
      },
      "source": [
        "#### PCA\n"
      ]
    },
    {
      "cell_type": "code",
      "metadata": {
        "id": "i_2uITv1zNMy",
        "colab_type": "code",
        "colab": {}
      },
      "source": [
        "##PCA\n",
        "x=(x-x.mean())/x.std()\n",
        "pca=PCA().fit(x)\n"
      ],
      "execution_count": 0,
      "outputs": []
    },
    {
      "cell_type": "code",
      "metadata": {
        "id": "nvaWY_G6zXMQ",
        "colab_type": "code",
        "outputId": "5d7cdf7e-b639-4aac-a073-eeaecf25d9c6",
        "colab": {
          "base_uri": "https://localhost:8080/",
          "height": 282
        }
      },
      "source": [
        "import matplotlib.pyplot as plt\n",
        "plt.plot(pca.singular_values_[:50])"
      ],
      "execution_count": 0,
      "outputs": [
        {
          "output_type": "execute_result",
          "data": {
            "text/plain": [
              "[<matplotlib.lines.Line2D at 0x7f1745e7f240>]"
            ]
          },
          "metadata": {
            "tags": []
          },
          "execution_count": 175
        },
        {
          "output_type": "display_data",
          "data": {
            "image/png": "[encoded data removed]",
            "text/plain": [
              "<Figure size 432x288 with 1 Axes>"
            ]
          },
          "metadata": {
            "tags": []
          }
        }
      ]
    },
    {
      "cell_type": "code",
      "metadata": {
        "id": "F_uFdQ_8z5hE",
        "colab_type": "code",
        "colab": {}
      },
      "source": [
        "pca_x=pca.transform(x)[:,:20]"
      ],
      "execution_count": 0,
      "outputs": []
    },
    {
      "cell_type": "code",
      "metadata": {
        "id": "E3of_-RrEAAs",
        "colab_type": "code",
        "outputId": "37f17402-7b3f-4d7c-d635-cf23fa37c2e1",
        "colab": {
          "base_uri": "https://localhost:8080/",
          "height": 1000
        }
      },
      "source": [
        "pca_results_acc_all={}\n",
        "pca_results_bacc_all={}\n",
        "pca_results_f1_all={}\n",
        "for disorder in y.columns.values:\n",
        "  print(\"===============\",disorder,\"===================\")\n",
        "  #x_=np.concatenate((pca_x[y[disorder]==1],pca_x[y_none]),axis=0)\n",
        "  x_=np.concatenate((x[y[disorder]==1],x[y[disorder]==0]),axis=0)\n",
        "  #y_=np.concatenate((np.ones(sum(y[disorder].values==1)),np.zeros(sum(y_none))),axis=0)\n",
        "  y_=np.concatenate((np.ones(sum(y[disorder].values==1)),np.zeros(sum(y[disorder]==0))),axis=0)\n",
        "  print(\"Number of Subjects: \",y_.shape[0])\n",
        "  print(\"Positive: \",sum(y_==1))\n",
        "  print(\"Negative: \",sum(y_==0))\n",
        "  print()\n",
        "  result=binary_classifier(x_,y_,PCA(n_components=20))\n",
        "  \n",
        "  pca_results_acc_all[disorder]=[]\n",
        "  pca_results_bacc_all[disorder]=[]\n",
        "  pca_results_f1_all[disorder]=[]\n",
        "  for key,value in result.items():\n",
        "      pca_results_acc_all[disorder].append((key,value[0]))\n",
        "      pca_results_bacc_all[disorder].append((key,value[1]))\n",
        "      pca_results_f1_all[disorder].append((key,value[2]))"
      ],
      "execution_count": 111,
      "outputs": [
        {
          "output_type": "stream",
          "text": [
            "=============== Attention-Deficit/Hyperactivity Disorder ===================\n",
            "Number of Subjects:  1254\n",
            "Positive:  738\n",
            "Negative:  516\n",
            "\n"
          ],
          "name": "stdout"
        },
        {
          "output_type": "stream",
          "text": [
            "/usr/local/lib/python3.6/dist-packages/sklearn/linear_model/logistic.py:947: ConvergenceWarning: lbfgs failed to converge. Increase the number of iterations.\n",
            "  \"of iterations.\", ConvergenceWarning)\n",
            "/usr/local/lib/python3.6/dist-packages/sklearn/linear_model/logistic.py:947: ConvergenceWarning: lbfgs failed to converge. Increase the number of iterations.\n",
            "  \"of iterations.\", ConvergenceWarning)\n",
            "/usr/local/lib/python3.6/dist-packages/sklearn/linear_model/logistic.py:947: ConvergenceWarning: lbfgs failed to converge. Increase the number of iterations.\n",
            "  \"of iterations.\", ConvergenceWarning)\n",
            "/usr/local/lib/python3.6/dist-packages/sklearn/linear_model/logistic.py:947: ConvergenceWarning: lbfgs failed to converge. Increase the number of iterations.\n",
            "  \"of iterations.\", ConvergenceWarning)\n",
            "/usr/local/lib/python3.6/dist-packages/sklearn/linear_model/logistic.py:947: ConvergenceWarning: lbfgs failed to converge. Increase the number of iterations.\n",
            "  \"of iterations.\", ConvergenceWarning)\n",
            "/usr/local/lib/python3.6/dist-packages/sklearn/linear_model/logistic.py:947: ConvergenceWarning: lbfgs failed to converge. Increase the number of iterations.\n",
            "  \"of iterations.\", ConvergenceWarning)\n",
            "/usr/local/lib/python3.6/dist-packages/sklearn/linear_model/logistic.py:947: ConvergenceWarning: lbfgs failed to converge. Increase the number of iterations.\n",
            "  \"of iterations.\", ConvergenceWarning)\n",
            "/usr/local/lib/python3.6/dist-packages/sklearn/linear_model/logistic.py:947: ConvergenceWarning: lbfgs failed to converge. Increase the number of iterations.\n",
            "  \"of iterations.\", ConvergenceWarning)\n",
            "/usr/local/lib/python3.6/dist-packages/sklearn/linear_model/logistic.py:947: ConvergenceWarning: lbfgs failed to converge. Increase the number of iterations.\n",
            "  \"of iterations.\", ConvergenceWarning)\n",
            "/usr/local/lib/python3.6/dist-packages/sklearn/linear_model/logistic.py:947: ConvergenceWarning: lbfgs failed to converge. Increase the number of iterations.\n",
            "  \"of iterations.\", ConvergenceWarning)\n"
          ],
          "name": "stderr"
        },
        {
          "output_type": "stream",
          "text": [
            "Done\n",
            "=============== Anxiety Disorders ===================\n",
            "Number of Subjects:  1254\n",
            "Positive:  301\n",
            "Negative:  953\n",
            "\n"
          ],
          "name": "stdout"
        },
        {
          "output_type": "stream",
          "text": [
            "/usr/local/lib/python3.6/dist-packages/sklearn/linear_model/logistic.py:947: ConvergenceWarning: lbfgs failed to converge. Increase the number of iterations.\n",
            "  \"of iterations.\", ConvergenceWarning)\n",
            "/usr/local/lib/python3.6/dist-packages/sklearn/linear_model/logistic.py:947: ConvergenceWarning: lbfgs failed to converge. Increase the number of iterations.\n",
            "  \"of iterations.\", ConvergenceWarning)\n",
            "/usr/local/lib/python3.6/dist-packages/sklearn/linear_model/logistic.py:947: ConvergenceWarning: lbfgs failed to converge. Increase the number of iterations.\n",
            "  \"of iterations.\", ConvergenceWarning)\n",
            "/usr/local/lib/python3.6/dist-packages/sklearn/linear_model/logistic.py:947: ConvergenceWarning: lbfgs failed to converge. Increase the number of iterations.\n",
            "  \"of iterations.\", ConvergenceWarning)\n",
            "/usr/local/lib/python3.6/dist-packages/sklearn/linear_model/logistic.py:947: ConvergenceWarning: lbfgs failed to converge. Increase the number of iterations.\n",
            "  \"of iterations.\", ConvergenceWarning)\n",
            "/usr/local/lib/python3.6/dist-packages/sklearn/linear_model/logistic.py:947: ConvergenceWarning: lbfgs failed to converge. Increase the number of iterations.\n",
            "  \"of iterations.\", ConvergenceWarning)\n",
            "/usr/local/lib/python3.6/dist-packages/sklearn/linear_model/logistic.py:947: ConvergenceWarning: lbfgs failed to converge. Increase the number of iterations.\n",
            "  \"of iterations.\", ConvergenceWarning)\n",
            "/usr/local/lib/python3.6/dist-packages/sklearn/linear_model/logistic.py:947: ConvergenceWarning: lbfgs failed to converge. Increase the number of iterations.\n",
            "  \"of iterations.\", ConvergenceWarning)\n",
            "/usr/local/lib/python3.6/dist-packages/sklearn/linear_model/logistic.py:947: ConvergenceWarning: lbfgs failed to converge. Increase the number of iterations.\n",
            "  \"of iterations.\", ConvergenceWarning)\n",
            "/usr/local/lib/python3.6/dist-packages/sklearn/linear_model/logistic.py:947: ConvergenceWarning: lbfgs failed to converge. Increase the number of iterations.\n",
            "  \"of iterations.\", ConvergenceWarning)\n",
            "/usr/local/lib/python3.6/dist-packages/sklearn/metrics/classification.py:1437: UndefinedMetricWarning: F-score is ill-defined and being set to 0.0 due to no predicted samples.\n",
            "  'precision', 'predicted', average, warn_for)\n"
          ],
          "name": "stderr"
        },
        {
          "output_type": "stream",
          "text": [
            "Done\n",
            "=============== Specific Learning Disorder ===================\n",
            "Number of Subjects:  1254\n",
            "Positive:  208\n",
            "Negative:  1046\n",
            "\n"
          ],
          "name": "stdout"
        },
        {
          "output_type": "stream",
          "text": [
            "/usr/local/lib/python3.6/dist-packages/sklearn/linear_model/logistic.py:947: ConvergenceWarning: lbfgs failed to converge. Increase the number of iterations.\n",
            "  \"of iterations.\", ConvergenceWarning)\n",
            "/usr/local/lib/python3.6/dist-packages/sklearn/linear_model/logistic.py:947: ConvergenceWarning: lbfgs failed to converge. Increase the number of iterations.\n",
            "  \"of iterations.\", ConvergenceWarning)\n",
            "/usr/local/lib/python3.6/dist-packages/sklearn/linear_model/logistic.py:947: ConvergenceWarning: lbfgs failed to converge. Increase the number of iterations.\n",
            "  \"of iterations.\", ConvergenceWarning)\n",
            "/usr/local/lib/python3.6/dist-packages/sklearn/linear_model/logistic.py:947: ConvergenceWarning: lbfgs failed to converge. Increase the number of iterations.\n",
            "  \"of iterations.\", ConvergenceWarning)\n",
            "/usr/local/lib/python3.6/dist-packages/sklearn/linear_model/logistic.py:947: ConvergenceWarning: lbfgs failed to converge. Increase the number of iterations.\n",
            "  \"of iterations.\", ConvergenceWarning)\n",
            "/usr/local/lib/python3.6/dist-packages/sklearn/linear_model/logistic.py:947: ConvergenceWarning: lbfgs failed to converge. Increase the number of iterations.\n",
            "  \"of iterations.\", ConvergenceWarning)\n",
            "/usr/local/lib/python3.6/dist-packages/sklearn/linear_model/logistic.py:947: ConvergenceWarning: lbfgs failed to converge. Increase the number of iterations.\n",
            "  \"of iterations.\", ConvergenceWarning)\n",
            "/usr/local/lib/python3.6/dist-packages/sklearn/linear_model/logistic.py:947: ConvergenceWarning: lbfgs failed to converge. Increase the number of iterations.\n",
            "  \"of iterations.\", ConvergenceWarning)\n",
            "/usr/local/lib/python3.6/dist-packages/sklearn/linear_model/logistic.py:947: ConvergenceWarning: lbfgs failed to converge. Increase the number of iterations.\n",
            "  \"of iterations.\", ConvergenceWarning)\n",
            "/usr/local/lib/python3.6/dist-packages/sklearn/linear_model/logistic.py:947: ConvergenceWarning: lbfgs failed to converge. Increase the number of iterations.\n",
            "  \"of iterations.\", ConvergenceWarning)\n",
            "/usr/local/lib/python3.6/dist-packages/sklearn/metrics/classification.py:1437: UndefinedMetricWarning: F-score is ill-defined and being set to 0.0 due to no predicted samples.\n",
            "  'precision', 'predicted', average, warn_for)\n"
          ],
          "name": "stderr"
        },
        {
          "output_type": "stream",
          "text": [
            "Done\n",
            "=============== Autism Spectrum Disorder ===================\n",
            "Number of Subjects:  1254\n",
            "Positive:  210\n",
            "Negative:  1044\n",
            "\n"
          ],
          "name": "stdout"
        },
        {
          "output_type": "stream",
          "text": [
            "/usr/local/lib/python3.6/dist-packages/sklearn/linear_model/logistic.py:947: ConvergenceWarning: lbfgs failed to converge. Increase the number of iterations.\n",
            "  \"of iterations.\", ConvergenceWarning)\n",
            "/usr/local/lib/python3.6/dist-packages/sklearn/linear_model/logistic.py:947: ConvergenceWarning: lbfgs failed to converge. Increase the number of iterations.\n",
            "  \"of iterations.\", ConvergenceWarning)\n",
            "/usr/local/lib/python3.6/dist-packages/sklearn/linear_model/logistic.py:947: ConvergenceWarning: lbfgs failed to converge. Increase the number of iterations.\n",
            "  \"of iterations.\", ConvergenceWarning)\n",
            "/usr/local/lib/python3.6/dist-packages/sklearn/linear_model/logistic.py:947: ConvergenceWarning: lbfgs failed to converge. Increase the number of iterations.\n",
            "  \"of iterations.\", ConvergenceWarning)\n",
            "/usr/local/lib/python3.6/dist-packages/sklearn/linear_model/logistic.py:947: ConvergenceWarning: lbfgs failed to converge. Increase the number of iterations.\n",
            "  \"of iterations.\", ConvergenceWarning)\n",
            "/usr/local/lib/python3.6/dist-packages/sklearn/linear_model/logistic.py:947: ConvergenceWarning: lbfgs failed to converge. Increase the number of iterations.\n",
            "  \"of iterations.\", ConvergenceWarning)\n",
            "/usr/local/lib/python3.6/dist-packages/sklearn/linear_model/logistic.py:947: ConvergenceWarning: lbfgs failed to converge. Increase the number of iterations.\n",
            "  \"of iterations.\", ConvergenceWarning)\n",
            "/usr/local/lib/python3.6/dist-packages/sklearn/linear_model/logistic.py:947: ConvergenceWarning: lbfgs failed to converge. Increase the number of iterations.\n",
            "  \"of iterations.\", ConvergenceWarning)\n",
            "/usr/local/lib/python3.6/dist-packages/sklearn/linear_model/logistic.py:947: ConvergenceWarning: lbfgs failed to converge. Increase the number of iterations.\n",
            "  \"of iterations.\", ConvergenceWarning)\n",
            "/usr/local/lib/python3.6/dist-packages/sklearn/linear_model/logistic.py:947: ConvergenceWarning: lbfgs failed to converge. Increase the number of iterations.\n",
            "  \"of iterations.\", ConvergenceWarning)\n",
            "/usr/local/lib/python3.6/dist-packages/sklearn/metrics/classification.py:1437: UndefinedMetricWarning: F-score is ill-defined and being set to 0.0 due to no predicted samples.\n",
            "  'precision', 'predicted', average, warn_for)\n"
          ],
          "name": "stderr"
        },
        {
          "output_type": "stream",
          "text": [
            "Done\n",
            "=============== Disruptive ===================\n",
            "Number of Subjects:  1254\n",
            "Positive:  203\n",
            "Negative:  1051\n",
            "\n"
          ],
          "name": "stdout"
        },
        {
          "output_type": "stream",
          "text": [
            "/usr/local/lib/python3.6/dist-packages/sklearn/linear_model/logistic.py:947: ConvergenceWarning: lbfgs failed to converge. Increase the number of iterations.\n",
            "  \"of iterations.\", ConvergenceWarning)\n",
            "/usr/local/lib/python3.6/dist-packages/sklearn/linear_model/logistic.py:947: ConvergenceWarning: lbfgs failed to converge. Increase the number of iterations.\n",
            "  \"of iterations.\", ConvergenceWarning)\n",
            "/usr/local/lib/python3.6/dist-packages/sklearn/linear_model/logistic.py:947: ConvergenceWarning: lbfgs failed to converge. Increase the number of iterations.\n",
            "  \"of iterations.\", ConvergenceWarning)\n",
            "/usr/local/lib/python3.6/dist-packages/sklearn/linear_model/logistic.py:947: ConvergenceWarning: lbfgs failed to converge. Increase the number of iterations.\n",
            "  \"of iterations.\", ConvergenceWarning)\n",
            "/usr/local/lib/python3.6/dist-packages/sklearn/linear_model/logistic.py:947: ConvergenceWarning: lbfgs failed to converge. Increase the number of iterations.\n",
            "  \"of iterations.\", ConvergenceWarning)\n",
            "/usr/local/lib/python3.6/dist-packages/sklearn/linear_model/logistic.py:947: ConvergenceWarning: lbfgs failed to converge. Increase the number of iterations.\n",
            "  \"of iterations.\", ConvergenceWarning)\n",
            "/usr/local/lib/python3.6/dist-packages/sklearn/linear_model/logistic.py:947: ConvergenceWarning: lbfgs failed to converge. Increase the number of iterations.\n",
            "  \"of iterations.\", ConvergenceWarning)\n",
            "/usr/local/lib/python3.6/dist-packages/sklearn/linear_model/logistic.py:947: ConvergenceWarning: lbfgs failed to converge. Increase the number of iterations.\n",
            "  \"of iterations.\", ConvergenceWarning)\n",
            "/usr/local/lib/python3.6/dist-packages/sklearn/linear_model/logistic.py:947: ConvergenceWarning: lbfgs failed to converge. Increase the number of iterations.\n",
            "  \"of iterations.\", ConvergenceWarning)\n",
            "/usr/local/lib/python3.6/dist-packages/sklearn/linear_model/logistic.py:947: ConvergenceWarning: lbfgs failed to converge. Increase the number of iterations.\n",
            "  \"of iterations.\", ConvergenceWarning)\n",
            "/usr/local/lib/python3.6/dist-packages/sklearn/metrics/classification.py:1437: UndefinedMetricWarning: F-score is ill-defined and being set to 0.0 due to no predicted samples.\n",
            "  'precision', 'predicted', average, warn_for)\n"
          ],
          "name": "stderr"
        },
        {
          "output_type": "stream",
          "text": [
            "Done\n",
            "=============== Communication Disorder ===================\n",
            "Number of Subjects:  1254\n",
            "Positive:  146\n",
            "Negative:  1108\n",
            "\n"
          ],
          "name": "stdout"
        },
        {
          "output_type": "stream",
          "text": [
            "/usr/local/lib/python3.6/dist-packages/sklearn/linear_model/logistic.py:947: ConvergenceWarning: lbfgs failed to converge. Increase the number of iterations.\n",
            "  \"of iterations.\", ConvergenceWarning)\n",
            "/usr/local/lib/python3.6/dist-packages/sklearn/linear_model/logistic.py:947: ConvergenceWarning: lbfgs failed to converge. Increase the number of iterations.\n",
            "  \"of iterations.\", ConvergenceWarning)\n",
            "/usr/local/lib/python3.6/dist-packages/sklearn/linear_model/logistic.py:947: ConvergenceWarning: lbfgs failed to converge. Increase the number of iterations.\n",
            "  \"of iterations.\", ConvergenceWarning)\n",
            "/usr/local/lib/python3.6/dist-packages/sklearn/linear_model/logistic.py:947: ConvergenceWarning: lbfgs failed to converge. Increase the number of iterations.\n",
            "  \"of iterations.\", ConvergenceWarning)\n",
            "/usr/local/lib/python3.6/dist-packages/sklearn/linear_model/logistic.py:947: ConvergenceWarning: lbfgs failed to converge. Increase the number of iterations.\n",
            "  \"of iterations.\", ConvergenceWarning)\n",
            "/usr/local/lib/python3.6/dist-packages/sklearn/linear_model/logistic.py:947: ConvergenceWarning: lbfgs failed to converge. Increase the number of iterations.\n",
            "  \"of iterations.\", ConvergenceWarning)\n",
            "/usr/local/lib/python3.6/dist-packages/sklearn/linear_model/logistic.py:947: ConvergenceWarning: lbfgs failed to converge. Increase the number of iterations.\n",
            "  \"of iterations.\", ConvergenceWarning)\n",
            "/usr/local/lib/python3.6/dist-packages/sklearn/linear_model/logistic.py:947: ConvergenceWarning: lbfgs failed to converge. Increase the number of iterations.\n",
            "  \"of iterations.\", ConvergenceWarning)\n",
            "/usr/local/lib/python3.6/dist-packages/sklearn/linear_model/logistic.py:947: ConvergenceWarning: lbfgs failed to converge. Increase the number of iterations.\n",
            "  \"of iterations.\", ConvergenceWarning)\n",
            "/usr/local/lib/python3.6/dist-packages/sklearn/linear_model/logistic.py:947: ConvergenceWarning: lbfgs failed to converge. Increase the number of iterations.\n",
            "  \"of iterations.\", ConvergenceWarning)\n",
            "/usr/local/lib/python3.6/dist-packages/sklearn/metrics/classification.py:1437: UndefinedMetricWarning: F-score is ill-defined and being set to 0.0 due to no predicted samples.\n",
            "  'precision', 'predicted', average, warn_for)\n"
          ],
          "name": "stderr"
        },
        {
          "output_type": "stream",
          "text": [
            "Done\n",
            "=============== Depressive Disorders ===================\n",
            "Number of Subjects:  1254\n",
            "Positive:  114\n",
            "Negative:  1140\n",
            "\n"
          ],
          "name": "stdout"
        },
        {
          "output_type": "stream",
          "text": [
            "/usr/local/lib/python3.6/dist-packages/sklearn/linear_model/logistic.py:947: ConvergenceWarning: lbfgs failed to converge. Increase the number of iterations.\n",
            "  \"of iterations.\", ConvergenceWarning)\n",
            "/usr/local/lib/python3.6/dist-packages/sklearn/linear_model/logistic.py:947: ConvergenceWarning: lbfgs failed to converge. Increase the number of iterations.\n",
            "  \"of iterations.\", ConvergenceWarning)\n",
            "/usr/local/lib/python3.6/dist-packages/sklearn/linear_model/logistic.py:947: ConvergenceWarning: lbfgs failed to converge. Increase the number of iterations.\n",
            "  \"of iterations.\", ConvergenceWarning)\n",
            "/usr/local/lib/python3.6/dist-packages/sklearn/linear_model/logistic.py:947: ConvergenceWarning: lbfgs failed to converge. Increase the number of iterations.\n",
            "  \"of iterations.\", ConvergenceWarning)\n",
            "/usr/local/lib/python3.6/dist-packages/sklearn/linear_model/logistic.py:947: ConvergenceWarning: lbfgs failed to converge. Increase the number of iterations.\n",
            "  \"of iterations.\", ConvergenceWarning)\n",
            "/usr/local/lib/python3.6/dist-packages/sklearn/linear_model/logistic.py:947: ConvergenceWarning: lbfgs failed to converge. Increase the number of iterations.\n",
            "  \"of iterations.\", ConvergenceWarning)\n",
            "/usr/local/lib/python3.6/dist-packages/sklearn/linear_model/logistic.py:947: ConvergenceWarning: lbfgs failed to converge. Increase the number of iterations.\n",
            "  \"of iterations.\", ConvergenceWarning)\n",
            "/usr/local/lib/python3.6/dist-packages/sklearn/linear_model/logistic.py:947: ConvergenceWarning: lbfgs failed to converge. Increase the number of iterations.\n",
            "  \"of iterations.\", ConvergenceWarning)\n",
            "/usr/local/lib/python3.6/dist-packages/sklearn/linear_model/logistic.py:947: ConvergenceWarning: lbfgs failed to converge. Increase the number of iterations.\n",
            "  \"of iterations.\", ConvergenceWarning)\n",
            "/usr/local/lib/python3.6/dist-packages/sklearn/linear_model/logistic.py:947: ConvergenceWarning: lbfgs failed to converge. Increase the number of iterations.\n",
            "  \"of iterations.\", ConvergenceWarning)\n"
          ],
          "name": "stderr"
        },
        {
          "output_type": "stream",
          "text": [
            "Done\n"
          ],
          "name": "stdout"
        }
      ]
    },
    {
      "cell_type": "markdown",
      "metadata": {
        "id": "2gYFhbSy4IQE",
        "colab_type": "text"
      },
      "source": [
        "## Results\n",
        "\n",
        "\n",
        "\n"
      ]
    },
    {
      "cell_type": "code",
      "metadata": {
        "id": "6Gqb9gmCqejy",
        "colab_type": "code",
        "colab": {}
      },
      "source": [
        "#Best scores per disorder per disorder\n",
        "#choose best classifier and method\n",
        "\n",
        "##Microstates\n",
        "#best row (scale or not)\n",
        "best_f1_raw_microst={}\n",
        "best_f1_raw_no_scale=best_classifier(results_f1_1)\n",
        "best_f1_raw_scale=best_classifier(results_f1_1_sc)\n",
        "for key in results_f1_1:\n",
        "  if best_f1_raw_no_scale[key][1]<best_f1_raw_scale[key][1]:\n",
        "    best_f1_raw_microst[key]=best_f1_raw_scale[key]\n",
        "  else:\n",
        "    best_f1_raw_microst[key]=best_f1_raw_no_scale[key]\n",
        "\n",
        "#best pca\n",
        "best_f1_pca_microst=best_classifier(pca_results_f1_1)\n",
        "\n",
        "#best method (row or pca)\n",
        "best_f1_per_disorder_microst=best_per_disorder(best_f1_raw_microst,best_f1_pca_microst)\n",
        "\n",
        "\n",
        "##PSD\n",
        "#best row (scale or not)\n",
        "best_f1_raw_psd={}\n",
        "best_f1_raw_no_scale=best_classifier(results_f1_2)\n",
        "best_f1_raw_scale=best_classifier(results_f1_2_sc)\n",
        "for key in results_f1_2:\n",
        "  if best_f1_raw_no_scale[key][1]<best_f1_raw_scale[key][1]:\n",
        "    best_f1_raw_psd[key]=best_f1_raw_scale[key]\n",
        "  else:\n",
        "    best_f1_raw_psd[key]=best_f1_raw_no_scale[key]\n",
        "\n",
        "#best pca\n",
        "best_f1_pca_psd=best_classifier(pca_results_f1_2)\n",
        "\n",
        "#best method (row or pca)\n",
        "best_f1_per_disorder_psd=best_per_disorder(best_f1_raw_psd,best_f1_pca_psd)\n",
        "\n",
        "\n",
        "##Spectro\n",
        "#best row (scale or not)\n",
        "best_f1_raw_sp={}\n",
        "best_f1_raw_no_scale=best_classifier(results_f1_3)\n",
        "best_f1_raw_scale=best_classifier(results_f1_3_sc)\n",
        "for key in results_f1_3:\n",
        "  if best_f1_raw_no_scale[key][1]<best_f1_raw_scale[key][1]:\n",
        "    best_f1_raw_sp[key]=best_f1_raw_scale[key]\n",
        "  else:\n",
        "    best_f1_raw_sp[key]=best_f1_raw_no_scale[key]\n",
        "\n",
        "#best pca\n",
        "best_f1_pca_sp=best_classifier(pca_results_f1_3)\n",
        "\n",
        "#best method (row or pca)\n",
        "best_f1_per_disorder_sp=best_per_disorder(best_f1_raw_sp,best_f1_pca_sp)\n",
        "\n",
        "\n",
        "##All Together\n",
        "#best row (scale or not)\n",
        "best_f1_raw_all={}\n",
        "best_f1_raw_no_scale=best_classifier(results_f1_all)\n",
        "best_f1_raw_scale=best_classifier(results_f1_all_sc)\n",
        "for key in results_f1_all:\n",
        "  if best_f1_raw_no_scale[key][1]<best_f1_raw_scale[key][1]:\n",
        "    best_f1_raw_all[key]=best_f1_raw_scale[key]\n",
        "  else:\n",
        "    best_f1_raw_all[key]=best_f1_raw_no_scale[key]\n",
        "\n",
        "#best pca\n",
        "best_f1_pca_all=best_classifier(pca_results_f1_all)\n",
        "\n",
        "#best method (row or pca)\n",
        "best_f1_per_disorder_all=best_per_disorder(best_f1_raw_all,best_f1_pca_all)\n"
      ],
      "execution_count": 0,
      "outputs": []
    },
    {
      "cell_type": "code",
      "metadata": {
        "id": "BIjst2ildndc",
        "colab_type": "code",
        "outputId": "9a2677fc-db27-4cfe-8bfa-9c5a8594047a",
        "colab": {
          "base_uri": "https://localhost:8080/",
          "height": 389
        }
      },
      "source": [
        "best_micro_=best_f1_per_disorder_microst\n",
        "best_psd_=best_f1_per_disorder_psd\n",
        "best_spectro_=best_f1_per_disorder_sp\n",
        "best_all_together_=best_f1_per_disorder_all\n",
        "\n",
        "best_micro=[value[-1] for _,value in best_micro_.items()]\n",
        "best_micro_method=[value[0] for _,value in best_micro_.items()]\n",
        "best_psd=[value[-1] for _,value in best_psd_.items()]\n",
        "best_psd_method=[value[0] for _,value in best_psd_.items()]\n",
        "best_spectro=[value[-1] for _,value in best_spectro_.items()]\n",
        "best_spectro_method=[value[0] for _,value in best_spectro_.items()]\n",
        "best_all_together=[value[-1] for _,value in best_all_together_.items()]\n",
        "best_all_together_method=[value[0] for _,value in best_all_together_.items()]\n",
        "\n",
        "labels=['Attention-Deficit/Hyperactivity\\nDisorder','Anxiety Disorders','Specific Learning\\nDisorder','Autism Spectrum\\nDisorder',\\\n",
        "        'Disruptive','Communication Disorder','Depressive Disorders']\n",
        "\n",
        "x = np.arange(len(labels))  # the label locations\n",
        "width = 1/(3.5+1)  # the width of the bars\n",
        "\n",
        "fig, ax = plt.subplots(figsize=(14, 5))\n",
        "rects1 = ax.bar(x , best_micro, width, label='EEG Microstate',color='b',)\n",
        "rects2 = ax.bar(x+ width , best_psd, width, label='EEG PSD',color='r')\n",
        "rects3 = ax.bar(x + 2*width, best_spectro, width, label='EEG Spectro',color='g')\n",
        "rects4= ax.bar(x + 3*width, best_all_together, width, label='All Together',color='black',alpha=0.6)\n",
        "\n",
        "# Add some text for labels, title and custom x-axis tick labels, etc.\n",
        "ax.set_ylabel('F1-Score')\n",
        "ax.set_title('Best Scores by Disorder and Features Type')\n",
        "ax.set_xticks(x+1.1*width)\n",
        "ax.set_xticklabels(labels)\n",
        "ax.legend()\n",
        "\n",
        "\n",
        "def autolabel(rects,best):\n",
        "    \"\"\"Attach a text label above each bar in *rects*, displaying its height.\"\"\"\n",
        "    for i,rect in enumerate(rects):\n",
        "        height = rect.get_height()\n",
        "        ax.annotate('{:.3f}'.format(height),\n",
        "                    xy=(rect.get_x() + rect.get_width()/2 , height),\n",
        "                     xytext=(0, 5),  # 3 points vertical offset\n",
        "                     textcoords=\"offset points\",\n",
        "                     ha='center', va='bottom')\n",
        "        \n",
        "        ax.annotate('{:}'.format(best[i]),xy=(rect.get_x() + rect.get_width()/2-0.07 , 0.1))\n",
        "\n",
        "\n",
        "\n",
        "autolabel(rects1,best_micro_method)\n",
        "autolabel(rects2,best_psd_method)\n",
        "autolabel(rects3,best_spectro_method)\n",
        "autolabel(rects4,best_all_together_method)\n",
        "\n",
        "\n",
        "plt.ylim([0.02, 1])\n",
        "\n",
        "\n",
        "\n",
        "fig.tight_layout()\n",
        "\n",
        "\n",
        "plt.show()\n",
        "\n",
        "\n"
      ],
      "execution_count": 163,
      "outputs": [
        {
          "output_type": "display_data",
          "data": {
            "image/png": "[encoded data removed]",
            "text/plain": [
              "<Figure size 1008x360 with 1 Axes>"
            ]
          },
          "metadata": {
            "tags": []
          }
        }
      ]
    }
  ]
}