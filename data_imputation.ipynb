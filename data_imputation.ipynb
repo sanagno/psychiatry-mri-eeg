{
 "cells": [
  {
   "cell_type": "markdown",
   "metadata": {
    "colab_type": "text",
    "id": "w-KN0N1dlHBz"
   },
   "source": [
    "# Imputations methods"
   ]
  },
  {
   "cell_type": "markdown",
   "metadata": {},
   "source": [
    "## Material"
   ]
  },
  {
   "cell_type": "markdown",
   "metadata": {
    "colab_type": "text",
    "id": "S0tMrgNTlHB2"
   },
   "source": [
    "In this notebook we are going to explore different imputation methods\n",
    "\n",
    "For a more theoretical perspective consider http://www.stat.columbia.edu/~gelman/arm/missing.pdf\n",
    "\n",
    "We are dealing with data probably belonging to the category missing by design (some values are too expensive to obtain)\n",
    "\n",
    "Also look at https://www.paultwin.com/wp-content/uploads/Lodder_1140873_Paper_Imputation.pdf\n",
    "\n",
    "TODO: also take into account more complicated methods that directly tackle the problem of classification such as BoostClean https://arxiv.org/pdf/1711.01299.pdf\n",
    "\n",
    "For a more detail description check the book \"Flexible imputationn of missing data\" https://stefvanbuuren.name/fimd/\n",
    "\n",
    "\n",
    "For discriminative models it is more elaborate, since that is not possible. There are a number of approaches. Gharamani and Jordan http://mlg.eng.cam.ac.uk/zoubin/papers/nips93.pdf describe a principled approach, where missing values are treated like hidden variables, and a variant of the EM algorithm is used to estimate them. In a similar fashion, Smola et al. http://www.gatsby.ucl.ac.uk/aistats/fullpapers/234.pdf describe a variant of the SVM algorithm which explicitly tackles the problem.\n",
    "\n",
    "In out case the missingness of values is not random but can be an indicator by itself.\n",
    "\n",
    "For a great summary of existing imputation methods, check the introduction of the paper http://medianetlab.ee.ucla.edu/papers/ICML_GAIN.pdf"
   ]
  },
  {
   "cell_type": "markdown",
   "metadata": {
    "colab_type": "text",
    "id": "a0em19iElHB3"
   },
   "source": [
    "First we need to define a little clearer the setting exactly. For startes we are going to deal with only the 5 most common diseases. Also for starters we are merely going to deal with classifying based on the first diagnosis given only. We are going to consider the multiclass classification problem first, but we are should also check the binary classification one to compare with established methods."
   ]
  },
  {
   "cell_type": "markdown",
   "metadata": {},
   "source": [
    "## Prepare the data"
   ]
  },
  {
   "cell_type": "code",
   "execution_count": 320,
   "metadata": {
    "colab": {},
    "colab_type": "code",
    "id": "XBAn7-9xlHB4"
   },
   "outputs": [],
   "source": [
    "import pandas as pd\n",
    "import numpy as np\n",
    "import math\n",
    "\n",
    "from os import listdir\n",
    "from os.path import isfile, join\n",
    "\n",
    "import seaborn as sns\n",
    "import matplotlib.pyplot as plt\n",
    "from scipy import stats\n",
    "\n",
    "from pylab import rcParams\n",
    "rcParams['figure.figsize'] = 16, 7\n",
    "rcParams['font.size'] = 12\n",
    "\n",
    "plt.style.use('ggplot')"
   ]
  },
  {
   "cell_type": "markdown",
   "metadata": {},
   "source": [
    "We will deal with the classification problem only regarding the most common disorders based on all diagnoses given"
   ]
  },
  {
   "cell_type": "code",
   "execution_count": 292,
   "metadata": {
    "colab": {},
    "colab_type": "code",
    "id": "JdGIzy5FlHB9"
   },
   "outputs": [
    {
     "name": "stdout",
     "output_type": "stream",
     "text": [
      "Removing 282 patients as their evaluation was incomplete.\n",
      "Removing 37 patients as their diagnoses were very uncommon.\n"
     ]
    }
   ],
   "source": [
    "behaviour_data = pd.read_csv(\n",
    "    './DataScience2019_MRI/Behavioral/cleaned/HBNFinalSummaries.csv', low_memory=False)\n",
    "\n",
    "initial_size = behaviour_data.shape[0]\n",
    "behaviour_data = behaviour_data[behaviour_data['NoDX'].isin(['Yes', 'No'])]\n",
    "new_size = behaviour_data.shape[0]\n",
    "print('Removing', initial_size - new_size,\n",
    "      'patients as their evaluation was incomplete.')\n",
    "\n",
    "keep_most_common_diseases = 5\n",
    "healthy_diagnosis = 'No Diagnosis Given'\n",
    "\n",
    "# these disorders should also include the no diagnosis given option\n",
    "keep_most_common_diseases += 1\n",
    "\n",
    "category_columns = ['DX_' + str(i).zfill(2) + '_Cat' for i in range(1, 11)]\n",
    "\n",
    "# count for each disorder number of occurences\n",
    "disorder_counts = {}\n",
    "for val in behaviour_data[category_columns].values.reshape(-1):\n",
    "    if not pd.isnull(val):\n",
    "        if val in disorder_counts:\n",
    "            disorder_counts[val] += 1\n",
    "        else:\n",
    "            disorder_counts[val] = 1\n",
    "\n",
    "# sort in descending order\n",
    "disorder_counts = sorted(disorder_counts.items(), key=lambda kv: -kv[1])\n",
    "\n",
    "most_common_disorders = [x[0]\n",
    "                         for x in disorder_counts[:keep_most_common_diseases]]\n",
    "\n",
    "# find users that have no diagnosis within these top diseases\n",
    "# filtering should cahnge anything as this should also happen at a later stage\n",
    "mask = None\n",
    "for col in category_columns:\n",
    "    mask_col = behaviour_data[col].isin(most_common_disorders)\n",
    "    if mask is None:\n",
    "        mask = mask_col\n",
    "    else:\n",
    "        mask = mask | mask_col\n",
    "\n",
    "initial_size = behaviour_data.shape[0]\n",
    "behaviour_data = behaviour_data[mask]\n",
    "behaviour_data = behaviour_data.reset_index(drop=True)\n",
    "new_size = behaviour_data.shape[0]\n",
    "print('Removing', initial_size - new_size,\n",
    "      'patients as their diagnoses were very uncommon.')"
   ]
  },
  {
   "cell_type": "code",
   "execution_count": 293,
   "metadata": {},
   "outputs": [
    {
     "data": {
      "text/plain": [
       "(1777, 447)"
      ]
     },
     "execution_count": 293,
     "metadata": {},
     "output_type": "execute_result"
    }
   ],
   "source": [
    "behaviour_data.shape"
   ]
  },
  {
   "cell_type": "code",
   "execution_count": 294,
   "metadata": {
    "colab": {
     "base_uri": "https://localhost:8080/",
     "height": 68
    },
    "colab_type": "code",
    "id": "dvPMM3uqlHCA",
    "outputId": "f6b00027-9ada-497c-9576-3230dc02b8bf"
   },
   "outputs": [
    {
     "data": {
      "text/plain": [
       "['Neurodevelopmental Disorders',\n",
       " 'Anxiety Disorders',\n",
       " 'Disruptive',\n",
       " 'No Diagnosis Given',\n",
       " 'Depressive Disorders',\n",
       " 'Elimination Disorders']"
      ]
     },
     "execution_count": 294,
     "metadata": {},
     "output_type": "execute_result"
    }
   ],
   "source": [
    "no_diagnosis_given = 'No Diagnosis Given'\n",
    "most_common_disorders"
   ]
  },
  {
   "cell_type": "code",
   "execution_count": 170,
   "metadata": {
    "colab": {},
    "colab_type": "code",
    "id": "jtO43CsSlHCE"
   },
   "outputs": [],
   "source": [
    "classes = np.zeros((len(most_common_disorders),\n",
    "                    behaviour_data.shape[0]), dtype=np.int32)\n",
    "\n",
    "\n",
    "df_disorders = behaviour_data[category_columns]\n",
    "\n",
    "for i, disorder in enumerate(most_common_disorders):\n",
    "    mask = df_disorders.select_dtypes(include=[object]). \\\n",
    "        applymap(lambda x: disorder in x if pd.notnull(x) else False)\n",
    "\n",
    "    disorder_df = df_disorders[mask.any(axis=1)]\n",
    "\n",
    "    np.add.at(classes[i], disorder_df.index.values, 1)"
   ]
  },
  {
   "cell_type": "markdown",
   "metadata": {
    "colab_type": "text",
    "id": "xH0pCLrWlHCI"
   },
   "source": [
    "Now we can safely remove previous columns describing diagnosis"
   ]
  },
  {
   "cell_type": "code",
   "execution_count": 171,
   "metadata": {
    "colab": {},
    "colab_type": "code",
    "id": "8ILsKEZIlHCJ"
   },
   "outputs": [],
   "source": [
    "behaviour_data_columns = behaviour_data.columns.values.astype(np.str)\n",
    "\n",
    "columns_to_drop = behaviour_data_columns[\n",
    "    np.flatnonzero(np.core.defchararray.find(behaviour_data_columns, 'DX') != -1)]\n",
    "\n",
    "behaviour_data = behaviour_data.drop(columns=columns_to_drop)"
   ]
  },
  {
   "cell_type": "code",
   "execution_count": 172,
   "metadata": {
    "colab": {},
    "colab_type": "code",
    "id": "wHYEGLbqlHCM"
   },
   "outputs": [],
   "source": [
    "for disorder, classification in zip(most_common_disorders, classes):\n",
    "    behaviour_data[disorder] = classification"
   ]
  },
  {
   "cell_type": "code",
   "execution_count": 173,
   "metadata": {
    "colab": {
     "base_uri": "https://localhost:8080/",
     "height": 338
    },
    "colab_type": "code",
    "id": "jE7DVI7WlHCS",
    "outputId": "19ec83d3-d6c9-4acb-b1bb-ca60504ad3b7",
    "scrolled": false
   },
   "outputs": [
    {
     "name": "stdout",
     "output_type": "stream",
     "text": [
      "Shape (1777, 312)\n"
     ]
    },
    {
     "data": {
      "text/html": [
       "<div>\n",
       "<style scoped>\n",
       "    .dataframe tbody tr th:only-of-type {\n",
       "        vertical-align: middle;\n",
       "    }\n",
       "\n",
       "    .dataframe tbody tr th {\n",
       "        vertical-align: top;\n",
       "    }\n",
       "\n",
       "    .dataframe thead th {\n",
       "        text-align: right;\n",
       "    }\n",
       "</style>\n",
       "<table border=\"1\" class=\"dataframe\">\n",
       "  <thead>\n",
       "    <tr style=\"text-align: right;\">\n",
       "      <th></th>\n",
       "      <th>Anonymized.ID</th>\n",
       "      <th>EID</th>\n",
       "      <th>Sex</th>\n",
       "      <th>Age</th>\n",
       "      <th>Study.Site</th>\n",
       "      <th>ACE_Score</th>\n",
       "      <th>APQ_P_OPD</th>\n",
       "      <th>APQ_P_Total</th>\n",
       "      <th>APQ_SR_OPD</th>\n",
       "      <th>APQ_SR_Total</th>\n",
       "      <th>...</th>\n",
       "      <th>YSR_SC</th>\n",
       "      <th>YSR_Ext</th>\n",
       "      <th>YSR_Int</th>\n",
       "      <th>YSR_Total</th>\n",
       "      <th>Neurodevelopmental Disorders</th>\n",
       "      <th>Anxiety Disorders</th>\n",
       "      <th>Disruptive</th>\n",
       "      <th>No Diagnosis Given</th>\n",
       "      <th>Depressive Disorders</th>\n",
       "      <th>Elimination Disorders</th>\n",
       "    </tr>\n",
       "  </thead>\n",
       "  <tbody>\n",
       "    <tr>\n",
       "      <td>0</td>\n",
       "      <td>A00078864</td>\n",
       "      <td>NDARYM832PX3</td>\n",
       "      <td>1</td>\n",
       "      <td>7.048254</td>\n",
       "      <td>1</td>\n",
       "      <td>NaN</td>\n",
       "      <td>NaN</td>\n",
       "      <td>NaN</td>\n",
       "      <td>NaN</td>\n",
       "      <td>NaN</td>\n",
       "      <td>...</td>\n",
       "      <td>NaN</td>\n",
       "      <td>NaN</td>\n",
       "      <td>NaN</td>\n",
       "      <td>NaN</td>\n",
       "      <td>1</td>\n",
       "      <td>1</td>\n",
       "      <td>0</td>\n",
       "      <td>0</td>\n",
       "      <td>0</td>\n",
       "      <td>0</td>\n",
       "    </tr>\n",
       "    <tr>\n",
       "      <td>1</td>\n",
       "      <td>A00078865</td>\n",
       "      <td>NDARNJ687DMC</td>\n",
       "      <td>1</td>\n",
       "      <td>6.348163</td>\n",
       "      <td>1</td>\n",
       "      <td>NaN</td>\n",
       "      <td>NaN</td>\n",
       "      <td>NaN</td>\n",
       "      <td>NaN</td>\n",
       "      <td>NaN</td>\n",
       "      <td>...</td>\n",
       "      <td>NaN</td>\n",
       "      <td>NaN</td>\n",
       "      <td>NaN</td>\n",
       "      <td>NaN</td>\n",
       "      <td>0</td>\n",
       "      <td>0</td>\n",
       "      <td>0</td>\n",
       "      <td>0</td>\n",
       "      <td>1</td>\n",
       "      <td>0</td>\n",
       "    </tr>\n",
       "    <tr>\n",
       "      <td>2</td>\n",
       "      <td>A00078866</td>\n",
       "      <td>NDARRM363BXZ</td>\n",
       "      <td>0</td>\n",
       "      <td>10.052589</td>\n",
       "      <td>1</td>\n",
       "      <td>NaN</td>\n",
       "      <td>NaN</td>\n",
       "      <td>NaN</td>\n",
       "      <td>17.0</td>\n",
       "      <td>118.0</td>\n",
       "      <td>...</td>\n",
       "      <td>NaN</td>\n",
       "      <td>NaN</td>\n",
       "      <td>NaN</td>\n",
       "      <td>NaN</td>\n",
       "      <td>1</td>\n",
       "      <td>0</td>\n",
       "      <td>0</td>\n",
       "      <td>0</td>\n",
       "      <td>0</td>\n",
       "      <td>0</td>\n",
       "    </tr>\n",
       "    <tr>\n",
       "      <td>3</td>\n",
       "      <td>A00078867</td>\n",
       "      <td>NDARUW586LLL</td>\n",
       "      <td>1</td>\n",
       "      <td>12.319415</td>\n",
       "      <td>1</td>\n",
       "      <td>NaN</td>\n",
       "      <td>NaN</td>\n",
       "      <td>NaN</td>\n",
       "      <td>NaN</td>\n",
       "      <td>NaN</td>\n",
       "      <td>...</td>\n",
       "      <td>9.0</td>\n",
       "      <td>16.0</td>\n",
       "      <td>29.0</td>\n",
       "      <td>85.0</td>\n",
       "      <td>0</td>\n",
       "      <td>0</td>\n",
       "      <td>0</td>\n",
       "      <td>0</td>\n",
       "      <td>1</td>\n",
       "      <td>0</td>\n",
       "    </tr>\n",
       "    <tr>\n",
       "      <td>4</td>\n",
       "      <td>A00078868</td>\n",
       "      <td>NDARDC298NW4</td>\n",
       "      <td>0</td>\n",
       "      <td>13.901437</td>\n",
       "      <td>1</td>\n",
       "      <td>NaN</td>\n",
       "      <td>NaN</td>\n",
       "      <td>NaN</td>\n",
       "      <td>33.0</td>\n",
       "      <td>154.0</td>\n",
       "      <td>...</td>\n",
       "      <td>11.0</td>\n",
       "      <td>10.0</td>\n",
       "      <td>26.0</td>\n",
       "      <td>70.0</td>\n",
       "      <td>1</td>\n",
       "      <td>0</td>\n",
       "      <td>0</td>\n",
       "      <td>0</td>\n",
       "      <td>0</td>\n",
       "      <td>0</td>\n",
       "    </tr>\n",
       "  </tbody>\n",
       "</table>\n",
       "<p>5 rows × 312 columns</p>\n",
       "</div>"
      ],
      "text/plain": [
       "  Anonymized.ID           EID  Sex        Age  Study.Site  ACE_Score  \\\n",
       "0     A00078864  NDARYM832PX3    1   7.048254           1        NaN   \n",
       "1     A00078865  NDARNJ687DMC    1   6.348163           1        NaN   \n",
       "2     A00078866  NDARRM363BXZ    0  10.052589           1        NaN   \n",
       "3     A00078867  NDARUW586LLL    1  12.319415           1        NaN   \n",
       "4     A00078868  NDARDC298NW4    0  13.901437           1        NaN   \n",
       "\n",
       "   APQ_P_OPD  APQ_P_Total  APQ_SR_OPD  APQ_SR_Total  ...  YSR_SC  YSR_Ext  \\\n",
       "0        NaN          NaN         NaN           NaN  ...     NaN      NaN   \n",
       "1        NaN          NaN         NaN           NaN  ...     NaN      NaN   \n",
       "2        NaN          NaN        17.0         118.0  ...     NaN      NaN   \n",
       "3        NaN          NaN         NaN           NaN  ...     9.0     16.0   \n",
       "4        NaN          NaN        33.0         154.0  ...    11.0     10.0   \n",
       "\n",
       "   YSR_Int  YSR_Total  Neurodevelopmental Disorders  Anxiety Disorders  \\\n",
       "0      NaN        NaN                             1                  1   \n",
       "1      NaN        NaN                             0                  0   \n",
       "2      NaN        NaN                             1                  0   \n",
       "3     29.0       85.0                             0                  0   \n",
       "4     26.0       70.0                             1                  0   \n",
       "\n",
       "   Disruptive  No Diagnosis Given  Depressive Disorders  Elimination Disorders  \n",
       "0           0                   0                     0                      0  \n",
       "1           0                   0                     1                      0  \n",
       "2           0                   0                     0                      0  \n",
       "3           0                   0                     1                      0  \n",
       "4           0                   0                     0                      0  \n",
       "\n",
       "[5 rows x 312 columns]"
      ]
     },
     "execution_count": 173,
     "metadata": {},
     "output_type": "execute_result"
    }
   ],
   "source": [
    "print('Shape', behaviour_data.shape)\n",
    "behaviour_data.head(5)"
   ]
  },
  {
   "cell_type": "markdown",
   "metadata": {},
   "source": [
    "## Methods to consider"
   ]
  },
  {
   "cell_type": "markdown",
   "metadata": {
    "colab_type": "text",
    "id": "Brc4Ej64lHCW"
   },
   "source": [
    "We are going to explore some different imputation methods. More specifically:\n",
    "1. Do nothing\n",
    "2. Imputation Using (Mean/Median/Most Frequent) Values\n",
    "3. Imputation Using k-NN\n",
    "4. Imputation Using MissForest\n",
    "5. Expectation Maximization\n",
    "6. Add features based on whether the value exists or not\n",
    "7. Autoencoder\n",
    "8. GAN"
   ]
  },
  {
   "cell_type": "code",
   "execution_count": 25,
   "metadata": {
    "colab": {},
    "colab_type": "code",
    "id": "VAaEFpailHCX"
   },
   "outputs": [],
   "source": [
    "import sys\n",
    "import xgboost as xgb\n",
    "from missingpy import KNNImputer, MissForest\n",
    "import impyute as impy\n",
    "from sklearn.metrics import accuracy_score, confusion_matrix, precision_recall_fscore_support\n",
    "from sklearn.ensemble import RandomForestClassifier\n",
    "from sklearn.model_selection import train_test_split\n",
    "from sklearn.exceptions import UndefinedMetricWarning"
   ]
  },
  {
   "cell_type": "code",
   "execution_count": 26,
   "metadata": {
    "colab": {},
    "colab_type": "code",
    "id": "31GgQrw-lHCa"
   },
   "outputs": [],
   "source": [
    "# fdx and mdx may contain 'No Diagnosis'\n",
    "# drop them for now but they may be important\n",
    "# they correspond to father's and mother's primary diagnosis\n",
    "columns_to_drop = ['Anonymized.ID', 'EID', 'mdx', 'fdx', 'fcodxm_1', 'fcodxm_2', 'fcodxm_3', 'mcodxm_1',\n",
    "                   'mcodxm_2', 'mcodxm_3', 'mcodxmdt', 'TOWRE_Total_Desc', 'Picture_Vocab_Raw',\n",
    "                   'sib1dx', 'sib1codxm_1', 'sib1codxm_2', 'sib1codxm_3',\n",
    "                   'sib2dx', 'sib2codxm_1', 'sib2codxm_2', 'sib2codxm_3',\n",
    "                   'sib3dx', 'sib3codxm_1', 'sib3codxm_2', 'sib3codxm_3',\n",
    "                   'sib4dx', 'sib4codxm_1', 'sib4codxm_2', 'sib4codxm_3',\n",
    "                   'sib5dx', 'sib5codxm_1', 'sib5codxm_2', 'sib5codxm_3']\n",
    "\n",
    "processed = behaviour_data.drop(columns=columns_to_drop)\n",
    "most_common_disorders = list(most_common_disorders)"
   ]
  },
  {
   "cell_type": "code",
   "execution_count": 27,
   "metadata": {
    "colab": {},
    "colab_type": "code",
    "id": "jcWqyFoTlHCd"
   },
   "outputs": [],
   "source": [
    "from sklearn.model_selection import KFold\n",
    "\n",
    "\n",
    "def run_binary_classification(dataset, disorders_to_check, clf, imputer, imputer_requires_disorder,\n",
    "                              drop_missing_threshold, *args):\n",
    "\n",
    "    conf_matrices = []\n",
    "    for check_disorder in disorders_to_check:\n",
    "\n",
    "        if check_disorder == no_diagnosis_given:\n",
    "            continue\n",
    "\n",
    "        # only include patients that have that particular disease vs patients that are healthy\n",
    "        temp = dataset[(dataset[check_disorder] == 1) |\n",
    "                       (dataset[healthy_diagnosis] == 1)]\n",
    "\n",
    "        pos = most_common_disorders.index(check_disorder)\n",
    "\n",
    "        columns_to_drop = most_common_disorders[:pos] + \\\n",
    "            most_common_disorders[(pos + 1):]\n",
    "        temp = temp.drop(columns=columns_to_drop)\n",
    "\n",
    "        kf = KFold(n_splits=5, random_state=42, shuffle=True)\n",
    "        kf.get_n_splits(temp)\n",
    "\n",
    "        preds = np.zeros(temp.shape[0])\n",
    "\n",
    "        for train_index, test_index in kf.split(temp):\n",
    "            train, test = temp.iloc[train_index], temp.iloc[test_index]\n",
    "\n",
    "            if drop_missing_threshold is None:\n",
    "                drop_missing_threshold = 1  # drop only columns that contain only Nans\n",
    "\n",
    "            # drop features missing in drop_missing_threshold percent of the time or more\n",
    "            # The missingpy algorithms to work require that not columsn have more than 80% missing values\n",
    "\n",
    "            columns_mask = pd.isnull(train).sum() / \\\n",
    "                train.shape[0] >= drop_missing_threshold\n",
    "\n",
    "            print('Droping this many columns:', np.sum(columns_mask))\n",
    "\n",
    "            dropped_columns = train.columns[columns_mask]\n",
    "\n",
    "            train = train.drop(columns=dropped_columns)\n",
    "            test = test.drop(columns=dropped_columns)\n",
    "\n",
    "            if imputer_requires_disorder:\n",
    "                train, test = imputer(train, test, check_disorder, *args)\n",
    "            else:\n",
    "                train, test = imputer(train, test, *args)\n",
    "\n",
    "            clf.fit(train.drop(\n",
    "                columns=[check_disorder]), train[check_disorder])\n",
    "            preds[test_index] = clf.predict(\n",
    "                test.drop(columns=[check_disorder]))\n",
    "\n",
    "        y_true = temp[check_disorder]\n",
    "\n",
    "        conf = confusion_matrix(y_true, preds)\n",
    "\n",
    "        conf_matrices.append(conf)\n",
    "\n",
    "    return conf_matrices"
   ]
  },
  {
   "cell_type": "markdown",
   "metadata": {
    "colab_type": "text",
    "id": "LieoXkGolHCh"
   },
   "source": [
    "Before actually droping columns that cannot be incorporated for the next analysis as they are categorical values, we should check their correlation with the predicted classes!"
   ]
  },
  {
   "cell_type": "code",
   "execution_count": 29,
   "metadata": {
    "colab": {
     "base_uri": "https://localhost:8080/",
     "height": 119
    },
    "colab_type": "code",
    "id": "SeUKxklulHCi",
    "outputId": "e1fdbdee-f78c-44b9-d8db-51399b1ead1c"
   },
   "outputs": [
    {
     "name": "stderr",
     "output_type": "stream",
     "text": [
      "/usr/local/lib/python3.7/site-packages/ipykernel_launcher.py:9: SettingWithCopyWarning: \n",
      "A value is trying to be set on a copy of a slice from a DataFrame.\n",
      "Try using .loc[row_indexer,col_indexer] = value instead\n",
      "\n",
      "See the caveats in the documentation: http://pandas.pydata.org/pandas-docs/stable/user_guide/indexing.html#returning-a-view-versus-a-copy\n",
      "  if __name__ == '__main__':\n"
     ]
    }
   ],
   "source": [
    "disorder_corr = np.zeros(\n",
    "    (len(columns_to_drop) - 2, len(most_common_disorders)))\n",
    "\n",
    "# the disorder to find the correlation for\n",
    "for index, disorder in enumerate(most_common_disorders):\n",
    "    dropped_columns_dataset = behaviour_data[columns_to_drop + [\n",
    "        most_common_disorders[index]]]\n",
    "\n",
    "    # remove the anonymized id and the EID\n",
    "    for col in dropped_columns_dataset[2:-1]:\n",
    "        dropped_columns_dataset[col] = dropped_columns_dataset[col].astype(\n",
    "            'category').cat.codes\n",
    "\n",
    "    disorder_corr[:, index] = dropped_columns_dataset[dropped_columns_dataset.columns[2:]].corr()[\n",
    "        most_common_disorders[index]][:-1].values"
   ]
  },
  {
   "cell_type": "code",
   "execution_count": 30,
   "metadata": {
    "colab": {
     "base_uri": "https://localhost:8080/",
     "height": 441
    },
    "colab_type": "code",
    "id": "HRam24hflHCl",
    "outputId": "daf23b69-4154-4d6f-9ceb-025fe901a35e"
   },
   "outputs": [
    {
     "data": {
      "image/png": "[encoded data removed]",
      "text/plain": [
       "<Figure size 1008x432 with 2 Axes>"
      ]
     },
     "metadata": {
      "needs_background": "light"
     },
     "output_type": "display_data"
    }
   ],
   "source": [
    "correlation_df = pd.DataFrame(\n",
    "    disorder_corr.T, columns=columns_to_drop[2:], index=most_common_disorders)\n",
    "sns.heatmap(correlation_df)\n",
    "\n",
    "plt.title('Correlation between disorders and discarded categorical features')\n",
    "plt.ylim([len(most_common_disorders), 0])\n",
    "plt.tight_layout()\n",
    "\n",
    "plt.show()"
   ]
  },
  {
   "cell_type": "markdown",
   "metadata": {},
   "source": [
    "For the next experiments and in order to compare different methods we will use the same classifier:"
   ]
  },
  {
   "cell_type": "code",
   "execution_count": 31,
   "metadata": {
    "colab": {},
    "colab_type": "code",
    "id": "OwzRM_RyFXrX"
   },
   "outputs": [],
   "source": [
    "clf = RandomForestClassifier(class_weight='balanced', n_estimators=100)"
   ]
  },
  {
   "cell_type": "markdown",
   "metadata": {
    "colab_type": "text",
    "id": "d1L1Vx_ilHCo"
   },
   "source": [
    "### Do nothing\n",
    "\n",
    "Some algorithms such as XGBoost can deal with Nans. Careful when comparing accuracy with the other mehtods that all have the same classifier as comparison"
   ]
  },
  {
   "cell_type": "code",
   "execution_count": null,
   "metadata": {
    "colab": {},
    "colab_type": "code",
    "id": "uyrCNg6tlHCp",
    "outputId": "d6481be1-5cd9-4acb-9e6d-e4d96037a697"
   },
   "outputs": [],
   "source": [
    "def do_nothing(x, y):\n",
    "    return x, y\n",
    "\n",
    "\n",
    "run_binary_classification(processed, most_common_disorders,\n",
    "                          xgb.XGBClassifier(), do_nothing, False, None)"
   ]
  },
  {
   "cell_type": "markdown",
   "metadata": {
    "colab_type": "text",
    "id": "F3R_gvdrlHC1"
   },
   "source": [
    "### Imputation Using (Mean/Median/Most_frequent) Values"
   ]
  },
  {
   "cell_type": "code",
   "execution_count": null,
   "metadata": {
    "colab": {},
    "colab_type": "code",
    "id": "wQakmM9OlHC2"
   },
   "outputs": [],
   "source": [
    "strategy = 'median'\n",
    "\n",
    "\n",
    "def standard_imputer(x, y, strategy):\n",
    "    assert strategy in ['mean', 'median', 'most_frequent']\n",
    "    if strategy == 'mean':\n",
    "        filling = x.mean()\n",
    "    elif strategy == 'median':\n",
    "        filling = x.median()\n",
    "    elif strategy == 'most_frequent':\n",
    "        filling = x.mode().iloc[0]\n",
    "\n",
    "    return x.fillna(filling), y.fillna(filling)\n",
    "\n",
    "\n",
    "run_binary_classification(processed, most_common_disorders,\n",
    "                          clf, standard_imputer, False, None, strategy)"
   ]
  },
  {
   "cell_type": "markdown",
   "metadata": {
    "colab_type": "text",
    "id": "5tBE2_AjlHC5"
   },
   "source": [
    "### Imputation Using k-NN\n",
    "\n",
    "The algorithm uses ‘feature similarity’ to predict the values of any new data points. This means that the new point is assigned a value based on how closely it resembles the points in the training set. This methos from the missingpy library requires that no more than 80\\% of the values are missing for a specific column"
   ]
  },
  {
   "cell_type": "code",
   "execution_count": null,
   "metadata": {
    "colab": {},
    "colab_type": "code",
    "id": "VO0LR6XLlHDB",
    "outputId": "cfe3cb88-bf2d-495f-e8d3-956cfde08a5c"
   },
   "outputs": [],
   "source": [
    "def imputer_fun(x, y, my_imputer):\n",
    "    x_new = my_inputer.fit_transform(x)\n",
    "    y_new = my_inputer.transform(y)\n",
    "\n",
    "    x[x.columns] = x_new\n",
    "    y[y.columns] = y_new\n",
    "    return x, y\n",
    "\n",
    "\n",
    "my_inputer = KNNImputer(n_neighbors=5, weights=\"distance\")\n",
    "\n",
    "run_binary_classification(processed, most_common_disorders,\n",
    "                          clf, imputer_fun, False, 0.8, my_inputer)"
   ]
  },
  {
   "cell_type": "markdown",
   "metadata": {},
   "source": [
    "### Imputation using MissForest\n",
    "\n",
    "The algorithm, for each variable missForest fits a random forest on the observed part and then predicts the missing part. The algorithm continues to repeat these two steps until a stopping criterion is met or the user specified maximum of iterations is reached. "
   ]
  },
  {
   "cell_type": "code",
   "execution_count": null,
   "metadata": {
    "colab": {},
    "colab_type": "code",
    "id": "SCcM_O93lHDE",
    "scrolled": true
   },
   "outputs": [],
   "source": [
    "def imputer_fun(x, y, my_imputer):\n",
    "    x_new = my_inputer.fit_transform(x)\n",
    "    y_new = my_inputer.transform(y)\n",
    "\n",
    "    x[x.columns] = x_new\n",
    "    y[y.columns] = y_new\n",
    "    return x, y\n",
    "\n",
    "\n",
    "my_inputer = MissForest(max_depth=4, n_estimators=30)\n",
    "\n",
    "run_binary_classification(processed, most_common_disorders,\n",
    "                          clf, imputer_fun, False, None, my_inputer)"
   ]
  },
  {
   "cell_type": "markdown",
   "metadata": {
    "colab_type": "text",
    "id": "HZDQU4LQlHDG"
   },
   "source": [
    "### Expectation Maximization"
   ]
  },
  {
   "cell_type": "code",
   "execution_count": null,
   "metadata": {
    "colab": {},
    "colab_type": "code",
    "id": "qzNAu6qmlHDI"
   },
   "outputs": [],
   "source": [
    "def imputer_em(x, y, disorder):\n",
    "    # Should we drop here the predicted column or not?\n",
    "    # We can probably keep them but not particular differerence\n",
    "    x_values = x.drop(columns=disorder).values\n",
    "    y_values = y.drop(columns=disorder).values\n",
    "    total_values = np.concatenate((x_values, y_values), axis=0)\n",
    "\n",
    "    total_values = impy.em(total_values)\n",
    "\n",
    "    x.loc[:, x.columns != disorder] = total_values[:x.shape[0]]\n",
    "    y.loc[:, y.columns != disorder] = total_values[len(\n",
    "        total_values) - y.shape[0]:]\n",
    "\n",
    "    return x, y\n",
    "\n",
    "\n",
    "run_binary_classification(\n",
    "    processed, most_common_disorders, clf, imputer_em, True, None)"
   ]
  },
  {
   "cell_type": "markdown",
   "metadata": {
    "colab_type": "text",
    "id": "NQ_4u13zlHDX"
   },
   "source": [
    "### Add features based on whether the value exists or not\n",
    "\n",
    "For this part we should take into account which exact features can have Nan values\n",
    "\n",
    "The features that do not take any null values are 'Sex', 'Age', 'Study.Site' and the disorder we are currently checking for"
   ]
  },
  {
   "cell_type": "code",
   "execution_count": null,
   "metadata": {
    "colab": {},
    "colab_type": "code",
    "id": "ixc9O6wjlHDY",
    "outputId": "21dc0c25-9269-4d76-87b3-0bb1eb413adf"
   },
   "outputs": [],
   "source": [
    "def process_dataset(x, cols):\n",
    "    x1 = x.drop(columns=cols).isna().astype('int32')\n",
    "\n",
    "    # change column naming to enable the inner join\n",
    "    x1.columns = [col + '_existence' for col in x1.columns]\n",
    "    return x.join(x1)\n",
    "\n",
    "\n",
    "def data_and_existence_of_features(x, y, disorder):\n",
    "    cols = ['Sex', 'Age', 'Study.Site', disorder]\n",
    "    rest_of_columns = list(x.columns.values)\n",
    "    for c in cols:\n",
    "        rest_of_columns.remove(c)\n",
    "\n",
    "    x_new = process_dataset(x, cols)\n",
    "    y_new = process_dataset(y, cols)\n",
    "\n",
    "    # finally fill in remaining values with the median as done in the standard method\n",
    "    x_new[rest_of_columns], y_new[rest_of_columns] = standard_imputer(x_new[rest_of_columns],\n",
    "                                                                      y_new[rest_of_columns],\n",
    "                                                                      'median')\n",
    "    return x_new, y_new\n",
    "\n",
    "\n",
    "run_binary_classification(processed, most_common_disorders,\n",
    "                          clf, data_and_existence_of_features, True, None)"
   ]
  },
  {
   "cell_type": "markdown",
   "metadata": {
    "colab_type": "text",
    "id": "gM7hJVI8lHDc"
   },
   "source": [
    "### Autoencoder"
   ]
  },
  {
   "cell_type": "markdown",
   "metadata": {
    "colab_type": "text",
    "id": "YKv9t65iEjKv"
   },
   "source": [
    "Before using an autoencoder we should actually scale the data first!"
   ]
  },
  {
   "cell_type": "code",
   "execution_count": null,
   "metadata": {
    "colab": {},
    "colab_type": "code",
    "id": "0kDm7aYvlHDn",
    "scrolled": true
   },
   "outputs": [],
   "source": [
    "from sklearn.preprocessing import MinMaxScaler\n",
    "\n",
    "layers = [50, 25, 25]\n",
    "learning_rate = 5\n",
    "masking = 0.15\n",
    "dropout = 0.\n",
    "regularization = 8.\n",
    "n_epochs = 300\n",
    "\n",
    "\n",
    "def imputer_autoencoder(x, y, disorder):\n",
    "    original_x_labels = x[disorder].values\n",
    "    original_y_labels = y[disorder].values\n",
    "\n",
    "    data = x.values.copy()\n",
    "    test_data = y.values.copy()\n",
    "    col_mean = np.nanmean(data, axis=0)\n",
    "\n",
    "    scaler = MinMaxScaler()\n",
    "    data = scaler.fit_transform(data)\n",
    "    test_data = scaler.fit_transform(test_data)\n",
    "\n",
    "    data_mask = ~np.isnan(data)\n",
    "    test_data_mask = ~np.isnan(test_data)\n",
    "\n",
    "    # fill all nan values with a dummy value\n",
    "    # in this case we are considering the mean value\n",
    "\n",
    "    inds = np.where(np.isnan(data))\n",
    "    data[inds] = np.take(col_mean, inds[1])\n",
    "    inds = np.where(np.isnan(test_data))\n",
    "    test_data[inds] = np.take(col_mean, inds[1])\n",
    "\n",
    "    autoencoder = Autoencoder(data.shape[1], layers=layers, masking=masking, regularization=regularization,\n",
    "                              dropout=dropout)\n",
    "    autoencoder.fit(data, data_mask, learning_rate=learning_rate,\n",
    "                    print_every_epochs=1, n_epochs=n_epochs)\n",
    "\n",
    "    reconstructed_data = autoencoder.reconstruct(data)\n",
    "    data[~data_mask] = reconstructed_data[~data_mask]\n",
    "\n",
    "    reconstructed_test_data = autoencoder.reconstruct(test_data)\n",
    "    test_data[~test_data_mask] = reconstructed_test_data[~test_data_mask]\n",
    "\n",
    "    x[x.columns] = data\n",
    "    y[y.columns] = test_data\n",
    "\n",
    "    # this step should not be really required as these values are not Nan\n",
    "    # and so they are not replaced during the previous step\n",
    "    x[disorder] = original_x_labels\n",
    "    y[disorder] = original_y_labels\n",
    "\n",
    "    return x, y\n",
    "\n",
    "\n",
    "conf_matrices = run_binary_classification(\n",
    "    processed, most_common_disorders, clf, imputer_autoencoder, True, None)"
   ]
  },
  {
   "cell_type": "markdown",
   "metadata": {
    "colab_type": "text",
    "id": "GmHy-p0RlHDq"
   },
   "source": [
    "We can also make predictions based on solely the latent space. This does not seem to work well."
   ]
  },
  {
   "cell_type": "code",
   "execution_count": null,
   "metadata": {
    "colab": {},
    "colab_type": "code",
    "id": "WXcg8PlVlHDt"
   },
   "outputs": [],
   "source": [
    "def autoencoder_latent(x, y, disorder):\n",
    "    original_x_labels = x[disorder].values\n",
    "    original_y_labels = y[disorder].values\n",
    "\n",
    "    data = x.values.copy()\n",
    "    test_data = y.values.copy()\n",
    "    col_mean = np.nanmean(data, axis=0)\n",
    "\n",
    "    scaler = MinMaxScaler()\n",
    "    data = scaler.fit_transform(data)\n",
    "    test_data = scaler.fit_transform(test_data)\n",
    "\n",
    "    data_mask = ~np.isnan(data)\n",
    "    test_data_mask = ~np.isnan(test_data)\n",
    "\n",
    "    inds = np.where(np.isnan(data))\n",
    "    data[inds] = np.take(col_mean, inds[1])\n",
    "    inds = np.where(np.isnan(test_data))\n",
    "    test_data[inds] = np.take(col_mean, inds[1])\n",
    "\n",
    "    autoencoder = Autoencoder(data.shape[1], layers=layers, masking=masking, regularization=regularization,\n",
    "                              dropout=dropout)\n",
    "    autoencoder.fit(data, data_mask, learning_rate=learning_rate,\n",
    "                    print_every_epochs=1, n_epochs=n_epochs)\n",
    "\n",
    "    # only difference is this step here\n",
    "    latent_data = autoencoder.get_latent_space(data)\n",
    "    latent_test_data = autoencoder.get_latent_space(test_data)\n",
    "\n",
    "    data_new = np.concatenate(\n",
    "        (latent_data, np.expand_dims(original_x_labels, axis=1)), axis=1)\n",
    "    data_new = pd.DataFrame(data_new, columns=list(\n",
    "        range(autoencoder.layers[-1])) + [disorder])\n",
    "\n",
    "    data_test_new = np.concatenate(\n",
    "        (latent_test_data, np.expand_dims(original_y_labels, axis=1)), axis=1)\n",
    "    data_test_new = pd.DataFrame(data_test_new, columns=list(\n",
    "        range(autoencoder.layers[-1])) + [disorder])\n",
    "\n",
    "    return data_new, data_test_new\n",
    "\n",
    "\n",
    "conf_matrices = run_binary_classification(\n",
    "    processed, most_common_disorders, clf, autoencoder_latent, True, None)"
   ]
  },
  {
   "cell_type": "markdown",
   "metadata": {
    "colab_type": "text",
    "id": "Py-Q50164X3h"
   },
   "source": [
    "### Generative Adversarial model for imputation of missign values\n",
    "\n",
    "Based on the paper: http://medianetlab.ee.ucla.edu/papers/ICML_GAIN.pdf"
   ]
  },
  {
   "cell_type": "markdown",
   "metadata": {
    "colab_type": "text",
    "id": "eZaYmXRU_Nab"
   },
   "source": [
    "TODO: Also try to start also only with columns having values with a threshold regarding the nans in a single column"
   ]
  },
  {
   "cell_type": "code",
   "execution_count": null,
   "metadata": {},
   "outputs": [],
   "source": [
    "import tensorflow as tf\n",
    "from sklearn.preprocessing import MinMaxScaler\n",
    "from sklearn.utils import shuffle"
   ]
  },
  {
   "cell_type": "code",
   "execution_count": 0,
   "metadata": {
    "colab": {},
    "colab_type": "code",
    "id": "p4E--QT54XDg"
   },
   "outputs": [],
   "source": [
    "# find indices of Nan values\n",
    "mask_nans = (np.sum(pd.isnull(processed)) > 0).values\n",
    "columns_with_nans = processed.columns[mask_nans]\n",
    "\n",
    "data_nans = processed[columns_with_nans].values\n",
    "data_nans = data_nans.copy()"
   ]
  },
  {
   "cell_type": "code",
   "execution_count": 0,
   "metadata": {
    "colab": {},
    "colab_type": "code",
    "id": "twLemwKD9UoN"
   },
   "outputs": [],
   "source": [
    "# MODEL PARAMETERS\n",
    "\n",
    "# Mini batch size\n",
    "mb_size = 8\n",
    "\n",
    "# Hint rate\n",
    "p_hint = 0.9\n",
    "\n",
    "# Loss Hyperparameters\n",
    "alpha = 10\n",
    "\n",
    "# SHOULD WE SPLIT INTO TRAIN AND TEST SET HERE?"
   ]
  },
  {
   "cell_type": "code",
   "execution_count": 0,
   "metadata": {
    "colab": {},
    "colab_type": "code",
    "id": "aop_bqb_9Uvq"
   },
   "outputs": [],
   "source": [
    "Dim = data_nans.shape[1]\n",
    "\n",
    "# Hidden state dimensions\n",
    "H_Dim1 = Dim\n",
    "H_Dim2 = Dim\n",
    "\n",
    "# scale the data\n",
    "scaler = MinMaxScaler()\n",
    "data_nans = scaler.fit_transform(data_nans)\n",
    "\n",
    "missing = np.isnan(data_nans)\n",
    "\n",
    "# fill in missing values\n",
    "data_nans[missing] = 0\n",
    "missing = 1 - missing.astype(np.int32)"
   ]
  },
  {
   "cell_type": "code",
   "execution_count": 0,
   "metadata": {
    "colab": {},
    "colab_type": "code",
    "id": "8yPeJjRLDPSq"
   },
   "outputs": [],
   "source": [
    "# start defining the graph\n",
    "\n",
    "tf.reset_default_graph()"
   ]
  },
  {
   "cell_type": "code",
   "execution_count": 0,
   "metadata": {
    "colab": {},
    "colab_type": "code",
    "id": "CCQl_qdw9U5h"
   },
   "outputs": [],
   "source": [
    "# 1. Xavier Initialization Definition\n",
    "def xavier_init(size):\n",
    "    in_dim = size[0]\n",
    "    xavier_stddev = 1. / tf.sqrt(in_dim / 2.)\n",
    "    return tf.random_normal(shape=size, stddev=xavier_stddev)\n",
    "\n",
    "# Hint Vector Generation\n",
    "\n",
    "\n",
    "def sample_M(m, n, p):\n",
    "    A = np.random.uniform(0., 1., size=[m, n])\n",
    "    B = A > p\n",
    "    C = 1.*B\n",
    "    return C\n",
    "\n",
    "# %% GAIN Architecture\n",
    "\n",
    "\n",
    "# %% 1. Input Placeholders\n",
    "# 1.1. Data Vector\n",
    "X = tf.placeholder(tf.float32, shape=[None, Dim])\n",
    "# 1.2. Mask Vector\n",
    "M = tf.placeholder(tf.float32, shape=[None, Dim])\n",
    "# 1.3. Hint vector\n",
    "H = tf.placeholder(tf.float32, shape=[None, Dim])\n",
    "# 1.4. X with missing values\n",
    "New_X = tf.placeholder(tf.float32, shape=[None, Dim])\n",
    "\n",
    "# %% 2. Discriminator\n",
    "D_W1 = tf.Variable(xavier_init([Dim*2, H_Dim1]))     # Data + Hint as inputs\n",
    "D_b1 = tf.Variable(tf.zeros(shape=[H_Dim1]))\n",
    "\n",
    "D_W2 = tf.Variable(xavier_init([H_Dim1, H_Dim2]))\n",
    "D_b2 = tf.Variable(tf.zeros(shape=[H_Dim2]))\n",
    "\n",
    "D_W3 = tf.Variable(xavier_init([H_Dim2, Dim]))\n",
    "D_b3 = tf.Variable(tf.zeros(shape=[Dim]))       # Output is multi-variate\n",
    "\n",
    "theta_D = [D_W1, D_W2, D_W3, D_b1, D_b2, D_b3]\n",
    "\n",
    "# %% 3. Generator\n",
    "# Data + Mask as inputs (Random Noises are in Missing Components)\n",
    "G_W1 = tf.Variable(xavier_init([Dim*2, H_Dim1]))\n",
    "G_b1 = tf.Variable(tf.zeros(shape=[H_Dim1]))\n",
    "\n",
    "G_W2 = tf.Variable(xavier_init([H_Dim1, H_Dim2]))\n",
    "G_b2 = tf.Variable(tf.zeros(shape=[H_Dim2]))\n",
    "\n",
    "G_W3 = tf.Variable(xavier_init([H_Dim2, Dim]))\n",
    "G_b3 = tf.Variable(tf.zeros(shape=[Dim]))\n",
    "\n",
    "theta_G = [G_W1, G_W2, G_W3, G_b1, G_b2, G_b3]"
   ]
  },
  {
   "cell_type": "code",
   "execution_count": 0,
   "metadata": {
    "colab": {},
    "colab_type": "code",
    "id": "0RBNQWWy-9t1"
   },
   "outputs": [],
   "source": [
    "# %% GAIN Function\n",
    "\n",
    "# %% 1. Generator\n",
    "\n",
    "\n",
    "def generator(new_x, m):\n",
    "    inputs = tf.concat(axis=1, values=[new_x, m])  # Mask + Data Concatenate\n",
    "    G_h1 = tf.nn.relu(tf.matmul(inputs, G_W1) + G_b1)\n",
    "    G_h2 = tf.nn.relu(tf.matmul(G_h1, G_W2) + G_b2)\n",
    "    # [0,1] normalized Output\n",
    "    G_prob = tf.nn.sigmoid(tf.matmul(G_h2, G_W3) + G_b3)\n",
    "\n",
    "    return G_prob\n",
    "\n",
    "# %% 2. Discriminator\n",
    "\n",
    "\n",
    "def discriminator(new_x, h):\n",
    "    inputs = tf.concat(axis=1, values=[new_x, h])  # Hint + Data Concatenate\n",
    "    D_h1 = tf.nn.relu(tf.matmul(inputs, D_W1) + D_b1)\n",
    "    D_h2 = tf.nn.relu(tf.matmul(D_h1, D_W2) + D_b2)\n",
    "    D_logit = tf.matmul(D_h2, D_W3) + D_b3\n",
    "    D_prob = tf.nn.sigmoid(D_logit)  # [0,1] Probability Output\n",
    "\n",
    "    return D_prob"
   ]
  },
  {
   "cell_type": "code",
   "execution_count": 0,
   "metadata": {
    "colab": {},
    "colab_type": "code",
    "id": "b6Z4D0SO-9yr"
   },
   "outputs": [],
   "source": [
    "# %% 3. Other functions\n",
    "# Random sample generator for Z\n",
    "\n",
    "\n",
    "def sample_Z(m, n):\n",
    "    return np.random.uniform(0., 0.01, size=[m, n])\n",
    "\n",
    "# Mini-batch generation\n",
    "\n",
    "\n",
    "def sample_idx(m, n):\n",
    "    A = np.random.permutation(m)\n",
    "    idx = A[:n]\n",
    "    return idx\n",
    "\n",
    "\n",
    "# %% Structure\n",
    "# Generator\n",
    "G_sample = generator(New_X, M)\n",
    "\n",
    "# Combine with original data\n",
    "Hat_New_X = New_X * M + G_sample * (1-M)\n",
    "\n",
    "# Discriminator\n",
    "D_prob = discriminator(Hat_New_X, H)\n",
    "\n",
    "# %% Loss\n",
    "D_loss1 = -tf.reduce_mean(M * tf.log(D_prob + 1e-8) +\n",
    "                          (1-M) * tf.log(1. - D_prob + 1e-8))\n",
    "G_loss1 = -tf.reduce_mean((1-M) * tf.log(D_prob + 1e-8))\n",
    "MSE_train_loss = tf.reduce_mean(\n",
    "    (M * New_X - M * G_sample)**2) / tf.reduce_mean(M)\n",
    "\n",
    "D_loss = D_loss1\n",
    "G_loss = G_loss1 + alpha * MSE_train_loss\n",
    "\n",
    "# %% Solver\n",
    "D_solver = tf.train.AdamOptimizer().minimize(D_loss, var_list=theta_D)\n",
    "G_solver = tf.train.AdamOptimizer().minimize(G_loss, var_list=theta_G)"
   ]
  },
  {
   "cell_type": "code",
   "execution_count": 0,
   "metadata": {
    "colab": {},
    "colab_type": "code",
    "id": "-0__8nio-95q"
   },
   "outputs": [],
   "source": [
    "# %% Iterations\n",
    "# %% Start Iterations\n",
    "\n",
    "\n",
    "def get_batches(iterable, batch_size=16, do_shuffle=True):\n",
    "    if do_shuffle:\n",
    "        iterable = shuffle(iterable)\n",
    "\n",
    "    length = len(iterable)\n",
    "    for ndx in range(0, length, batch_size):\n",
    "        iterable_batch = iterable[ndx: min(ndx + batch_size, length)]\n",
    "        yield iterable_batch\n",
    "\n",
    "\n",
    "print_every_epochs = 20\n",
    "\n",
    "sess = tf.Session()\n",
    "sess.run(tf.global_variables_initializer())\n",
    "\n",
    "n_epochs = 300\n",
    "for epoch in range(n_epochs):\n",
    "\n",
    "    for mb_idx in get_batches(range(data_nans.shape[0]), batch_size=mb_size):\n",
    "        # %% Inputs\n",
    "        X_mb = data_nans[mb_idx, :]\n",
    "\n",
    "        Z_mb = sample_Z(len(mb_idx), Dim)\n",
    "        M_mb = missing[mb_idx, :]\n",
    "        H_mb1 = sample_M(len(mb_idx), Dim, 1-p_hint)\n",
    "        H_mb = M_mb * H_mb1\n",
    "\n",
    "        New_X_mb = M_mb * X_mb + (1-M_mb) * Z_mb  # Missing Data Introduce\n",
    "\n",
    "        _, D_loss_curr = sess.run([D_solver, D_loss1], feed_dict={\n",
    "                                  M: M_mb, New_X: New_X_mb, H: H_mb})\n",
    "        _, G_loss_curr, MSE_train_loss_curr = sess.run([G_solver, G_loss1, MSE_train_loss],\n",
    "                                                       feed_dict={X: X_mb, M: M_mb, New_X: New_X_mb, H: H_mb})\n",
    "\n",
    "    # %% Intermediate Losses\n",
    "    if epoch % print_every_epochs == 0:\n",
    "        print('Epoch: {:3d} train_loss {:.4}'.format(\n",
    "            epoch, np.sqrt(MSE_train_loss_curr)))\n",
    "\n",
    "data_reconstructed = np.zeros(data_nans.shape)\n",
    "\n",
    "# reconstruct\n",
    "for mb_idx in get_batches(range(data_nans.shape[0]), batch_size=32):\n",
    "    # %% Inputs\n",
    "    X_mb = data_nans[mb_idx, :]\n",
    "\n",
    "    Z_mb = sample_Z(len(mb_idx), Dim)\n",
    "    M_mb = missing[mb_idx, :]\n",
    "\n",
    "    reconstructed = sess.run(G_sample, feed_dict={New_X: X_mb, M: M_mb})\n",
    "    data_reconstructed[mb_idx] = reconstructed * (1 - M_mb) + X_mb * M_mb\n",
    "\n",
    "# reconstruct data\n",
    "data_reconstructed_transformed = scaler.inverse_transform(data_reconstructed)\n",
    "\n",
    "processed_gan = processed.copy()\n",
    "processed_gan[columns_with_nans] = data_reconstructed_transformed"
   ]
  },
  {
   "cell_type": "markdown",
   "metadata": {},
   "source": [
    "We can now as before make predictions on the new filled dataset. We can also make predictions based on the dataset together with the boolean dataset of whether a value is nan or not"
   ]
  },
  {
   "cell_type": "code",
   "execution_count": null,
   "metadata": {},
   "outputs": [],
   "source": [
    "def do_nothing(x, y):\n",
    "    return x, y\n",
    "\n",
    "\n",
    "def process_dataset(x, cols):\n",
    "    x1 = x.drop(columns=cols).isna().astype('int32')\n",
    "\n",
    "    # change column naming to enable the inner join\n",
    "    x1.columns = [col + '_existence' for col in x1.columns]\n",
    "    return x.join(x1)\n",
    "\n",
    "\n",
    "processed_with_existence = process_dataset(\n",
    "    processed, cols=['Sex', 'Age', 'Study.Site'] + most_common_disorders)\n",
    "processed_with_existence[columns_with_nans] = data_reconstructed_transformed\n",
    "\n",
    "run_binary_classification(\n",
    "    processed_gan, most_common_disorders, clf, do_nothing, False, None)"
   ]
  },
  {
   "cell_type": "markdown",
   "metadata": {
    "colab_type": "text",
    "id": "l-xG4yxGlHDw"
   },
   "source": [
    "## Results\n",
    "\n",
    "We will now present some of the results of the above process. For this we can consider different metrics. In our case we will consider the f1 score to account for classes imbalances. We will then get the mean f1 score across the different problems considered"
   ]
  },
  {
   "cell_type": "code",
   "execution_count": 214,
   "metadata": {},
   "outputs": [],
   "source": [
    "from sklearn.metrics import f1_score, confusion_matrix\n",
    "import matplotlib.patches as mpatches"
   ]
  },
  {
   "cell_type": "code",
   "execution_count": 140,
   "metadata": {},
   "outputs": [],
   "source": [
    "# function to convert printed arrays to appropriate format\n",
    "def convert(arr):\n",
    "    nums = [float(s) for s in re.findall(\n",
    "        \"[-+]?[.]?[\\d]+(?:,\\d\\d\\d)*[\\.]?\\d*(?:[eE][-+]?\\d+)?\", arr)]\n",
    "    conf = np.array(nums).reshape(5, 2, 2)\n",
    "    return repr(conf).replace('\\n', \"\").replace(\" \", \"\")\n",
    "\n",
    "\n",
    "# data acquired\n",
    "conf_nothing = np.array([[[94, 141], [40, 1265]], [[173,  62], [58, 369]], [\n",
    "                        [201, 34], [36, 237]], [[212, 23], [22, 152]], [[210, 25], [42, 46]]])\n",
    "conf_mean = np.array([[[83.4, 151.6], [25., 1280.]], [[162.4, 72.6], [47.2,  379.8]], [[199.6,   35.4],   [\n",
    "                     33.8,  239.2]], [[210.6,   24.4], [22.6,  151.4]], [[218.8, 16.2], [49.4,   38.6]]])\n",
    "conf_median = np.array([[[82.2, 152.8], [27.2, 1277.8]], [[161.8, 73.2], [48.4, 378.6]], [\n",
    "                       [201.2, 33.8], [30.6, 242.4]], [[210.8, 24.2], [22., 152.]], [[220., 15.], [49.4, 38.6]]])\n",
    "conf_most_freq = np.array([[[81., 154.], [28.2, 1276.8]], [[162.8, 72.2], [42., 385.]], [\n",
    "                          [197.4, 37.6], [28.2, 244.8]], [[209.6, 25.4], [23.6, 150.4]], [\n",
    "    [220.4, 14.6], [50.2, 37.8]]])\n",
    "conf_missforest = np.array([[[40., 195.], [12., 1293.]], [[119., 116.], [27., 400.]], [\n",
    "                           [192., 43.], [33., 240.]], [[210., 25.], [22., 152.]], [[223., 12.], [57., 31.]]])\n",
    "conf_plus_existence_median = np.array([[[77.4, 157.6], [22.4, 1282.6]], [[159.4, 75.6], [41.4, 385.6]], [\n",
    "                                      [196.6, 38.4], [28.2, 244.8]], [[210.2, 24.8], [19.8, 154.2]], [\n",
    "    [218.2, 16.8], [47.4, 40.6]]])\n",
    "conf_only_existence = np.array([[[37., 198.], [55., 1250.]], [[92., 143.], [107., 320.]], [\n",
    "                               [127., 108.], [103., 170.]], [[173., 62.], [66., 108.]], [[199., 36.], [56., 32.]]])\n",
    "conf_knn = np.array([[[79.9, 155.1], [23.7, 1281.3]], [[156.5, 78.5], [48.4, 378.6]], [\n",
    "                    [198.3, 36.7], [34.1, 238.9]], [[207.8, 27.2], [24.7, 149.3]], [[219., 16.], [52.9, 35.1]]])\n",
    "conf_em = np.array([[[13., 222.], [6., 1299.]], [[129., 106.], [38., 389.]], [\n",
    "                   [195., 40.], [28., 245.]], [[211., 24.], [32., 142.]], [[223., 12.], [60., 28.]]])\n",
    "\n",
    "# layers=[50, 25, 25], learning_rate=5, masking=0.15, dropout=0., regularization=8., mean initial, n_epochs=300\n",
    "conf_autoencoder = np.array([[[59., 176.], [14., 1291.]], [[147., 88.], [29., 398.]], [\n",
    "                            [190., 45.], [23., 250.]], [[205., 30.], [17., 157.]], [[219., 16.], [54., 34.]]])\n",
    "\n",
    "# learning_rate=0.00003, epochs=300\n",
    "conf_gan = np.array([[[66., 169.], [14., 1291.]], [[155., 80.], [39., 388.]], [\n",
    "                    [199., 36.], [31., 242.]], [[211., 24.], [22., 152.]], [[214., 21.], [52., 36.]]])"
   ]
  },
  {
   "cell_type": "code",
   "execution_count": 141,
   "metadata": {},
   "outputs": [],
   "source": [
    "def f1_score_from_conf_matrix(conf):\n",
    "    precision = conf[0][0] / (conf[1][0] + conf[0][0])\n",
    "    recall = conf[0][0] / (conf[0][1] + conf[0][0])\n",
    "\n",
    "    class_0_f1 = 2 * precision * recall / (precision + recall)\n",
    "    \n",
    "    precision = conf[1][1] / (conf[0][1] + conf[1][1])\n",
    "    recall = conf[1][1] / (conf[1][0] + conf[1][1])\n",
    "\n",
    "    class_1_f1 = 2 * precision * recall / (precision + recall)\n",
    "\n",
    "    return (class_0_f1 + class_1_f1) / 2\n",
    "\n",
    "def calculate_balanced_f1(conf_experiment):\n",
    "    return np.mean([f1_score_from_conf_matrix(x) for x in conf_experiment])"
   ]
  },
  {
   "cell_type": "markdown",
   "metadata": {},
   "source": [
    "### Balanced f1 scores"
   ]
  },
  {
   "cell_type": "code",
   "execution_count": 183,
   "metadata": {},
   "outputs": [],
   "source": [
    "methods = ['mean', 'median', 'most_freq', 'missforest', 'plus_existence_median',\n",
    "           'only_existence', 'knn', 'em', 'autoencoder', 'gan']\n",
    "\n",
    "confusion_matrices = [globals()['conf_' + x] for x in methods]"
   ]
  },
  {
   "cell_type": "code",
   "execution_count": 184,
   "metadata": {
    "cell_style": "center"
   },
   "outputs": [
    {
     "name": "stdout",
     "output_type": "stream",
     "text": [
      "mean                      0.7917\n",
      "median                    0.7932\n",
      "most_freq                 0.7919\n",
      "missforest                0.7481\n",
      "plus_existence_median     0.7940\n",
      "only_existence            0.6021\n",
      "knn                       0.7804\n",
      "em                        0.7254\n",
      "autoencoder               0.7752\n",
      "gan                       0.7798\n"
     ]
    }
   ],
   "source": [
    "balanced_f1_scores = []\n",
    "\n",
    "for method, conf in zip(methods, confusion_matrices):\n",
    "    balanced_f1_score = calculate_balanced_f1(conf)\n",
    "    print('{:25} {:.4f}'.format(method, balanced_f1_score))\n",
    "    balanced_f1_scores.append(balanced_f1_score)"
   ]
  },
  {
   "cell_type": "code",
   "execution_count": 237,
   "metadata": {
    "cell_style": "center"
   },
   "outputs": [
    {
     "data": {
      "image/png": "[encoded data removed]",
      "text/plain": [
       "<Figure size 1152x504 with 1 Axes>"
      ]
     },
     "metadata": {},
     "output_type": "display_data"
    }
   ],
   "source": [
    "pos = np.arange(len(methods))\n",
    "\n",
    "barlist = plt.bar(pos, balanced_f1_scores, align='center', alpha=0.7)\n",
    "barlist[np.argmax(max(balanced_f1_scores))].set_color('b')\n",
    "plt.xticks(pos, methods, rotation=30)\n",
    "plt.title('Balanced f1 scores')\n",
    "\n",
    "blue_patch = mpatches.Patch(color='blue', label='Maximum score')\n",
    "\n",
    "plt.legend(handles=[blue_patch])\n",
    "\n",
    "max_f1 = np.max(balanced_f1_scores)\n",
    "min_f1 = np.min(balanced_f1_scores)\n",
    "plt.ylim([min_f1 - (max_f1 - min_f1) / 2, max_f1 + (max_f1 - min_f1) / 2])\n",
    "\n",
    "plt.show()"
   ]
  },
  {
   "cell_type": "markdown",
   "metadata": {},
   "source": [
    "### Per disease best imputer"
   ]
  },
  {
   "cell_type": "code",
   "execution_count": 206,
   "metadata": {},
   "outputs": [],
   "source": [
    "import itertools"
   ]
  },
  {
   "cell_type": "code",
   "execution_count": 230,
   "metadata": {},
   "outputs": [],
   "source": [
    "disorder_index = 0\n",
    "top_imputations_to_show = 4\n",
    "best_imputations_per_disorder = []\n",
    "\n",
    "for disorder in most_common_disorders:\n",
    "    if disorder == no_diagnosis_given:\n",
    "        continue\n",
    "\n",
    "    scores = []\n",
    "    for method, conf in zip(methods, confusion_matrices):\n",
    "        scores.append(\n",
    "            (method, f1_score_from_conf_matrix(conf[disorder_index])))\n",
    "\n",
    "    best_imputations_per_disorder.append(\n",
    "        sorted(scores, key=lambda x: -x[1])[:top_imputations_to_show])\n",
    "\n",
    "    disorder_index += 1"
   ]
  },
  {
   "cell_type": "code",
   "execution_count": 306,
   "metadata": {},
   "outputs": [],
   "source": [
    "colors = ['darkblue', 'seagreen', 'darkred', 'darkcyan',\n",
    "          'dimgrey', 'hotpink', 'darkorange', 'white']\n",
    "\n",
    "best_methods = set(\n",
    "    [m for m, s in list(itertools.chain(*best_imputations_per_disorder))])\n",
    "\n",
    "methods_to_colors = {}\n",
    "for method, color in zip(best_methods, colors):\n",
    "    methods_to_colors[method] = color"
   ]
  },
  {
   "cell_type": "code",
   "execution_count": 308,
   "metadata": {},
   "outputs": [
    {
     "data": {
      "image/png": "[encoded data removed]",
      "text/plain": [
       "<Figure size 1152x504 with 1 Axes>"
      ]
     },
     "metadata": {},
     "output_type": "display_data"
    }
   ],
   "source": [
    "disorder_n = len(most_common_disorders) - 1\n",
    "\n",
    "\n",
    "methods = []\n",
    "scores = []\n",
    "\n",
    "for x in best_imputations_per_disorder:\n",
    "    methods_per_disorder = []\n",
    "    scores_per_disorder = []\n",
    "\n",
    "    for m, s in x:\n",
    "        methods_per_disorder.append(m)\n",
    "        scores_per_disorder.append(s)\n",
    "\n",
    "    methods.append(methods_per_disorder)\n",
    "    scores.append(scores_per_disorder)\n",
    "\n",
    "methods = np.array(methods)\n",
    "scores = np.array(scores)\n",
    "\n",
    "\n",
    "fig, ax = plt.subplots()\n",
    "index = np.arange(n)\n",
    "bar_width = 1 / (top_imputations_to_show + 1)\n",
    "opacity = 1\n",
    "\n",
    "for i in range(top_imputations_to_show):\n",
    "    ax.bar(index + bar_width * i, scores[:, i], bar_width, alpha=opacity,\n",
    "           color=[methods_to_colors[m] for m in methods[:, i]])\n",
    "\n",
    "ax.set_xlabel('Disorders')\n",
    "ax.set_ylabel('F1 score')\n",
    "ax.set_title('Best imputer per disorder')\n",
    "\n",
    "ax.set_xticks(index + (bar_width) * (top_imputations_to_show - 1) / 2)\n",
    "\n",
    "no_diag_index = most_common_disorders.index(no_diagnosis_given)\n",
    "most_common_disorders_no_diag = most_common_disorders[:no_diag_index] + \\\n",
    "    most_common_disorders[no_diag_index + 1:]\n",
    "ax.set_xticklabels(most_common_disorders_no_diag)\n",
    "\n",
    "pathes = []\n",
    "for method in best_methods:\n",
    "    pathes.append(mpatches.Patch(\n",
    "        color=methods_to_colors[method], label=method))\n",
    "plt.legend(handles=pathes)\n",
    "\n",
    "plt.ylim([np.min(scores) - (1 - np.min(scores)) / 2, 1])\n",
    "plt.show()"
   ]
  },
  {
   "cell_type": "markdown",
   "metadata": {},
   "source": [
    "### Dropping columns\n",
    "\n",
    "We can also report how these imputation methods behave under dropping columns with Nan values according to some threshold."
   ]
  },
  {
   "cell_type": "code",
   "execution_count": 355,
   "metadata": {},
   "outputs": [],
   "source": [
    "# data shape [10, 5, 2, 2] 10: drop_values 1 to 0.1 with step -0.1, 5 disorders\n",
    "conf_mean_th = np.array([[[[79, 156], [26, 1279]], [[162, 73], [47, 380]], [[199, 36], [29, 244]],\n",
    "                          [[210, 25], [22, 152]], [[217, 18], [51, 37]]],\n",
    "                         [[[84, 151], [29, 1276]], [[160, 75], [49, 378]], [[200, 35], [34, 239]],\n",
    "                          [[209, 26], [27, 147]], [[223, 12], [51, 37]]],\n",
    "                         [[[84, 151], [27, 1278]], [[151, 84], [44, 383]], [[199, 36], [34, 239]],\n",
    "                          [[210, 25], [23, 151]], [[224, 11], [55, 33]]],\n",
    "                         [[[81, 154], [27, 1278]], [[155, 80], [45, 382]], [[203, 32], [32, 241]],\n",
    "                          [[208, 27], [26, 148]], [[221, 14], [48, 40]]],\n",
    "                         [[[83, 152], [29, 1276]], [[155, 80], [53, 374]], [[198, 37], [32, 241]],\n",
    "                          [[207, 28], [24, 150]], [[215, 20], [51, 37]]],\n",
    "                         [[[82, 153], [25, 1280]], [[161, 74], [46, 381]], [[199, 36], [32, 241]],\n",
    "                          [[208, 27], [26, 148]], [[218, 17], [52, 36]]],\n",
    "                         [[[82, 153], [27, 1278]], [[158, 77], [55, 372]], [[200, 35], [34, 239]],\n",
    "                          [[208, 27], [26, 148]], [[215, 20], [54, 34]]],\n",
    "                         [[[81, 154], [21, 1284]], [[156, 79], [51, 376]], [[197, 38], [31, 242]],\n",
    "                          [[209, 26], [28, 146]], [[220, 15], [52, 36]]],\n",
    "                         [[[79, 156], [23, 1282]], [[159, 76], [58, 369]], [[197, 38], [30, 243]],\n",
    "                          [[208, 27], [32, 142]], [[215, 20], [51, 37]]],\n",
    "                         [[[72, 163], [27, 1278]], [[144, 91], [55, 372]], [[199, 36], [36, 237]],\n",
    "                          [[201, 34], [44, 130]], [[214, 21], [56, 32]]]])\n",
    "\n",
    "conf_autoencoder_th = np.array([[[[57, 178], [10, 1295]], [[144, 91], [30, 397]], [[189, 46], [20, 253]], \n",
    "                                 [[205, 30], [18, 156]], [[214, 21], [55, 33]]], \n",
    "                                [[[56, 179], [9, 1296]], [[139, 96], [31, 396]], [[193, 42], [22, 251]], \n",
    "                                 [[204, 31], [21, 153]], [[216, 19], [51, 37]]], \n",
    "                                [[[61, 174], [10, 1295]], [[146, 89], [27, 400]], [[190, 45], [21, 252]], \n",
    "                                 [[203, 32], [16, 158]], [[218, 17], [53, 35]]], \n",
    "                                [[[57, 178], [9, 1296]], [[139, 96], [29, 398]], [[192, 43], [24, 249]], \n",
    "                                 [[202, 33], [17, 157]], [[218, 17], [58, 30]]], \n",
    "                                [[[59, 176], [10, 1295]], [[139, 96], [30, 397]], [[186, 49], [24, 249]], \n",
    "                                 [[203, 32], [21, 153]], [[215, 20], [57, 31]]],\n",
    "                                [[[62, 173], [14, 1291]], [[138, 97], [34, 393]], [[191, 44], [23, 250]], \n",
    "                                 [[200, 35], [21, 153]], [[213, 22], [56, 32]]], \n",
    "                                [[[64, 171], [11, 1294]], [[137, 98], [30, 397]], [[192, 43], [23, 250]],\n",
    "                                 [[201, 34], [23, 151]], [[219, 16], [54, 34]]], \n",
    "                                [[[55, 180], [11, 1294]], [[141, 94], [37, 390]], [[188, 47], [28, 245]],\n",
    "                                 [[201, 34], [26, 148]], [[207, 28], [53, 35]]], \n",
    "                                [[[59, 176], [14, 1291]], [[136, 99], [32, 395]], [[190, 45], [25, 248]], \n",
    "                                 [[195, 40], [28, 146]], [[213, 22], [57, 31]]],\n",
    "                                [[[65, 170], [21, 1284]], [[125, 110], [37, 390]], [[198, 37], [32, 241]],\n",
    "                                 [[188, 47], [33, 141]], [[212, 23], [48, 40]]]])"
   ]
  },
  {
   "cell_type": "code",
   "execution_count": 338,
   "metadata": {},
   "outputs": [
    {
     "data": {
      "text/plain": [
       "array([1. , 0.9, 0.8, 0.7, 0.6, 0.5, 0.4, 0.3, 0.2, 0.1])"
      ]
     },
     "execution_count": 338,
     "metadata": {},
     "output_type": "execute_result"
    }
   ],
   "source": [
    "threshold"
   ]
  },
  {
   "cell_type": "code",
   "execution_count": 356,
   "metadata": {},
   "outputs": [
    {
     "data": {
      "image/png": "[encoded data removed]",
      "text/plain": [
       "<Figure size 1224x648 with 6 Axes>"
      ]
     },
     "metadata": {},
     "output_type": "display_data"
    }
   ],
   "source": [
    "threshold = [\"{0:.1f}\".format(x) for x in np.arange(1, 0, -0.1)]\n",
    "\n",
    "fig, axes = plt.subplots(nrows=math.ceil(\n",
    "    disorder_n / 2), ncols=2, figsize=(17, 9))\n",
    "\n",
    "row = 0\n",
    "col = -1\n",
    "for i, disorder in enumerate(most_common_disorders_no_diag):\n",
    "    col += 1\n",
    "    if col == 2:\n",
    "        col = 0\n",
    "        row += 1\n",
    "\n",
    "    axes[row, col].plot(threshold, [f1_score_from_conf_matrix(x)\n",
    "                                    for x in conf_mean_th[:, i]], color='blue')\n",
    "    axes[row, col].plot(threshold, [f1_score_from_conf_matrix(x)\n",
    "                                    for x in conf_autoencoder_th[:, i]], color='red')\n",
    "    \n",
    "    axes[row, col].set_xticklabels(threshold)\n",
    "    axes[row, col].set_title(disorder)\n",
    "\n",
    "\n",
    "if math.ceil(disorder_n / 2) > math.floor(disorder_n / 2):\n",
    "    axes[row, col + 1].set_axis_off()\n",
    "\n",
    "st = fig.suptitle('F1 score by adjusting threshold', fontsize=18)\n",
    "\n",
    "blue_patch = mpatches.Patch(color='blue', label='Mean')\n",
    "red_patch = mpatches.Patch(color='red', label='Autoencoder')\n",
    "plt.legend(handles=[blue_patch, red_patch])\n",
    "\n",
    "plt.tight_layout()\n",
    "\n",
    "# shift subplots down:\n",
    "st.set_y(0.95)\n",
    "fig.subplots_adjust(top=0.85)\n",
    "\n",
    "plt.show()"
   ]
  }
 ],
 "metadata": {
  "accelerator": "GPU",
  "colab": {
   "collapsed_sections": [
    "d1L1Vx_ilHCo",
    "EIDOiLUxlHCw",
    "F3R_gvdrlHC1",
    "5tBE2_AjlHC5",
    "HZDQU4LQlHDG",
    "V3idaXvnlHDR",
    "NQ_4u13zlHDX",
    "gM7hJVI8lHDc",
    "NbFQINOLlHDj",
    "l-xG4yxGlHDw"
   ],
   "name": "data_imputation.ipynb",
   "provenance": []
  },
  "kernelspec": {
   "display_name": "Python 3",
   "language": "python",
   "name": "python3"
  },
  "language_info": {
   "codemirror_mode": {
    "name": "ipython",
    "version": 3
   },
   "file_extension": ".py",
   "mimetype": "text/x-python",
   "name": "python",
   "nbconvert_exporter": "python",
   "pygments_lexer": "ipython3",
   "version": "3.7.4"
  },
  "latex_envs": {
   "LaTeX_envs_menu_present": true,
   "autoclose": true,
   "autocomplete": true,
   "bibliofile": "biblio.bib",
   "cite_by": "apalike",
   "current_citInitial": 1,
   "eqLabelWithNumbers": true,
   "eqNumInitial": 1,
   "hotkeys": {
    "equation": "Ctrl-E",
    "itemize": "Ctrl-I"
   },
   "labels_anchors": false,
   "latex_user_defs": false,
   "report_style_numbering": false,
   "user_envs_cfg": false
  },
  "toc": {
   "base_numbering": 1,
   "nav_menu": {},
   "number_sections": true,
   "sideBar": true,
   "skip_h1_title": false,
   "title_cell": "Table of Contents",
   "title_sidebar": "Contents",
   "toc_cell": false,
   "toc_position": {
    "height": "calc(100% - 180px)",
    "left": "10px",
    "top": "150px",
    "width": "377px"
   },
   "toc_section_display": true,
   "toc_window_display": true
  }
 },
 "nbformat": 4,
 "nbformat_minor": 1
}
