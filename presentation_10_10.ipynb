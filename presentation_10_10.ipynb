{
 "cells": [
  {
   "cell_type": "markdown",
   "metadata": {},
   "source": [
    "### Data format"
   ]
  },
  {
   "cell_type": "code",
   "execution_count": 121,
   "metadata": {},
   "outputs": [],
   "source": [
    "import pandas as pd\n",
    "import numpy as np\n",
    "import os"
   ]
  },
  {
   "cell_type": "code",
   "execution_count": 133,
   "metadata": {},
   "outputs": [],
   "source": [
    "base_path = './DataScience2019_MRI/'\n",
    "\n",
    "behaviour_path = 'Behavioral/cleaned'\n",
    "behaviour_file = 'HBNFinalSummaries.csv'"
   ]
  },
  {
   "cell_type": "code",
   "execution_count": 134,
   "metadata": {},
   "outputs": [],
   "source": [
    "behaviour_data = pd.read_csv(os.path.join(base_path, behaviour_path, behaviour_file), low_memory=False)"
   ]
  },
  {
   "cell_type": "code",
   "execution_count": 135,
   "metadata": {},
   "outputs": [
    {
     "name": "stdout",
     "output_type": "stream",
     "text": [
      "(2096, 399)\n"
     ]
    }
   ],
   "source": [
    "print(behaviour_data.shape)"
   ]
  },
  {
   "cell_type": "markdown",
   "metadata": {},
   "source": [
    "A total of 2096 subjects are provided with a total of 399 feature columns. From those around 150 features regard the diagnosis given (15 for each of the 10 diagnosis).\n",
    "\n",
    "We now filter out subjects that have no diagnosis given (incomplete evaluation)"
   ]
  },
  {
   "cell_type": "code",
   "execution_count": 136,
   "metadata": {},
   "outputs": [],
   "source": [
    "behaviour_data = behaviour_data[behaviour_data['NoDX'].isin(['Yes', 'No'])]\n",
    "behaviour_data = behaviour_data.reset_index(drop=True)"
   ]
  },
  {
   "cell_type": "code",
   "execution_count": 137,
   "metadata": {},
   "outputs": [
    {
     "data": {
      "text/plain": [
       "Neurodevelopmental Disorders                                  1167\n",
       "No Diagnosis Given                                             235\n",
       "Anxiety Disorders                                              189\n",
       "Depressive Disorders                                            94\n",
       "Disruptive                                                      40\n",
       "Trauma and Stressor Related Disorders                           35\n",
       "Obsessive Compulsive and Related Disorders                      16\n",
       "Elimination Disorders                                           11\n",
       "Other Conditions That May Be a Focus of Clinical Attention       8\n",
       "Bipolar and Related Disorders                                    6\n",
       "Disruptive, Impulse Control and Conduct Disorders                5\n",
       "Neurocognitive Disorders                                         3\n",
       "Schizophrenia Spectrum and other Psychotic Disorders             3\n",
       "Gender Dysphoria                                                 1\n",
       "Substance Related and Addictive Disorders                        1\n",
       "Name: DX_01_Cat, dtype: int64"
      ]
     },
     "execution_count": 137,
     "metadata": {},
     "output_type": "execute_result"
    }
   ],
   "source": [
    "behaviour_data['DX_01_Cat'].value_counts()"
   ]
  },
  {
   "cell_type": "markdown",
   "metadata": {},
   "source": [
    "We could also get rid of disorder categories that can be found less than a $threshold$ amount of times. We perform this taking into acount all possible diagnosis for each subject and not only the first one (DX_01_Cat)."
   ]
  },
  {
   "cell_type": "code",
   "execution_count": 138,
   "metadata": {},
   "outputs": [
    {
     "name": "stdout",
     "output_type": "stream",
     "text": [
      "Anxiety Disorders                                            found 596 times\n",
      "Bipolar and Related Disorders                                found 10 times\n",
      "Depressive Disorders                                         found 179 times\n",
      "Disruptive                                                   found 240 times\n",
      "Disruptive, Impulse Control and Conduct Disorders            found 35 times\n",
      "Elimination Disorders                                        found 96 times\n",
      "Feeding and Eating Disorders                                 found 10 times\n",
      "Neurodevelopmental Disorders                                 found 2081 times\n",
      "No Diagnosis Given                                           found 235 times\n",
      "Obsessive Compulsive and Related Disorders                   found 74 times\n",
      "Other Conditions That May Be a Focus of Clinical Attention   found 23 times\n",
      "Schizophrenia Spectrum and other Psychotic Disorders         found 10 times\n",
      "Trauma and Stressor Related Disorders                        found 77 times\n"
     ]
    }
   ],
   "source": [
    "threshold = 10\n",
    "\n",
    "category_columns = ['DX_' + str(i).zfill(2) + '_Cat' for i in range(1, 11)]\n",
    "\n",
    "disorders_all = behaviour_data[category_columns].values.flatten()\n",
    "disorders_all = disorders[np.array(disorders, dtype=np.str) != 'nan']\n",
    "\n",
    "unique, counts = np.unique(disorders_all, return_counts=True)\n",
    "\n",
    "most_common_disorders = []\n",
    "for un, c in zip(unique, counts):\n",
    "    if c >= threshold:\n",
    "        most_common_disorders.append(un)\n",
    "        print('{0: <60} found {1} times'.format(un, c))"
   ]
  },
  {
   "cell_type": "markdown",
   "metadata": {},
   "source": [
    "We now create for each individual features concerning these diagnosis disregarding all other information about the diagnosis"
   ]
  },
  {
   "cell_type": "code",
   "execution_count": 139,
   "metadata": {},
   "outputs": [],
   "source": [
    "classes = np.zeros((len(most_common_disorders), behaviour_data.shape[0]))\n",
    "df_disorders = behaviour_data[category_columns]\n",
    "\n",
    "for i, disorder in enumerate(most_common_disorders):\n",
    "    mask = df_disorders.select_dtypes(include=[object]). \\\n",
    "            applymap(lambda x: disorder in x if pd.notnull(x) else False)\n",
    "    \n",
    "    disorder_df = df_disorders[mask.any(axis=1)]\n",
    "    \n",
    "    np.add.at(classes[i], disorder_df.index.values, 1)"
   ]
  },
  {
   "cell_type": "markdown",
   "metadata": {},
   "source": [
    "Now we can safelly remove previous diagnoses"
   ]
  },
  {
   "cell_type": "code",
   "execution_count": 140,
   "metadata": {},
   "outputs": [],
   "source": [
    "behaviour_data_columns = behaviour_data.columns.values.astype(np.str)\n",
    "\n",
    "columns_to_drop = behaviour_data_columns[\n",
    "    np.flatnonzero(np.core.defchararray.find(behaviour_data_columns, 'DX')!=-1)]\n",
    "\n",
    "behaviour_data = behaviour_data.drop(columns=columns_to_drop)"
   ]
  },
  {
   "cell_type": "code",
   "execution_count": 141,
   "metadata": {},
   "outputs": [],
   "source": [
    "for disorder, classification in zip(most_common_disorders, classes):\n",
    "    behaviour_data[disorder] = classification"
   ]
  },
  {
   "cell_type": "code",
   "execution_count": 142,
   "metadata": {},
   "outputs": [
    {
     "data": {
      "text/plain": [
       "(1814, 261)"
      ]
     },
     "execution_count": 142,
     "metadata": {},
     "output_type": "execute_result"
    }
   ],
   "source": [
    "behaviour_data.shape"
   ]
  },
  {
   "cell_type": "code",
   "execution_count": 31,
   "metadata": {},
   "outputs": [],
   "source": [
    "nans = pd.isnull(behaviour_data).sum()\n",
    "\n",
    "nans = nans.filter(like='DX', axis=0)"
   ]
  },
  {
   "cell_type": "code",
   "execution_count": 34,
   "metadata": {},
   "outputs": [
    {
     "data": {
      "text/plain": [
       "array(['NoDX', 'DX_01_Cat', 'DX_01_Sub', 'DX_01', 'DX_01_Spec',\n",
       "       'DX_01_Code', 'DX_01_Time', 'DX_01_Confirmed', 'DX_01_Presum',\n",
       "       'DX_01_RC', 'DX_01_RuleOut', 'DX_01_ByHx', 'DX_01_New',\n",
       "       'DX_01_Rem', 'DX_01_PRem', 'DX_01_Past_Doc', 'DX_02_Cat',\n",
       "       'DX_02_Sub', 'DX_02', 'DX_02_Spec', 'DX_02_Code', 'DX_02_Time',\n",
       "       'DX_02_Confirmed', 'DX_02_Presum', 'DX_02_RC', 'DX_02_RuleOut',\n",
       "       'DX_02_ByHx', 'DX_02_New', 'DX_02_Rem', 'DX_02_PRem',\n",
       "       'DX_02_Past_Doc', 'DX_03_Cat', 'DX_03_Sub', 'DX_03', 'DX_03_Spec',\n",
       "       'DX_03_Code', 'DX_03_Time', 'DX_03_Confirmed', 'DX_03_Presum',\n",
       "       'DX_03_RC', 'DX_03_RuleOut', 'DX_03_ByHx', 'DX_03_New',\n",
       "       'DX_03_Rem', 'DX_03_PRem', 'DX_03_Past_Doc', 'DX_04_Cat',\n",
       "       'DX_04_Sub', 'DX_04', 'DX_04_Spec', 'DX_04_Code', 'DX_04_Time',\n",
       "       'DX_04_Confirmed', 'DX_04_Presum', 'DX_04_RC', 'DX_04_RuleOut',\n",
       "       'DX_04_ByHx', 'DX_04_New', 'DX_04_Rem', 'DX_04_PRem',\n",
       "       'DX_04_Past_Doc', 'DX_05_Cat', 'DX_05_Sub', 'DX_05', 'DX_05_Spec',\n",
       "       'DX_05_Code', 'DX_05_Time', 'DX_05_Confirmed', 'DX_05_Presum',\n",
       "       'DX_05_RC', 'DX_05_RuleOut', 'DX_05_ByHx', 'DX_05_New',\n",
       "       'DX_05_Rem', 'DX_05_PRem', 'DX_05_Past_Doc', 'DX_06_Cat',\n",
       "       'DX_06_Sub', 'DX_06', 'DX_06_Spec', 'DX_06_Code', 'DX_06_Time',\n",
       "       'DX_06_Confirmed', 'DX_06_Presum', 'DX_06_RC', 'DX_06_RuleOut',\n",
       "       'DX_06_ByHx', 'DX_06_New', 'DX_06_Rem', 'DX_06_PRem',\n",
       "       'DX_06_Past_Doc', 'DX_07_Cat', 'DX_07_Sub', 'DX_07', 'DX_07_Spec',\n",
       "       'DX_07_Code', 'DX_07_Time', 'DX_07_Confirmed', 'DX_07_Presum',\n",
       "       'DX_07_RC', 'DX_07_RuleOut', 'DX_07_ByHx', 'DX_07_New',\n",
       "       'DX_07_Rem', 'DX_07_PRem', 'DX_07_Past_Doc', 'DX_08_Cat',\n",
       "       'DX_08_Sub', 'DX_08', 'DX_08_Spec', 'DX_08_Code', 'DX_08_Time',\n",
       "       'DX_08_Confirmed', 'DX_08_Presum', 'DX_08_RC', 'DX_08_RuleOut',\n",
       "       'DX_08_ByHx', 'DX_08_New', 'DX_08_Rem', 'DX_08_PRem',\n",
       "       'DX_08_Past_Doc', 'DX_09_Cat', 'DX_09_Sub', 'DX_09', 'DX_09_Spec',\n",
       "       'DX_09_Code', 'DX_09_Time', 'DX_09_Confirmed', 'DX_09_Presum',\n",
       "       'DX_09_RC', 'DX_09_RuleOut', 'DX_09_ByHx', 'DX_09_New',\n",
       "       'DX_09_Rem', 'DX_09_PRem', 'DX_09_Past_Doc', 'DX_10_Cat',\n",
       "       'DX_10_Sub', 'DX_10', 'DX_10_Spec', 'DX_10_Code', 'DX_10_Time',\n",
       "       'DX_10_Confirmed', 'DX_10_Presum', 'DX_10_RC', 'DX_10_RuleOut',\n",
       "       'DX_10_ByHx', 'DX_10_New', 'DX_10_Rem', 'DX_10_PRem',\n",
       "       'DX_10_Past_Doc'], dtype=object)"
      ]
     },
     "execution_count": 34,
     "metadata": {},
     "output_type": "execute_result"
    }
   ],
   "source": [
    "nans.index.values"
   ]
  }
 ],
 "metadata": {
  "kernelspec": {
   "display_name": "Python 3",
   "language": "python",
   "name": "python3"
  },
  "language_info": {
   "codemirror_mode": {
    "name": "ipython",
    "version": 3
   },
   "file_extension": ".py",
   "mimetype": "text/x-python",
   "name": "python",
   "nbconvert_exporter": "python",
   "pygments_lexer": "ipython3",
   "version": "3.7.4"
  }
 },
 "nbformat": 4,
 "nbformat_minor": 2
}
