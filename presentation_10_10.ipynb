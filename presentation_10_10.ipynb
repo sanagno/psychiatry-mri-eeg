{
 "cells": [
  {
   "cell_type": "markdown",
   "metadata": {},
   "source": [
    "### Data format"
   ]
  },
  {
   "cell_type": "code",
   "execution_count": 1,
   "metadata": {},
   "outputs": [],
   "source": [
    "import pandas as pd\n",
    "import numpy as np\n",
    "import matplotlib.pyplot as plt\n",
    "import math\n",
    "import os\n",
    "\n",
    "\n",
    "%matplotlib inline"
   ]
  },
  {
   "cell_type": "code",
   "execution_count": 2,
   "metadata": {},
   "outputs": [],
   "source": [
    "base_path = './DataScience2019_MRI/'\n",
    "\n",
    "behaviour_path = 'Behavioral/cleaned'\n",
    "behaviour_file = 'HBNFinalSummaries.csv'"
   ]
  },
  {
   "cell_type": "code",
   "execution_count": 3,
   "metadata": {},
   "outputs": [],
   "source": [
    "behaviour_data = pd.read_csv(os.path.join(base_path, behaviour_path, behaviour_file), low_memory=False)"
   ]
  },
  {
   "cell_type": "code",
   "execution_count": 4,
   "metadata": {},
   "outputs": [
    {
     "name": "stdout",
     "output_type": "stream",
     "text": [
      "(2096, 399)\n"
     ]
    }
   ],
   "source": [
    "print(behaviour_data.shape)"
   ]
  },
  {
   "cell_type": "markdown",
   "metadata": {},
   "source": [
    "A total of 2096 subjects are provided with a total of 399 feature columns. From those around 150 features regard the diagnosis given (15 for each of the 10 diagnosis).\n",
    "\n",
    "We now filter out subjects that have no diagnosis given (incomplete evaluation)"
   ]
  },
  {
   "cell_type": "code",
   "execution_count": 5,
   "metadata": {},
   "outputs": [],
   "source": [
    "behaviour_data = behaviour_data[behaviour_data['NoDX'].isin(['Yes', 'No'])]\n",
    "behaviour_data = behaviour_data.reset_index(drop=True)"
   ]
  },
  {
   "cell_type": "code",
   "execution_count": 6,
   "metadata": {},
   "outputs": [
    {
     "data": {
      "text/plain": [
       "Neurodevelopmental Disorders                                  1167\n",
       "No Diagnosis Given                                             235\n",
       "Anxiety Disorders                                              189\n",
       "Depressive Disorders                                            94\n",
       "Disruptive                                                      40\n",
       "Trauma and Stressor Related Disorders                           35\n",
       "Obsessive Compulsive and Related Disorders                      16\n",
       "Elimination Disorders                                           11\n",
       "Other Conditions That May Be a Focus of Clinical Attention       8\n",
       "Bipolar and Related Disorders                                    6\n",
       "Disruptive, Impulse Control and Conduct Disorders                5\n",
       "Schizophrenia Spectrum and other Psychotic Disorders             3\n",
       "Neurocognitive Disorders                                         3\n",
       "Gender Dysphoria                                                 1\n",
       "Substance Related and Addictive Disorders                        1\n",
       "Name: DX_01_Cat, dtype: int64"
      ]
     },
     "execution_count": 6,
     "metadata": {},
     "output_type": "execute_result"
    }
   ],
   "source": [
    "behaviour_data['DX_01_Cat'].value_counts()"
   ]
  },
  {
   "cell_type": "markdown",
   "metadata": {},
   "source": [
    "We could also get rid of disorder categories that can be found less than a $threshold$ amount of times. We perform this taking into acount all possible diagnosis for each subject and not only the first one (DX_01_Cat)."
   ]
  },
  {
   "cell_type": "code",
   "execution_count": 7,
   "metadata": {},
   "outputs": [
    {
     "name": "stdout",
     "output_type": "stream",
     "text": [
      "Anxiety Disorders                                            found 596 times\n",
      "Bipolar and Related Disorders                                found 10 times\n",
      "Depressive Disorders                                         found 179 times\n",
      "Disruptive                                                   found 240 times\n",
      "Disruptive, Impulse Control and Conduct Disorders            found 35 times\n",
      "Elimination Disorders                                        found 96 times\n",
      "Feeding and Eating Disorders                                 found 10 times\n",
      "Neurodevelopmental Disorders                                 found 2081 times\n",
      "No Diagnosis Given                                           found 235 times\n",
      "Obsessive Compulsive and Related Disorders                   found 74 times\n",
      "Other Conditions That May Be a Focus of Clinical Attention   found 23 times\n",
      "Schizophrenia Spectrum and other Psychotic Disorders         found 10 times\n",
      "Trauma and Stressor Related Disorders                        found 77 times\n"
     ]
    }
   ],
   "source": [
    "threshold = 10\n",
    "\n",
    "category_columns = ['DX_' + str(i).zfill(2) + '_Cat' for i in range(1, 11)]\n",
    "\n",
    "disorders_all = behaviour_data[category_columns].values.flatten()\n",
    "disorders_all = disorders_all[np.array(disorders_all, dtype=np.str) != 'nan']\n",
    "\n",
    "unique, counts = np.unique(disorders_all, return_counts=True)\n",
    "\n",
    "most_common_disorders = []\n",
    "for un, c in zip(unique, counts):\n",
    "    if c >= threshold:\n",
    "        most_common_disorders.append(un)\n",
    "        print('{0: <60} found {1} times'.format(un, c))"
   ]
  },
  {
   "cell_type": "markdown",
   "metadata": {},
   "source": [
    "We now create for each individual features concerning these diagnosis disregarding all other information about the diagnosis"
   ]
  },
  {
   "cell_type": "code",
   "execution_count": 8,
   "metadata": {},
   "outputs": [],
   "source": [
    "classes = np.zeros((len(most_common_disorders), behaviour_data.shape[0]), dtype=np.int32)\n",
    "df_disorders = behaviour_data[category_columns]\n",
    "\n",
    "for i, disorder in enumerate(most_common_disorders):\n",
    "    mask = df_disorders.select_dtypes(include=[object]). \\\n",
    "            applymap(lambda x: disorder in x if pd.notnull(x) else False)\n",
    "    \n",
    "    disorder_df = df_disorders[mask.any(axis=1)]\n",
    "    \n",
    "    np.add.at(classes[i], disorder_df.index.values, 1)"
   ]
  },
  {
   "cell_type": "markdown",
   "metadata": {},
   "source": [
    "Now we can safelly remove previous diagnoses"
   ]
  },
  {
   "cell_type": "code",
   "execution_count": 9,
   "metadata": {},
   "outputs": [],
   "source": [
    "behaviour_data_columns = behaviour_data.columns.values.astype(np.str)\n",
    "\n",
    "columns_to_drop = behaviour_data_columns[\n",
    "    np.flatnonzero(np.core.defchararray.find(behaviour_data_columns, 'DX')!=-1)]\n",
    "\n",
    "behaviour_data = behaviour_data.drop(columns=columns_to_drop)"
   ]
  },
  {
   "cell_type": "code",
   "execution_count": 10,
   "metadata": {},
   "outputs": [],
   "source": [
    "for disorder, classification in zip(most_common_disorders, classes):\n",
    "    behaviour_data[disorder] = classification"
   ]
  },
  {
   "cell_type": "code",
   "execution_count": 11,
   "metadata": {},
   "outputs": [
    {
     "data": {
      "text/plain": [
       "(1814, 261)"
      ]
     },
     "execution_count": 11,
     "metadata": {},
     "output_type": "execute_result"
    }
   ],
   "source": [
    "behaviour_data.shape"
   ]
  },
  {
   "cell_type": "markdown",
   "metadata": {},
   "source": []
  },
  {
   "cell_type": "markdown",
   "metadata": {},
   "source": [
    "Now we can continue to remove columns that have a high percentage of Nan"
   ]
  },
  {
   "cell_type": "code",
   "execution_count": 12,
   "metadata": {},
   "outputs": [],
   "source": [
    "threshold = 0.2\n",
    "\n",
    "columns_mask = pd.isnull(behaviour_data).sum() / behaviour_data.shape[0] > threshold\n",
    "\n",
    "behaviour_data = behaviour_data.drop(columns=behaviour_data.columns[columns_mask])"
   ]
  },
  {
   "cell_type": "code",
   "execution_count": 13,
   "metadata": {},
   "outputs": [
    {
     "data": {
      "text/plain": [
       "Index(['Anonymized.ID', 'EID', 'Sex', 'Age', 'Study.Site', 'APQ_P_OPD',\n",
       "       'APQ_P_Total', 'APQ_SR_OPD', 'APQ_SR_Total', 'ARI_P_Total_Score',\n",
       "       'ARI_S_Total_Score', 'ASSQ_Total', 'Barratt_Total_Edu',\n",
       "       'Barratt_Total_Occ', 'Barratt_Total', 'CBCL_AD', 'CBCL_WD', 'CBCL_SC',\n",
       "       'CBCL_RBB', 'CBCL_AB', 'CBCL_Int', 'CBCL_Ext', 'CBCL_C', 'CBCL_Total',\n",
       "       'CELF_Total', 'CTOPP_EL_R', 'CTOPP_BW_R', 'CTOPP_NR_R', 'CTOPP_RD_R',\n",
       "       'CTOPP_RL_R', 'CTOPP_RSN_Comp', 'DTS_absorption', 'DTS_appraisal',\n",
       "       'DTS_regulation', 'DTS_tolerance', 'DTS_total', 'EHQ_Total',\n",
       "       'ICU_P_Callous', 'ICU_P_Uncaring', 'ICU_P_Unemotional', 'ICU_P_Total',\n",
       "       'NLES_P_TotalEvents', 'NLES_P_Upset_Total', 'PCIAT_Total', 'mdx',\n",
       "       'SCARED_P_GD', 'SCARED_P_PN', 'SCARED_P_SC', 'SCARED_P_SH',\n",
       "       'SCARED_P_SP', 'SCARED_P_Total', 'SCQ_Total', 'SRS_AWR', 'SRS_COG',\n",
       "       'SRS_COM', 'SRS_DSMRRB', 'SRS_MOT', 'SRS_RRB', 'SRS_SCI', 'SRS_Total',\n",
       "       'WIAT_Num_Raw', 'WIAT_Pseudo_Raw', 'WIAT_Spell_Raw', 'WIAT_Word_Raw',\n",
       "       'WIAT_LCRV_Raw', 'WIAT_LCODC_Raw', 'WIAT_MP_Raw', 'Anxiety Disorders',\n",
       "       'Bipolar and Related Disorders', 'Depressive Disorders', 'Disruptive',\n",
       "       'Disruptive, Impulse Control and Conduct Disorders',\n",
       "       'Elimination Disorders', 'Feeding and Eating Disorders',\n",
       "       'Neurodevelopmental Disorders', 'No Diagnosis Given',\n",
       "       'Obsessive Compulsive and Related Disorders',\n",
       "       'Other Conditions That May Be a Focus of Clinical Attention',\n",
       "       'Schizophrenia Spectrum and other Psychotic Disorders',\n",
       "       'Trauma and Stressor Related Disorders'],\n",
       "      dtype='object')"
      ]
     },
     "execution_count": 13,
     "metadata": {},
     "output_type": "execute_result"
    }
   ],
   "source": [
    "behaviour_data.columns"
   ]
  },
  {
   "cell_type": "markdown",
   "metadata": {},
   "source": []
  },
  {
   "cell_type": "markdown",
   "metadata": {},
   "source": [
    "Statistics\n",
    "\n",
    "An important factor is the distribution of age in the dataset, as a different age allows different questionnaires to be filled."
   ]
  },
  {
   "cell_type": "code",
   "execution_count": 14,
   "metadata": {},
   "outputs": [
    {
     "data": {
      "image/png": "[encoded data removed]",
      "text/plain": [
       "<Figure size 864x504 with 1 Axes>"
      ]
     },
     "metadata": {
      "needs_background": "light"
     },
     "output_type": "display_data"
    }
   ],
   "source": [
    "bins = list(range(math.floor(behaviour_data['Age'].min()), math.ceil(behaviour_data['Age'].max() + 1)))\n",
    "\n",
    "fig = plt.gcf()\n",
    "fig.set_size_inches(12, 7)\n",
    "ax = behaviour_data['Age'].hist(bins = bins)\n",
    "ax.set_xticks(bins)\n",
    "ax.set_xlabel('Age')\n",
    "ax.set_ylabel('Total count')\n",
    "\n",
    "plt.show()"
   ]
  },
  {
   "cell_type": "markdown",
   "metadata": {},
   "source": [
    "- A recommended streategy would be to use only specific ages (for instance ages 8-16)\n",
    "- We could also create age bins as a new feature instead of age categories\n",
    "- Age in every case plays a significant role for the interpretation of the tests and the final results"
   ]
  },
  {
   "cell_type": "code",
   "execution_count": null,
   "metadata": {},
   "outputs": [],
   "source": []
  }
 ],
 "metadata": {
  "kernelspec": {
   "display_name": "Python 3",
   "language": "python",
   "name": "python3"
  },
  "language_info": {
   "codemirror_mode": {
    "name": "ipython",
    "version": 3
   },
   "file_extension": ".py",
   "mimetype": "text/x-python",
   "name": "python",
   "nbconvert_exporter": "python",
   "pygments_lexer": "ipython3",
   "version": "3.7.4"
  }
 },
 "nbformat": 4,
 "nbformat_minor": 2
}
